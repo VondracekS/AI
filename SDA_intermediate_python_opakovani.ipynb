{
  "nbformat": 4,
  "nbformat_minor": 0,
  "metadata": {
    "colab": {
      "provenance": [],
      "authorship_tag": "ABX9TyNhKy08Lcowz4Z+dJBQV56h",
      "include_colab_link": true
    },
    "kernelspec": {
      "name": "python3",
      "display_name": "Python 3"
    },
    "language_info": {
      "name": "python"
    }
  },
  "cells": [
    {
      "cell_type": "markdown",
      "metadata": {
        "id": "view-in-github",
        "colab_type": "text"
      },
      "source": [
        "<a href=\"https://colab.research.google.com/github/VondracekS/AI/blob/master/SDA_intermediate_python_opakovani.ipynb\" target=\"_parent\"><img src=\"https://colab.research.google.com/assets/colab-badge.svg\" alt=\"Open In Colab\"/></a>"
      ]
    },
    {
      "cell_type": "markdown",
      "source": [
        "# Python Intermediate Opakovani"
      ],
      "metadata": {
        "id": "QLS9KGFh6gI0"
      }
    },
    {
      "cell_type": "markdown",
      "source": [
        "## 1 Výjimky\n",
        "\n"
      ],
      "metadata": {
        "id": "mDWl0-j-6j-c"
      }
    },
    {
      "cell_type": "markdown",
      "source": [
        "1. Bezpečné načtení věku\n",
        "\n",
        "Zadání: Napiš program, který se uživatele zeptá na jeho věk. Použij blok try...except, abys ošetřil(a) situaci, kdy uživatel zadá místo čísla text (např. \"dvacet\"). Pokud zadá neplatnou hodnotu, program by neměl spadnout, ale vypsat srozumitelnou chybovou hlášku a zeptat se znovu, dokud nedostane platné číslo.\n",
        "2. Kalkulačka dělení\n",
        "\n",
        "Zadání: Vytvoř funkci, která přijme dvě čísla a vrátí výsledek jejich dělení. Implementuj ošetření dvou možných chyb:\n",
        "\n",
        "    Dělení nulou (ZeroDivisionError).\n",
        "\n",
        "    Zadání nečíselné hodnoty (např. textu) jako jednoho ze vstupů (ValueError).\n",
        "\n",
        "V obou případech by funkce měla vrátit None a vypsat, jaká chyba nastala.\n",
        "3. Čtení konfiguračního souboru\n",
        "\n",
        "Zadání: Napiš program, který se pokusí otevřít a přečíst soubor s názvem konfigurace.txt.\n",
        "\n",
        "    Pokud soubor existuje a podaří se ho přečíst, jeho obsah se vypíše na obrazovku. K tomu použij klauzuli else.\n",
        "\n",
        "    Pokud soubor neexistuje, program ošetří výjimku FileNotFoundError a vypíše uživateli zprávu: \"Chyba: Konfigurační soubor 'konfigurace.txt' nebyl nalezen.\"\n",
        "\n",
        "4. Spolehlivý zápis do logu\n",
        "\n",
        "Zadání: Vytvoř skript, který otevře soubor log.txt v režimu pro přidávání ('a'), zapíše do něj aktuální čas a text \"Provedena operace\". Použij blok try...finally, abys zajistil(a), že soubor bude vždy uzavřen, i kdyby při zápisu došlo k jakékoliv neočekávané chybě. V bloku finally vypiš zprávu \"Zavírám soubor.\"\n",
        "5. Validátor hesla\n",
        "\n",
        "Zadání: Napiš funkci zkontroluj_heslo(heslo). Tato funkce by měla vyvolat (raise) výjimku ValueError s konkrétním popisem, pokud heslo nesplňuje následující podmínky:\n",
        "\n",
        "    Je kratší než 8 znaků. (Chybová zpráva: \"Heslo musí mít alespoň 8 znaků.\")\n",
        "\n",
        "    Neobsahuje alespoň jednu číslici. (Chybová zpráva: \"Heslo musí obsahovat alespoň jednu číslici.\")\n",
        "\n",
        "Pokud je heslo v pořádku, funkce neudělá nic."
      ],
      "metadata": {
        "id": "xn-EHzBp8fWv"
      }
    },
    {
      "cell_type": "markdown",
      "source": [
        "## 2 Generatory,iteratory a lambda funkce\n",
        "\n",
        "```\n",
        "# This is formatted as code\n",
        "```\n",
        "\n"
      ],
      "metadata": {
        "id": "7Z-sfiQk6kNB"
      }
    },
    {
      "cell_type": "markdown",
      "source": [
        "Tato sada úkolů je navržena k procvičení pokročilejších, ale velmi užitečných konceptů v Pythonu, které umožňují psát efektivnější a čitelnější kód.\n",
        "Část 1: List/Dict/Set Comprehensions\n",
        "\n",
        "\"Comprehensions\" jsou způsob, jak stručně vytvářet nové seznamy, slovníky nebo sady.\n",
        "\n",
        "    Mocniny sudých čísel: Ze zadaného seznamu čísel (např. range(1, 11)) vytvořte nový seznam, který bude obsahovat pouze druhé mocniny sudých čísel. Použijte list comprehension.\n",
        "\n",
        "    Slovník jmen a délek: Máte seznam jmen: ['Jan', 'Eva', 'Petr', 'Alena']. Vytvořte z něj slovník, kde klíčem bude jméno a hodnotou bude délka daného jména. Použijte dict comprehension.\n",
        "\n",
        "    Unikátní samohlásky: Ze zadané věty (např. \"Toto je příklad věty pro cvičení\") vytvořte množinu (set) všech unikátních samohlásek, které se v ní vyskytují. Použijte set comprehension.\n",
        "\n",
        "    Filtrování slovníku: Máte slovník s cenami produktů: {'jablko': 25, 'banán': 30, 'pomeranč': 45, 'mléko': 22}. Vytvořte nový slovník, který bude obsahovat pouze položky s cenou vyšší než 28.\n",
        "\n",
        "Část 2: Generátory a Iterátory\n",
        "\n",
        "Generátory umožňují vytvářet iterátory \"za chodu\", což šetří paměť.\n",
        "\n",
        "    Generátor pro odpočítávání: Napište generátorovou funkci odpocet(n), která bude pomocí klíčového slova yield postupně vracet čísla od n do 1.\n",
        "\n",
        "    Nekonečný generátor sudých čísel: Vytvořte generátor, který bude donekonečna produkovat sekvenci sudých čísel (2, 4, 6, 8, ...). Zkuste z něj pomocí cyklu vypsat prvních 10 čísel.\n",
        "\n",
        "    Čtení velkého souboru: Představte si, že máte obrovský textový soubor. Napište generátorovou funkci, která bude číst soubor řádek po řádku, aniž by ho celý načetla do paměti.\n",
        "\n",
        "    Generátorový výraz: Vypočítejte součet druhých mocnin všech čísel od 1 do 1 000 000. Použijte k tomu generátorový výraz (syntaxe podobná list comprehension, ale s kulatými závorkami), abyste se vyhnuli vytvoření obrovského seznamu v paměti.\n",
        "\n",
        "    Vlastní iterátor: Vytvořte třídu MocninyDvojky, která bude fungovat jako iterátor. Bude přijímat jeden argument max_exponent a bude vracet mocniny čísla 2 (2^0, 2^1, 2^2, ...) až po zadaný maximální exponent.\n",
        "\n",
        "Část 3: Lambda Funkce\n",
        "\n",
        "Lambda funkce jsou malé, anonymní funkce definované klíčovým slovem lambda.\n",
        "\n",
        "    Třídění podle příjmení: Máte seznam celých jmen: ['Jan Novák', 'Eva Dvořáková', 'Petr Černý']. Seřaďte tento seznam abecedně podle příjmení pomocí metody sort() a lambda funkce.\n",
        "\n",
        "    Filtrování čísel: Pomocí funkce filter() a lambda funkce vyberte ze seznamu čísel pouze ta, která jsou dělitelná třemi.\n",
        "\n",
        "    Transformace dat: Použijte funkci map() a lambda funkci k tomu, abyste převedli seznam stringů ['1', '2', '3'] na seznam odpovídajících celých čísel [1, 2, 3].\n",
        "\n",
        "    Podmínka v lambda funkci: Napište lambda funkci, která přijme jedno číslo a vrátí text \"kladné\", pokud je číslo větší než nula, a \"záporné nebo nula\" v opačném případě.\n",
        "\n",
        "    Lambda jako argument pro GUI: (Konceptuální otázka) Jak byste použili lambda funkci pro přiřazení jednoduchého příkazu (např. print(\"Tlačítko kliknuto!\")) události kliknutí na tlačítko v grafické knihovně jako Tkinter?"
      ],
      "metadata": {
        "id": "MT0S9QnT9al2"
      }
    },
    {
      "cell_type": "markdown",
      "source": [
        "## 3 Dekorator a **kontext** manager"
      ],
      "metadata": {
        "id": "sVZB5jdX6kYT"
      }
    },
    {
      "cell_type": "markdown",
      "source": [
        "Část 4: Dekorátory a Context Managery\n",
        "\n",
        "Dekorátory a context managery jsou pokročilé nástroje pro správu zdrojů a přidávání funkcionality.\n",
        "\n",
        "    Jednoduchý logovací dekorátor: Napište dekorátor, který vypíše zprávu \"Volám funkci...\" před spuštěním dekorované funkce a \"Funkce dokončena.\" po jejím skončení.\n",
        "\n",
        "    Dekorátor pro měření času: Vytvořte dekorátor @casovac, který změří, jak dlouho trvalo vykonání funkce, a výsledek vypíše ve formátu \"Funkce 'jmeno_funkce' trvala X.XXX sekund.\"\n",
        "\n",
        "    Dekorátor s argumentem: Vytvořte dekorátor @opakuj(n), který způsobí, že se dekorovaná funkce zavolá n-krát za sebou.\n",
        "\n",
        "    Context manager pro práci se souborem: Vytvořte vlastní context manager pomocí třídy (s metodami __enter__ a __exit__), který bezpečně otevře soubor pro čtení a zajistí jeho uzavření i v případě chyby.\n",
        "\n",
        "    Context manager pomocí contextlib: Znovu implementujte předchozí úkol, ale tentokrát použijte dekorátor @contextmanager z knihovny contextlib, abyste vytvořili jednodušší, funkcionální variantu."
      ],
      "metadata": {
        "id": "E7r_GZ_2-RVw"
      }
    },
    {
      "cell_type": "markdown",
      "source": [
        "## 4 OOP - dědičnost, dataclasses, abstraktní, statické a class metody"
      ],
      "metadata": {
        "id": "vBSnEibE6khp"
      }
    },
    {
      "cell_type": "markdown",
      "source": [
        "Tato cvičení propojují klíčové OOP vzory do jednoho uceleného scénáře správy firemních vozidel.\n",
        "\n",
        "    Abstraktní základ Vozidlo: Vytvořte abstraktní třídu Vozidlo pomocí modulu abc.\n",
        "\n",
        "        Třída bude mít atributy: znacka, model, spz.\n",
        "\n",
        "        Bude obsahovat abstraktní metodu vypocitej_mesicni_naklady(), která zatím nebude mít žádnou implementaci.\n",
        "\n",
        "        Přidejte statickou metodu over_format_spz(spz), která ověří, zda má SPZ platný formát (např. 7 alfanumerických znaků). Pokud ne, vyvolá ValueError.\n",
        "\n",
        "    Datová třída Zamestnanec: Vytvořte jednoduchou třídu Zamestnanec pomocí dekorátoru @dataclass. Třída bude sloužit k uchování dat a bude mít atributy jmeno a pozice.\n",
        "\n",
        "    Dědičnost a implementace: Třída OsobniAuto\n",
        "\n",
        "        Vytvořte třídu OsobniAuto, která dědí z Vozidlo.\n",
        "\n",
        "        Implementujte metodu vypocitej_mesicni_naklady(). Výpočet může být jednoduchý, např. (spotreba_na_100km * cena_paliva * prumerny_najezd_km) / 100.\n",
        "\n",
        "        Třída bude mít navíc atribut prirazeny_zamestnanec, který bude instancí třídy Zamestnanec.\n",
        "\n",
        "    Class metoda pro vytváření instancí: Do třídy OsobniAuto přidejte class metodu vytvor_standardni_vuz(spz, zamestnanec). Tato metoda vytvoří a vrátí instanci OsobniAuto s přednastavenými hodnotami (např. značka \"Škoda\", model \"Octavia\").\n",
        "\n",
        "    Propojení všeho dohromady: Vytvořte skript, který:\n",
        "\n",
        "        Vytvoří několik instancí třídy Zamestnanec.\n",
        "\n",
        "        Vytvoří několik instancí OsobniAuto (některé přímo, některé pomocí class metody vytvor_standardni_vuz).\n",
        "\n",
        "        Vloží všechna auta do jednoho seznamu.\n",
        "\n",
        "        V cyklu projde seznam vozidel a pro každé vypíše jeho SPZ, přiřazeného zaměstnance a vypočítané měsíční náklady. Tím demonstrujete polymorfismus."
      ],
      "metadata": {
        "id": "7kM02Tt6-wKV"
      }
    },
    {
      "cell_type": "markdown",
      "source": [
        "## 5 Práce se soubory = načítání, serializace\n",
        "\n"
      ],
      "metadata": {
        "id": "97R3nffg6kqK"
      }
    },
    {
      "cell_type": "markdown",
      "source": [
        "Tato cvičení jsou zaměřena na základní operace se soubory a ukládání/načítání datových struktur.\n",
        "\n",
        "    Zápis a čtení nákupního seznamu: Vytvořte seznam položek (stringů), které chcete nakoupit. Napište program, který tento seznam zapíše do souboru nakup.txt tak, že každá položka bude na novém řádku. Následně soubor opět otevřete, načtěte jeho obsah a vypište ho na obrazovku.\n",
        "\n",
        "    Logování událostí: Napište funkci zaloguj_udalost(text_udalosti). Pokaždé, když bude tato funkce zavolána, přidá na konec souboru log.txt nový řádek ve formátu [YYYY-MM-DD HH:MM:SS]: text_udalosti. Použijte režim pro přidávání ('a') a ujistěte se, že soubor je správně spravován pomocí příkazu with.\n",
        "\n",
        "    Uložení nastavení do JSON: Vytvořte slovník, který reprezentuje uživatelské nastavení, například: {'uzivatel': 'admin', 'tema': 'tmavé', 'jazyk': 'cz'}. Pomocí modulu json tento slovník uložte (serializujte) do souboru nastaveni.json. Zajistěte, aby byl výstupní soubor čitelný pro člověka (s odsazením).\n",
        "\n",
        "    Načtení nastavení z JSON: Napište program, který načte data ze souboru nastaveni.json vytvořeného v předchozím úkolu. Data deserializujte zpět do Python slovníku a vypište uživateli přivítání ve stylu: \"Vítejte zpět, admin! Vaše nastavené téma je tmavé.\"\n",
        "\n",
        "    Zpracování dat o skóre: Představte si, že máte soubor skore.txt, kde je na každém řádku jméno hráče a jeho skóre, oddělené čárkou (např. Petr,150). Napište program, který tento soubor přečte a najde hráče s nejvyšším skóre. Ošetřete možné chyby, jako je chybějící soubor nebo neplatný formát dat na řádku."
      ],
      "metadata": {
        "id": "9Lz2pY0__MxF"
      }
    },
    {
      "cell_type": "code",
      "source": [],
      "metadata": {
        "id": "xuAIDNJD_NjA"
      },
      "execution_count": null,
      "outputs": []
    }
  ]
}
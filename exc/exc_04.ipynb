{
 "cells": [
  {
   "cell_type": "markdown",
   "source": [
    "# AI in Finance: Seminar IV."
   ],
   "metadata": {
    "collapsed": false,
    "pycharm": {
     "name": "#%% md\n"
    }
   }
  },
  {
   "cell_type": "markdown",
   "source": [
    "## Initialization"
   ],
   "metadata": {
    "collapsed": false,
    "pycharm": {
     "name": "#%% md\n"
    }
   }
  },
  {
   "cell_type": "code",
   "execution_count": 126,
   "outputs": [],
   "source": [
    "# imports:\n",
    "\n",
    "## basic libraries:\n",
    "import os\n",
    "import numpy as np\n",
    "import pandas as pd\n",
    "import seaborn as sns\n",
    "from matplotlib import pyplot as plt\n",
    "from scipy import stats\n",
    "import math\n",
    "import matplotlib\n",
    "## modelling:\n",
    "import statsmodels.formula.api as smf"
   ],
   "metadata": {
    "collapsed": false,
    "pycharm": {
     "name": "#%%\n"
    }
   }
  },
  {
   "cell_type": "code",
   "execution_count": 128,
   "outputs": [],
   "source": [
    "# data\n",
    "ocr = pd.read_csv(\"../data/ocr.csv\").drop(\"Unnamed: 0\", axis=1)  # the ocr is our train set\n",
    "oct = pd.read_csv(\"../data/oct.csv\").drop(\"Unnamed: 0\", axis=1)  # the oct is the test set"
   ],
   "metadata": {
    "collapsed": false,
    "pycharm": {
     "name": "#%%\n"
    }
   }
  },
  {
   "cell_type": "code",
   "execution_count": 129,
   "outputs": [],
   "source": [
    "# settings\n",
    "matplotlib.rcParams['figure.figsize'] = (20, 10)"
   ],
   "metadata": {
    "collapsed": false,
    "pycharm": {
     "name": "#%%\n"
    }
   }
  },
  {
   "cell_type": "code",
   "execution_count": 5,
   "outputs": [
    {
     "data": {
      "text/plain": "              price          km         age        km10  power_lowest  \\\ncount    720.000000  720.000000  720.000000  720.000000    720.000000   \nmean   13696.583333  172.708687    6.605556    0.011111      0.029167   \nstd     5786.612018   70.462335    3.675650    0.104895      0.168390   \nmin     1400.000000    0.006000    0.000000    0.000000      0.000000   \n25%     9490.000000  132.953250    4.000000    0.000000      0.000000   \n50%    13990.000000  171.677500    5.000000    0.000000      0.000000   \n75%    16900.000000  210.001750    8.000000    0.000000      0.000000   \nmax    34900.000000  500.000000   18.000000    1.000000      1.000000   \n\n        power_low   power_mid  power_high  power_highest          ba  ...  \\\ncount  720.000000  720.000000  720.000000     720.000000  720.000000  ...   \nmean     0.204167    0.230556    0.368056       0.159722    0.233333  ...   \nstd      0.403372    0.421481    0.482612       0.366603    0.423247  ...   \nmin      0.000000    0.000000    0.000000       0.000000    0.000000  ...   \n25%      0.000000    0.000000    0.000000       0.000000    0.000000  ...   \n50%      0.000000    0.000000    0.000000       0.000000    0.000000  ...   \n75%      0.000000    0.000000    1.000000       0.000000    0.000000  ...   \nmax      1.000000    1.000000    1.000000       1.000000    1.000000  ...   \n\n               za      diesel    petrol      petgas         man        eng1  \\\ncount  720.000000  720.000000  720.0000  720.000000  720.000000  720.000000   \nmean     0.120833    0.880556    0.1125    0.006944    0.500000    0.126389   \nstd      0.326160    0.324536    0.3162    0.083101    0.500348    0.332518   \nmin      0.000000    0.000000    0.0000    0.000000    0.000000    0.000000   \n25%      0.000000    1.000000    0.0000    0.000000    0.000000    0.000000   \n50%      0.000000    1.000000    0.0000    0.000000    0.500000    0.000000   \n75%      0.000000    1.000000    0.0000    0.000000    1.000000    0.000000   \nmax      1.000000    1.000000    1.0000    1.000000    1.000000    1.000000   \n\n             eng2        eng3        eng4        eng6  \ncount  720.000000  720.000000  720.000000  720.000000  \nmean     0.069444    0.212500    0.063889    0.263889  \nstd      0.254385    0.409361    0.244725    0.441046  \nmin      0.000000    0.000000    0.000000    0.000000  \n25%      0.000000    0.000000    0.000000    0.000000  \n50%      0.000000    0.000000    0.000000    0.000000  \n75%      0.000000    0.000000    0.000000    1.000000  \nmax      1.000000    1.000000    1.000000    1.000000  \n\n[8 rows x 26 columns]",
      "text/html": "<div>\n<style scoped>\n    .dataframe tbody tr th:only-of-type {\n        vertical-align: middle;\n    }\n\n    .dataframe tbody tr th {\n        vertical-align: top;\n    }\n\n    .dataframe thead th {\n        text-align: right;\n    }\n</style>\n<table border=\"1\" class=\"dataframe\">\n  <thead>\n    <tr style=\"text-align: right;\">\n      <th></th>\n      <th>price</th>\n      <th>km</th>\n      <th>age</th>\n      <th>km10</th>\n      <th>power_lowest</th>\n      <th>power_low</th>\n      <th>power_mid</th>\n      <th>power_high</th>\n      <th>power_highest</th>\n      <th>ba</th>\n      <th>...</th>\n      <th>za</th>\n      <th>diesel</th>\n      <th>petrol</th>\n      <th>petgas</th>\n      <th>man</th>\n      <th>eng1</th>\n      <th>eng2</th>\n      <th>eng3</th>\n      <th>eng4</th>\n      <th>eng6</th>\n    </tr>\n  </thead>\n  <tbody>\n    <tr>\n      <th>count</th>\n      <td>720.000000</td>\n      <td>720.000000</td>\n      <td>720.000000</td>\n      <td>720.000000</td>\n      <td>720.000000</td>\n      <td>720.000000</td>\n      <td>720.000000</td>\n      <td>720.000000</td>\n      <td>720.000000</td>\n      <td>720.000000</td>\n      <td>...</td>\n      <td>720.000000</td>\n      <td>720.000000</td>\n      <td>720.0000</td>\n      <td>720.000000</td>\n      <td>720.000000</td>\n      <td>720.000000</td>\n      <td>720.000000</td>\n      <td>720.000000</td>\n      <td>720.000000</td>\n      <td>720.000000</td>\n    </tr>\n    <tr>\n      <th>mean</th>\n      <td>13696.583333</td>\n      <td>172.708687</td>\n      <td>6.605556</td>\n      <td>0.011111</td>\n      <td>0.029167</td>\n      <td>0.204167</td>\n      <td>0.230556</td>\n      <td>0.368056</td>\n      <td>0.159722</td>\n      <td>0.233333</td>\n      <td>...</td>\n      <td>0.120833</td>\n      <td>0.880556</td>\n      <td>0.1125</td>\n      <td>0.006944</td>\n      <td>0.500000</td>\n      <td>0.126389</td>\n      <td>0.069444</td>\n      <td>0.212500</td>\n      <td>0.063889</td>\n      <td>0.263889</td>\n    </tr>\n    <tr>\n      <th>std</th>\n      <td>5786.612018</td>\n      <td>70.462335</td>\n      <td>3.675650</td>\n      <td>0.104895</td>\n      <td>0.168390</td>\n      <td>0.403372</td>\n      <td>0.421481</td>\n      <td>0.482612</td>\n      <td>0.366603</td>\n      <td>0.423247</td>\n      <td>...</td>\n      <td>0.326160</td>\n      <td>0.324536</td>\n      <td>0.3162</td>\n      <td>0.083101</td>\n      <td>0.500348</td>\n      <td>0.332518</td>\n      <td>0.254385</td>\n      <td>0.409361</td>\n      <td>0.244725</td>\n      <td>0.441046</td>\n    </tr>\n    <tr>\n      <th>min</th>\n      <td>1400.000000</td>\n      <td>0.006000</td>\n      <td>0.000000</td>\n      <td>0.000000</td>\n      <td>0.000000</td>\n      <td>0.000000</td>\n      <td>0.000000</td>\n      <td>0.000000</td>\n      <td>0.000000</td>\n      <td>0.000000</td>\n      <td>...</td>\n      <td>0.000000</td>\n      <td>0.000000</td>\n      <td>0.0000</td>\n      <td>0.000000</td>\n      <td>0.000000</td>\n      <td>0.000000</td>\n      <td>0.000000</td>\n      <td>0.000000</td>\n      <td>0.000000</td>\n      <td>0.000000</td>\n    </tr>\n    <tr>\n      <th>25%</th>\n      <td>9490.000000</td>\n      <td>132.953250</td>\n      <td>4.000000</td>\n      <td>0.000000</td>\n      <td>0.000000</td>\n      <td>0.000000</td>\n      <td>0.000000</td>\n      <td>0.000000</td>\n      <td>0.000000</td>\n      <td>0.000000</td>\n      <td>...</td>\n      <td>0.000000</td>\n      <td>1.000000</td>\n      <td>0.0000</td>\n      <td>0.000000</td>\n      <td>0.000000</td>\n      <td>0.000000</td>\n      <td>0.000000</td>\n      <td>0.000000</td>\n      <td>0.000000</td>\n      <td>0.000000</td>\n    </tr>\n    <tr>\n      <th>50%</th>\n      <td>13990.000000</td>\n      <td>171.677500</td>\n      <td>5.000000</td>\n      <td>0.000000</td>\n      <td>0.000000</td>\n      <td>0.000000</td>\n      <td>0.000000</td>\n      <td>0.000000</td>\n      <td>0.000000</td>\n      <td>0.000000</td>\n      <td>...</td>\n      <td>0.000000</td>\n      <td>1.000000</td>\n      <td>0.0000</td>\n      <td>0.000000</td>\n      <td>0.500000</td>\n      <td>0.000000</td>\n      <td>0.000000</td>\n      <td>0.000000</td>\n      <td>0.000000</td>\n      <td>0.000000</td>\n    </tr>\n    <tr>\n      <th>75%</th>\n      <td>16900.000000</td>\n      <td>210.001750</td>\n      <td>8.000000</td>\n      <td>0.000000</td>\n      <td>0.000000</td>\n      <td>0.000000</td>\n      <td>0.000000</td>\n      <td>1.000000</td>\n      <td>0.000000</td>\n      <td>0.000000</td>\n      <td>...</td>\n      <td>0.000000</td>\n      <td>1.000000</td>\n      <td>0.0000</td>\n      <td>0.000000</td>\n      <td>1.000000</td>\n      <td>0.000000</td>\n      <td>0.000000</td>\n      <td>0.000000</td>\n      <td>0.000000</td>\n      <td>1.000000</td>\n    </tr>\n    <tr>\n      <th>max</th>\n      <td>34900.000000</td>\n      <td>500.000000</td>\n      <td>18.000000</td>\n      <td>1.000000</td>\n      <td>1.000000</td>\n      <td>1.000000</td>\n      <td>1.000000</td>\n      <td>1.000000</td>\n      <td>1.000000</td>\n      <td>1.000000</td>\n      <td>...</td>\n      <td>1.000000</td>\n      <td>1.000000</td>\n      <td>1.0000</td>\n      <td>1.000000</td>\n      <td>1.000000</td>\n      <td>1.000000</td>\n      <td>1.000000</td>\n      <td>1.000000</td>\n      <td>1.000000</td>\n      <td>1.000000</td>\n    </tr>\n  </tbody>\n</table>\n<p>8 rows × 26 columns</p>\n</div>"
     },
     "execution_count": 5,
     "metadata": {},
     "output_type": "execute_result"
    }
   ],
   "source": [
    "ocr.describe()"
   ],
   "metadata": {
    "collapsed": false,
    "pycharm": {
     "name": "#%%\n"
    }
   }
  },
  {
   "cell_type": "markdown",
   "source": [
    "## 1 OLS Models"
   ],
   "metadata": {
    "collapsed": false,
    "pycharm": {
     "name": "#%% md\n"
    }
   }
  },
  {
   "cell_type": "markdown",
   "source": [
    "At this point, we write down formulas that specify all of our models. These are nested in a dictionary for easier manipulation\n",
    "I use the formula-based Statsmodels API syntax"
   ],
   "metadata": {
    "collapsed": false,
    "pycharm": {
     "name": "#%% md\n"
    }
   }
  },
  {
   "cell_type": "markdown",
   "source": [
    "### 1.1 Models Fitting"
   ],
   "metadata": {
    "collapsed": false,
    "pycharm": {
     "name": "#%% md\n"
    }
   }
  },
  {
   "cell_type": "code",
   "execution_count": 19,
   "outputs": [],
   "source": [
    "model_formulas = {\n",
    "    \"m1\": \"price ~ km\",\n",
    "    \"m2\": \"price ~ age\",\n",
    "    \"m3\": \"price ~ km + age\",\n",
    "    \"m4\": \"price ~ km + age + km10 + power_lowest + power_low + power_mid + power_high + \"\n",
    "          \"power_highest + ba + bb + ke + nr + po + tn + tt + petrol + petgas + man + eng1 + \"\n",
    "          \"eng2 + eng3 + eng4 + eng6\",\n",
    "    \"m5\": \"price ~ km + I(km**2) + age + I(age**2) + diesel + man + eng1 + eng2 + eng3 + eng4 + eng6\"\n",
    "}"
   ],
   "metadata": {
    "collapsed": false,
    "pycharm": {
     "name": "#%%\n"
    }
   }
  },
  {
   "cell_type": "markdown",
   "source": [
    "The following function iterates over all models and returns the fitted objects"
   ],
   "metadata": {
    "collapsed": false,
    "pycharm": {
     "name": "#%% md\n"
    }
   }
  },
  {
   "cell_type": "code",
   "execution_count": 20,
   "outputs": [],
   "source": [
    "def fit_ols_models(models_specs: dict, data: pd.DataFrame) -> dict:\n",
    "    \"\"\"\n",
    "    Purpose: For the specified formulas, fit the OLS model and return all its attributes\n",
    "    \"\"\"\n",
    "\n",
    "    models_fitted = {}\n",
    "    for model, formula in models_specs.items():\n",
    "        models_fitted[model] = smf.ols(formula=formula, data=data).fit()\n",
    "\n",
    "    return models_fitted"
   ],
   "metadata": {
    "collapsed": false,
    "pycharm": {
     "name": "#%%\n"
    }
   }
  },
  {
   "cell_type": "code",
   "execution_count": 24,
   "outputs": [],
   "source": [
    "models_res = fit_ols_models(model_formulas, ocr)  # object containing all fitted models"
   ],
   "metadata": {
    "collapsed": false,
    "pycharm": {
     "name": "#%%\n"
    }
   }
  },
  {
   "cell_type": "markdown",
   "source": [
    "The following function iterates over all of our fitted models and prints summary tables with all respective summary tables"
   ],
   "metadata": {
    "collapsed": false,
    "pycharm": {
     "name": "#%% md\n"
    }
   }
  },
  {
   "cell_type": "code",
   "execution_count": 121,
   "outputs": [],
   "source": [
    "def print_models_summary(models_res_list: dict) -> None:\n",
    "    \"\"\"\n",
    "    Purpose: Print summary tables for each model from the dictionary of fitted models\n",
    "    \"\"\"\n",
    "\n",
    "    for mod, res in models_res_list.items():\n",
    "        print(f\"{mod}:\\n\\n \"\n",
    "              f\"Coefficients: \\n\"\n",
    "              f\"{res.summary()} \\n\\n\")"
   ],
   "metadata": {
    "collapsed": false,
    "pycharm": {
     "name": "#%%\n"
    }
   }
  },
  {
   "cell_type": "code",
   "execution_count": 122,
   "outputs": [
    {
     "name": "stdout",
     "output_type": "stream",
     "text": [
      "m1:\n",
      "\n",
      " Coefficients: \n",
      "                            OLS Regression Results                            \n",
      "==============================================================================\n",
      "Dep. Variable:                  price   R-squared:                       0.550\n",
      "Model:                            OLS   Adj. R-squared:                  0.549\n",
      "Method:                 Least Squares   F-statistic:                     877.3\n",
      "Date:                Sun, 16 Oct 2022   Prob (F-statistic):          1.34e-126\n",
      "Time:                        10:54:02   Log-Likelihood:                -6971.3\n",
      "No. Observations:                 720   AIC:                         1.395e+04\n",
      "Df Residuals:                     718   BIC:                         1.396e+04\n",
      "Df Model:                           1                                         \n",
      "Covariance Type:            nonrobust                                         \n",
      "==============================================================================\n",
      "                 coef    std err          t      P>|t|      [0.025      0.975]\n",
      "------------------------------------------------------------------------------\n",
      "Intercept   2.421e+04    383.482     63.144      0.000    2.35e+04     2.5e+04\n",
      "km           -60.9010      2.056    -29.620      0.000     -64.938     -56.864\n",
      "==============================================================================\n",
      "Omnibus:                       47.769   Durbin-Watson:                   2.065\n",
      "Prob(Omnibus):                  0.000   Jarque-Bera (JB):              127.261\n",
      "Skew:                          -0.318   Prob(JB):                     2.32e-28\n",
      "Kurtosis:                       4.959   Cond. No.                         494.\n",
      "==============================================================================\n",
      "\n",
      "Notes:\n",
      "[1] Standard Errors assume that the covariance matrix of the errors is correctly specified. \n",
      "\n",
      "\n",
      "m2:\n",
      "\n",
      " Coefficients: \n",
      "                            OLS Regression Results                            \n",
      "==============================================================================\n",
      "Dep. Variable:                  price   R-squared:                       0.679\n",
      "Model:                            OLS   Adj. R-squared:                  0.678\n",
      "Method:                 Least Squares   F-statistic:                     1518.\n",
      "Date:                Sun, 16 Oct 2022   Prob (F-statistic):          2.90e-179\n",
      "Time:                        10:54:02   Log-Likelihood:                -6849.8\n",
      "No. Observations:                 720   AIC:                         1.370e+04\n",
      "Df Residuals:                     718   BIC:                         1.371e+04\n",
      "Df Model:                           1                                         \n",
      "Covariance Type:            nonrobust                                         \n",
      "==============================================================================\n",
      "                 coef    std err          t      P>|t|      [0.025      0.975]\n",
      "------------------------------------------------------------------------------\n",
      "Intercept   2.226e+04    251.646     88.476      0.000    2.18e+04    2.28e+04\n",
      "age        -1297.1176     33.295    -38.958      0.000   -1362.485   -1231.751\n",
      "==============================================================================\n",
      "Omnibus:                      112.838   Durbin-Watson:                   1.904\n",
      "Prob(Omnibus):                  0.000   Jarque-Bera (JB):              184.520\n",
      "Skew:                           0.995   Prob(JB):                     8.55e-41\n",
      "Kurtosis:                       4.479   Cond. No.                         15.8\n",
      "==============================================================================\n",
      "\n",
      "Notes:\n",
      "[1] Standard Errors assume that the covariance matrix of the errors is correctly specified. \n",
      "\n",
      "\n",
      "m3:\n",
      "\n",
      " Coefficients: \n",
      "                            OLS Regression Results                            \n",
      "==============================================================================\n",
      "Dep. Variable:                  price   R-squared:                       0.766\n",
      "Model:                            OLS   Adj. R-squared:                  0.765\n",
      "Method:                 Least Squares   F-statistic:                     1172.\n",
      "Date:                Sun, 16 Oct 2022   Prob (F-statistic):          1.16e-226\n",
      "Time:                        10:54:02   Log-Likelihood:                -6736.3\n",
      "No. Observations:                 720   AIC:                         1.348e+04\n",
      "Df Residuals:                     717   BIC:                         1.349e+04\n",
      "Df Model:                           2                                         \n",
      "Covariance Type:            nonrobust                                         \n",
      "==============================================================================\n",
      "                 coef    std err          t      P>|t|      [0.025      0.975]\n",
      "------------------------------------------------------------------------------\n",
      "Intercept   2.517e+04    279.374     90.098      0.000    2.46e+04    2.57e+04\n",
      "km           -30.8204      1.891    -16.302      0.000     -34.532     -27.109\n",
      "age         -931.2772     36.242    -25.696      0.000   -1002.431    -860.123\n",
      "==============================================================================\n",
      "Omnibus:                       81.469   Durbin-Watson:                   1.999\n",
      "Prob(Omnibus):                  0.000   Jarque-Bera (JB):              115.100\n",
      "Skew:                           0.822   Prob(JB):                     1.01e-25\n",
      "Kurtosis:                       4.066   Cond. No.                         499.\n",
      "==============================================================================\n",
      "\n",
      "Notes:\n",
      "[1] Standard Errors assume that the covariance matrix of the errors is correctly specified. \n",
      "\n",
      "\n",
      "m4:\n",
      "\n",
      " Coefficients: \n",
      "                            OLS Regression Results                            \n",
      "==============================================================================\n",
      "Dep. Variable:                  price   R-squared:                       0.868\n",
      "Model:                            OLS   Adj. R-squared:                  0.863\n",
      "Method:                 Least Squares   F-statistic:                     198.3\n",
      "Date:                Sun, 16 Oct 2022   Prob (F-statistic):          2.76e-287\n",
      "Time:                        10:54:02   Log-Likelihood:                -6530.8\n",
      "No. Observations:                 720   AIC:                         1.311e+04\n",
      "Df Residuals:                     696   BIC:                         1.322e+04\n",
      "Df Model:                          23                                         \n",
      "Covariance Type:            nonrobust                                         \n",
      "=================================================================================\n",
      "                    coef    std err          t      P>|t|      [0.025      0.975]\n",
      "---------------------------------------------------------------------------------\n",
      "Intercept      2.321e+04   1067.621     21.735      0.000    2.11e+04    2.53e+04\n",
      "km              -26.9197      1.610    -16.722      0.000     -30.081     -23.759\n",
      "age            -928.1298     37.628    -24.666      0.000   -1002.008    -854.252\n",
      "km10           2844.1681    818.052      3.477      0.001    1238.022    4450.314\n",
      "power_lowest    546.4812   1044.992      0.523      0.601   -1505.232    2598.195\n",
      "power_low     -1488.9601   1250.486     -1.191      0.234   -3944.136     966.216\n",
      "power_mid      -178.5473   1136.892     -0.157      0.875   -2410.696    2053.602\n",
      "power_high     3380.6019    994.816      3.398      0.001    1427.403    5333.801\n",
      "power_highest  4662.8741    978.966      4.763      0.000    2740.793    6584.955\n",
      "ba               51.9532    288.821      0.180      0.857    -515.112     619.019\n",
      "bb             -742.7092    335.222     -2.216      0.027   -1400.876     -84.542\n",
      "ke             -256.1556    310.798     -0.824      0.410    -866.370     354.059\n",
      "nr             -540.6131    315.052     -1.716      0.087   -1159.180      77.954\n",
      "po               29.3619    369.178      0.080      0.937    -695.474     754.198\n",
      "tn             -325.4742    388.220     -0.838      0.402   -1087.697     436.749\n",
      "tt             -447.9408    374.701     -1.195      0.232   -1183.620     287.738\n",
      "petrol          -92.1523    451.937     -0.204      0.838    -979.475     795.171\n",
      "petgas          749.8074   1180.152      0.635      0.525   -1567.278    3066.893\n",
      "man            -864.9576    181.268     -4.772      0.000   -1220.855    -509.060\n",
      "eng1           2578.3867   1017.572      2.534      0.011     580.507    4576.266\n",
      "eng2           1046.9784   1032.673      1.014      0.311    -980.550    3074.506\n",
      "eng3            494.5600    824.086      0.600      0.549   -1123.433    2112.553\n",
      "eng4           -874.0048    735.010     -1.189      0.235   -2317.107     569.097\n",
      "eng6           -694.7653    623.268     -1.115      0.265   -1918.476     528.945\n",
      "==============================================================================\n",
      "Omnibus:                      129.812   Durbin-Watson:                   1.995\n",
      "Prob(Omnibus):                  0.000   Jarque-Bera (JB):              437.572\n",
      "Skew:                           0.838   Prob(JB):                     9.60e-96\n",
      "Kurtosis:                       6.432   Cond. No.                     5.41e+03\n",
      "==============================================================================\n",
      "\n",
      "Notes:\n",
      "[1] Standard Errors assume that the covariance matrix of the errors is correctly specified.\n",
      "[2] The condition number is large, 5.41e+03. This might indicate that there are\n",
      "strong multicollinearity or other numerical problems. \n",
      "\n",
      "\n",
      "m5:\n",
      "\n",
      " Coefficients: \n",
      "                            OLS Regression Results                            \n",
      "==============================================================================\n",
      "Dep. Variable:                  price   R-squared:                       0.873\n",
      "Model:                            OLS   Adj. R-squared:                  0.871\n",
      "Method:                 Least Squares   F-statistic:                     441.4\n",
      "Date:                Sun, 16 Oct 2022   Prob (F-statistic):          3.77e-308\n",
      "Time:                        10:54:02   Log-Likelihood:                -6516.6\n",
      "No. Observations:                 720   AIC:                         1.306e+04\n",
      "Df Residuals:                     708   BIC:                         1.311e+04\n",
      "Df Model:                          11                                         \n",
      "Covariance Type:            nonrobust                                         \n",
      "===============================================================================\n",
      "                  coef    std err          t      P>|t|      [0.025      0.975]\n",
      "-------------------------------------------------------------------------------\n",
      "Intercept    3.028e+04    435.295     69.552      0.000    2.94e+04    3.11e+04\n",
      "km            -57.4078      4.371    -13.132      0.000     -65.990     -48.825\n",
      "I(km ** 2)      0.0873      0.011      7.979      0.000       0.066       0.109\n",
      "age         -1734.4138    117.153    -14.805      0.000   -1964.424   -1504.404\n",
      "I(age ** 2)    40.4405      5.908      6.845      0.000      28.841      52.041\n",
      "diesel       2404.5230    321.491      7.479      0.000    1773.333    3035.713\n",
      "man         -1190.1660    172.231     -6.910      0.000   -1528.312    -852.021\n",
      "eng1        -2676.4453    331.327     -8.078      0.000   -3326.947   -2025.944\n",
      "eng2        -4105.1541    369.020    -11.124      0.000   -4829.658   -3380.650\n",
      "eng3        -4306.2292    286.499    -15.031      0.000   -4868.718   -3743.741\n",
      "eng4        -1334.4626    404.314     -3.301      0.001   -2128.260    -540.665\n",
      "eng6        -1713.0222    260.754     -6.569      0.000   -2224.966   -1201.079\n",
      "==============================================================================\n",
      "Omnibus:                       47.806   Durbin-Watson:                   1.926\n",
      "Prob(Omnibus):                  0.000   Jarque-Bera (JB):              173.045\n",
      "Skew:                           0.170   Prob(JB):                     2.65e-38\n",
      "Kurtosis:                       5.377   Cond. No.                     3.29e+05\n",
      "==============================================================================\n",
      "\n",
      "Notes:\n",
      "[1] Standard Errors assume that the covariance matrix of the errors is correctly specified.\n",
      "[2] The condition number is large, 3.29e+05. This might indicate that there are\n",
      "strong multicollinearity or other numerical problems. \n",
      "\n",
      "\n"
     ]
    }
   ],
   "source": [
    "print_models_summary(models_res)"
   ],
   "metadata": {
    "collapsed": false,
    "pycharm": {
     "name": "#%%\n"
    }
   }
  },
  {
   "cell_type": "markdown",
   "source": [
    "### 1.2 Models Evaluation"
   ],
   "metadata": {
    "collapsed": false,
    "pycharm": {
     "name": "#%% md\n"
    }
   }
  },
  {
   "cell_type": "markdown",
   "source": [
    "Now that we've fitted the model, it's time to evaluate our results. First we generate predicitons based on our models."
   ],
   "metadata": {
    "collapsed": false,
    "pycharm": {
     "name": "#%% md\n"
    }
   }
  },
  {
   "cell_type": "code",
   "execution_count": 130,
   "outputs": [],
   "source": [
    "def generate_predictions(models_fitted: dict, data_test: pd.DataFrame) -> dict:\n",
    "    \"\"\"\n",
    "    Purpose: For all fitted models, generate predictions for the test set and store them in a dictionary\n",
    "    \"\"\"\n",
    "    pred_vals = {}\n",
    "    for model, specs in models_fitted.items():\n",
    "        pred_vals[model] = specs.predict(data_test)\n",
    "\n",
    "    return pred_vals"
   ],
   "metadata": {
    "collapsed": false,
    "pycharm": {
     "name": "#%%\n"
    }
   }
  },
  {
   "cell_type": "code",
   "execution_count": 131,
   "outputs": [],
   "source": [
    "oct_pred = generate_predictions(models_res, oct)"
   ],
   "metadata": {
    "collapsed": false,
    "pycharm": {
     "name": "#%%\n"
    }
   }
  },
  {
   "cell_type": "markdown",
   "source": [
    "We can plot the actual values in our test set against the predictions. This has the same effect as the residual analysis.\n",
    "We can therefore check if the predicitons substantially differ for different values of our target variable"
   ],
   "metadata": {
    "collapsed": false,
    "pycharm": {
     "name": "#%% md\n"
    }
   }
  },
  {
   "cell_type": "code",
   "execution_count": 151,
   "outputs": [],
   "source": [
    "from sklearn.metrics import mean_squared_error as mse\n",
    "def compare_models_metrics(preds_dict, data_observed, metric, print_res=False):\n",
    "\n",
    "    metric_dict = {}\n",
    "\n",
    "    for mod, fit in preds_dict.items():\n",
    "        metric_dict[mod] = metric(preds_dict[mod], data_observed)\n",
    "        # metric_dict[mod] = mse(data_observed, preds_dict[mod])\n",
    "\n",
    "    if print_res:\n",
    "        for key, val in sorted(metric_dict.items(), key = lambda x: x[1], reverse=False) :\n",
    "            print(f\"Model {key} had the metric score of of: {val}\\n\")\n",
    "\n",
    "    return metric_dict"
   ],
   "metadata": {
    "collapsed": false,
    "pycharm": {
     "name": "#%%\n"
    }
   }
  },
  {
   "cell_type": "code",
   "execution_count": 160,
   "outputs": [
    {
     "name": "stdout",
     "output_type": "stream",
     "text": [
      "Model m5 had the metric score of of: 3376994.6205662224\n",
      "\n",
      "Model m4 had the metric score of of: 4643638.6376971\n",
      "\n",
      "Model m3 had the metric score of of: 7082020.1644274555\n",
      "\n",
      "Model m2 had the metric score of of: 11002840.766313981\n",
      "\n",
      "Model m1 had the metric score of of: 13486177.111468973\n",
      "\n"
     ]
    }
   ],
   "source": [
    "mse_dta = compare_models_metrics(oct_pred, oct[['price']], mse, True)"
   ],
   "metadata": {
    "collapsed": false,
    "pycharm": {
     "name": "#%%\n"
    }
   }
  },
  {
   "cell_type": "code",
   "execution_count": 132,
   "outputs": [],
   "source": [
    "def get_grid_shape(data):\n",
    "    \"\"\"\n",
    "    Purpose: Helper function to create a tupe which would determine the subplots shape\n",
    "    \"\"\"\n",
    "    grid_size = (math.ceil(np.sqrt(len(data))), math.floor(np.sqrt(len(data))))\n",
    "\n",
    "    return grid_size"
   ],
   "metadata": {
    "collapsed": false,
    "pycharm": {
     "name": "#%%\n"
    }
   }
  },
  {
   "cell_type": "code",
   "execution_count": 156,
   "outputs": [],
   "source": [
    "def actual_vs_fit_plot(fitted, actuals, mse):\n",
    "    \"\"\"\n",
    "    Purpose: Generate scatter plots to plot the actual values against the fitted ones\n",
    "    \"\"\"\n",
    "    shape = get_grid_shape(fitted)\n",
    "\n",
    "    fig, axs = plt.subplots(shape[0], shape[1], figsize=tuple([5*x for x in shape]))\n",
    "    fig.suptitle(\"Actual vs. Fitted values Regression Plot\")\n",
    "    i = 0\n",
    "    j = 0\n",
    "    for model, vals in fitted.items():\n",
    "        sns.regplot(ax=axs[i, j % 2], x=vals, y=actuals, line_kws={'color': 'red'})\n",
    "        axs[i, j % 2].set_title(f\"{model}: MSE of {round(mse[model])}\")\n",
    "        i = i + j\n",
    "        j = (j + 1) % 2"
   ],
   "metadata": {
    "collapsed": false,
    "pycharm": {
     "name": "#%%\n"
    }
   }
  },
  {
   "cell_type": "code",
   "execution_count": 157,
   "outputs": [
    {
     "data": {
      "text/plain": "<Figure size 1080x720 with 6 Axes>",
      "image/png": "[encoded data removed]"
     },
     "metadata": {},
     "output_type": "display_data"
    }
   ],
   "source": [
    "actual_vs_fit_plot(oct_pred, oct[['price']], mse_dta)"
   ],
   "metadata": {
    "collapsed": false,
    "pycharm": {
     "name": "#%%\n"
    }
   }
  },
  {
   "cell_type": "markdown",
   "source": [],
   "metadata": {
    "collapsed": false,
    "pycharm": {
     "name": "#%% md\n"
    }
   }
  },
  {
   "cell_type": "markdown",
   "source": [
    "## 2 Bootstraping"
   ],
   "metadata": {
    "collapsed": false,
    "pycharm": {
     "name": "#%% md\n"
    }
   }
  },
  {
   "cell_type": "markdown",
   "source": [
    "At first, I initialize the functionction which is meant to extract the coefficients of our regression"
   ],
   "metadata": {
    "collapsed": false,
    "pycharm": {
     "name": "#%% md\n"
    }
   }
  },
  {
   "cell_type": "code",
   "execution_count": null,
   "outputs": [],
   "source": [
    "def est_model(data, formula):\n",
    "    # bootstrap() makes an array, not a DataFrame\n",
    "    estimate = smf.ols(formula, data).fit()\n",
    "    coefs = estimate.params\n",
    "\n",
    "    return coefs"
   ],
   "metadata": {
    "collapsed": false,
    "pycharm": {
     "name": "#%%\n"
    }
   }
  },
  {
   "cell_type": "code",
   "execution_count": null,
   "outputs": [],
   "source": [
    "def get_bootstrap_coefs(data, n_rep, formula):\n",
    "    res = []\n",
    "\n",
    "    for i in range(n_rep):\n",
    "        smpl = data.sample(frac=1, replace=True)\n",
    "        model = smf.ols(formula, smpl).fit()\n",
    "        coefs = model.params\n",
    "\n",
    "        res.append(coefs)\n",
    "\n",
    "    return pd.DataFrame(res, columns=coefs.index)\n"
   ],
   "metadata": {
    "collapsed": false,
    "pycharm": {
     "name": "#%%\n"
    }
   }
  },
  {
   "cell_type": "code",
   "execution_count": null,
   "outputs": [],
   "source": [
    "bs_c = get_bootstrap_coefs(ocr, 1000, model_formulas['m4'])\n"
   ],
   "metadata": {
    "collapsed": false,
    "pycharm": {
     "name": "#%%\n"
    }
   }
  },
  {
   "cell_type": "code",
   "execution_count": null,
   "outputs": [],
   "source": [
    "def get_quantiles(data, q_list = [0.01, 0.5, 0.99]):\n",
    "\n",
    "    df_q = data.quantile(q_list).set_index(pd.Index([q for q in q_list])).transpose()\n",
    "\n",
    "    return df_q"
   ],
   "metadata": {
    "collapsed": false,
    "pycharm": {
     "name": "#%%\n"
    }
   }
  },
  {
   "cell_type": "code",
   "execution_count": null,
   "outputs": [],
   "source": [
    "def get_stats(data, alpha, q_list):\n",
    "\n",
    "    stats_dict = {\n",
    "        'mean': data.mean(),\n",
    "        'std': data.std(),\n",
    "        'se': data.std()/np.sqrt(data.shape[0]),\n",
    "        't_stat': stats.t.ppf(q=1 - alpha/2, df=data.shape[0] - 1),\n",
    "        'quantiles': data.quantile(q_list).set_index(pd.Index([q for q in q_list])).transpose()\n",
    "    }\n",
    "\n",
    "    return stats_dict\n",
    "\n",
    "\n"
   ],
   "metadata": {
    "collapsed": false,
    "pycharm": {
     "name": "#%%\n"
    }
   }
  },
  {
   "cell_type": "code",
   "execution_count": null,
   "outputs": [],
   "source": [
    "x = get_stats(bs_c, 0.01, [0.01, 0.5, 0.99])"
   ],
   "metadata": {
    "collapsed": false,
    "pycharm": {
     "name": "#%%\n"
    }
   }
  },
  {
   "cell_type": "code",
   "execution_count": null,
   "outputs": [],
   "source": [
    "x['t_stat']"
   ],
   "metadata": {
    "collapsed": false,
    "pycharm": {
     "name": "#%%\n"
    }
   }
  },
  {
   "cell_type": "markdown",
   "source": [
    "### 2.2 MCS"
   ],
   "metadata": {
    "collapsed": false,
    "pycharm": {
     "name": "#%% md\n"
    }
   }
  },
  {
   "cell_type": "markdown",
   "source": [
    "In this part, I examine our models using the Model Confidence Set. The class I use is taken from the [M. Gong's implementation](https://michael-gong.com/blogs/model-confidence-set/) of the algorithm."
   ],
   "metadata": {
    "collapsed": false,
    "pycharm": {
     "name": "#%% md\n"
    }
   }
  },
  {
   "cell_type": "code",
   "execution_count": 189,
   "outputs": [],
   "source": [
    "from AI.util.MCS import ModelConfidenceSet as MCS"
   ],
   "metadata": {
    "collapsed": false,
    "pycharm": {
     "name": "#%%\n"
    }
   }
  },
  {
   "cell_type": "code",
   "execution_count": 207,
   "outputs": [],
   "source": [
    "mcs_oct = MCS((pd.DataFrame(oct_pred)\n",
    "              .apply(lambda x: np.abs(x - oct['price'])))\n",
    "              , 0.01, 3, 1000).run()"
   ],
   "metadata": {
    "collapsed": false,
    "pycharm": {
     "name": "#%%\n"
    }
   }
  },
  {
   "cell_type": "code",
   "execution_count": 208,
   "outputs": [
    {
     "data": {
      "text/plain": "m1    0.0\nm2    0.0\nm3    0.0\nm4    0.0\nm5    1.0\ndtype: float64"
     },
     "execution_count": 208,
     "metadata": {},
     "output_type": "execute_result"
    }
   ],
   "source": [
    "mcs_oct.pvalues"
   ],
   "metadata": {
    "collapsed": false,
    "pycharm": {
     "name": "#%%\n"
    }
   }
  },
  {
   "cell_type": "markdown",
   "source": [],
   "metadata": {
    "collapsed": false,
    "pycharm": {
     "name": "#%% md\n"
    }
   }
  },
  {
   "cell_type": "markdown",
   "source": [
    "### 2.3 Regularized Regression"
   ],
   "metadata": {
    "collapsed": false,
    "pycharm": {
     "name": "#%% md\n"
    }
   }
  },
  {
   "cell_type": "code",
   "execution_count": null,
   "outputs": [],
   "source": [],
   "metadata": {
    "collapsed": false,
    "pycharm": {
     "name": "#%%\n"
    }
   }
  },
  {
   "cell_type": "markdown",
   "source": [],
   "metadata": {
    "collapsed": false,
    "pycharm": {
     "name": "#%% md\n"
    }
   }
  }
 ],
 "metadata": {
  "kernelspec": {
   "display_name": "Python 3",
   "language": "python",
   "name": "python3"
  },
  "language_info": {
   "codemirror_mode": {
    "name": "ipython",
    "version": 2
   },
   "file_extension": ".py",
   "mimetype": "text/x-python",
   "name": "python",
   "nbconvert_exporter": "python",
   "pygments_lexer": "ipython2",
   "version": "2.7.6"
  }
 },
 "nbformat": 4,
 "nbformat_minor": 0
}
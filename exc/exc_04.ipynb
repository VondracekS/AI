{
 "cells": [
  {
   "cell_type": "markdown",
   "source": [
    "# AI in Finance: Seminar IV."
   ],
   "metadata": {
    "collapsed": false,
    "pycharm": {
     "name": "#%% md\n"
    }
   }
  },
  {
   "cell_type": "markdown",
   "source": [
    "## Initialization"
   ],
   "metadata": {
    "collapsed": false,
    "pycharm": {
     "name": "#%% md\n"
    }
   }
  },
  {
   "cell_type": "code",
   "execution_count": 1,
   "outputs": [],
   "source": [
    "# imports:\n",
    "\n",
    "## basic libraries:\n",
    "import os\n",
    "import numpy as np\n",
    "import pandas as pd\n",
    "import seaborn as sns\n",
    "from matplotlib import pyplot as plt\n",
    "from scipy import stats\n",
    "import math\n",
    "import matplotlib\n",
    "## modelling:\n",
    "import statsmodels.formula.api as smf\n",
    "\n",
    "##\n",
    "from explainerdashboard import ClassifierExplainer, ExplainerDashboard"
   ],
   "metadata": {
    "collapsed": false,
    "pycharm": {
     "name": "#%%\n"
    }
   }
  },
  {
   "cell_type": "code",
   "execution_count": 2,
   "outputs": [],
   "source": [
    "# data\n",
    "ocr = pd.read_csv(\"../data/ocr.csv\").drop(\"Unnamed: 0\", axis=1)  # the ocr is our train set\n",
    "oct = pd.read_csv(\"../data/oct.csv\").drop(\"Unnamed: 0\", axis=1)  # the oct is the test set"
   ],
   "metadata": {
    "collapsed": false,
    "pycharm": {
     "name": "#%%\n"
    }
   }
  },
  {
   "cell_type": "code",
   "execution_count": 3,
   "outputs": [],
   "source": [
    "# settings\n",
    "matplotlib.rcParams['figure.figsize'] = (20, 10)\n"
   ],
   "metadata": {
    "collapsed": false,
    "pycharm": {
     "name": "#%%\n"
    }
   }
  },
  {
   "cell_type": "code",
   "execution_count": 4,
   "outputs": [
    {
     "data": {
      "text/plain": "              price          km         age        km10  power_lowest  \\\ncount    720.000000  720.000000  720.000000  720.000000    720.000000   \nmean   13696.583333  172.708687    6.605556    0.011111      0.029167   \nstd     5786.612018   70.462335    3.675650    0.104895      0.168390   \nmin     1400.000000    0.006000    0.000000    0.000000      0.000000   \n25%     9490.000000  132.953250    4.000000    0.000000      0.000000   \n50%    13990.000000  171.677500    5.000000    0.000000      0.000000   \n75%    16900.000000  210.001750    8.000000    0.000000      0.000000   \nmax    34900.000000  500.000000   18.000000    1.000000      1.000000   \n\n        power_low   power_mid  power_high  power_highest          ba  ...  \\\ncount  720.000000  720.000000  720.000000     720.000000  720.000000  ...   \nmean     0.204167    0.230556    0.368056       0.159722    0.233333  ...   \nstd      0.403372    0.421481    0.482612       0.366603    0.423247  ...   \nmin      0.000000    0.000000    0.000000       0.000000    0.000000  ...   \n25%      0.000000    0.000000    0.000000       0.000000    0.000000  ...   \n50%      0.000000    0.000000    0.000000       0.000000    0.000000  ...   \n75%      0.000000    0.000000    1.000000       0.000000    0.000000  ...   \nmax      1.000000    1.000000    1.000000       1.000000    1.000000  ...   \n\n               za      diesel    petrol      petgas         man        eng1  \\\ncount  720.000000  720.000000  720.0000  720.000000  720.000000  720.000000   \nmean     0.120833    0.880556    0.1125    0.006944    0.500000    0.126389   \nstd      0.326160    0.324536    0.3162    0.083101    0.500348    0.332518   \nmin      0.000000    0.000000    0.0000    0.000000    0.000000    0.000000   \n25%      0.000000    1.000000    0.0000    0.000000    0.000000    0.000000   \n50%      0.000000    1.000000    0.0000    0.000000    0.500000    0.000000   \n75%      0.000000    1.000000    0.0000    0.000000    1.000000    0.000000   \nmax      1.000000    1.000000    1.0000    1.000000    1.000000    1.000000   \n\n             eng2        eng3        eng4        eng6  \ncount  720.000000  720.000000  720.000000  720.000000  \nmean     0.069444    0.212500    0.063889    0.263889  \nstd      0.254385    0.409361    0.244725    0.441046  \nmin      0.000000    0.000000    0.000000    0.000000  \n25%      0.000000    0.000000    0.000000    0.000000  \n50%      0.000000    0.000000    0.000000    0.000000  \n75%      0.000000    0.000000    0.000000    1.000000  \nmax      1.000000    1.000000    1.000000    1.000000  \n\n[8 rows x 26 columns]",
      "text/html": "<div>\n<style scoped>\n    .dataframe tbody tr th:only-of-type {\n        vertical-align: middle;\n    }\n\n    .dataframe tbody tr th {\n        vertical-align: top;\n    }\n\n    .dataframe thead th {\n        text-align: right;\n    }\n</style>\n<table border=\"1\" class=\"dataframe\">\n  <thead>\n    <tr style=\"text-align: right;\">\n      <th></th>\n      <th>price</th>\n      <th>km</th>\n      <th>age</th>\n      <th>km10</th>\n      <th>power_lowest</th>\n      <th>power_low</th>\n      <th>power_mid</th>\n      <th>power_high</th>\n      <th>power_highest</th>\n      <th>ba</th>\n      <th>...</th>\n      <th>za</th>\n      <th>diesel</th>\n      <th>petrol</th>\n      <th>petgas</th>\n      <th>man</th>\n      <th>eng1</th>\n      <th>eng2</th>\n      <th>eng3</th>\n      <th>eng4</th>\n      <th>eng6</th>\n    </tr>\n  </thead>\n  <tbody>\n    <tr>\n      <th>count</th>\n      <td>720.000000</td>\n      <td>720.000000</td>\n      <td>720.000000</td>\n      <td>720.000000</td>\n      <td>720.000000</td>\n      <td>720.000000</td>\n      <td>720.000000</td>\n      <td>720.000000</td>\n      <td>720.000000</td>\n      <td>720.000000</td>\n      <td>...</td>\n      <td>720.000000</td>\n      <td>720.000000</td>\n      <td>720.0000</td>\n      <td>720.000000</td>\n      <td>720.000000</td>\n      <td>720.000000</td>\n      <td>720.000000</td>\n      <td>720.000000</td>\n      <td>720.000000</td>\n      <td>720.000000</td>\n    </tr>\n    <tr>\n      <th>mean</th>\n      <td>13696.583333</td>\n      <td>172.708687</td>\n      <td>6.605556</td>\n      <td>0.011111</td>\n      <td>0.029167</td>\n      <td>0.204167</td>\n      <td>0.230556</td>\n      <td>0.368056</td>\n      <td>0.159722</td>\n      <td>0.233333</td>\n      <td>...</td>\n      <td>0.120833</td>\n      <td>0.880556</td>\n      <td>0.1125</td>\n      <td>0.006944</td>\n      <td>0.500000</td>\n      <td>0.126389</td>\n      <td>0.069444</td>\n      <td>0.212500</td>\n      <td>0.063889</td>\n      <td>0.263889</td>\n    </tr>\n    <tr>\n      <th>std</th>\n      <td>5786.612018</td>\n      <td>70.462335</td>\n      <td>3.675650</td>\n      <td>0.104895</td>\n      <td>0.168390</td>\n      <td>0.403372</td>\n      <td>0.421481</td>\n      <td>0.482612</td>\n      <td>0.366603</td>\n      <td>0.423247</td>\n      <td>...</td>\n      <td>0.326160</td>\n      <td>0.324536</td>\n      <td>0.3162</td>\n      <td>0.083101</td>\n      <td>0.500348</td>\n      <td>0.332518</td>\n      <td>0.254385</td>\n      <td>0.409361</td>\n      <td>0.244725</td>\n      <td>0.441046</td>\n    </tr>\n    <tr>\n      <th>min</th>\n      <td>1400.000000</td>\n      <td>0.006000</td>\n      <td>0.000000</td>\n      <td>0.000000</td>\n      <td>0.000000</td>\n      <td>0.000000</td>\n      <td>0.000000</td>\n      <td>0.000000</td>\n      <td>0.000000</td>\n      <td>0.000000</td>\n      <td>...</td>\n      <td>0.000000</td>\n      <td>0.000000</td>\n      <td>0.0000</td>\n      <td>0.000000</td>\n      <td>0.000000</td>\n      <td>0.000000</td>\n      <td>0.000000</td>\n      <td>0.000000</td>\n      <td>0.000000</td>\n      <td>0.000000</td>\n    </tr>\n    <tr>\n      <th>25%</th>\n      <td>9490.000000</td>\n      <td>132.953250</td>\n      <td>4.000000</td>\n      <td>0.000000</td>\n      <td>0.000000</td>\n      <td>0.000000</td>\n      <td>0.000000</td>\n      <td>0.000000</td>\n      <td>0.000000</td>\n      <td>0.000000</td>\n      <td>...</td>\n      <td>0.000000</td>\n      <td>1.000000</td>\n      <td>0.0000</td>\n      <td>0.000000</td>\n      <td>0.000000</td>\n      <td>0.000000</td>\n      <td>0.000000</td>\n      <td>0.000000</td>\n      <td>0.000000</td>\n      <td>0.000000</td>\n    </tr>\n    <tr>\n      <th>50%</th>\n      <td>13990.000000</td>\n      <td>171.677500</td>\n      <td>5.000000</td>\n      <td>0.000000</td>\n      <td>0.000000</td>\n      <td>0.000000</td>\n      <td>0.000000</td>\n      <td>0.000000</td>\n      <td>0.000000</td>\n      <td>0.000000</td>\n      <td>...</td>\n      <td>0.000000</td>\n      <td>1.000000</td>\n      <td>0.0000</td>\n      <td>0.000000</td>\n      <td>0.500000</td>\n      <td>0.000000</td>\n      <td>0.000000</td>\n      <td>0.000000</td>\n      <td>0.000000</td>\n      <td>0.000000</td>\n    </tr>\n    <tr>\n      <th>75%</th>\n      <td>16900.000000</td>\n      <td>210.001750</td>\n      <td>8.000000</td>\n      <td>0.000000</td>\n      <td>0.000000</td>\n      <td>0.000000</td>\n      <td>0.000000</td>\n      <td>1.000000</td>\n      <td>0.000000</td>\n      <td>0.000000</td>\n      <td>...</td>\n      <td>0.000000</td>\n      <td>1.000000</td>\n      <td>0.0000</td>\n      <td>0.000000</td>\n      <td>1.000000</td>\n      <td>0.000000</td>\n      <td>0.000000</td>\n      <td>0.000000</td>\n      <td>0.000000</td>\n      <td>1.000000</td>\n    </tr>\n    <tr>\n      <th>max</th>\n      <td>34900.000000</td>\n      <td>500.000000</td>\n      <td>18.000000</td>\n      <td>1.000000</td>\n      <td>1.000000</td>\n      <td>1.000000</td>\n      <td>1.000000</td>\n      <td>1.000000</td>\n      <td>1.000000</td>\n      <td>1.000000</td>\n      <td>...</td>\n      <td>1.000000</td>\n      <td>1.000000</td>\n      <td>1.0000</td>\n      <td>1.000000</td>\n      <td>1.000000</td>\n      <td>1.000000</td>\n      <td>1.000000</td>\n      <td>1.000000</td>\n      <td>1.000000</td>\n      <td>1.000000</td>\n    </tr>\n  </tbody>\n</table>\n<p>8 rows × 26 columns</p>\n</div>"
     },
     "execution_count": 4,
     "metadata": {},
     "output_type": "execute_result"
    }
   ],
   "source": [
    "ocr.describe()"
   ],
   "metadata": {
    "collapsed": false,
    "pycharm": {
     "name": "#%%\n"
    }
   }
  },
  {
   "cell_type": "markdown",
   "source": [
    "## 1 OLS Models"
   ],
   "metadata": {
    "collapsed": false,
    "pycharm": {
     "name": "#%% md\n"
    }
   }
  },
  {
   "cell_type": "markdown",
   "source": [
    "At this point, we write down formulas that specify all of our models. These are nested in a dictionary for easier manipulation\n",
    "I use the formula-based Statsmodels API syntax"
   ],
   "metadata": {
    "collapsed": false,
    "pycharm": {
     "name": "#%% md\n"
    }
   }
  },
  {
   "cell_type": "markdown",
   "source": [
    "### 1.1 Models Fitting"
   ],
   "metadata": {
    "collapsed": false,
    "pycharm": {
     "name": "#%% md\n"
    }
   }
  },
  {
   "cell_type": "code",
   "execution_count": 5,
   "outputs": [],
   "source": [
    "model_formulas = {\n",
    "    \"m1\": \"price ~ km\",\n",
    "    \"m2\": \"price ~ age\",\n",
    "    \"m3\": \"price ~ km + age\",\n",
    "    \"m4\": \"price ~ km + age + km10 + power_lowest + power_low + power_mid + power_high + \"\n",
    "          \"power_highest + ba + bb + ke + nr + po + tn + tt + petrol + petgas + man + eng1 + \"\n",
    "          \"eng2 + eng3 + eng4 + eng6\",\n",
    "    \"m5\": \"price ~ km + I(km**2) + age + I(age**2) + diesel + man + eng1 + eng2 + eng3 + eng4 + eng6\"\n",
    "}"
   ],
   "metadata": {
    "collapsed": false,
    "pycharm": {
     "name": "#%%\n"
    }
   }
  },
  {
   "cell_type": "markdown",
   "source": [
    "The following function iterates over all models and returns the fitted objects"
   ],
   "metadata": {
    "collapsed": false,
    "pycharm": {
     "name": "#%% md\n"
    }
   }
  },
  {
   "cell_type": "code",
   "execution_count": 6,
   "outputs": [],
   "source": [
    "def fit_ols_models(models_specs: dict, data: pd.DataFrame) -> dict:\n",
    "    \"\"\"\n",
    "    Purpose: For the specified formulas, fit the OLS model and return all its attributes\n",
    "    \"\"\"\n",
    "\n",
    "    models_fitted = {}\n",
    "    for model, formula in models_specs.items():\n",
    "        models_fitted[model] = smf.ols(formula=formula, data=data).fit()\n",
    "\n",
    "    return models_fitted"
   ],
   "metadata": {
    "collapsed": false,
    "pycharm": {
     "name": "#%%\n"
    }
   }
  },
  {
   "cell_type": "code",
   "execution_count": 7,
   "outputs": [],
   "source": [
    "models_res = fit_ols_models(model_formulas, ocr)  # object containing all fitted models"
   ],
   "metadata": {
    "collapsed": false,
    "pycharm": {
     "name": "#%%\n"
    }
   }
  },
  {
   "cell_type": "markdown",
   "source": [
    "The following function iterates over all of our fitted models and prints summary tables with all respective summary tables"
   ],
   "metadata": {
    "collapsed": false,
    "pycharm": {
     "name": "#%% md\n"
    }
   }
  },
  {
   "cell_type": "code",
   "execution_count": 8,
   "outputs": [],
   "source": [
    "def print_models_summary(models_res_list: dict) -> None:\n",
    "    \"\"\"\n",
    "    Purpose: Print summary tables for each model from the dictionary of fitted models\n",
    "    \"\"\"\n",
    "\n",
    "    for mod, res in models_res_list.items():\n",
    "        print(f\"{mod}:\\n\\n \"\n",
    "              f\"Coefficients: \\n\"\n",
    "              f\"{res.summary()} \\n\\n\")"
   ],
   "metadata": {
    "collapsed": false,
    "pycharm": {
     "name": "#%%\n"
    }
   }
  },
  {
   "cell_type": "code",
   "execution_count": 9,
   "outputs": [
    {
     "name": "stdout",
     "output_type": "stream",
     "text": [
      "m1:\n",
      "\n",
      " Coefficients: \n",
      "                            OLS Regression Results                            \n",
      "==============================================================================\n",
      "Dep. Variable:                  price   R-squared:                       0.550\n",
      "Model:                            OLS   Adj. R-squared:                  0.549\n",
      "Method:                 Least Squares   F-statistic:                     877.3\n",
      "Date:                Fri, 21 Oct 2022   Prob (F-statistic):          1.34e-126\n",
      "Time:                        12:48:09   Log-Likelihood:                -6971.3\n",
      "No. Observations:                 720   AIC:                         1.395e+04\n",
      "Df Residuals:                     718   BIC:                         1.396e+04\n",
      "Df Model:                           1                                         \n",
      "Covariance Type:            nonrobust                                         \n",
      "==============================================================================\n",
      "                 coef    std err          t      P>|t|      [0.025      0.975]\n",
      "------------------------------------------------------------------------------\n",
      "Intercept   2.421e+04    383.482     63.144      0.000    2.35e+04     2.5e+04\n",
      "km           -60.9010      2.056    -29.620      0.000     -64.938     -56.864\n",
      "==============================================================================\n",
      "Omnibus:                       47.769   Durbin-Watson:                   2.065\n",
      "Prob(Omnibus):                  0.000   Jarque-Bera (JB):              127.261\n",
      "Skew:                          -0.318   Prob(JB):                     2.32e-28\n",
      "Kurtosis:                       4.959   Cond. No.                         494.\n",
      "==============================================================================\n",
      "\n",
      "Notes:\n",
      "[1] Standard Errors assume that the covariance matrix of the errors is correctly specified. \n",
      "\n",
      "\n",
      "m2:\n",
      "\n",
      " Coefficients: \n",
      "                            OLS Regression Results                            \n",
      "==============================================================================\n",
      "Dep. Variable:                  price   R-squared:                       0.679\n",
      "Model:                            OLS   Adj. R-squared:                  0.678\n",
      "Method:                 Least Squares   F-statistic:                     1518.\n",
      "Date:                Fri, 21 Oct 2022   Prob (F-statistic):          2.90e-179\n",
      "Time:                        12:48:09   Log-Likelihood:                -6849.8\n",
      "No. Observations:                 720   AIC:                         1.370e+04\n",
      "Df Residuals:                     718   BIC:                         1.371e+04\n",
      "Df Model:                           1                                         \n",
      "Covariance Type:            nonrobust                                         \n",
      "==============================================================================\n",
      "                 coef    std err          t      P>|t|      [0.025      0.975]\n",
      "------------------------------------------------------------------------------\n",
      "Intercept   2.226e+04    251.646     88.476      0.000    2.18e+04    2.28e+04\n",
      "age        -1297.1176     33.295    -38.958      0.000   -1362.485   -1231.751\n",
      "==============================================================================\n",
      "Omnibus:                      112.838   Durbin-Watson:                   1.904\n",
      "Prob(Omnibus):                  0.000   Jarque-Bera (JB):              184.520\n",
      "Skew:                           0.995   Prob(JB):                     8.55e-41\n",
      "Kurtosis:                       4.479   Cond. No.                         15.8\n",
      "==============================================================================\n",
      "\n",
      "Notes:\n",
      "[1] Standard Errors assume that the covariance matrix of the errors is correctly specified. \n",
      "\n",
      "\n",
      "m3:\n",
      "\n",
      " Coefficients: \n",
      "                            OLS Regression Results                            \n",
      "==============================================================================\n",
      "Dep. Variable:                  price   R-squared:                       0.766\n",
      "Model:                            OLS   Adj. R-squared:                  0.765\n",
      "Method:                 Least Squares   F-statistic:                     1172.\n",
      "Date:                Fri, 21 Oct 2022   Prob (F-statistic):          1.16e-226\n",
      "Time:                        12:48:09   Log-Likelihood:                -6736.3\n",
      "No. Observations:                 720   AIC:                         1.348e+04\n",
      "Df Residuals:                     717   BIC:                         1.349e+04\n",
      "Df Model:                           2                                         \n",
      "Covariance Type:            nonrobust                                         \n",
      "==============================================================================\n",
      "                 coef    std err          t      P>|t|      [0.025      0.975]\n",
      "------------------------------------------------------------------------------\n",
      "Intercept   2.517e+04    279.374     90.098      0.000    2.46e+04    2.57e+04\n",
      "km           -30.8204      1.891    -16.302      0.000     -34.532     -27.109\n",
      "age         -931.2772     36.242    -25.696      0.000   -1002.431    -860.123\n",
      "==============================================================================\n",
      "Omnibus:                       81.469   Durbin-Watson:                   1.999\n",
      "Prob(Omnibus):                  0.000   Jarque-Bera (JB):              115.100\n",
      "Skew:                           0.822   Prob(JB):                     1.01e-25\n",
      "Kurtosis:                       4.066   Cond. No.                         499.\n",
      "==============================================================================\n",
      "\n",
      "Notes:\n",
      "[1] Standard Errors assume that the covariance matrix of the errors is correctly specified. \n",
      "\n",
      "\n",
      "m4:\n",
      "\n",
      " Coefficients: \n",
      "                            OLS Regression Results                            \n",
      "==============================================================================\n",
      "Dep. Variable:                  price   R-squared:                       0.868\n",
      "Model:                            OLS   Adj. R-squared:                  0.863\n",
      "Method:                 Least Squares   F-statistic:                     198.3\n",
      "Date:                Fri, 21 Oct 2022   Prob (F-statistic):          2.76e-287\n",
      "Time:                        12:48:09   Log-Likelihood:                -6530.8\n",
      "No. Observations:                 720   AIC:                         1.311e+04\n",
      "Df Residuals:                     696   BIC:                         1.322e+04\n",
      "Df Model:                          23                                         \n",
      "Covariance Type:            nonrobust                                         \n",
      "=================================================================================\n",
      "                    coef    std err          t      P>|t|      [0.025      0.975]\n",
      "---------------------------------------------------------------------------------\n",
      "Intercept      2.321e+04   1067.621     21.735      0.000    2.11e+04    2.53e+04\n",
      "km              -26.9197      1.610    -16.722      0.000     -30.081     -23.759\n",
      "age            -928.1298     37.628    -24.666      0.000   -1002.008    -854.252\n",
      "km10           2844.1681    818.052      3.477      0.001    1238.022    4450.314\n",
      "power_lowest    546.4812   1044.992      0.523      0.601   -1505.232    2598.195\n",
      "power_low     -1488.9601   1250.486     -1.191      0.234   -3944.136     966.216\n",
      "power_mid      -178.5473   1136.892     -0.157      0.875   -2410.696    2053.602\n",
      "power_high     3380.6019    994.816      3.398      0.001    1427.403    5333.801\n",
      "power_highest  4662.8741    978.966      4.763      0.000    2740.793    6584.955\n",
      "ba               51.9532    288.821      0.180      0.857    -515.112     619.019\n",
      "bb             -742.7092    335.222     -2.216      0.027   -1400.876     -84.542\n",
      "ke             -256.1556    310.798     -0.824      0.410    -866.370     354.059\n",
      "nr             -540.6131    315.052     -1.716      0.087   -1159.180      77.954\n",
      "po               29.3619    369.178      0.080      0.937    -695.474     754.198\n",
      "tn             -325.4742    388.220     -0.838      0.402   -1087.697     436.749\n",
      "tt             -447.9408    374.701     -1.195      0.232   -1183.620     287.738\n",
      "petrol          -92.1523    451.937     -0.204      0.838    -979.475     795.171\n",
      "petgas          749.8074   1180.152      0.635      0.525   -1567.278    3066.893\n",
      "man            -864.9576    181.268     -4.772      0.000   -1220.855    -509.060\n",
      "eng1           2578.3867   1017.572      2.534      0.011     580.507    4576.266\n",
      "eng2           1046.9784   1032.673      1.014      0.311    -980.550    3074.506\n",
      "eng3            494.5600    824.086      0.600      0.549   -1123.433    2112.553\n",
      "eng4           -874.0048    735.010     -1.189      0.235   -2317.107     569.097\n",
      "eng6           -694.7653    623.268     -1.115      0.265   -1918.476     528.945\n",
      "==============================================================================\n",
      "Omnibus:                      129.812   Durbin-Watson:                   1.995\n",
      "Prob(Omnibus):                  0.000   Jarque-Bera (JB):              437.572\n",
      "Skew:                           0.838   Prob(JB):                     9.60e-96\n",
      "Kurtosis:                       6.432   Cond. No.                     5.41e+03\n",
      "==============================================================================\n",
      "\n",
      "Notes:\n",
      "[1] Standard Errors assume that the covariance matrix of the errors is correctly specified.\n",
      "[2] The condition number is large, 5.41e+03. This might indicate that there are\n",
      "strong multicollinearity or other numerical problems. \n",
      "\n",
      "\n",
      "m5:\n",
      "\n",
      " Coefficients: \n",
      "                            OLS Regression Results                            \n",
      "==============================================================================\n",
      "Dep. Variable:                  price   R-squared:                       0.873\n",
      "Model:                            OLS   Adj. R-squared:                  0.871\n",
      "Method:                 Least Squares   F-statistic:                     441.4\n",
      "Date:                Fri, 21 Oct 2022   Prob (F-statistic):          3.77e-308\n",
      "Time:                        12:48:09   Log-Likelihood:                -6516.6\n",
      "No. Observations:                 720   AIC:                         1.306e+04\n",
      "Df Residuals:                     708   BIC:                         1.311e+04\n",
      "Df Model:                          11                                         \n",
      "Covariance Type:            nonrobust                                         \n",
      "===============================================================================\n",
      "                  coef    std err          t      P>|t|      [0.025      0.975]\n",
      "-------------------------------------------------------------------------------\n",
      "Intercept    3.028e+04    435.295     69.552      0.000    2.94e+04    3.11e+04\n",
      "km            -57.4078      4.371    -13.132      0.000     -65.990     -48.825\n",
      "I(km ** 2)      0.0873      0.011      7.979      0.000       0.066       0.109\n",
      "age         -1734.4138    117.153    -14.805      0.000   -1964.424   -1504.404\n",
      "I(age ** 2)    40.4405      5.908      6.845      0.000      28.841      52.041\n",
      "diesel       2404.5230    321.491      7.479      0.000    1773.333    3035.713\n",
      "man         -1190.1660    172.231     -6.910      0.000   -1528.312    -852.021\n",
      "eng1        -2676.4453    331.327     -8.078      0.000   -3326.947   -2025.944\n",
      "eng2        -4105.1541    369.020    -11.124      0.000   -4829.658   -3380.650\n",
      "eng3        -4306.2292    286.499    -15.031      0.000   -4868.718   -3743.741\n",
      "eng4        -1334.4626    404.314     -3.301      0.001   -2128.260    -540.665\n",
      "eng6        -1713.0222    260.754     -6.569      0.000   -2224.966   -1201.079\n",
      "==============================================================================\n",
      "Omnibus:                       47.806   Durbin-Watson:                   1.926\n",
      "Prob(Omnibus):                  0.000   Jarque-Bera (JB):              173.045\n",
      "Skew:                           0.170   Prob(JB):                     2.65e-38\n",
      "Kurtosis:                       5.377   Cond. No.                     3.29e+05\n",
      "==============================================================================\n",
      "\n",
      "Notes:\n",
      "[1] Standard Errors assume that the covariance matrix of the errors is correctly specified.\n",
      "[2] The condition number is large, 3.29e+05. This might indicate that there are\n",
      "strong multicollinearity or other numerical problems. \n",
      "\n",
      "\n"
     ]
    }
   ],
   "source": [
    "print_models_summary(models_res)"
   ],
   "metadata": {
    "collapsed": false,
    "pycharm": {
     "name": "#%%\n"
    }
   }
  },
  {
   "cell_type": "markdown",
   "source": [
    "### 1.2 Models Evaluation"
   ],
   "metadata": {
    "collapsed": false,
    "pycharm": {
     "name": "#%% md\n"
    }
   }
  },
  {
   "cell_type": "markdown",
   "source": [
    "Now that we've fitted the model, it's time to evaluate our results. First we generate predicitons based on our models."
   ],
   "metadata": {
    "collapsed": false,
    "pycharm": {
     "name": "#%% md\n"
    }
   }
  },
  {
   "cell_type": "code",
   "execution_count": 10,
   "outputs": [],
   "source": [
    "def generate_predictions(models_fitted: dict, data_test: pd.DataFrame) -> dict:\n",
    "    \"\"\"\n",
    "    Purpose: For all fitted models, generate predictions for the test set and store them in a dictionary\n",
    "    \"\"\"\n",
    "    pred_vals = {}\n",
    "    for model, specs in models_fitted.items():\n",
    "        pred_vals[model] = specs.predict(data_test)\n",
    "\n",
    "    return pred_vals"
   ],
   "metadata": {
    "collapsed": false,
    "pycharm": {
     "name": "#%%\n"
    }
   }
  },
  {
   "cell_type": "code",
   "execution_count": 11,
   "outputs": [],
   "source": [
    "oct_pred = generate_predictions(models_res, oct)"
   ],
   "metadata": {
    "collapsed": false,
    "pycharm": {
     "name": "#%%\n"
    }
   }
  },
  {
   "cell_type": "markdown",
   "source": [
    "We can plot the actual values in our test set against the predictions. This has the same effect as the residual analysis.\n",
    "We can therefore check if the predicitons substantially differ for different values of our target variable"
   ],
   "metadata": {
    "collapsed": false,
    "pycharm": {
     "name": "#%% md\n"
    }
   }
  },
  {
   "cell_type": "code",
   "execution_count": 12,
   "outputs": [],
   "source": [
    "from sklearn.metrics import mean_squared_error as mse\n",
    "def compare_models_metrics(preds_dict, data_observed, metric, print_res=False):\n",
    "\n",
    "    metric_dict = {}\n",
    "\n",
    "    for mod, fit in preds_dict.items():\n",
    "        metric_dict[mod] = metric(preds_dict[mod], data_observed)\n",
    "        # metric_dict[mod] = mse(data_observed, preds_dict[mod])\n",
    "\n",
    "    if print_res:\n",
    "        for key, val in sorted(metric_dict.items(), key = lambda x: x[1], reverse=False) :\n",
    "            print(f\"Model {key} had the metric score of of: {val}\\n\")\n",
    "\n",
    "    return metric_dict"
   ],
   "metadata": {
    "collapsed": false,
    "pycharm": {
     "name": "#%%\n"
    }
   }
  },
  {
   "cell_type": "code",
   "execution_count": 13,
   "outputs": [
    {
     "name": "stdout",
     "output_type": "stream",
     "text": [
      "Model m5 had the metric score of of: 3376994.6205653464\n",
      "\n",
      "Model m4 had the metric score of of: 4643638.637697083\n",
      "\n",
      "Model m3 had the metric score of of: 7082020.164427458\n",
      "\n",
      "Model m2 had the metric score of of: 11002840.766314\n",
      "\n",
      "Model m1 had the metric score of of: 13486177.111468993\n",
      "\n"
     ]
    }
   ],
   "source": [
    "mse_dta = compare_models_metrics(oct_pred, oct[['price']], mse, True)"
   ],
   "metadata": {
    "collapsed": false,
    "pycharm": {
     "name": "#%%\n"
    }
   }
  },
  {
   "cell_type": "code",
   "execution_count": 14,
   "outputs": [],
   "source": [
    "def get_grid_shape(data):\n",
    "    \"\"\"\n",
    "    Purpose: Helper function to create a tupe which would determine the subplots shape\n",
    "    \"\"\"\n",
    "    grid_size = (math.ceil(np.sqrt(len(data))), math.floor(np.sqrt(len(data))))\n",
    "\n",
    "    return grid_size"
   ],
   "metadata": {
    "collapsed": false,
    "pycharm": {
     "name": "#%%\n"
    }
   }
  },
  {
   "cell_type": "code",
   "execution_count": 15,
   "outputs": [],
   "source": [
    "def actual_vs_fit_plot(fitted, actuals, mse):\n",
    "    \"\"\"\n",
    "    Purpose: Generate scatter plots to plot the actual values against the fitted ones\n",
    "    \"\"\"\n",
    "    shape = get_grid_shape(fitted)\n",
    "\n",
    "    fig, axs = plt.subplots(shape[0], shape[1], figsize=tuple([5*x for x in shape]))\n",
    "    fig.suptitle(\"Actual vs. Fitted values Regression Plot\")\n",
    "    i = 0\n",
    "    j = 0\n",
    "    for model, vals in fitted.items():\n",
    "        sns.regplot(ax=axs[i, j % 2], x=vals, y=actuals, line_kws={'color': 'red'})\n",
    "        axs[i, j % 2].set_title(f\"{model}: MSE of {round(mse[model])}\")\n",
    "        i = i + j\n",
    "        j = (j + 1) % 2"
   ],
   "metadata": {
    "collapsed": false,
    "pycharm": {
     "name": "#%%\n"
    }
   }
  },
  {
   "cell_type": "code",
   "execution_count": 16,
   "outputs": [
    {
     "data": {
      "text/plain": "<Figure size 1080x720 with 6 Axes>",
      "image/png": "[encoded data removed]"
     },
     "metadata": {},
     "output_type": "display_data"
    }
   ],
   "source": [
    "actual_vs_fit_plot(oct_pred, oct[['price']], mse_dta)"
   ],
   "metadata": {
    "collapsed": false,
    "pycharm": {
     "name": "#%%\n"
    }
   }
  },
  {
   "cell_type": "markdown",
   "source": [],
   "metadata": {
    "collapsed": false,
    "pycharm": {
     "name": "#%% md\n"
    }
   }
  },
  {
   "cell_type": "markdown",
   "source": [
    "## 2 Bootstraping"
   ],
   "metadata": {
    "collapsed": false,
    "pycharm": {
     "name": "#%% md\n"
    }
   }
  },
  {
   "cell_type": "markdown",
   "source": [
    "At first, I initialize the functionction which is meant to extract the coefficients of our regression"
   ],
   "metadata": {
    "collapsed": false,
    "pycharm": {
     "name": "#%% md\n"
    }
   }
  },
  {
   "cell_type": "code",
   "execution_count": 17,
   "outputs": [],
   "source": [
    "def est_model(data, formula):\n",
    "    # bootstrap() makes an array, not a DataFrame\n",
    "    estimate = smf.ols(formula, data).fit()\n",
    "    coefs = estimate.params\n",
    "\n",
    "    return coefs"
   ],
   "metadata": {
    "collapsed": false,
    "pycharm": {
     "name": "#%%\n"
    }
   }
  },
  {
   "cell_type": "code",
   "execution_count": 18,
   "outputs": [],
   "source": [
    "def get_bootstrap_coefs(data, n_rep, formula):\n",
    "    res = []\n",
    "\n",
    "    for i in range(n_rep):\n",
    "        smpl = data.sample(frac=1, replace=True)\n",
    "        model = smf.ols(formula, smpl).fit()\n",
    "        coefs = model.params\n",
    "\n",
    "        res.append(coefs)\n",
    "\n",
    "    return pd.DataFrame(res, columns=coefs.index)\n"
   ],
   "metadata": {
    "collapsed": false,
    "pycharm": {
     "name": "#%%\n"
    }
   }
  },
  {
   "cell_type": "code",
   "execution_count": 19,
   "outputs": [],
   "source": [
    "bs_c = get_bootstrap_coefs(ocr, 1000, model_formulas['m4'])\n"
   ],
   "metadata": {
    "collapsed": false,
    "pycharm": {
     "name": "#%%\n"
    }
   }
  },
  {
   "cell_type": "code",
   "execution_count": 20,
   "outputs": [],
   "source": [
    "def get_stats(data, q_list=[0.015, 0.5, 0.985]):\n",
    "\n",
    "    stats_dict = {\n",
    "        'mean': data.mean(),\n",
    "        'std': data.std(),\n",
    "        'se': data.std()/np.sqrt(data.shape[0]),\n",
    "        'quantiles': data.quantile(q_list).set_index(pd.Index([q for q in q_list])).transpose(),\n",
    "        'p_val': data.apply(lambda x: stats.ttest_1samp(x, 0)[1]),\n",
    "        't_stat': data.apply(lambda x: stats.ttest_1samp(x, 0)[1])\n",
    "    }\n",
    "\n",
    "    return stats_dict\n",
    "\n",
    "\n"
   ],
   "metadata": {
    "collapsed": false,
    "pycharm": {
     "name": "#%%\n"
    }
   }
  },
  {
   "cell_type": "code",
   "execution_count": 21,
   "outputs": [
    {
     "data": {
      "text/plain": "                      0.015         0.500         0.985\nIntercept      21170.631959  23272.101091  25215.165335\nkm               -31.921711    -27.371790    -22.744218\nage            -1035.456637   -924.464965   -814.631693\nkm10           -2980.019274   2900.636127   8215.901550\npower_lowest   -1069.528557    498.634667   2416.549219\npower_low      -3111.190213  -1602.566723    763.610908\npower_mid      -1458.851110   -160.796205   1130.428443\npower_high      1681.149123   3315.502934   4998.345515\npower_highest   3159.621663   4680.547848   6347.877256\nba              -692.133968     54.085022    716.092977\nbb             -1390.415513   -713.307215     26.645791\nke              -895.146122   -260.521119    340.817374\nnr             -1277.993936   -553.887245     56.101583\npo              -686.952986     30.357190    755.806573\ntn             -1216.835345   -335.632137    460.861613\ntt             -1256.852542   -468.236359    254.633645\npetrol         -1244.302279    -62.658415   1086.445844\npetgas         -2433.194028    731.943144   3980.189309\nman            -1214.106902   -859.325522   -473.854968\neng1             375.001116   2708.978098   4522.676597\neng2           -1285.626809   1211.242996   2971.107561\neng3            -810.690132    507.841377   1933.618304\neng4           -2751.626319   -809.523300   1155.821936\neng6           -2539.071896   -629.461975   1376.554931",
      "text/html": "<div>\n<style scoped>\n    .dataframe tbody tr th:only-of-type {\n        vertical-align: middle;\n    }\n\n    .dataframe tbody tr th {\n        vertical-align: top;\n    }\n\n    .dataframe thead th {\n        text-align: right;\n    }\n</style>\n<table border=\"1\" class=\"dataframe\">\n  <thead>\n    <tr style=\"text-align: right;\">\n      <th></th>\n      <th>0.015</th>\n      <th>0.500</th>\n      <th>0.985</th>\n    </tr>\n  </thead>\n  <tbody>\n    <tr>\n      <th>Intercept</th>\n      <td>21170.631959</td>\n      <td>23272.101091</td>\n      <td>25215.165335</td>\n    </tr>\n    <tr>\n      <th>km</th>\n      <td>-31.921711</td>\n      <td>-27.371790</td>\n      <td>-22.744218</td>\n    </tr>\n    <tr>\n      <th>age</th>\n      <td>-1035.456637</td>\n      <td>-924.464965</td>\n      <td>-814.631693</td>\n    </tr>\n    <tr>\n      <th>km10</th>\n      <td>-2980.019274</td>\n      <td>2900.636127</td>\n      <td>8215.901550</td>\n    </tr>\n    <tr>\n      <th>power_lowest</th>\n      <td>-1069.528557</td>\n      <td>498.634667</td>\n      <td>2416.549219</td>\n    </tr>\n    <tr>\n      <th>power_low</th>\n      <td>-3111.190213</td>\n      <td>-1602.566723</td>\n      <td>763.610908</td>\n    </tr>\n    <tr>\n      <th>power_mid</th>\n      <td>-1458.851110</td>\n      <td>-160.796205</td>\n      <td>1130.428443</td>\n    </tr>\n    <tr>\n      <th>power_high</th>\n      <td>1681.149123</td>\n      <td>3315.502934</td>\n      <td>4998.345515</td>\n    </tr>\n    <tr>\n      <th>power_highest</th>\n      <td>3159.621663</td>\n      <td>4680.547848</td>\n      <td>6347.877256</td>\n    </tr>\n    <tr>\n      <th>ba</th>\n      <td>-692.133968</td>\n      <td>54.085022</td>\n      <td>716.092977</td>\n    </tr>\n    <tr>\n      <th>bb</th>\n      <td>-1390.415513</td>\n      <td>-713.307215</td>\n      <td>26.645791</td>\n    </tr>\n    <tr>\n      <th>ke</th>\n      <td>-895.146122</td>\n      <td>-260.521119</td>\n      <td>340.817374</td>\n    </tr>\n    <tr>\n      <th>nr</th>\n      <td>-1277.993936</td>\n      <td>-553.887245</td>\n      <td>56.101583</td>\n    </tr>\n    <tr>\n      <th>po</th>\n      <td>-686.952986</td>\n      <td>30.357190</td>\n      <td>755.806573</td>\n    </tr>\n    <tr>\n      <th>tn</th>\n      <td>-1216.835345</td>\n      <td>-335.632137</td>\n      <td>460.861613</td>\n    </tr>\n    <tr>\n      <th>tt</th>\n      <td>-1256.852542</td>\n      <td>-468.236359</td>\n      <td>254.633645</td>\n    </tr>\n    <tr>\n      <th>petrol</th>\n      <td>-1244.302279</td>\n      <td>-62.658415</td>\n      <td>1086.445844</td>\n    </tr>\n    <tr>\n      <th>petgas</th>\n      <td>-2433.194028</td>\n      <td>731.943144</td>\n      <td>3980.189309</td>\n    </tr>\n    <tr>\n      <th>man</th>\n      <td>-1214.106902</td>\n      <td>-859.325522</td>\n      <td>-473.854968</td>\n    </tr>\n    <tr>\n      <th>eng1</th>\n      <td>375.001116</td>\n      <td>2708.978098</td>\n      <td>4522.676597</td>\n    </tr>\n    <tr>\n      <th>eng2</th>\n      <td>-1285.626809</td>\n      <td>1211.242996</td>\n      <td>2971.107561</td>\n    </tr>\n    <tr>\n      <th>eng3</th>\n      <td>-810.690132</td>\n      <td>507.841377</td>\n      <td>1933.618304</td>\n    </tr>\n    <tr>\n      <th>eng4</th>\n      <td>-2751.626319</td>\n      <td>-809.523300</td>\n      <td>1155.821936</td>\n    </tr>\n    <tr>\n      <th>eng6</th>\n      <td>-2539.071896</td>\n      <td>-629.461975</td>\n      <td>1376.554931</td>\n    </tr>\n  </tbody>\n</table>\n</div>"
     },
     "execution_count": 21,
     "metadata": {},
     "output_type": "execute_result"
    }
   ],
   "source": [
    "get_stats(bs_c)['quantiles']"
   ],
   "metadata": {
    "collapsed": false,
    "pycharm": {
     "name": "#%%\n"
    }
   }
  },
  {
   "cell_type": "code",
   "execution_count": 22,
   "outputs": [
    {
     "data": {
      "text/plain": "Intercept        29.349980\nkm                0.066470\nage               1.674298\nkm10             78.207083\npower_lowest     26.064369\npower_low        27.002621\npower_mid        19.460490\npower_high       24.434046\npower_highest    22.623172\nba               10.392849\nbb               10.459664\nke                8.775139\nnr                9.592762\npo               10.471379\ntn               12.259149\ntt               10.700342\npetrol           17.906786\npetgas           44.957740\nman               5.405467\neng1             31.091575\neng2             30.879746\neng3             20.962084\neng4             29.159960\neng6             28.394120\ndtype: float64"
     },
     "execution_count": 22,
     "metadata": {},
     "output_type": "execute_result"
    }
   ],
   "source": [
    "get_stats(bs_c)['se']"
   ],
   "metadata": {
    "collapsed": false,
    "pycharm": {
     "name": "#%%\n"
    }
   }
  },
  {
   "cell_type": "code",
   "execution_count": 23,
   "outputs": [
    {
     "data": {
      "text/plain": "Intercept        791.469474\nkm              -410.885225\nage             -552.313754\nkm10              36.460941\npower_lowest      19.585037\npower_low        -57.085510\npower_mid         -8.513149\npower_high       136.763487\npower_highest    207.482610\nba                 4.324523\nbb               -67.890597\nke               -29.880059\nnr               -59.742511\npo                 3.467670\ntn               -28.373413\ntt               -44.173006\npetrol            -4.287116\npetgas            16.683705\nman             -157.912858\neng1              85.483275\neng2              36.993963\neng3              23.981916\neng4             -27.716334\neng6             -22.449740\ndtype: float64"
     },
     "execution_count": 23,
     "metadata": {},
     "output_type": "execute_result"
    }
   ],
   "source": [
    "get_stats(bs_c)['mean']/get_stats(bs_c)['se']"
   ],
   "metadata": {
    "collapsed": false,
    "pycharm": {
     "name": "#%%\n"
    }
   }
  },
  {
   "cell_type": "markdown",
   "source": [
    "### 2.2 Backward Elimination"
   ],
   "metadata": {
    "collapsed": false,
    "pycharm": {
     "name": "#%% md\n"
    }
   }
  },
  {
   "cell_type": "markdown",
   "source": [
    "In this section, I create functions that are analogous to the functions created in R by prof. Lyocsa."
   ],
   "metadata": {
    "collapsed": false,
    "pycharm": {
     "name": "#%% md\n"
    }
   }
  },
  {
   "cell_type": "code",
   "execution_count": 24,
   "outputs": [],
   "source": [
    "import re"
   ],
   "metadata": {
    "collapsed": false,
    "pycharm": {
     "name": "#%%\n"
    }
   }
  },
  {
   "cell_type": "code",
   "execution_count": 25,
   "outputs": [],
   "source": [
    "def extract_variables(formula):\n",
    "    \"\"\"\n",
    "    Purpose: Extract all relevant features from the relevant formula\n",
    "    \"\"\"\n",
    "    vars = re.findall(r'[^\\s,+, ~]*', formula)\n",
    "    vars = [var for var in vars if var != \"\"]\n",
    "\n",
    "    return vars"
   ],
   "metadata": {
    "collapsed": false,
    "pycharm": {
     "name": "#%%\n"
    }
   }
  },
  {
   "cell_type": "code",
   "execution_count": 26,
   "outputs": [],
   "source": [
    "def extract_features(formula_models_dict = model_formulas):\n",
    "    features_dict = {}\n",
    "\n",
    "    for model, formula in formula_models_dict.items():\n",
    "        features_dict[model] = extract_variables(formula)\n",
    "        features_dict[model] = features_dict[model][1:]\n",
    "\n",
    "    return features_dict\n"
   ],
   "metadata": {
    "collapsed": false,
    "pycharm": {
     "name": "#%%\n"
    }
   }
  },
  {
   "cell_type": "markdown",
   "source": [
    "### 2.2 MCS"
   ],
   "metadata": {
    "collapsed": false,
    "pycharm": {
     "name": "#%% md\n"
    }
   }
  },
  {
   "cell_type": "markdown",
   "source": [
    "In this part, I examine our models using the Model Confidence Set. The class I use is taken from the [M. Gong's implementation](https://michael-gong.com/blogs/model-confidence-set/) of the algorithm."
   ],
   "metadata": {
    "collapsed": false,
    "pycharm": {
     "name": "#%% md\n"
    }
   }
  },
  {
   "cell_type": "code",
   "execution_count": 27,
   "outputs": [],
   "source": [
    "from AI.util.MCS import ModelConfidenceSet as MCS"
   ],
   "metadata": {
    "collapsed": false,
    "pycharm": {
     "name": "#%%\n"
    }
   }
  },
  {
   "cell_type": "code",
   "execution_count": 28,
   "outputs": [],
   "source": [
    "mcs_oct = MCS((pd.DataFrame(oct_pred)\n",
    "              .apply(lambda x: np.abs(x - oct['price']))), 0.01, 3, 1000).run()"
   ],
   "metadata": {
    "collapsed": false,
    "pycharm": {
     "name": "#%%\n"
    }
   }
  },
  {
   "cell_type": "code",
   "execution_count": 29,
   "outputs": [
    {
     "data": {
      "text/plain": "m1    0.0\nm2    0.0\nm3    0.0\nm4    0.0\nm5    1.0\ndtype: float64"
     },
     "execution_count": 29,
     "metadata": {},
     "output_type": "execute_result"
    }
   ],
   "source": [
    "mcs_oct.pvalues"
   ],
   "metadata": {
    "collapsed": false,
    "pycharm": {
     "name": "#%%\n"
    }
   }
  },
  {
   "cell_type": "markdown",
   "source": [],
   "metadata": {
    "collapsed": false,
    "pycharm": {
     "name": "#%% md\n"
    }
   }
  },
  {
   "cell_type": "markdown",
   "source": [
    "### 2.3 Regularized Regression"
   ],
   "metadata": {
    "collapsed": false,
    "pycharm": {
     "name": "#%% md\n"
    }
   }
  },
  {
   "cell_type": "markdown",
   "source": [
    "In this section, we will use the sklearn methods instead of statsmodels as they're implemented in their Cross-Validation form"
   ],
   "metadata": {
    "collapsed": false,
    "pycharm": {
     "name": "#%% md\n"
    }
   }
  },
  {
   "cell_type": "code",
   "execution_count": 30,
   "outputs": [],
   "source": [
    "from sklearn import linear_model as sklm"
   ],
   "metadata": {
    "collapsed": false,
    "pycharm": {
     "name": "#%%\n"
    }
   }
  },
  {
   "cell_type": "code",
   "execution_count": 31,
   "outputs": [],
   "source": [
    "lasso_reg = sklm.LassoCV(cv=10).fit(y=ocr['price'], X=ocr.drop('price', axis=1))\n",
    "elastic_reg = sklm.ElasticNetCV(cv=10).fit(y=ocr['price'], X=ocr.drop('price', axis=1))\n",
    "ridge_reg = sklm.RidgeCV(cv=10).fit(y=ocr['price'], X=ocr.drop('price', axis=1))"
   ],
   "metadata": {
    "collapsed": false,
    "pycharm": {
     "name": "#%%\n"
    }
   }
  },
  {
   "cell_type": "code",
   "execution_count": 32,
   "outputs": [
    {
     "data": {
      "text/plain": "array([ -31.18477082, -891.31144411,    0.        ,   -0.        ,\n         -0.        ,   -0.        ,  345.43090801, 1288.42991566,\n          0.        ,   -0.        ,   -0.        ,   -0.        ,\n          0.        ,   -0.        ,   -0.        ,    0.        ,\n         -0.        ,    0.        ,   -0.        , -232.27773755,\n         -0.        ,   -0.        ,   -0.        ,    0.        ,\n          0.        ])"
     },
     "execution_count": 32,
     "metadata": {},
     "output_type": "execute_result"
    }
   ],
   "source": [
    "lasso_reg.coef_"
   ],
   "metadata": {
    "collapsed": false,
    "pycharm": {
     "name": "#%%\n"
    }
   }
  },
  {
   "cell_type": "code",
   "execution_count": 33,
   "outputs": [
    {
     "data": {
      "text/plain": "6012134.633177606"
     },
     "execution_count": 33,
     "metadata": {},
     "output_type": "execute_result"
    }
   ],
   "source": [
    "mse(lasso_reg.predict(oct.drop('price', axis=1)), oct[['price']])"
   ],
   "metadata": {
    "collapsed": false,
    "pycharm": {
     "name": "#%%\n"
    }
   }
  },
  {
   "cell_type": "code",
   "execution_count": 34,
   "outputs": [
    {
     "data": {
      "text/plain": "13451207.345317226"
     },
     "execution_count": 34,
     "metadata": {},
     "output_type": "execute_result"
    }
   ],
   "source": [
    "mse(elastic_reg.predict(oct.drop('price', axis=1)), oct[['price']])"
   ],
   "metadata": {
    "collapsed": false,
    "pycharm": {
     "name": "#%%\n"
    }
   }
  },
  {
   "cell_type": "code",
   "execution_count": 35,
   "outputs": [
    {
     "data": {
      "text/plain": "4643807.270641138"
     },
     "execution_count": 35,
     "metadata": {},
     "output_type": "execute_result"
    }
   ],
   "source": [
    "mse(ridge_reg.predict(oct.drop('price', axis=1)), oct[['price']])"
   ],
   "metadata": {
    "collapsed": false,
    "pycharm": {
     "name": "#%%\n"
    }
   }
  },
  {
   "cell_type": "code",
   "execution_count": 36,
   "outputs": [
    {
     "data": {
      "text/plain": "{'m1': 13486177.111468993,\n 'm2': 11002840.766314,\n 'm3': 7082020.164427458,\n 'm4': 4643638.637697083,\n 'm5': 3376994.6205653464}"
     },
     "execution_count": 36,
     "metadata": {},
     "output_type": "execute_result"
    }
   ],
   "source": [
    "mse_dta"
   ],
   "metadata": {
    "collapsed": false,
    "pycharm": {
     "name": "#%%\n"
    }
   }
  },
  {
   "cell_type": "code",
   "execution_count": 37,
   "outputs": [],
   "source": [
    "regularized_reg_pred = {\n",
    "    'lasso': lasso_reg.predict(oct.drop('price', axis=1)),\n",
    "    'ridge': elastic_reg.predict(oct.drop('price', axis=1)),\n",
    "    'elastic': elastic_reg.predict(oct.drop('price', axis=1))\n",
    "}"
   ],
   "metadata": {
    "collapsed": false,
    "pycharm": {
     "name": "#%%\n"
    }
   }
  },
  {
   "cell_type": "code",
   "execution_count": 38,
   "outputs": [
    {
     "data": {
      "text/plain": "array([15898.03565968, 18734.29328833,  5530.11754313, 11707.53795133,\n       11283.99031075,  7188.61118915, 14605.71924765, 23209.48844481,\n        2229.79527181, -2218.97847435,  1963.32028685, -1382.50936676,\n        2403.26727482,  2755.3511714 ,  1373.4614652 ,  3408.40313241,\n        2786.79514362,  3527.05734408,  3004.45232237,   639.3719602 ,\n        2893.93629291,  5948.24295023,  4070.28821762,  5129.92442221,\n        4211.66234825,  3531.75050096,  6657.86024421,  5332.88554307,\n        9620.41347172,  4735.17487491,  8098.54596171,  6028.74628496,\n        5202.53040274,  5539.23517155,  7026.00030497,  3048.38278741,\n        9053.14298116,  8212.00783329,  7863.41782552,  9292.97337815,\n        6008.0710088 ,  7885.2733141 ,  9200.35076755,  9404.51850505,\n        8707.64690529,  4142.24819501,  5441.27716683,  8937.44364015,\n        8561.08351821,  6946.99096556, 10456.01912897,  7801.04828389,\n        8280.25871211,  9317.59948554, 10030.90644404,  8264.81337352,\n       11248.04993815, 10140.08152836, 10305.32648231, 11626.42070736,\n       13146.83420849, 11057.45840511, 10322.86120055, 11791.31794137,\n       12182.08262911,  9859.24315774, 13989.65333398, 10528.46511748,\n       14233.87679087, 10561.9849802 , 11887.3097017 , 12469.47084456,\n       10407.52212287,  8931.15591643, 10793.04838843, 12031.93963298,\n       10797.08689201, 11503.69205691, 13278.10551633, 11451.71298887,\n       12715.19516324, 13591.06126876, 11350.52113052, 12085.22566309,\n       14357.63362961, 13825.12248316, 12560.20874145, 11509.61716337,\n       14315.06641745, 12353.05425383, 14825.40519185, 13885.70854795,\n       13233.30083474, 13804.29105625, 15499.93367376, 15937.0934664 ,\n       14675.71829193, 16193.1204348 , 16742.35256332, 13743.30441074,\n       12926.41422809, 14891.11059481, 17030.0320741 , 13380.30291224,\n       14336.44154997, 16068.08712409, 15645.98363084, 13786.71172255,\n       11177.39684746, 16360.94834258, 12474.11031218, 13848.78570393,\n       15212.45294696, 15980.17914432, 15579.57957842, 15402.17640512,\n       13488.33772455, 15294.60845523, 18237.80657244, 15599.41029435,\n       14492.86540334, 14877.5685702 , 16259.14363038, 15452.9666106 ,\n       17533.02291793, 17574.81051083, 17227.66353127, 16582.05682105,\n       16575.08821886, 17900.25198075, 15571.96580687, 14394.51919321,\n       19726.08025021, 16469.09118286, 17614.53711053, 16276.43446707,\n       15970.05297084, 16488.64403416, 17837.90474685, 17181.36582196,\n       16595.72177094, 16292.21116279, 16039.11556285, 16415.70880013,\n       15670.91697383, 16515.77478477, 17359.25857664, 19100.23308471,\n       11845.32394414, 18484.39623063, 16790.83886166, 16713.6421556 ,\n       16621.86537509, 16791.99269818, 19192.84017868, 18516.32943595,\n       18006.8950199 , 18714.44537579, 17073.04152812, 18830.21575419,\n       16893.07932687, 18219.1981413 , 17120.06816251, 19572.36960571,\n       17481.25801218, 18464.16808058, 19170.88007975, 20130.27389883,\n       19289.72251838, 18101.03582272, 20366.58334885, 22257.56254945,\n       21954.9572088 , 23127.92950292, 23505.6678335 , 22102.50312573,\n       23271.85798644, 23739.62954868, 24865.96704591, 24899.59779336])"
     },
     "execution_count": 38,
     "metadata": {},
     "output_type": "execute_result"
    }
   ],
   "source": [
    "regularized_reg_pred['lasso']"
   ],
   "metadata": {
    "collapsed": false,
    "pycharm": {
     "name": "#%%\n"
    }
   }
  },
  {
   "cell_type": "markdown",
   "source": [
    "### 4.3"
   ],
   "metadata": {
    "collapsed": false,
    "pycharm": {
     "name": "#%% md\n"
    }
   }
  },
  {
   "cell_type": "code",
   "execution_count": 39,
   "outputs": [
    {
     "data": {
      "text/plain": "{'m1': 0      13209.234498\n 1      16906.595119\n 2       8015.049096\n 3      10146.584101\n 4      17057.568699\n            ...     \n 175    21844.691817\n 176    22387.685134\n 177    23301.200136\n 178    24213.801624\n 179    23825.862253\n Length: 180, dtype: float64,\n 'm2': 0      17076.295246\n 1      17076.295246\n 2       6699.354618\n 3      11887.824932\n 4       7996.472196\n            ...     \n 175    19670.530403\n 176    20967.647982\n 177    20967.647982\n 178    22264.765561\n 179    22264.765561\n Length: 180, dtype: float64,\n 'm3': 0      15876.443321\n 1      17747.580583\n 2       5797.584771\n 3      10601.407504\n 4      11305.044027\n            ...     \n 175    22109.176218\n 176    23315.248087\n 177    23777.554077\n 178    25170.674949\n 179    24974.349006\n Length: 180, dtype: float64,\n 'm4': 0      16571.055397\n 1      20182.416669\n 2       5131.402021\n 3      14132.364406\n 4       7925.490937\n            ...     \n 175    23039.060519\n 176    24207.206596\n 177    25213.615590\n 178    27931.781700\n 179    28022.647619\n Length: 180, dtype: float64,\n 'm5': 0      17152.309192\n 1      20757.384537\n 2       4728.470863\n 3      10384.191695\n 4      10549.150669\n            ...     \n 175    25558.242564\n 176    27629.559459\n 177    27740.268589\n 178    29084.695959\n 179    30604.233008\n Length: 180, dtype: float64}"
     },
     "execution_count": 39,
     "metadata": {},
     "output_type": "execute_result"
    }
   ],
   "source": [
    "oct_pred"
   ],
   "metadata": {
    "collapsed": false,
    "pycharm": {
     "name": "#%%\n"
    }
   }
  },
  {
   "cell_type": "code",
   "execution_count": 40,
   "outputs": [
    {
     "data": {
      "text/plain": "m1    0.0\nm2    0.0\nm3    0.0\nm4    0.0\nm5    1.0\ndtype: float64"
     },
     "execution_count": 40,
     "metadata": {},
     "output_type": "execute_result"
    }
   ],
   "source": [
    "from AI.util.MCS import ModelConfidenceSet as MCS\n",
    "mcs_oct = MCS((pd.DataFrame(oct_pred)\n",
    "              .apply(lambda x: np.abs(x - oct['price']))), 0.01, 3, 1000).run()\n",
    "mcs_oct.pvalues"
   ],
   "metadata": {
    "collapsed": false,
    "pycharm": {
     "name": "#%%\n"
    }
   }
  },
  {
   "cell_type": "code",
   "execution_count": 41,
   "outputs": [
    {
     "data": {
      "text/plain": "['km',\n 'age',\n 'km10',\n 'power_lowest',\n 'power_low',\n 'power_mid',\n 'power_high',\n 'power_highest',\n 'ba',\n 'bb',\n 'ke',\n 'nr',\n 'po',\n 'tn',\n 'tt',\n 'petrol',\n 'petgas',\n 'man',\n 'eng1',\n 'eng2',\n 'eng3',\n 'eng4',\n 'eng6']"
     },
     "execution_count": 41,
     "metadata": {},
     "output_type": "execute_result"
    }
   ],
   "source": [
    "extract_features(model_formulas)['m4']"
   ],
   "metadata": {
    "collapsed": false,
    "pycharm": {
     "name": "#%%\n"
    }
   }
  }
 ],
 "metadata": {
  "kernelspec": {
   "display_name": "Python 3",
   "language": "python",
   "name": "python3"
  },
  "language_info": {
   "codemirror_mode": {
    "name": "ipython",
    "version": 2
   },
   "file_extension": ".py",
   "mimetype": "text/x-python",
   "name": "python",
   "nbconvert_exporter": "python",
   "pygments_lexer": "ipython2",
   "version": "2.7.6"
  }
 },
 "nbformat": 4,
 "nbformat_minor": 0
}
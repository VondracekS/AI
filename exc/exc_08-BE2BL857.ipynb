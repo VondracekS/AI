{
 "cells": [
  {
   "cell_type": "markdown",
   "source": [
    "# VII. Excercise:"
   ],
   "metadata": {
    "collapsed": false
   }
  },
  {
   "cell_type": "code",
   "execution_count": 23,
   "outputs": [],
   "source": [
    "import pandas as pd\n",
    "import re\n",
    "import numpy as np"
   ],
   "metadata": {
    "collapsed": false
   }
  },
  {
   "cell_type": "code",
   "execution_count": 24,
   "outputs": [],
   "source": [
    "data_full = pd.read_csv(\"../data/corpdef.csv\")"
   ],
   "metadata": {
    "collapsed": false
   }
  },
  {
   "cell_type": "code",
   "execution_count": 25,
   "outputs": [],
   "source": [
    "data_full.columns = [re.sub(\"\\s\", \"_\", i) for i in data_full.columns]"
   ],
   "metadata": {
    "collapsed": false
   }
  },
  {
   "cell_type": "code",
   "execution_count": 26,
   "outputs": [],
   "source": [
    "from sklearn.model_selection import train_test_split\n",
    "\n",
    "data_train, data_test = train_test_split(data_full)"
   ],
   "metadata": {
    "collapsed": false
   }
  },
  {
   "cell_type": "code",
   "execution_count": 27,
   "outputs": [],
   "source": [
    "from util.downsampling_utils import *\n",
    "\n",
    "data_train_dspl = train_downsample('Bankrupt?', data_train)"
   ],
   "metadata": {
    "collapsed": false
   }
  },
  {
   "cell_type": "code",
   "execution_count": 28,
   "outputs": [
    {
     "data": {
      "text/plain": "1    160\n0    160\nName: Bankrupt?, dtype: int64"
     },
     "execution_count": 28,
     "metadata": {},
     "output_type": "execute_result"
    }
   ],
   "source": [
    "data_train_dspl['Bankrupt?'].value_counts()"
   ],
   "metadata": {
    "collapsed": false
   }
  },
  {
   "cell_type": "code",
   "execution_count": 29,
   "outputs": [
    {
     "data": {
      "text/plain": "Index(['_ROA(C)_before_interest_and_depreciation_before_interest',\n       '_ROA(A)_before_interest_and_%_after_tax',\n       '_ROA(B)_before_interest_and_depreciation_after_tax',\n       '_Operating_Gross_Margin', '_Realized_Sales_Gross_Margin',\n       '_Operating_Profit_Rate', '_Pre-tax_net_Interest_Rate',\n       '_After-tax_net_Interest_Rate',\n       '_Non-industry_income_and_expenditure/revenue',\n       '_Continuous_interest_rate_(after_tax)', '_Operating_Expense_Rate',\n       '_Research_and_development_expense_rate', '_Cash_flow_rate',\n       '_Interest-bearing_debt_interest_rate', '_Tax_rate_(A)',\n       '_Net_Value_Per_Share_(B)', '_Net_Value_Per_Share_(A)',\n       '_Net_Value_Per_Share_(C)', '_Persistent_EPS_in_the_Last_Four_Seasons',\n       '_Cash_Flow_Per_Share', '_Revenue_Per_Share_(Yuan_¥)',\n       '_Operating_Profit_Per_Share_(Yuan_¥)',\n       '_Per_Share_Net_profit_before_tax_(Yuan_¥)',\n       '_Realized_Sales_Gross_Profit_Growth_Rate',\n       '_Operating_Profit_Growth_Rate', '_After-tax_Net_Profit_Growth_Rate',\n       '_Regular_Net_Profit_Growth_Rate', '_Continuous_Net_Profit_Growth_Rate',\n       '_Total_Asset_Growth_Rate', '_Net_Value_Growth_Rate',\n       '_Total_Asset_Return_Growth_Rate_Ratio', '_Cash_Reinvestment_%',\n       '_Current_Ratio', '_Quick_Ratio', '_Interest_Expense_Ratio',\n       '_Total_debt/Total_net_worth', '_Debt_ratio_%', '_Net_worth/Assets',\n       '_Long-term_fund_suitability_ratio_(A)', '_Borrowing_dependency',\n       '_Contingent_liabilities/Net_worth',\n       '_Operating_profit/Paid-in_capital',\n       '_Net_profit_before_tax/Paid-in_capital',\n       '_Inventory_and_accounts_receivable/Net_value', '_Total_Asset_Turnover',\n       '_Accounts_Receivable_Turnover', '_Average_Collection_Days',\n       '_Inventory_Turnover_Rate_(times)', '_Fixed_Assets_Turnover_Frequency',\n       '_Net_Worth_Turnover_Rate_(times)', '_Revenue_per_person',\n       '_Operating_profit_per_person', '_Allocation_rate_per_person',\n       '_Working_Capital_to_Total_Assets', '_Quick_Assets/Total_Assets',\n       '_Current_Assets/Total_Assets', '_Cash/Total_Assets',\n       '_Quick_Assets/Current_Liability', '_Cash/Current_Liability',\n       '_Current_Liability_to_Assets', '_Operating_Funds_to_Liability',\n       '_Inventory/Working_Capital', '_Inventory/Current_Liability',\n       '_Current_Liabilities/Liability', '_Working_Capital/Equity',\n       '_Current_Liabilities/Equity', '_Long-term_Liability_to_Current_Assets',\n       '_Retained_Earnings_to_Total_Assets', '_Total_income/Total_expense',\n       '_Total_expense/Assets', '_Current_Asset_Turnover_Rate',\n       '_Quick_Asset_Turnover_Rate', '_Working_capitcal_Turnover_Rate',\n       '_Cash_Turnover_Rate', '_Cash_Flow_to_Sales', '_Fixed_Assets_to_Assets',\n       '_Current_Liability_to_Liability', '_Current_Liability_to_Equity',\n       '_Equity_to_Long-term_Liability', '_Cash_Flow_to_Total_Assets',\n       '_Cash_Flow_to_Liability', '_CFO_to_Assets', '_Cash_Flow_to_Equity',\n       '_Current_Liability_to_Current_Assets', '_Net_Income_to_Total_Assets',\n       '_Total_assets_to_GNP_price', '_No-credit_Interval',\n       '_Gross_Profit_to_Sales', '_Net_Income_to_Stockholder's_Equity',\n       '_Liability_to_Equity', '_Degree_of_Financial_Leverage_(DFL)',\n       '_Interest_Coverage_Ratio_(Interest_expense_to_EBIT)',\n       '_Equity_to_Liability'],\n      dtype='object')"
     },
     "execution_count": 29,
     "metadata": {},
     "output_type": "execute_result"
    }
   ],
   "source": [
    "data_train.select_dtypes(exclude=\"int\").columns"
   ],
   "metadata": {
    "collapsed": false
   }
  },
  {
   "cell_type": "code",
   "execution_count": 30,
   "outputs": [
    {
     "data": {
      "text/plain": "(5114, 96)"
     },
     "execution_count": 30,
     "metadata": {},
     "output_type": "execute_result"
    }
   ],
   "source": [
    "data_train.shape"
   ],
   "metadata": {
    "collapsed": false
   }
  },
  {
   "cell_type": "code",
   "execution_count": 31,
   "outputs": [
    {
     "data": {
      "text/plain": "      Bankrupt?  _ROA(C)_before_interest_and_depreciation_before_interest  \\\n527           1                                           0.392385          \n5068          0                                           0.475308          \n2905          0                                           0.592990          \n2535          0                                           0.496076          \n108           0                                           0.522742          \n...         ...                                                ...          \n4268          0                                           0.524692          \n1408          0                                           0.465948          \n6516          0                                           0.533272          \n5702          0                                           0.572076          \n3982          0                                           0.522108          \n\n      _ROA(A)_before_interest_and_%_after_tax  \\\n527                                  0.432621   \n5068                                 0.536960   \n2905                                 0.616441   \n2535                                 0.556585   \n108                                  0.591420   \n...                                       ...   \n4268                                 0.589294   \n1408                                 0.516082   \n6516                                 0.593818   \n5702                                 0.629470   \n3982                                 0.585478   \n\n      _ROA(B)_before_interest_and_depreciation_after_tax  \\\n527                                            0.451470    \n5068                                           0.528294    \n2905                                           0.625087    \n2535                                           0.546014    \n108                                            0.589271    \n...                                                 ...    \n4268                                           0.575298    \n1408                                           0.519032    \n6516                                           0.590449    \n5702                                           0.634616    \n3982                                           0.573050    \n\n      _Operating_Gross_Margin  _Realized_Sales_Gross_Margin  \\\n527                  0.555939                      0.555939   \n5068                 0.600023                      0.600239   \n2905                 0.633282                      0.633282   \n2535                 0.617903                      0.617903   \n108                  0.606120                      0.606120   \n...                       ...                           ...   \n4268                 0.600974                      0.600974   \n1408                 0.606524                      0.606524   \n6516                 0.627899                      0.627899   \n5702                 0.625002                      0.625002   \n3982                 0.606949                      0.606949   \n\n      _Operating_Profit_Rate  _Pre-tax_net_Interest_Rate  \\\n527                 0.998291                    0.796273   \n5068                0.998993                    0.797381   \n2905                0.999277                    0.797728   \n2535                0.999052                    0.797449   \n108                 0.999065                    0.797606   \n...                      ...                         ...   \n4268                0.999030                    0.797482   \n1408                0.998942                    0.797196   \n6516                0.999107                    0.797582   \n5702                0.999353                    0.797847   \n3982                0.999049                    0.797482   \n\n      _After-tax_net_Interest_Rate  \\\n527                       0.808449   \n5068                      0.809316   \n2905                      0.809554   \n2535                      0.809353   \n108                       0.809561   \n...                            ...   \n4268                      0.809391   \n1408                      0.809164   \n6516                      0.809491   \n5702                      0.809744   \n3982                      0.809394   \n\n      _Non-industry_income_and_expenditure/revenue  ...  \\\n527                                       0.302992  ...   \n5068                                      0.303459  ...   \n2905                                      0.303471  ...   \n2535                                      0.303455  ...   \n108                                       0.303702  ...   \n...                                            ...  ...   \n4268                                      0.303560  ...   \n1408                                      0.303241  ...   \n6516                                      0.303572  ...   \n5702                                      0.303520  ...   \n3982                                      0.303519  ...   \n\n      _Net_Income_to_Total_Assets  _Total_assets_to_GNP_price  \\\n527                      0.728649                    0.001388   \n5068                     0.798052                    0.004693   \n2905                     0.841294                    0.005533   \n2535                     0.801902                    0.000937   \n108                      0.825519                    0.257584   \n...                           ...                         ...   \n4268                     0.825781                    0.055943   \n1408                     0.785846                    0.000566   \n6516                     0.830803                    0.000201   \n5702                     0.854479                    0.003387   \n3982                     0.825465                    0.003085   \n\n      _No-credit_Interval  _Gross_Profit_to_Sales  \\\n527              0.625402                0.555936   \n5068             0.623642                0.600019   \n2905             0.623825                0.633279   \n2535             0.623399                0.617900   \n108              0.621901                0.606116   \n...                   ...                     ...   \n4268             0.623809                0.600976   \n1408             0.625306                0.606520   \n6516             0.624175                0.627897   \n5702             0.620617                0.625000   \n3982             0.624237                0.606944   \n\n      _Net_Income_to_Stockholder's_Equity  _Liability_to_Equity  \\\n527                              0.831774              0.285768   \n5068                             0.840236              0.281493   \n2905                             0.842939              0.277281   \n2535                             0.840753              0.285304   \n108                              0.842508              0.280094   \n...                                   ...                   ...   \n4268                             0.842895              0.281858   \n1408                             0.839449              0.276505   \n6516                             0.841957              0.275994   \n5702                             0.843001              0.275357   \n3982                             0.841805              0.276682   \n\n      _Degree_of_Financial_Leverage_(DFL)  \\\n527                              0.026705   \n5068                             0.040686   \n2905                             0.026814   \n2535                             0.027580   \n108                              0.027065   \n...                                   ...   \n4268                             0.026826   \n1408                             0.026646   \n6516                             0.026791   \n5702                             0.026817   \n3982                             0.026791   \n\n      _Interest_Coverage_Ratio_(Interest_expense_to_EBIT)  _Net_Income_Flag  \\\n527                                            0.564709                   1   \n5068                                           0.569841                   1   \n2905                                           0.565264                   1   \n2535                                           0.567312                   1   \n108                                            0.566195                   1   \n...                                                 ...                 ...   \n4268                                           0.565320                   1   \n1408                                           0.564353                   1   \n6516                                           0.565158                   1   \n5702                                           0.565278                   1   \n3982                                           0.565158                   1   \n\n      _Equity_to_Liability  \n527               0.018963  \n5068              0.024442  \n2905              0.047471  \n2535              0.019344  \n108               0.028116  \n...                    ...  \n4268              0.023720  \n1408              0.063308  \n6516              0.083989  \n5702              0.153455  \n3982              0.058618  \n\n[5114 rows x 96 columns]",
      "text/html": "<div>\n<style scoped>\n    .dataframe tbody tr th:only-of-type {\n        vertical-align: middle;\n    }\n\n    .dataframe tbody tr th {\n        vertical-align: top;\n    }\n\n    .dataframe thead th {\n        text-align: right;\n    }\n</style>\n<table border=\"1\" class=\"dataframe\">\n  <thead>\n    <tr style=\"text-align: right;\">\n      <th></th>\n      <th>Bankrupt?</th>\n      <th>_ROA(C)_before_interest_and_depreciation_before_interest</th>\n      <th>_ROA(A)_before_interest_and_%_after_tax</th>\n      <th>_ROA(B)_before_interest_and_depreciation_after_tax</th>\n      <th>_Operating_Gross_Margin</th>\n      <th>_Realized_Sales_Gross_Margin</th>\n      <th>_Operating_Profit_Rate</th>\n      <th>_Pre-tax_net_Interest_Rate</th>\n      <th>_After-tax_net_Interest_Rate</th>\n      <th>_Non-industry_income_and_expenditure/revenue</th>\n      <th>...</th>\n      <th>_Net_Income_to_Total_Assets</th>\n      <th>_Total_assets_to_GNP_price</th>\n      <th>_No-credit_Interval</th>\n      <th>_Gross_Profit_to_Sales</th>\n      <th>_Net_Income_to_Stockholder's_Equity</th>\n      <th>_Liability_to_Equity</th>\n      <th>_Degree_of_Financial_Leverage_(DFL)</th>\n      <th>_Interest_Coverage_Ratio_(Interest_expense_to_EBIT)</th>\n      <th>_Net_Income_Flag</th>\n      <th>_Equity_to_Liability</th>\n    </tr>\n  </thead>\n  <tbody>\n    <tr>\n      <th>527</th>\n      <td>1</td>\n      <td>0.392385</td>\n      <td>0.432621</td>\n      <td>0.451470</td>\n      <td>0.555939</td>\n      <td>0.555939</td>\n      <td>0.998291</td>\n      <td>0.796273</td>\n      <td>0.808449</td>\n      <td>0.302992</td>\n      <td>...</td>\n      <td>0.728649</td>\n      <td>0.001388</td>\n      <td>0.625402</td>\n      <td>0.555936</td>\n      <td>0.831774</td>\n      <td>0.285768</td>\n      <td>0.026705</td>\n      <td>0.564709</td>\n      <td>1</td>\n      <td>0.018963</td>\n    </tr>\n    <tr>\n      <th>5068</th>\n      <td>0</td>\n      <td>0.475308</td>\n      <td>0.536960</td>\n      <td>0.528294</td>\n      <td>0.600023</td>\n      <td>0.600239</td>\n      <td>0.998993</td>\n      <td>0.797381</td>\n      <td>0.809316</td>\n      <td>0.303459</td>\n      <td>...</td>\n      <td>0.798052</td>\n      <td>0.004693</td>\n      <td>0.623642</td>\n      <td>0.600019</td>\n      <td>0.840236</td>\n      <td>0.281493</td>\n      <td>0.040686</td>\n      <td>0.569841</td>\n      <td>1</td>\n      <td>0.024442</td>\n    </tr>\n    <tr>\n      <th>2905</th>\n      <td>0</td>\n      <td>0.592990</td>\n      <td>0.616441</td>\n      <td>0.625087</td>\n      <td>0.633282</td>\n      <td>0.633282</td>\n      <td>0.999277</td>\n      <td>0.797728</td>\n      <td>0.809554</td>\n      <td>0.303471</td>\n      <td>...</td>\n      <td>0.841294</td>\n      <td>0.005533</td>\n      <td>0.623825</td>\n      <td>0.633279</td>\n      <td>0.842939</td>\n      <td>0.277281</td>\n      <td>0.026814</td>\n      <td>0.565264</td>\n      <td>1</td>\n      <td>0.047471</td>\n    </tr>\n    <tr>\n      <th>2535</th>\n      <td>0</td>\n      <td>0.496076</td>\n      <td>0.556585</td>\n      <td>0.546014</td>\n      <td>0.617903</td>\n      <td>0.617903</td>\n      <td>0.999052</td>\n      <td>0.797449</td>\n      <td>0.809353</td>\n      <td>0.303455</td>\n      <td>...</td>\n      <td>0.801902</td>\n      <td>0.000937</td>\n      <td>0.623399</td>\n      <td>0.617900</td>\n      <td>0.840753</td>\n      <td>0.285304</td>\n      <td>0.027580</td>\n      <td>0.567312</td>\n      <td>1</td>\n      <td>0.019344</td>\n    </tr>\n    <tr>\n      <th>108</th>\n      <td>0</td>\n      <td>0.522742</td>\n      <td>0.591420</td>\n      <td>0.589271</td>\n      <td>0.606120</td>\n      <td>0.606120</td>\n      <td>0.999065</td>\n      <td>0.797606</td>\n      <td>0.809561</td>\n      <td>0.303702</td>\n      <td>...</td>\n      <td>0.825519</td>\n      <td>0.257584</td>\n      <td>0.621901</td>\n      <td>0.606116</td>\n      <td>0.842508</td>\n      <td>0.280094</td>\n      <td>0.027065</td>\n      <td>0.566195</td>\n      <td>1</td>\n      <td>0.028116</td>\n    </tr>\n    <tr>\n      <th>...</th>\n      <td>...</td>\n      <td>...</td>\n      <td>...</td>\n      <td>...</td>\n      <td>...</td>\n      <td>...</td>\n      <td>...</td>\n      <td>...</td>\n      <td>...</td>\n      <td>...</td>\n      <td>...</td>\n      <td>...</td>\n      <td>...</td>\n      <td>...</td>\n      <td>...</td>\n      <td>...</td>\n      <td>...</td>\n      <td>...</td>\n      <td>...</td>\n      <td>...</td>\n      <td>...</td>\n    </tr>\n    <tr>\n      <th>4268</th>\n      <td>0</td>\n      <td>0.524692</td>\n      <td>0.589294</td>\n      <td>0.575298</td>\n      <td>0.600974</td>\n      <td>0.600974</td>\n      <td>0.999030</td>\n      <td>0.797482</td>\n      <td>0.809391</td>\n      <td>0.303560</td>\n      <td>...</td>\n      <td>0.825781</td>\n      <td>0.055943</td>\n      <td>0.623809</td>\n      <td>0.600976</td>\n      <td>0.842895</td>\n      <td>0.281858</td>\n      <td>0.026826</td>\n      <td>0.565320</td>\n      <td>1</td>\n      <td>0.023720</td>\n    </tr>\n    <tr>\n      <th>1408</th>\n      <td>0</td>\n      <td>0.465948</td>\n      <td>0.516082</td>\n      <td>0.519032</td>\n      <td>0.606524</td>\n      <td>0.606524</td>\n      <td>0.998942</td>\n      <td>0.797196</td>\n      <td>0.809164</td>\n      <td>0.303241</td>\n      <td>...</td>\n      <td>0.785846</td>\n      <td>0.000566</td>\n      <td>0.625306</td>\n      <td>0.606520</td>\n      <td>0.839449</td>\n      <td>0.276505</td>\n      <td>0.026646</td>\n      <td>0.564353</td>\n      <td>1</td>\n      <td>0.063308</td>\n    </tr>\n    <tr>\n      <th>6516</th>\n      <td>0</td>\n      <td>0.533272</td>\n      <td>0.593818</td>\n      <td>0.590449</td>\n      <td>0.627899</td>\n      <td>0.627899</td>\n      <td>0.999107</td>\n      <td>0.797582</td>\n      <td>0.809491</td>\n      <td>0.303572</td>\n      <td>...</td>\n      <td>0.830803</td>\n      <td>0.000201</td>\n      <td>0.624175</td>\n      <td>0.627897</td>\n      <td>0.841957</td>\n      <td>0.275994</td>\n      <td>0.026791</td>\n      <td>0.565158</td>\n      <td>1</td>\n      <td>0.083989</td>\n    </tr>\n    <tr>\n      <th>5702</th>\n      <td>0</td>\n      <td>0.572076</td>\n      <td>0.629470</td>\n      <td>0.634616</td>\n      <td>0.625002</td>\n      <td>0.625002</td>\n      <td>0.999353</td>\n      <td>0.797847</td>\n      <td>0.809744</td>\n      <td>0.303520</td>\n      <td>...</td>\n      <td>0.854479</td>\n      <td>0.003387</td>\n      <td>0.620617</td>\n      <td>0.625000</td>\n      <td>0.843001</td>\n      <td>0.275357</td>\n      <td>0.026817</td>\n      <td>0.565278</td>\n      <td>1</td>\n      <td>0.153455</td>\n    </tr>\n    <tr>\n      <th>3982</th>\n      <td>0</td>\n      <td>0.522108</td>\n      <td>0.585478</td>\n      <td>0.573050</td>\n      <td>0.606949</td>\n      <td>0.606949</td>\n      <td>0.999049</td>\n      <td>0.797482</td>\n      <td>0.809394</td>\n      <td>0.303519</td>\n      <td>...</td>\n      <td>0.825465</td>\n      <td>0.003085</td>\n      <td>0.624237</td>\n      <td>0.606944</td>\n      <td>0.841805</td>\n      <td>0.276682</td>\n      <td>0.026791</td>\n      <td>0.565158</td>\n      <td>1</td>\n      <td>0.058618</td>\n    </tr>\n  </tbody>\n</table>\n<p>5114 rows × 96 columns</p>\n</div>"
     },
     "execution_count": 31,
     "metadata": {},
     "output_type": "execute_result"
    }
   ],
   "source": [
    "from sklearn.preprocessing import StandardScaler\n",
    "import numpy as np\n",
    "\n",
    "for col in data_train.columns:\n",
    "    if data_train[col].dtype == np.float32:\n",
    "        data_train[col] = StandardScaler().fit_transform(data_train[col])\n",
    "\n",
    "data_train"
   ],
   "metadata": {
    "collapsed": false
   }
  },
  {
   "cell_type": "code",
   "execution_count": 32,
   "outputs": [
    {
     "data": {
      "text/plain": "True"
     },
     "execution_count": 32,
     "metadata": {},
     "output_type": "execute_result"
    }
   ],
   "source": [
    "data_train['_ROA(A)_before_interest_and_%_after_tax'].dtype == \"float\""
   ],
   "metadata": {
    "collapsed": false
   }
  },
  {
   "cell_type": "code",
   "execution_count": 32,
   "outputs": [],
   "source": [],
   "metadata": {
    "collapsed": false
   }
  },
  {
   "cell_type": "code",
   "execution_count": 33,
   "outputs": [
    {
     "data": {
      "text/plain": "      _ROA(C)_before_interest_and_depreciation_before_interest  \\\n0                                             -1.900740          \n1                                             -0.508745          \n2                                              1.466727          \n3                                             -0.160132          \n4                                              0.287500          \n...                                                 ...          \n6338                                                NaN          \n6010                                                NaN          \n6177                                                NaN          \n6516                                                NaN          \n5702                                                NaN          \n\n      _ROA(A)_before_interest_and_%_after_tax  \\\n0                                   -1.961194   \n1                                   -0.342549   \n2                                    0.890462   \n3                                   -0.038102   \n4                                    0.502292   \n...                                       ...   \n6338                                      NaN   \n6010                                      NaN   \n6177                                      NaN   \n6516                                      NaN   \n5702                                      NaN   \n\n      _ROA(B)_before_interest_and_depreciation_after_tax  \\\n0                                             -1.697509    \n1                                             -0.425803    \n2                                              1.176459    \n3                                             -0.132468    \n4                                              0.583587    \n...                                                 ...    \n6338                                                NaN    \n6010                                                NaN    \n6177                                                NaN    \n6516                                                NaN    \n5702                                                NaN    \n\n      _Operating_Gross_Margin  _Realized_Sales_Gross_Margin  \\\n0                   -3.545076                     -3.550134   \n1                   -0.552620                     -0.537481   \n2                    1.705052                      1.709634   \n3                    0.661093                      0.663757   \n4                   -0.138754                     -0.137558   \n...                       ...                           ...   \n6338                      NaN                           NaN   \n6010                      NaN                           NaN   \n6177                      NaN                           NaN   \n6516                      NaN                           NaN   \n5702                      NaN                           NaN   \n\n      _Operating_Profit_Rate  _Pre-tax_net_Interest_Rate  \\\n0                  -0.026569                   -0.060389   \n1                   0.020193                    0.015316   \n2                   0.039124                    0.039019   \n3                   0.024111                    0.019958   \n4                   0.024974                    0.030689   \n...                      ...                         ...   \n6338                     NaN                         NaN   \n6010                     NaN                         NaN   \n6177                     NaN                         NaN   \n6516                     NaN                         NaN   \n5702                     NaN                         NaN   \n\n      _After-tax_net_Interest_Rate  \\\n0                        -0.038472   \n1                         0.017492   \n2                         0.032799   \n3                         0.019868   \n4                         0.033244   \n...                            ...   \n6338                           NaN   \n6010                           NaN   \n6177                           NaN   \n6516                           NaN   \n5702                           NaN   \n\n      _Non-industry_income_and_expenditure/revenue  \\\n0                                        -0.057061   \n1                                        -0.019500   \n2                                        -0.018567   \n3                                        -0.019850   \n4                                         0.000058   \n...                                            ...   \n6338                                           NaN   \n6010                                           NaN   \n6177                                           NaN   \n6516                                           NaN   \n5702                                           NaN   \n\n      _Continuous_interest_rate_(after_tax)  ...  _No-credit_Interval  \\\n0                                 -0.037502  ...             0.122657   \n1                                  0.016483  ...            -0.019440   \n2                                  0.036322  ...            -0.004621   \n3                                  0.018849  ...            -0.038987   \n4                                  0.034418  ...            -0.159931   \n...                                     ...  ...                  ...   \n6338                                    NaN  ...                  NaN   \n6010                                    NaN  ...                  NaN   \n6177                                    NaN  ...                  NaN   \n6516                                    NaN  ...                  NaN   \n5702                                    NaN  ...                  NaN   \n\n      _Gross_Profit_to_Sales  _Net_Income_to_Stockholder's_Equity  \\\n0                  -3.545174                            -0.538640   \n1                  -0.552752                            -0.011126   \n2                   1.704962                             0.157364   \n3                   0.661029                             0.021062   \n4                  -0.138933                             0.130490   \n...                      ...                                  ...   \n6338                     NaN                                  NaN   \n6010                     NaN                                  NaN   \n6177                     NaN                                  NaN   \n6516                     NaN                                  NaN   \n5702                     NaN                                  NaN   \n\n      _Liability_to_Equity  _Degree_of_Financial_Leverage_(DFL)  \\\n0                 0.334110                            -0.053267   \n1                 0.067974                             0.726359   \n2                -0.194267                            -0.047174   \n3                 0.305220                            -0.004461   \n4                -0.019130                            -0.033185   \n...                    ...                                  ...   \n6338                   NaN                                  NaN   \n6010                   NaN                                  NaN   \n6177                   NaN                                  NaN   \n6516                   NaN                                  NaN   \n5702                   NaN                                  NaN   \n\n      _Interest_Coverage_Ratio_(Interest_expense_to_EBIT)  \\\n0                                             -0.056954     \n1                                              0.435536     \n2                                             -0.003649     \n3                                              0.192824     \n4                                              0.085613     \n...                                                 ...     \n6338                                                NaN     \n6010                                                NaN     \n6177                                                NaN     \n6516                                                NaN     \n5702                                                NaN     \n\n      _Equity_to_Liability  Bankrupt?  _Liability-Assets_Flag  \\\n0                -0.598334        1.0                     0.0   \n1                -0.485329        1.0                     0.0   \n2                -0.010412        1.0                     0.0   \n3                -0.590467        1.0                     0.0   \n4                -0.409573        NaN                     NaN   \n...                    ...        ...                     ...   \n6338                   NaN        0.0                     0.0   \n6010                   NaN        0.0                     0.0   \n6177                   NaN        0.0                     0.0   \n6516                   NaN        0.0                     0.0   \n5702                   NaN        0.0                     0.0   \n\n      _Net_Income_Flag  \n0                  1.0  \n1                  1.0  \n2                  1.0  \n3                  1.0  \n4                  NaN  \n...                ...  \n6338               1.0  \n6010               1.0  \n6177               1.0  \n6516               1.0  \n5702               1.0  \n\n[6407 rows x 96 columns]",
      "text/html": "<div>\n<style scoped>\n    .dataframe tbody tr th:only-of-type {\n        vertical-align: middle;\n    }\n\n    .dataframe tbody tr th {\n        vertical-align: top;\n    }\n\n    .dataframe thead th {\n        text-align: right;\n    }\n</style>\n<table border=\"1\" class=\"dataframe\">\n  <thead>\n    <tr style=\"text-align: right;\">\n      <th></th>\n      <th>_ROA(C)_before_interest_and_depreciation_before_interest</th>\n      <th>_ROA(A)_before_interest_and_%_after_tax</th>\n      <th>_ROA(B)_before_interest_and_depreciation_after_tax</th>\n      <th>_Operating_Gross_Margin</th>\n      <th>_Realized_Sales_Gross_Margin</th>\n      <th>_Operating_Profit_Rate</th>\n      <th>_Pre-tax_net_Interest_Rate</th>\n      <th>_After-tax_net_Interest_Rate</th>\n      <th>_Non-industry_income_and_expenditure/revenue</th>\n      <th>_Continuous_interest_rate_(after_tax)</th>\n      <th>...</th>\n      <th>_No-credit_Interval</th>\n      <th>_Gross_Profit_to_Sales</th>\n      <th>_Net_Income_to_Stockholder's_Equity</th>\n      <th>_Liability_to_Equity</th>\n      <th>_Degree_of_Financial_Leverage_(DFL)</th>\n      <th>_Interest_Coverage_Ratio_(Interest_expense_to_EBIT)</th>\n      <th>_Equity_to_Liability</th>\n      <th>Bankrupt?</th>\n      <th>_Liability-Assets_Flag</th>\n      <th>_Net_Income_Flag</th>\n    </tr>\n  </thead>\n  <tbody>\n    <tr>\n      <th>0</th>\n      <td>-1.900740</td>\n      <td>-1.961194</td>\n      <td>-1.697509</td>\n      <td>-3.545076</td>\n      <td>-3.550134</td>\n      <td>-0.026569</td>\n      <td>-0.060389</td>\n      <td>-0.038472</td>\n      <td>-0.057061</td>\n      <td>-0.037502</td>\n      <td>...</td>\n      <td>0.122657</td>\n      <td>-3.545174</td>\n      <td>-0.538640</td>\n      <td>0.334110</td>\n      <td>-0.053267</td>\n      <td>-0.056954</td>\n      <td>-0.598334</td>\n      <td>1.0</td>\n      <td>0.0</td>\n      <td>1.0</td>\n    </tr>\n    <tr>\n      <th>1</th>\n      <td>-0.508745</td>\n      <td>-0.342549</td>\n      <td>-0.425803</td>\n      <td>-0.552620</td>\n      <td>-0.537481</td>\n      <td>0.020193</td>\n      <td>0.015316</td>\n      <td>0.017492</td>\n      <td>-0.019500</td>\n      <td>0.016483</td>\n      <td>...</td>\n      <td>-0.019440</td>\n      <td>-0.552752</td>\n      <td>-0.011126</td>\n      <td>0.067974</td>\n      <td>0.726359</td>\n      <td>0.435536</td>\n      <td>-0.485329</td>\n      <td>1.0</td>\n      <td>0.0</td>\n      <td>1.0</td>\n    </tr>\n    <tr>\n      <th>2</th>\n      <td>1.466727</td>\n      <td>0.890462</td>\n      <td>1.176459</td>\n      <td>1.705052</td>\n      <td>1.709634</td>\n      <td>0.039124</td>\n      <td>0.039019</td>\n      <td>0.032799</td>\n      <td>-0.018567</td>\n      <td>0.036322</td>\n      <td>...</td>\n      <td>-0.004621</td>\n      <td>1.704962</td>\n      <td>0.157364</td>\n      <td>-0.194267</td>\n      <td>-0.047174</td>\n      <td>-0.003649</td>\n      <td>-0.010412</td>\n      <td>1.0</td>\n      <td>0.0</td>\n      <td>1.0</td>\n    </tr>\n    <tr>\n      <th>3</th>\n      <td>-0.160132</td>\n      <td>-0.038102</td>\n      <td>-0.132468</td>\n      <td>0.661093</td>\n      <td>0.663757</td>\n      <td>0.024111</td>\n      <td>0.019958</td>\n      <td>0.019868</td>\n      <td>-0.019850</td>\n      <td>0.018849</td>\n      <td>...</td>\n      <td>-0.038987</td>\n      <td>0.661029</td>\n      <td>0.021062</td>\n      <td>0.305220</td>\n      <td>-0.004461</td>\n      <td>0.192824</td>\n      <td>-0.590467</td>\n      <td>1.0</td>\n      <td>0.0</td>\n      <td>1.0</td>\n    </tr>\n    <tr>\n      <th>4</th>\n      <td>0.287500</td>\n      <td>0.502292</td>\n      <td>0.583587</td>\n      <td>-0.138754</td>\n      <td>-0.137558</td>\n      <td>0.024974</td>\n      <td>0.030689</td>\n      <td>0.033244</td>\n      <td>0.000058</td>\n      <td>0.034418</td>\n      <td>...</td>\n      <td>-0.159931</td>\n      <td>-0.138933</td>\n      <td>0.130490</td>\n      <td>-0.019130</td>\n      <td>-0.033185</td>\n      <td>0.085613</td>\n      <td>-0.409573</td>\n      <td>NaN</td>\n      <td>NaN</td>\n      <td>NaN</td>\n    </tr>\n    <tr>\n      <th>...</th>\n      <td>...</td>\n      <td>...</td>\n      <td>...</td>\n      <td>...</td>\n      <td>...</td>\n      <td>...</td>\n      <td>...</td>\n      <td>...</td>\n      <td>...</td>\n      <td>...</td>\n      <td>...</td>\n      <td>...</td>\n      <td>...</td>\n      <td>...</td>\n      <td>...</td>\n      <td>...</td>\n      <td>...</td>\n      <td>...</td>\n      <td>...</td>\n      <td>...</td>\n      <td>...</td>\n    </tr>\n    <tr>\n      <th>6338</th>\n      <td>NaN</td>\n      <td>NaN</td>\n      <td>NaN</td>\n      <td>NaN</td>\n      <td>NaN</td>\n      <td>NaN</td>\n      <td>NaN</td>\n      <td>NaN</td>\n      <td>NaN</td>\n      <td>NaN</td>\n      <td>...</td>\n      <td>NaN</td>\n      <td>NaN</td>\n      <td>NaN</td>\n      <td>NaN</td>\n      <td>NaN</td>\n      <td>NaN</td>\n      <td>NaN</td>\n      <td>0.0</td>\n      <td>0.0</td>\n      <td>1.0</td>\n    </tr>\n    <tr>\n      <th>6010</th>\n      <td>NaN</td>\n      <td>NaN</td>\n      <td>NaN</td>\n      <td>NaN</td>\n      <td>NaN</td>\n      <td>NaN</td>\n      <td>NaN</td>\n      <td>NaN</td>\n      <td>NaN</td>\n      <td>NaN</td>\n      <td>...</td>\n      <td>NaN</td>\n      <td>NaN</td>\n      <td>NaN</td>\n      <td>NaN</td>\n      <td>NaN</td>\n      <td>NaN</td>\n      <td>NaN</td>\n      <td>0.0</td>\n      <td>0.0</td>\n      <td>1.0</td>\n    </tr>\n    <tr>\n      <th>6177</th>\n      <td>NaN</td>\n      <td>NaN</td>\n      <td>NaN</td>\n      <td>NaN</td>\n      <td>NaN</td>\n      <td>NaN</td>\n      <td>NaN</td>\n      <td>NaN</td>\n      <td>NaN</td>\n      <td>NaN</td>\n      <td>...</td>\n      <td>NaN</td>\n      <td>NaN</td>\n      <td>NaN</td>\n      <td>NaN</td>\n      <td>NaN</td>\n      <td>NaN</td>\n      <td>NaN</td>\n      <td>0.0</td>\n      <td>0.0</td>\n      <td>1.0</td>\n    </tr>\n    <tr>\n      <th>6516</th>\n      <td>NaN</td>\n      <td>NaN</td>\n      <td>NaN</td>\n      <td>NaN</td>\n      <td>NaN</td>\n      <td>NaN</td>\n      <td>NaN</td>\n      <td>NaN</td>\n      <td>NaN</td>\n      <td>NaN</td>\n      <td>...</td>\n      <td>NaN</td>\n      <td>NaN</td>\n      <td>NaN</td>\n      <td>NaN</td>\n      <td>NaN</td>\n      <td>NaN</td>\n      <td>NaN</td>\n      <td>0.0</td>\n      <td>0.0</td>\n      <td>1.0</td>\n    </tr>\n    <tr>\n      <th>5702</th>\n      <td>NaN</td>\n      <td>NaN</td>\n      <td>NaN</td>\n      <td>NaN</td>\n      <td>NaN</td>\n      <td>NaN</td>\n      <td>NaN</td>\n      <td>NaN</td>\n      <td>NaN</td>\n      <td>NaN</td>\n      <td>...</td>\n      <td>NaN</td>\n      <td>NaN</td>\n      <td>NaN</td>\n      <td>NaN</td>\n      <td>NaN</td>\n      <td>NaN</td>\n      <td>NaN</td>\n      <td>0.0</td>\n      <td>0.0</td>\n      <td>1.0</td>\n    </tr>\n  </tbody>\n</table>\n<p>6407 rows × 96 columns</p>\n</div>"
     },
     "execution_count": 33,
     "metadata": {},
     "output_type": "execute_result"
    }
   ],
   "source": [
    "from sklearn.preprocessing import StandardScaler\n",
    "\n",
    "pd.concat([pd.DataFrame(StandardScaler()\n",
    "             .fit_transform(data_train.select_dtypes(exclude=\"int\")),\n",
    "             columns=data_train.select_dtypes(exclude=\"int\").columns), data_train.select_dtypes(include=\"int\")], axis=1,\n",
    "          ignore_index=False)"
   ],
   "metadata": {
    "collapsed": false
   }
  },
  {
   "cell_type": "code",
   "execution_count": 34,
   "outputs": [],
   "source": [
    "def preprocessing_pipeline(df: pd.DataFrame, downsample=False, target_var='Bankrupt?') -> pd.DataFrame:\n",
    "    \"\"\"\n",
    "    Standardized pipeline to easily prepare the full data set for further analysis.\n",
    "    At this point, performs OneHotEncoding of categorical variables and also a z-score standardization\n",
    "\n",
    "    :param df: Transforemed data frame\n",
    "    :param downsample: Whether the data set should be downsampled\n",
    "    :param target_var: Target variable to be predicted\n",
    "    :return: pd.DataFrame\n",
    "    \"\"\"\n",
    "    df_out = df.copy()\n",
    "\n",
    "    if downsample:\n",
    "        df_out = train_downsample(target_var, df_out)\n",
    "\n",
    "    df_out=pd.get_dummies(df_out)\n",
    "\n",
    "    for col in df_out.columns:\n",
    "        if df_out[col].dtype == \"float\" and col != target_var:\n",
    "            data_train[col] = StandardScaler().fit_transform(data_train[[col]])\n",
    "\n",
    "    return df_out"
   ],
   "metadata": {
    "collapsed": false
   }
  },
  {
   "cell_type": "code",
   "execution_count": 37,
   "outputs": [],
   "source": [
    "%%capture\n",
    "train_processed = preprocessing_pipeline(data_train, downsample=True)\n",
    "test_processed = preprocessing_pipeline(data_test)"
   ],
   "metadata": {
    "collapsed": false
   }
  },
  {
   "cell_type": "code",
   "execution_count": 38,
   "outputs": [
    {
     "data": {
      "text/plain": "      Bankrupt?  _ROA(C)_before_interest_and_depreciation_before_interest  \\\n3305          0                                           0.469800          \n3595          1                                           0.102325          \n3105          0                                           0.502608          \n1869          1                                           0.392775          \n909           0                                           0.567153          \n...         ...                                                ...          \n4376          1                                           0.387413          \n1948          1                                           0.431044          \n2043          1                                           0.417491          \n379           1                                           0.453956          \n5476          0                                           0.465851          \n\n      _ROA(A)_before_interest_and_%_after_tax  \\\n3305                                 0.532490   \n3595                                 0.121511   \n3105                                 0.554568   \n1869                                 0.432239   \n909                                  0.620802   \n...                                       ...   \n4376                                 0.444614   \n1948                                 0.445977   \n2043                                 0.477976   \n379                                  0.516082   \n5476                                 0.507523   \n\n      _ROA(B)_before_interest_and_depreciation_after_tax  \\\n3305                                           0.521388    \n3595                                           0.112212    \n3105                                           0.552439    \n1869                                           0.432946    \n909                                            0.603084    \n...                                                 ...    \n4376                                           0.430751    \n1948                                           0.480218    \n2043                                           0.462070    \n379                                            0.501740    \n5476                                           0.511055    \n\n      _Operating_Gross_Margin  _Realized_Sales_Gross_Margin  \\\n3305                 0.599598                      0.599728   \n3595                 0.585876                      0.585876   \n3105                 0.610271                      0.610271   \n1869                 0.586921                      0.586921   \n909                  0.612743                      0.612649   \n...                       ...                           ...   \n4376                 0.593220                      0.593220   \n1948                 0.578648                      0.578648   \n2043                 0.593962                      0.599281   \n379                  0.665151                      0.665151   \n5476                 0.599000                      0.599000   \n\n      _Operating_Profit_Rate  _Pre-tax_net_Interest_Rate  \\\n3305                0.998853                    0.797410   \n3595                0.998786                    0.796917   \n3105                0.999017                    0.797444   \n1869                0.998776                    0.797126   \n909                 0.999159                    0.797726   \n...                      ...                         ...   \n4376                0.998839                    0.797232   \n1948                0.998496                    0.796746   \n2043                0.998506                    0.794223   \n379                 0.996295                    0.776710   \n5476                0.998887                    0.797182   \n\n      _After-tax_net_Interest_Rate  \\\n3305                      0.809313   \n3595                      0.808863   \n3105                      0.809366   \n1869                      0.809068   \n909                       0.809563   \n...                            ...   \n4376                      0.809165   \n1948                      0.808710   \n2043                      0.806224   \n379                       0.761550   \n5476                      0.809120   \n\n      _Non-industry_income_and_expenditure/revenue  ...  \\\n3305                                      0.303804  ...   \n3595                                      0.303082  ...   \n3105                                      0.303518  ...   \n1869                                      0.303470  ...   \n909                                       0.303714  ...   \n...                                            ...  ...   \n4376                                      0.303522  ...   \n1948                                      0.303389  ...   \n2043                                      0.298962  ...   \n379                                       0.272989  ...   \n5476                                      0.303334  ...   \n\n      _Net_Income_to_Total_Assets  _Total_assets_to_GNP_price  \\\n3305                     0.796196                    0.003874   \n3595                     0.481836                    0.000692   \n3105                     0.809193                    0.000769   \n1869                     0.722761                    0.002418   \n909                      0.842015                    0.002594   \n...                           ...                         ...   \n4376                     0.737802                    0.004405   \n1948                     0.739198                    0.009917   \n2043                     0.755672                    0.013199   \n379                      0.764289                    0.003736   \n5476                     0.779681                    0.003246   \n\n      _No-credit_Interval  _Gross_Profit_to_Sales  \\\n3305             0.623539                0.599599   \n3595             0.623637                0.585875   \n3105             0.623814                0.610272   \n1869             0.622734                0.586923   \n909              0.623808                0.612742   \n...                   ...                     ...   \n4376             0.623770                0.593217   \n1948             0.623859                0.578644   \n2043             0.621529                0.593962   \n379              0.679350                0.665149   \n5476             0.604606                0.598998   \n\n      _Net_Income_to_Stockholder's_Equity  _Liability_to_Equity  \\\n3305                             0.840054              0.276273   \n3595                             0.798728              0.287020   \n3105                             0.841005              0.278561   \n1869                             0.976180              0.000000   \n909                              0.844023              0.280526   \n...                                   ...                   ...   \n4376                             0.831685              0.288774   \n1948                             0.827630              0.299581   \n2043                             0.836136              0.282036   \n379                              0.831484              0.307015   \n5476                             0.838878              0.278362   \n\n      _Degree_of_Financial_Leverage_(DFL)  \\\n3305                             0.027807   \n3595                             0.026771   \n3105                             0.026861   \n1869                             0.026703   \n909                              0.026841   \n...                                   ...   \n4376                             0.026739   \n1948                             0.026662   \n2043                             0.026574   \n379                              0.026351   \n5476                             0.026624   \n\n      _Interest_Coverage_Ratio_(Interest_expense_to_EBIT)  _Net_Income_Flag  \\\n3305                                           0.567628                   1   \n3595                                           0.565059                   1   \n3105                                           0.565473                   1   \n1869                                           0.564698                   1   \n909                                            0.565385                   1   \n...                                                 ...                 ...   \n4376                                           0.564896                   1   \n1948                                           0.564454                   1   \n2043                                           0.563854                   1   \n379                                            0.561557                   1   \n5476                                           0.564210                   1   \n\n      _Equity_to_Liability  \n3305              0.071031  \n3595              0.018077  \n3105              0.035182  \n1869              0.009879  \n909               0.026794  \n...                    ...  \n4376              0.017101  \n1948              0.014119  \n2043              0.023393  \n379               0.013225  \n5476              0.036535  \n\n[320 rows x 96 columns]",
      "text/html": "<div>\n<style scoped>\n    .dataframe tbody tr th:only-of-type {\n        vertical-align: middle;\n    }\n\n    .dataframe tbody tr th {\n        vertical-align: top;\n    }\n\n    .dataframe thead th {\n        text-align: right;\n    }\n</style>\n<table border=\"1\" class=\"dataframe\">\n  <thead>\n    <tr style=\"text-align: right;\">\n      <th></th>\n      <th>Bankrupt?</th>\n      <th>_ROA(C)_before_interest_and_depreciation_before_interest</th>\n      <th>_ROA(A)_before_interest_and_%_after_tax</th>\n      <th>_ROA(B)_before_interest_and_depreciation_after_tax</th>\n      <th>_Operating_Gross_Margin</th>\n      <th>_Realized_Sales_Gross_Margin</th>\n      <th>_Operating_Profit_Rate</th>\n      <th>_Pre-tax_net_Interest_Rate</th>\n      <th>_After-tax_net_Interest_Rate</th>\n      <th>_Non-industry_income_and_expenditure/revenue</th>\n      <th>...</th>\n      <th>_Net_Income_to_Total_Assets</th>\n      <th>_Total_assets_to_GNP_price</th>\n      <th>_No-credit_Interval</th>\n      <th>_Gross_Profit_to_Sales</th>\n      <th>_Net_Income_to_Stockholder's_Equity</th>\n      <th>_Liability_to_Equity</th>\n      <th>_Degree_of_Financial_Leverage_(DFL)</th>\n      <th>_Interest_Coverage_Ratio_(Interest_expense_to_EBIT)</th>\n      <th>_Net_Income_Flag</th>\n      <th>_Equity_to_Liability</th>\n    </tr>\n  </thead>\n  <tbody>\n    <tr>\n      <th>3305</th>\n      <td>0</td>\n      <td>0.469800</td>\n      <td>0.532490</td>\n      <td>0.521388</td>\n      <td>0.599598</td>\n      <td>0.599728</td>\n      <td>0.998853</td>\n      <td>0.797410</td>\n      <td>0.809313</td>\n      <td>0.303804</td>\n      <td>...</td>\n      <td>0.796196</td>\n      <td>0.003874</td>\n      <td>0.623539</td>\n      <td>0.599599</td>\n      <td>0.840054</td>\n      <td>0.276273</td>\n      <td>0.027807</td>\n      <td>0.567628</td>\n      <td>1</td>\n      <td>0.071031</td>\n    </tr>\n    <tr>\n      <th>3595</th>\n      <td>1</td>\n      <td>0.102325</td>\n      <td>0.121511</td>\n      <td>0.112212</td>\n      <td>0.585876</td>\n      <td>0.585876</td>\n      <td>0.998786</td>\n      <td>0.796917</td>\n      <td>0.808863</td>\n      <td>0.303082</td>\n      <td>...</td>\n      <td>0.481836</td>\n      <td>0.000692</td>\n      <td>0.623637</td>\n      <td>0.585875</td>\n      <td>0.798728</td>\n      <td>0.287020</td>\n      <td>0.026771</td>\n      <td>0.565059</td>\n      <td>1</td>\n      <td>0.018077</td>\n    </tr>\n    <tr>\n      <th>3105</th>\n      <td>0</td>\n      <td>0.502608</td>\n      <td>0.554568</td>\n      <td>0.552439</td>\n      <td>0.610271</td>\n      <td>0.610271</td>\n      <td>0.999017</td>\n      <td>0.797444</td>\n      <td>0.809366</td>\n      <td>0.303518</td>\n      <td>...</td>\n      <td>0.809193</td>\n      <td>0.000769</td>\n      <td>0.623814</td>\n      <td>0.610272</td>\n      <td>0.841005</td>\n      <td>0.278561</td>\n      <td>0.026861</td>\n      <td>0.565473</td>\n      <td>1</td>\n      <td>0.035182</td>\n    </tr>\n    <tr>\n      <th>1869</th>\n      <td>1</td>\n      <td>0.392775</td>\n      <td>0.432239</td>\n      <td>0.432946</td>\n      <td>0.586921</td>\n      <td>0.586921</td>\n      <td>0.998776</td>\n      <td>0.797126</td>\n      <td>0.809068</td>\n      <td>0.303470</td>\n      <td>...</td>\n      <td>0.722761</td>\n      <td>0.002418</td>\n      <td>0.622734</td>\n      <td>0.586923</td>\n      <td>0.976180</td>\n      <td>0.000000</td>\n      <td>0.026703</td>\n      <td>0.564698</td>\n      <td>1</td>\n      <td>0.009879</td>\n    </tr>\n    <tr>\n      <th>909</th>\n      <td>0</td>\n      <td>0.567153</td>\n      <td>0.620802</td>\n      <td>0.603084</td>\n      <td>0.612743</td>\n      <td>0.612649</td>\n      <td>0.999159</td>\n      <td>0.797726</td>\n      <td>0.809563</td>\n      <td>0.303714</td>\n      <td>...</td>\n      <td>0.842015</td>\n      <td>0.002594</td>\n      <td>0.623808</td>\n      <td>0.612742</td>\n      <td>0.844023</td>\n      <td>0.280526</td>\n      <td>0.026841</td>\n      <td>0.565385</td>\n      <td>1</td>\n      <td>0.026794</td>\n    </tr>\n    <tr>\n      <th>...</th>\n      <td>...</td>\n      <td>...</td>\n      <td>...</td>\n      <td>...</td>\n      <td>...</td>\n      <td>...</td>\n      <td>...</td>\n      <td>...</td>\n      <td>...</td>\n      <td>...</td>\n      <td>...</td>\n      <td>...</td>\n      <td>...</td>\n      <td>...</td>\n      <td>...</td>\n      <td>...</td>\n      <td>...</td>\n      <td>...</td>\n      <td>...</td>\n      <td>...</td>\n      <td>...</td>\n    </tr>\n    <tr>\n      <th>4376</th>\n      <td>1</td>\n      <td>0.387413</td>\n      <td>0.444614</td>\n      <td>0.430751</td>\n      <td>0.593220</td>\n      <td>0.593220</td>\n      <td>0.998839</td>\n      <td>0.797232</td>\n      <td>0.809165</td>\n      <td>0.303522</td>\n      <td>...</td>\n      <td>0.737802</td>\n      <td>0.004405</td>\n      <td>0.623770</td>\n      <td>0.593217</td>\n      <td>0.831685</td>\n      <td>0.288774</td>\n      <td>0.026739</td>\n      <td>0.564896</td>\n      <td>1</td>\n      <td>0.017101</td>\n    </tr>\n    <tr>\n      <th>1948</th>\n      <td>1</td>\n      <td>0.431044</td>\n      <td>0.445977</td>\n      <td>0.480218</td>\n      <td>0.578648</td>\n      <td>0.578648</td>\n      <td>0.998496</td>\n      <td>0.796746</td>\n      <td>0.808710</td>\n      <td>0.303389</td>\n      <td>...</td>\n      <td>0.739198</td>\n      <td>0.009917</td>\n      <td>0.623859</td>\n      <td>0.578644</td>\n      <td>0.827630</td>\n      <td>0.299581</td>\n      <td>0.026662</td>\n      <td>0.564454</td>\n      <td>1</td>\n      <td>0.014119</td>\n    </tr>\n    <tr>\n      <th>2043</th>\n      <td>1</td>\n      <td>0.417491</td>\n      <td>0.477976</td>\n      <td>0.462070</td>\n      <td>0.593962</td>\n      <td>0.599281</td>\n      <td>0.998506</td>\n      <td>0.794223</td>\n      <td>0.806224</td>\n      <td>0.298962</td>\n      <td>...</td>\n      <td>0.755672</td>\n      <td>0.013199</td>\n      <td>0.621529</td>\n      <td>0.593962</td>\n      <td>0.836136</td>\n      <td>0.282036</td>\n      <td>0.026574</td>\n      <td>0.563854</td>\n      <td>1</td>\n      <td>0.023393</td>\n    </tr>\n    <tr>\n      <th>379</th>\n      <td>1</td>\n      <td>0.453956</td>\n      <td>0.516082</td>\n      <td>0.501740</td>\n      <td>0.665151</td>\n      <td>0.665151</td>\n      <td>0.996295</td>\n      <td>0.776710</td>\n      <td>0.761550</td>\n      <td>0.272989</td>\n      <td>...</td>\n      <td>0.764289</td>\n      <td>0.003736</td>\n      <td>0.679350</td>\n      <td>0.665149</td>\n      <td>0.831484</td>\n      <td>0.307015</td>\n      <td>0.026351</td>\n      <td>0.561557</td>\n      <td>1</td>\n      <td>0.013225</td>\n    </tr>\n    <tr>\n      <th>5476</th>\n      <td>0</td>\n      <td>0.465851</td>\n      <td>0.507523</td>\n      <td>0.511055</td>\n      <td>0.599000</td>\n      <td>0.599000</td>\n      <td>0.998887</td>\n      <td>0.797182</td>\n      <td>0.809120</td>\n      <td>0.303334</td>\n      <td>...</td>\n      <td>0.779681</td>\n      <td>0.003246</td>\n      <td>0.604606</td>\n      <td>0.598998</td>\n      <td>0.838878</td>\n      <td>0.278362</td>\n      <td>0.026624</td>\n      <td>0.564210</td>\n      <td>1</td>\n      <td>0.036535</td>\n    </tr>\n  </tbody>\n</table>\n<p>320 rows × 96 columns</p>\n</div>"
     },
     "execution_count": 38,
     "metadata": {},
     "output_type": "execute_result"
    }
   ],
   "source": [
    "train_processed"
   ],
   "metadata": {
    "collapsed": false
   }
  },
  {
   "cell_type": "markdown",
   "source": [],
   "metadata": {
    "collapsed": false
   }
  },
  {
   "cell_type": "markdown",
   "source": [
    "## 2 PCA"
   ],
   "metadata": {
    "collapsed": false
   }
  },
  {
   "cell_type": "code",
   "execution_count": 42,
   "outputs": [
    {
     "data": {
      "text/plain": "              pc_1          pc_2          pc_3          pc_4          pc_5  \\\n3305 -2.392193e+09  3.275422e+09 -2.267013e+09  1.318670e+09  4.239757e+09   \n3595  2.253500e+09  6.729612e+09  3.891459e+09 -1.873843e+09 -2.440997e+09   \n3105 -1.801976e+09 -3.015222e+09 -3.326668e+09 -2.465097e+09  1.974788e+09   \n1869 -1.728401e+09  5.209058e+09  3.792798e+09 -5.673600e+09  2.533787e+09   \n909  -1.966364e+09  2.748545e+09 -3.076199e+09 -2.531952e+09  4.137480e+09   \n...            ...           ...           ...           ...           ...   \n4376  5.342634e+09  3.742443e+08 -4.284399e+09 -1.232283e+09 -8.970066e+08   \n1948 -1.518414e+09 -3.274122e+09 -1.577885e+09 -8.225395e+08  6.828404e+08   \n2043  2.947566e+08 -2.607557e+09 -3.775601e+09 -1.275958e+09  2.284580e+09   \n379  -2.416165e+09 -3.579135e+09 -2.468855e+08 -6.522698e+07 -2.982876e+08   \n5476  1.065086e+09  1.171651e+09 -3.484287e+07  4.660198e+09  4.755362e+08   \n\n              pc_6          pc_7          pc_8  \n3305  2.345050e+09 -5.108754e+08  1.664875e+09  \n3595 -5.951404e+08  3.392464e+09  3.474695e+09  \n3105  2.657419e+09  3.704901e+09 -5.437010e+09  \n1869  6.152609e+09  7.016889e+08 -9.904030e+08  \n909  -5.306814e+08 -2.305872e+09  3.151336e+09  \n...            ...           ...           ...  \n4376  6.370148e+08 -4.370873e+09 -3.409753e+09  \n1948 -1.004335e+09 -1.062821e+09  7.174313e+08  \n2043  2.529476e+09 -4.489599e+09  3.690549e+09  \n379  -2.943774e+09  2.775008e+07  5.844385e+07  \n5476 -1.661153e+09 -9.138730e+08 -1.916917e+09  \n\n[320 rows x 8 columns]",
      "text/html": "<div>\n<style scoped>\n    .dataframe tbody tr th:only-of-type {\n        vertical-align: middle;\n    }\n\n    .dataframe tbody tr th {\n        vertical-align: top;\n    }\n\n    .dataframe thead th {\n        text-align: right;\n    }\n</style>\n<table border=\"1\" class=\"dataframe\">\n  <thead>\n    <tr style=\"text-align: right;\">\n      <th></th>\n      <th>pc_1</th>\n      <th>pc_2</th>\n      <th>pc_3</th>\n      <th>pc_4</th>\n      <th>pc_5</th>\n      <th>pc_6</th>\n      <th>pc_7</th>\n      <th>pc_8</th>\n    </tr>\n  </thead>\n  <tbody>\n    <tr>\n      <th>3305</th>\n      <td>-2.392193e+09</td>\n      <td>3.275422e+09</td>\n      <td>-2.267013e+09</td>\n      <td>1.318670e+09</td>\n      <td>4.239757e+09</td>\n      <td>2.345050e+09</td>\n      <td>-5.108754e+08</td>\n      <td>1.664875e+09</td>\n    </tr>\n    <tr>\n      <th>3595</th>\n      <td>2.253500e+09</td>\n      <td>6.729612e+09</td>\n      <td>3.891459e+09</td>\n      <td>-1.873843e+09</td>\n      <td>-2.440997e+09</td>\n      <td>-5.951404e+08</td>\n      <td>3.392464e+09</td>\n      <td>3.474695e+09</td>\n    </tr>\n    <tr>\n      <th>3105</th>\n      <td>-1.801976e+09</td>\n      <td>-3.015222e+09</td>\n      <td>-3.326668e+09</td>\n      <td>-2.465097e+09</td>\n      <td>1.974788e+09</td>\n      <td>2.657419e+09</td>\n      <td>3.704901e+09</td>\n      <td>-5.437010e+09</td>\n    </tr>\n    <tr>\n      <th>1869</th>\n      <td>-1.728401e+09</td>\n      <td>5.209058e+09</td>\n      <td>3.792798e+09</td>\n      <td>-5.673600e+09</td>\n      <td>2.533787e+09</td>\n      <td>6.152609e+09</td>\n      <td>7.016889e+08</td>\n      <td>-9.904030e+08</td>\n    </tr>\n    <tr>\n      <th>909</th>\n      <td>-1.966364e+09</td>\n      <td>2.748545e+09</td>\n      <td>-3.076199e+09</td>\n      <td>-2.531952e+09</td>\n      <td>4.137480e+09</td>\n      <td>-5.306814e+08</td>\n      <td>-2.305872e+09</td>\n      <td>3.151336e+09</td>\n    </tr>\n    <tr>\n      <th>...</th>\n      <td>...</td>\n      <td>...</td>\n      <td>...</td>\n      <td>...</td>\n      <td>...</td>\n      <td>...</td>\n      <td>...</td>\n      <td>...</td>\n    </tr>\n    <tr>\n      <th>4376</th>\n      <td>5.342634e+09</td>\n      <td>3.742443e+08</td>\n      <td>-4.284399e+09</td>\n      <td>-1.232283e+09</td>\n      <td>-8.970066e+08</td>\n      <td>6.370148e+08</td>\n      <td>-4.370873e+09</td>\n      <td>-3.409753e+09</td>\n    </tr>\n    <tr>\n      <th>1948</th>\n      <td>-1.518414e+09</td>\n      <td>-3.274122e+09</td>\n      <td>-1.577885e+09</td>\n      <td>-8.225395e+08</td>\n      <td>6.828404e+08</td>\n      <td>-1.004335e+09</td>\n      <td>-1.062821e+09</td>\n      <td>7.174313e+08</td>\n    </tr>\n    <tr>\n      <th>2043</th>\n      <td>2.947566e+08</td>\n      <td>-2.607557e+09</td>\n      <td>-3.775601e+09</td>\n      <td>-1.275958e+09</td>\n      <td>2.284580e+09</td>\n      <td>2.529476e+09</td>\n      <td>-4.489599e+09</td>\n      <td>3.690549e+09</td>\n    </tr>\n    <tr>\n      <th>379</th>\n      <td>-2.416165e+09</td>\n      <td>-3.579135e+09</td>\n      <td>-2.468855e+08</td>\n      <td>-6.522698e+07</td>\n      <td>-2.982876e+08</td>\n      <td>-2.943774e+09</td>\n      <td>2.775008e+07</td>\n      <td>5.844385e+07</td>\n    </tr>\n    <tr>\n      <th>5476</th>\n      <td>1.065086e+09</td>\n      <td>1.171651e+09</td>\n      <td>-3.484287e+07</td>\n      <td>4.660198e+09</td>\n      <td>4.755362e+08</td>\n      <td>-1.661153e+09</td>\n      <td>-9.138730e+08</td>\n      <td>-1.916917e+09</td>\n    </tr>\n  </tbody>\n</table>\n<p>320 rows × 8 columns</p>\n</div>"
     },
     "execution_count": 42,
     "metadata": {},
     "output_type": "execute_result"
    }
   ],
   "source": [
    "from sklearn.decomposition import PCA\n",
    "\n",
    "pd.DataFrame(PCA(n_components=.90).fit_transform(train_processed.drop('Bankrupt?', axis=1)),\n",
    "             index=train_processed.index,\n",
    "             columns=[f\"pc_{i+1}\" for i in range(8)])\n"
   ],
   "metadata": {
    "collapsed": false
   }
  },
  {
   "cell_type": "code",
   "execution_count": 43,
   "outputs": [],
   "source": [
    "def get_pca(df, target, pca_var_threshold=.90, vars_untransformed=[]):\n",
    "\n",
    "    pca_t = PCA(n_components=pca_var_threshold).fit_transform(\n",
    "        df.drop([target]+vars_untransformed, axis=1))\n",
    "    pca_t = pd.DataFrame(pca_t, index=df.index, columns=[f\"pc_{i+1}\" for i in range(pca_t.shape[1])])\n",
    "\n",
    "    return pca_t"
   ],
   "metadata": {
    "collapsed": false
   }
  },
  {
   "cell_type": "code",
   "execution_count": 44,
   "outputs": [],
   "source": [
    "def add_pca(df, target, pca_var_threshold=.90, vars_untransformed=[]):\n",
    "\n",
    "    df_pca_added = df.copy()\n",
    "    df_pca_added = pd.concat([get_pca(df, target, pca_var_threshold, vars_untransformed),\n",
    "                              df_pca_added],\n",
    "                             axis=1)\n",
    "    return df_pca_added"
   ],
   "metadata": {
    "collapsed": false
   }
  },
  {
   "cell_type": "code",
   "execution_count": 45,
   "outputs": [],
   "source": [
    "def get_n_pc(df):\n",
    "    return df.filter(regex=\"pc.*\").shape[1]"
   ],
   "metadata": {
    "collapsed": false
   }
  },
  {
   "cell_type": "code",
   "execution_count": 46,
   "outputs": [],
   "source": [
    "train_processed_pca = add_pca(train_processed, \"Bankrupt?\")\n",
    "test_processed_pca = add_pca(test_processed, \"Bankrupt?\", pca_var_threshold=get_n_pc(train_processed_pca))"
   ],
   "metadata": {
    "collapsed": false
   }
  },
  {
   "cell_type": "markdown",
   "source": [
    "# 3 Modelling"
   ],
   "metadata": {
    "collapsed": false
   }
  },
  {
   "cell_type": "code",
   "execution_count": 47,
   "outputs": [],
   "source": [
    "from sklearn.model_selection import train_test_split\n",
    "features = [f\"pc_{pc+1}\" for pc in range(3)]\n"
   ],
   "metadata": {
    "collapsed": false
   }
  },
  {
   "cell_type": "code",
   "execution_count": 48,
   "outputs": [
    {
     "data": {
      "text/plain": "['pc_1', 'pc_2', 'pc_3']"
     },
     "execution_count": 48,
     "metadata": {},
     "output_type": "execute_result"
    }
   ],
   "source": [
    "features"
   ],
   "metadata": {
    "collapsed": false
   }
  },
  {
   "cell_type": "code",
   "execution_count": 49,
   "outputs": [],
   "source": [
    "from sklearn.ensemble import RandomForestClassifier\n",
    "from sklearn.model_selection import GridSearchCV\n",
    "\n",
    "clf = RandomForestClassifier()\n",
    "\n",
    "param_grid = {\n",
    "    'n_estimators': [3, 10, 20],\n",
    "    'criterion': ['gini', 'entropy'],\n",
    "    'min_samples_split': [2, 5],\n",
    "    'min_samples_leaf': [1, 2],\n",
    "    'bootstrap': [True, False]\n",
    "}\n",
    "\n",
    "grid_search = GridSearchCV(clf, param_grid, cv=5, scoring='accuracy', return_train_score=True)\n",
    "grid_search_fit = grid_search.fit(train_processed_pca[features], train_processed_pca['Bankrupt?'])\n",
    "\n"
   ],
   "metadata": {
    "collapsed": false
   }
  },
  {
   "cell_type": "code",
   "execution_count": null,
   "outputs": [],
   "source": [
    "grid_search"
   ],
   "metadata": {
    "collapsed": false
   }
  },
  {
   "cell_type": "code",
   "execution_count": null,
   "outputs": [],
   "source": [
    "cvres = grid_search.cv_results_"
   ],
   "metadata": {
    "collapsed": false
   }
  },
  {
   "cell_type": "code",
   "execution_count": null,
   "outputs": [],
   "source": [
    "for mean_score, params in zip(cvres[\"mean_test_score\"], cvres[\"params\"]):\n",
    "    print(np.sqrt(-mean_score), params)"
   ],
   "metadata": {
    "collapsed": false
   }
  },
  {
   "cell_type": "code",
   "execution_count": null,
   "outputs": [],
   "source": [
    "grid_search.predict(train_processed_pca[features])"
   ],
   "metadata": {
    "collapsed": false
   }
  },
  {
   "cell_type": "code",
   "execution_count": null,
   "outputs": [],
   "source": [
    "from sklearn.metrics import confusion_matrix, plot_confusion_matrix\n",
    "cm = confusion_matrix(grid_search.predict(train_processed_pca[features]), train_processed_pca['Bankrupt?'])"
   ],
   "metadata": {
    "collapsed": false
   }
  },
  {
   "cell_type": "code",
   "execution_count": null,
   "outputs": [],
   "source": [
    "import seaborn as sns\n",
    "sns.heatmap(cm, annot=True)"
   ],
   "metadata": {
    "collapsed": false
   }
  },
  {
   "cell_type": "code",
   "execution_count": null,
   "outputs": [],
   "source": [
    "pred = grid_search.predict(test_processed_pca[features])"
   ],
   "metadata": {
    "collapsed": false
   }
  },
  {
   "cell_type": "code",
   "execution_count": null,
   "outputs": [],
   "source": [
    "cfn_matrix"
   ],
   "metadata": {
    "collapsed": false
   }
  }
 ],
 "metadata": {
  "kernelspec": {
   "display_name": "Python 3",
   "language": "python",
   "name": "python3"
  },
  "language_info": {
   "codemirror_mode": {
    "name": "ipython",
    "version": 2
   },
   "file_extension": ".py",
   "mimetype": "text/x-python",
   "name": "python",
   "nbconvert_exporter": "python",
   "pygments_lexer": "ipython2",
   "version": "2.7.6"
  }
 },
 "nbformat": 4,
 "nbformat_minor": 0
}

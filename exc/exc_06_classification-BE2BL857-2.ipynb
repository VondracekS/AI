{
 "cells": [
  {
   "cell_type": "code",
   "execution_count": null,
   "outputs": [],
   "source": [
    "# Exc 06: Classification"
   ],
   "metadata": {
    "collapsed": false,
    "pycharm": {
     "name": "#%%\n"
    }
   }
  },
  {
   "cell_type": "code",
   "execution_count": 1,
   "outputs": [],
   "source": [
    "# imports\n",
    "import pandas as pd\n",
    "import numpy as np\n"
   ],
   "metadata": {
    "collapsed": false,
    "pycharm": {
     "name": "#%%\n"
    }
   }
  },
  {
   "cell_type": "code",
   "execution_count": null,
   "outputs": [],
   "source": [
    "data_zopa = pd.read_csv(\"../data/zsnew.csv\")"
   ],
   "metadata": {
    "collapsed": false,
    "pycharm": {
     "name": "#%%\n"
    }
   }
  },
  {
   "cell_type": "code",
   "execution_count": 19,
   "outputs": [
    {
     "data": {
      "text/plain": "0        0\n1        0\n2        0\n3        0\n4        1\n        ..\n19995    0\n19996    1\n19997    0\n19998    0\n19999    0\nName: default, Length: 20000, dtype: int64"
     },
     "execution_count": 19,
     "metadata": {},
     "output_type": "execute_result"
    }
   ],
   "source": [
    "data_zopa.default"
   ],
   "metadata": {
    "collapsed": false,
    "pycharm": {
     "name": "#%%\n"
    }
   }
  },
  {
   "cell_type": "code",
   "execution_count": 18,
   "outputs": [
    {
     "data": {
      "text/plain": "dtype('O')"
     },
     "execution_count": 18,
     "metadata": {},
     "output_type": "execute_result"
    }
   ],
   "source": [
    "data_zopa.defdate"
   ],
   "metadata": {
    "collapsed": false,
    "pycharm": {
     "name": "#%%\n"
    }
   }
  },
  {
   "cell_type": "code",
   "execution_count": 48,
   "outputs": [],
   "source": [
    "from sklearn.model_selection import train_test_split\n",
    "\n",
    "data_train, data_test = train_test_split(data_zopa)"
   ],
   "metadata": {
    "collapsed": false,
    "pycharm": {
     "name": "#%%\n"
    }
   }
  },
  {
   "cell_type": "code",
   "execution_count": 49,
   "outputs": [
    {
     "data": {
      "text/plain": "count    15000.000000\nmean         0.083000\nstd          0.275891\nmin          0.000000\n25%          0.000000\n50%          0.000000\n75%          0.000000\nmax          1.000000\nName: default, dtype: float64"
     },
     "execution_count": 49,
     "metadata": {},
     "output_type": "execute_result"
    }
   ],
   "source": [
    "data_train.default.describe()"
   ],
   "metadata": {
    "collapsed": false,
    "pycharm": {
     "name": "#%%\n"
    }
   }
  },
  {
   "cell_type": "code",
   "execution_count": 50,
   "outputs": [
    {
     "data": {
      "text/plain": "1245"
     },
     "execution_count": 50,
     "metadata": {},
     "output_type": "execute_result"
    }
   ],
   "source": [
    "def_len = int(data_train.default.mean()*len(data_train.default))\n",
    "def_len"
   ],
   "metadata": {
    "collapsed": false,
    "pycharm": {
     "name": "#%%\n"
    }
   }
  },
  {
   "cell_type": "code",
   "execution_count": 1,
   "outputs": [
    {
     "ename": "NameError",
     "evalue": "name 'data_train' is not defined",
     "output_type": "error",
     "traceback": [
      "\u001B[1;31m---------------------------------------------------------------------------\u001B[0m",
      "\u001B[1;31mNameError\u001B[0m                                 Traceback (most recent call last)",
      "Cell \u001B[1;32mIn [1], line 2\u001B[0m\n\u001B[0;32m      1\u001B[0m \u001B[38;5;28;01mfrom\u001B[39;00m \u001B[38;5;21;01msklearn\u001B[39;00m\u001B[38;5;21;01m.\u001B[39;00m\u001B[38;5;21;01mutils\u001B[39;00m \u001B[38;5;28;01mimport\u001B[39;00m resample\n\u001B[1;32m----> 2\u001B[0m train_downsampled \u001B[38;5;241m=\u001B[39m resample(\u001B[43mdata_train\u001B[49m\u001B[38;5;241m.\u001B[39mloc[data_train[\u001B[38;5;124m'\u001B[39m\u001B[38;5;124mdefault\u001B[39m\u001B[38;5;124m'\u001B[39m]\u001B[38;5;241m==\u001B[39m\u001B[38;5;241m0\u001B[39m], replace\u001B[38;5;241m=\u001B[39m\u001B[38;5;28;01mTrue\u001B[39;00m, n_samples\u001B[38;5;241m=\u001B[39mdef_len, random_state\u001B[38;5;241m=\u001B[39m\u001B[38;5;241m42\u001B[39m)\n",
      "\u001B[1;31mNameError\u001B[0m: name 'data_train' is not defined"
     ]
    }
   ],
   "source": [
    "from sklearn.utils import resample\n",
    "train_downsampled = resample(data_train.loc[data_train['default']==0], replace=True, n_samples=def_len, random_state=42)"
   ],
   "metadata": {
    "collapsed": false,
    "pycharm": {
     "name": "#%%\n"
    }
   }
  },
  {
   "cell_type": "code",
   "execution_count": 52,
   "outputs": [
    {
     "data": {
      "text/plain": "       Unnamed: 0                                  Encrypted.Loan.ID  \\\n484        530774  KTjJvL+AgTnEzo3hU1K+dX7Qz19n7lfVpjMj6dsfjBlOKh...   \n7957        49811  KWC7gQf0iU8MPVn6gTcIsK3ptx0foLOYJfyrpB9PEuf4Gf...   \n9108       712487  KdPauy4Vb0HmA/RP03sldBKyy4I2D8EqXUvTWa8VoTJ5KU...   \n17431      216822  KgbruOpP1vPCvECz+9qEve1mp+ZnC9mmM68d803WEgsWuD...   \n8347       458498  K9J6FCZL87zjU4RObSsP56gvJGCqccaVp/YKbWtbAxYuKh...   \n...           ...                                                ...   \n8796       194994  K1K2XTyvHTB0bgEN0WSMIqub++5q08BgTFG0qxEL3yeCuD...   \n11564      623446  KERiJgMxoGkf5oy+2S+xGedXZIaQ8Y3SJ1Kr4q06rkeVtA...   \n8905        43769  K1r1rHzP2VJlQ8uLpVry6C3ptx0foLOYJfyrpB9PEuf4Gf...   \n16868      615709  K1UcUgjpGViT87RRHj4I1Icybmq1GoHDmdd0QjJomeuNtA...   \n4940       492340  KmQvED56Z5wyUTFekJJ+TkBFqwHQwaF7UhYqeSEC1wBWKh...   \n\n                                   Encrypted.Borrower.ID  date.start  \\\n484    KCQg2fV9Fcg3kriIl/p1MKbQz19n7lfVpjMj6dsfjBlOKh...  2014-07-08   \n7957   KwDXmGiRaSbQ9cjc3fCTbl3ptx0foLOYJfyrpB9PEuf4Gf...  2013-08-14   \n9108   KBGvWHiu46KMjyn2I+fotgqyy4I2D8EqXUvTWa8VoTJ5KU...  2012-04-30   \n17431  Kip5sQapSCY2Iprw4qokgl7Qz19n7lfVpjMj6dsfjBlOKh...  2014-04-04   \n8347   KSfSe6gluiuBVP5Desz3zaQvJGCqccaVp/YKbWtbAxYuKh...  2016-09-15   \n...                                                  ...         ...   \n8796   KG4I4nDmopH2wAhk3ERZMH+b++5q08BgTFG0qxEL3yeCuD...  2016-08-30   \n11564  Kjsn0+QHeLt8imXpl+x9n7wxc8hD2AjLZAGIdQZMDTjmuD...  2017-12-14   \n8905   K7+oF091LZNhTgRewzBNKYXptx0foLOYJfyrpB9PEuf4Gf...  2013-04-18   \n16868  KRwQ1pzlB9dSaGHa8TMGIOOb++5q08BgTFG0qxEL3yeCuD...  2017-10-27   \n4940   KshRXXS4NPVj552jn0mvq8mmm2qefGiztTF2m/pK76lmuD...  2015-12-10   \n\n        last.date defdate   amount  pri.coll    int.coll  numpay  ...  \\\n484    2016-07-29     NaN   2700.0    2700.0  394.388375      24  ...   \n7957   2016-09-08     NaN   4820.0    4820.0  496.610000      36  ...   \n9108   2013-10-08     NaN   4190.0    4190.0  293.850000      18  ...   \n17431  2015-07-21     NaN   7600.0    7600.0  336.760000      15  ...   \n8347   2017-05-03     NaN   5390.0    5390.0  525.750000       9  ...   \n...           ...     ...      ...       ...         ...     ...  ...   \n8796   2017-10-24     NaN  13000.0   13000.0  420.410000      14  ...   \n11564  2018-06-25     NaN   7900.0    7900.0  112.880000      11  ...   \n8905   2013-10-31     NaN   4120.0    4120.0  132.280400       6  ...   \n16868  2018-11-02     NaN   1060.0    1060.0  106.660000      12  ...   \n4940   2018-01-03     NaN  13430.0   13430.0  941.923800      25  ...   \n\n                 FV       MIRR    DD  time.start  time.end      RINV  \\\n484     3126.890035   7.384581   752        3413      4165  5.033478   \n7957    5386.325000   3.683308  1121        3085      4206  5.590457   \n9108    4540.580000   5.734277   526        2614      3140  6.583286   \n17431   7980.558000   3.842373   473        3318      3791  5.224407   \n8347    5928.085000  16.300620   230        4213      4443  5.022630   \n...             ...        ...   ...         ...       ...       ...   \n8796   13473.590000   3.158521   420        4197      4617  5.030558   \n11564   8027.654000   3.077926   193        4668      4861  5.741929   \n8905    4260.799000   6.457774   196        2967      3163  5.675294   \n16868   1170.715000  10.267530   371        4620      4991  5.713273   \n4940   14522.290000   3.852579   755        3933      4688  4.608383   \n\n           MIRR2           FV2  amount_ln  time.start2  \n484     9.407905   3249.486889   7.901007    1164.8569  \n7957    6.051099   5773.113000   8.480529     951.7225  \n9108    8.045810   4684.317000   8.340456     683.2996  \n17431   5.903875   8186.469000   8.935904    1100.9120  \n8347   18.476590   5997.736000   8.592301    1774.9370  \n...          ...           ...        ...          ...  \n8796    5.186212  13778.790000   9.472705    1761.4810  \n11564   5.366782   8121.422000   8.974618    2179.0220  \n8905    8.536657   4305.279000   8.323608     880.3089  \n16868  12.740720   1197.410000   6.966024    2134.4400  \n4940    5.608728  15034.840000   9.505246    1546.8490  \n\n[1245 rows x 226 columns]",
      "text/html": "<div>\n<style scoped>\n    .dataframe tbody tr th:only-of-type {\n        vertical-align: middle;\n    }\n\n    .dataframe tbody tr th {\n        vertical-align: top;\n    }\n\n    .dataframe thead th {\n        text-align: right;\n    }\n</style>\n<table border=\"1\" class=\"dataframe\">\n  <thead>\n    <tr style=\"text-align: right;\">\n      <th></th>\n      <th>Unnamed: 0</th>\n      <th>Encrypted.Loan.ID</th>\n      <th>Encrypted.Borrower.ID</th>\n      <th>date.start</th>\n      <th>last.date</th>\n      <th>defdate</th>\n      <th>amount</th>\n      <th>pri.coll</th>\n      <th>int.coll</th>\n      <th>numpay</th>\n      <th>...</th>\n      <th>FV</th>\n      <th>MIRR</th>\n      <th>DD</th>\n      <th>time.start</th>\n      <th>time.end</th>\n      <th>RINV</th>\n      <th>MIRR2</th>\n      <th>FV2</th>\n      <th>amount_ln</th>\n      <th>time.start2</th>\n    </tr>\n  </thead>\n  <tbody>\n    <tr>\n      <th>484</th>\n      <td>530774</td>\n      <td>KTjJvL+AgTnEzo3hU1K+dX7Qz19n7lfVpjMj6dsfjBlOKh...</td>\n      <td>KCQg2fV9Fcg3kriIl/p1MKbQz19n7lfVpjMj6dsfjBlOKh...</td>\n      <td>2014-07-08</td>\n      <td>2016-07-29</td>\n      <td>NaN</td>\n      <td>2700.0</td>\n      <td>2700.0</td>\n      <td>394.388375</td>\n      <td>24</td>\n      <td>...</td>\n      <td>3126.890035</td>\n      <td>7.384581</td>\n      <td>752</td>\n      <td>3413</td>\n      <td>4165</td>\n      <td>5.033478</td>\n      <td>9.407905</td>\n      <td>3249.486889</td>\n      <td>7.901007</td>\n      <td>1164.8569</td>\n    </tr>\n    <tr>\n      <th>7957</th>\n      <td>49811</td>\n      <td>KWC7gQf0iU8MPVn6gTcIsK3ptx0foLOYJfyrpB9PEuf4Gf...</td>\n      <td>KwDXmGiRaSbQ9cjc3fCTbl3ptx0foLOYJfyrpB9PEuf4Gf...</td>\n      <td>2013-08-14</td>\n      <td>2016-09-08</td>\n      <td>NaN</td>\n      <td>4820.0</td>\n      <td>4820.0</td>\n      <td>496.610000</td>\n      <td>36</td>\n      <td>...</td>\n      <td>5386.325000</td>\n      <td>3.683308</td>\n      <td>1121</td>\n      <td>3085</td>\n      <td>4206</td>\n      <td>5.590457</td>\n      <td>6.051099</td>\n      <td>5773.113000</td>\n      <td>8.480529</td>\n      <td>951.7225</td>\n    </tr>\n    <tr>\n      <th>9108</th>\n      <td>712487</td>\n      <td>KdPauy4Vb0HmA/RP03sldBKyy4I2D8EqXUvTWa8VoTJ5KU...</td>\n      <td>KBGvWHiu46KMjyn2I+fotgqyy4I2D8EqXUvTWa8VoTJ5KU...</td>\n      <td>2012-04-30</td>\n      <td>2013-10-08</td>\n      <td>NaN</td>\n      <td>4190.0</td>\n      <td>4190.0</td>\n      <td>293.850000</td>\n      <td>18</td>\n      <td>...</td>\n      <td>4540.580000</td>\n      <td>5.734277</td>\n      <td>526</td>\n      <td>2614</td>\n      <td>3140</td>\n      <td>6.583286</td>\n      <td>8.045810</td>\n      <td>4684.317000</td>\n      <td>8.340456</td>\n      <td>683.2996</td>\n    </tr>\n    <tr>\n      <th>17431</th>\n      <td>216822</td>\n      <td>KgbruOpP1vPCvECz+9qEve1mp+ZnC9mmM68d803WEgsWuD...</td>\n      <td>Kip5sQapSCY2Iprw4qokgl7Qz19n7lfVpjMj6dsfjBlOKh...</td>\n      <td>2014-04-04</td>\n      <td>2015-07-21</td>\n      <td>NaN</td>\n      <td>7600.0</td>\n      <td>7600.0</td>\n      <td>336.760000</td>\n      <td>15</td>\n      <td>...</td>\n      <td>7980.558000</td>\n      <td>3.842373</td>\n      <td>473</td>\n      <td>3318</td>\n      <td>3791</td>\n      <td>5.224407</td>\n      <td>5.903875</td>\n      <td>8186.469000</td>\n      <td>8.935904</td>\n      <td>1100.9120</td>\n    </tr>\n    <tr>\n      <th>8347</th>\n      <td>458498</td>\n      <td>K9J6FCZL87zjU4RObSsP56gvJGCqccaVp/YKbWtbAxYuKh...</td>\n      <td>KSfSe6gluiuBVP5Desz3zaQvJGCqccaVp/YKbWtbAxYuKh...</td>\n      <td>2016-09-15</td>\n      <td>2017-05-03</td>\n      <td>NaN</td>\n      <td>5390.0</td>\n      <td>5390.0</td>\n      <td>525.750000</td>\n      <td>9</td>\n      <td>...</td>\n      <td>5928.085000</td>\n      <td>16.300620</td>\n      <td>230</td>\n      <td>4213</td>\n      <td>4443</td>\n      <td>5.022630</td>\n      <td>18.476590</td>\n      <td>5997.736000</td>\n      <td>8.592301</td>\n      <td>1774.9370</td>\n    </tr>\n    <tr>\n      <th>...</th>\n      <td>...</td>\n      <td>...</td>\n      <td>...</td>\n      <td>...</td>\n      <td>...</td>\n      <td>...</td>\n      <td>...</td>\n      <td>...</td>\n      <td>...</td>\n      <td>...</td>\n      <td>...</td>\n      <td>...</td>\n      <td>...</td>\n      <td>...</td>\n      <td>...</td>\n      <td>...</td>\n      <td>...</td>\n      <td>...</td>\n      <td>...</td>\n      <td>...</td>\n      <td>...</td>\n    </tr>\n    <tr>\n      <th>8796</th>\n      <td>194994</td>\n      <td>K1K2XTyvHTB0bgEN0WSMIqub++5q08BgTFG0qxEL3yeCuD...</td>\n      <td>KG4I4nDmopH2wAhk3ERZMH+b++5q08BgTFG0qxEL3yeCuD...</td>\n      <td>2016-08-30</td>\n      <td>2017-10-24</td>\n      <td>NaN</td>\n      <td>13000.0</td>\n      <td>13000.0</td>\n      <td>420.410000</td>\n      <td>14</td>\n      <td>...</td>\n      <td>13473.590000</td>\n      <td>3.158521</td>\n      <td>420</td>\n      <td>4197</td>\n      <td>4617</td>\n      <td>5.030558</td>\n      <td>5.186212</td>\n      <td>13778.790000</td>\n      <td>9.472705</td>\n      <td>1761.4810</td>\n    </tr>\n    <tr>\n      <th>11564</th>\n      <td>623446</td>\n      <td>KERiJgMxoGkf5oy+2S+xGedXZIaQ8Y3SJ1Kr4q06rkeVtA...</td>\n      <td>Kjsn0+QHeLt8imXpl+x9n7wxc8hD2AjLZAGIdQZMDTjmuD...</td>\n      <td>2017-12-14</td>\n      <td>2018-06-25</td>\n      <td>NaN</td>\n      <td>7900.0</td>\n      <td>7900.0</td>\n      <td>112.880000</td>\n      <td>11</td>\n      <td>...</td>\n      <td>8027.654000</td>\n      <td>3.077926</td>\n      <td>193</td>\n      <td>4668</td>\n      <td>4861</td>\n      <td>5.741929</td>\n      <td>5.366782</td>\n      <td>8121.422000</td>\n      <td>8.974618</td>\n      <td>2179.0220</td>\n    </tr>\n    <tr>\n      <th>8905</th>\n      <td>43769</td>\n      <td>K1r1rHzP2VJlQ8uLpVry6C3ptx0foLOYJfyrpB9PEuf4Gf...</td>\n      <td>K7+oF091LZNhTgRewzBNKYXptx0foLOYJfyrpB9PEuf4Gf...</td>\n      <td>2013-04-18</td>\n      <td>2013-10-31</td>\n      <td>NaN</td>\n      <td>4120.0</td>\n      <td>4120.0</td>\n      <td>132.280400</td>\n      <td>6</td>\n      <td>...</td>\n      <td>4260.799000</td>\n      <td>6.457774</td>\n      <td>196</td>\n      <td>2967</td>\n      <td>3163</td>\n      <td>5.675294</td>\n      <td>8.536657</td>\n      <td>4305.279000</td>\n      <td>8.323608</td>\n      <td>880.3089</td>\n    </tr>\n    <tr>\n      <th>16868</th>\n      <td>615709</td>\n      <td>K1UcUgjpGViT87RRHj4I1Icybmq1GoHDmdd0QjJomeuNtA...</td>\n      <td>KRwQ1pzlB9dSaGHa8TMGIOOb++5q08BgTFG0qxEL3yeCuD...</td>\n      <td>2017-10-27</td>\n      <td>2018-11-02</td>\n      <td>NaN</td>\n      <td>1060.0</td>\n      <td>1060.0</td>\n      <td>106.660000</td>\n      <td>12</td>\n      <td>...</td>\n      <td>1170.715000</td>\n      <td>10.267530</td>\n      <td>371</td>\n      <td>4620</td>\n      <td>4991</td>\n      <td>5.713273</td>\n      <td>12.740720</td>\n      <td>1197.410000</td>\n      <td>6.966024</td>\n      <td>2134.4400</td>\n    </tr>\n    <tr>\n      <th>4940</th>\n      <td>492340</td>\n      <td>KmQvED56Z5wyUTFekJJ+TkBFqwHQwaF7UhYqeSEC1wBWKh...</td>\n      <td>KshRXXS4NPVj552jn0mvq8mmm2qefGiztTF2m/pK76lmuD...</td>\n      <td>2015-12-10</td>\n      <td>2018-01-03</td>\n      <td>NaN</td>\n      <td>13430.0</td>\n      <td>13430.0</td>\n      <td>941.923800</td>\n      <td>25</td>\n      <td>...</td>\n      <td>14522.290000</td>\n      <td>3.852579</td>\n      <td>755</td>\n      <td>3933</td>\n      <td>4688</td>\n      <td>4.608383</td>\n      <td>5.608728</td>\n      <td>15034.840000</td>\n      <td>9.505246</td>\n      <td>1546.8490</td>\n    </tr>\n  </tbody>\n</table>\n<p>1245 rows × 226 columns</p>\n</div>"
     },
     "execution_count": 52,
     "metadata": {},
     "output_type": "execute_result"
    }
   ],
   "source": [
    "train_downsampled"
   ],
   "metadata": {
    "collapsed": false,
    "pycharm": {
     "name": "#%%\n"
    }
   }
  },
  {
   "cell_type": "code",
   "execution_count": 53,
   "outputs": [],
   "source": [
    "data_zopa_balanced = pd.concat([train_downsampled, data_train.loc[data_train['default']==1]])"
   ],
   "metadata": {
    "collapsed": false,
    "pycharm": {
     "name": "#%%\n"
    }
   }
  },
  {
   "cell_type": "code",
   "execution_count": 54,
   "outputs": [
    {
     "data": {
      "text/plain": "0    1245\n1    1245\nName: default, dtype: int64"
     },
     "execution_count": 54,
     "metadata": {},
     "output_type": "execute_result"
    }
   ],
   "source": [
    "data_zopa_balanced.default.value_counts()"
   ],
   "metadata": {
    "collapsed": false,
    "pycharm": {
     "name": "#%%\n"
    }
   }
  },
  {
   "cell_type": "code",
   "execution_count": 45,
   "outputs": [
    {
     "data": {
      "text/plain": "       Unnamed: 0                                  Encrypted.Loan.ID  \\\n17213      583214  Kt4zMkebXR9xvoZizOyFk+obNjYNUeeawiNvFJrlY2sxtA...   \n938        228879  KqTzpNEzQVxZ+WDlLpgdCZgxc8hD2AjLZAGIdQZMDTjmuD...   \n5866       153057  KWQILy4HksNcYWdx+FUmow7mYjJtEQMlBwiWyxd+mEtmuD...   \n13027      463161  KMRSgfVQ2umhn4NZGVKftiQvJGCqccaVp/YKbWtbAxYuKh...   \n12285      223032  K0xaiFu6GVyTPYjVhqfVqdlmp+ZnC9mmM68d803WEgsWuD...   \n...           ...                                                ...   \n19967      571511  KzuzOMqyuTc8o5SwFfVtoi8Mjcui+kmunswLgoJBQcXRtA...   \n19976       93676  K/oxskUt465PAe9jrMna8TDzGfYrE/kEz2wFssNd4Z6geJ...   \n19980      214963  KZJjABvnOq1jcOa4R6aLk8Gmm2qefGiztTF2m/pK76lmuD...   \n19983      486671  KERV/9c19Rfjow6veMl9zDhFqwHQwaF7UhYqeSEC1wBWKh...   \n19996      589880  KTMd3rGCeIwkIQQ53lIEqEYbNjYNUeeawiNvFJrlY2sxtA...   \n\n                                   Encrypted.Borrower.ID  date.start  \\\n17213  K0aeYFeDUFdo0lDU5+1lANdJBNHplnYhPYtt5dq8mNutW0...  2017-04-24   \n938    KDQ/4jCKAso61vStDeoJGMu4nLEdNGW1MhqtBL5C9dGrxb...  2015-01-20   \n5866   K3tR+nrKFkeM9vpug5UtCDwvJGCqccaVp/YKbWtbAxYuKh...  2016-12-21   \n13027  KsluPHTZZuXCbJat3vBbCcLmYjJtEQMlBwiWyxd+mEtmuD...  2016-10-08   \n12285  KYZxRUe3iPDaZ6pDtYZ/k/lmp+ZnC9mmM68d803WEgsWuD...  2014-09-01   \n...                                                  ...         ...   \n19967  KXNX6r3AFMF2i8jh05acQa7Qz19n7lfVpjMj6dsfjBlOKh...  2017-02-10   \n19976  KsCkA60Yi2a5TW7tUWIHfd59kp7kg/wuKD9WOmGc1fKcl/...  2019-02-12   \n19980  KkEoK3586/14N1R2l3oZN0sMDh948ykF705ug0gvA01xEK...  2016-02-22   \n19983  Khg72pa48AOvi3UzjRlhU1mmm2qefGiztTF2m/pK76lmuD...  2015-10-22   \n19996  KwVbqe744Mqcm1VRZHWXOX4bNjYNUeeawiNvFJrlY2sxtA...  2017-05-30   \n\n        last.date     defdate   amount    pri.coll   int.coll  numpay  ...  \\\n17213  2019-05-09         NaN   7060.0   7060.0000  1098.5800      25  ...   \n938    2016-01-21         NaN   1600.0   1600.0000   164.8100      12  ...   \n5866   2017-03-23         NaN  11450.0  11450.0000   200.2943       4  ...   \n13027  2017-07-24         NaN   1070.0   1070.0000    67.4000      10  ...   \n12285  2016-01-04         NaN   3200.0   3200.0000   181.3400      16  ...   \n...           ...         ...      ...         ...        ...     ...  ...   \n19967  2019-06-13  2018/09/10   3220.0    401.4462  1157.7840      20  ...   \n19976  2020-02-12  2019/11/14   5450.0    107.2770   305.9130       8  ...   \n19980  2018-05-16  2018/02/06  14380.0   2926.1630  4012.5170      27  ...   \n19983  2018-05-09  2017/05/26   5250.0   2264.7130  1506.8870      30  ...   \n19996  2018-12-03  2019/04/08   2130.0    881.4871   611.2929      18  ...   \n\n                 FV       MIRR   DD  time.start  time.end      RINV  \\\n17213   8214.269000   7.701079  745        4434      5179  5.443207   \n938     1772.599238  10.756447  366        3609      3975  4.738709   \n5866   11658.980000   7.439576   92        4310      4402  5.166819   \n13027   1140.609000   8.405515  289        4236      4525  5.058467   \n12285   3403.741000   4.705168  490        3468      3958  4.946333   \n...             ...        ...  ...         ...       ...       ...   \n19967   1572.237000 -26.416910  853        4361      5214  5.276125   \n19976    415.249500 -92.380740  365        5093      5458  5.448707   \n19980   7013.297000 -27.527790  814        4007      4821  4.684978   \n19983   3819.686000 -11.735300  930        3884      4814  4.589377   \n19996   1499.835000 -20.700500  552        4470      5022  5.539887   \n\n           MIRR2           FV2  amount_ln  time.start2  \n17213  10.134940   8597.614000   8.862200    1966.0360  \n938    12.646077   1802.925341   7.377759    1302.4881  \n5866    9.168020  11705.980000   9.345745    1857.6100  \n13027  10.454790   1157.648000   6.975414    1794.3700  \n12285   6.590087   3486.253000   8.070906    1202.7020  \n...          ...           ...        ...          ...  \n19967 -24.845940   1651.804000   8.077137    1901.8320  \n19976 -92.239600    422.941700   8.603371    2593.8650  \n19980 -26.252560   7291.493000   9.573594    1605.6050  \n19983 -10.228320   3988.053000   8.565983    1508.5460  \n19996 -18.893870   1551.811000   7.663877    1998.0900  \n\n[3262 rows x 226 columns]",
      "text/html": "<div>\n<style scoped>\n    .dataframe tbody tr th:only-of-type {\n        vertical-align: middle;\n    }\n\n    .dataframe tbody tr th {\n        vertical-align: top;\n    }\n\n    .dataframe thead th {\n        text-align: right;\n    }\n</style>\n<table border=\"1\" class=\"dataframe\">\n  <thead>\n    <tr style=\"text-align: right;\">\n      <th></th>\n      <th>Unnamed: 0</th>\n      <th>Encrypted.Loan.ID</th>\n      <th>Encrypted.Borrower.ID</th>\n      <th>date.start</th>\n      <th>last.date</th>\n      <th>defdate</th>\n      <th>amount</th>\n      <th>pri.coll</th>\n      <th>int.coll</th>\n      <th>numpay</th>\n      <th>...</th>\n      <th>FV</th>\n      <th>MIRR</th>\n      <th>DD</th>\n      <th>time.start</th>\n      <th>time.end</th>\n      <th>RINV</th>\n      <th>MIRR2</th>\n      <th>FV2</th>\n      <th>amount_ln</th>\n      <th>time.start2</th>\n    </tr>\n  </thead>\n  <tbody>\n    <tr>\n      <th>17213</th>\n      <td>583214</td>\n      <td>Kt4zMkebXR9xvoZizOyFk+obNjYNUeeawiNvFJrlY2sxtA...</td>\n      <td>K0aeYFeDUFdo0lDU5+1lANdJBNHplnYhPYtt5dq8mNutW0...</td>\n      <td>2017-04-24</td>\n      <td>2019-05-09</td>\n      <td>NaN</td>\n      <td>7060.0</td>\n      <td>7060.0000</td>\n      <td>1098.5800</td>\n      <td>25</td>\n      <td>...</td>\n      <td>8214.269000</td>\n      <td>7.701079</td>\n      <td>745</td>\n      <td>4434</td>\n      <td>5179</td>\n      <td>5.443207</td>\n      <td>10.134940</td>\n      <td>8597.614000</td>\n      <td>8.862200</td>\n      <td>1966.0360</td>\n    </tr>\n    <tr>\n      <th>938</th>\n      <td>228879</td>\n      <td>KqTzpNEzQVxZ+WDlLpgdCZgxc8hD2AjLZAGIdQZMDTjmuD...</td>\n      <td>KDQ/4jCKAso61vStDeoJGMu4nLEdNGW1MhqtBL5C9dGrxb...</td>\n      <td>2015-01-20</td>\n      <td>2016-01-21</td>\n      <td>NaN</td>\n      <td>1600.0</td>\n      <td>1600.0000</td>\n      <td>164.8100</td>\n      <td>12</td>\n      <td>...</td>\n      <td>1772.599238</td>\n      <td>10.756447</td>\n      <td>366</td>\n      <td>3609</td>\n      <td>3975</td>\n      <td>4.738709</td>\n      <td>12.646077</td>\n      <td>1802.925341</td>\n      <td>7.377759</td>\n      <td>1302.4881</td>\n    </tr>\n    <tr>\n      <th>5866</th>\n      <td>153057</td>\n      <td>KWQILy4HksNcYWdx+FUmow7mYjJtEQMlBwiWyxd+mEtmuD...</td>\n      <td>K3tR+nrKFkeM9vpug5UtCDwvJGCqccaVp/YKbWtbAxYuKh...</td>\n      <td>2016-12-21</td>\n      <td>2017-03-23</td>\n      <td>NaN</td>\n      <td>11450.0</td>\n      <td>11450.0000</td>\n      <td>200.2943</td>\n      <td>4</td>\n      <td>...</td>\n      <td>11658.980000</td>\n      <td>7.439576</td>\n      <td>92</td>\n      <td>4310</td>\n      <td>4402</td>\n      <td>5.166819</td>\n      <td>9.168020</td>\n      <td>11705.980000</td>\n      <td>9.345745</td>\n      <td>1857.6100</td>\n    </tr>\n    <tr>\n      <th>13027</th>\n      <td>463161</td>\n      <td>KMRSgfVQ2umhn4NZGVKftiQvJGCqccaVp/YKbWtbAxYuKh...</td>\n      <td>KsluPHTZZuXCbJat3vBbCcLmYjJtEQMlBwiWyxd+mEtmuD...</td>\n      <td>2016-10-08</td>\n      <td>2017-07-24</td>\n      <td>NaN</td>\n      <td>1070.0</td>\n      <td>1070.0000</td>\n      <td>67.4000</td>\n      <td>10</td>\n      <td>...</td>\n      <td>1140.609000</td>\n      <td>8.405515</td>\n      <td>289</td>\n      <td>4236</td>\n      <td>4525</td>\n      <td>5.058467</td>\n      <td>10.454790</td>\n      <td>1157.648000</td>\n      <td>6.975414</td>\n      <td>1794.3700</td>\n    </tr>\n    <tr>\n      <th>12285</th>\n      <td>223032</td>\n      <td>K0xaiFu6GVyTPYjVhqfVqdlmp+ZnC9mmM68d803WEgsWuD...</td>\n      <td>KYZxRUe3iPDaZ6pDtYZ/k/lmp+ZnC9mmM68d803WEgsWuD...</td>\n      <td>2014-09-01</td>\n      <td>2016-01-04</td>\n      <td>NaN</td>\n      <td>3200.0</td>\n      <td>3200.0000</td>\n      <td>181.3400</td>\n      <td>16</td>\n      <td>...</td>\n      <td>3403.741000</td>\n      <td>4.705168</td>\n      <td>490</td>\n      <td>3468</td>\n      <td>3958</td>\n      <td>4.946333</td>\n      <td>6.590087</td>\n      <td>3486.253000</td>\n      <td>8.070906</td>\n      <td>1202.7020</td>\n    </tr>\n    <tr>\n      <th>...</th>\n      <td>...</td>\n      <td>...</td>\n      <td>...</td>\n      <td>...</td>\n      <td>...</td>\n      <td>...</td>\n      <td>...</td>\n      <td>...</td>\n      <td>...</td>\n      <td>...</td>\n      <td>...</td>\n      <td>...</td>\n      <td>...</td>\n      <td>...</td>\n      <td>...</td>\n      <td>...</td>\n      <td>...</td>\n      <td>...</td>\n      <td>...</td>\n      <td>...</td>\n      <td>...</td>\n    </tr>\n    <tr>\n      <th>19967</th>\n      <td>571511</td>\n      <td>KzuzOMqyuTc8o5SwFfVtoi8Mjcui+kmunswLgoJBQcXRtA...</td>\n      <td>KXNX6r3AFMF2i8jh05acQa7Qz19n7lfVpjMj6dsfjBlOKh...</td>\n      <td>2017-02-10</td>\n      <td>2019-06-13</td>\n      <td>2018/09/10</td>\n      <td>3220.0</td>\n      <td>401.4462</td>\n      <td>1157.7840</td>\n      <td>20</td>\n      <td>...</td>\n      <td>1572.237000</td>\n      <td>-26.416910</td>\n      <td>853</td>\n      <td>4361</td>\n      <td>5214</td>\n      <td>5.276125</td>\n      <td>-24.845940</td>\n      <td>1651.804000</td>\n      <td>8.077137</td>\n      <td>1901.8320</td>\n    </tr>\n    <tr>\n      <th>19976</th>\n      <td>93676</td>\n      <td>K/oxskUt465PAe9jrMna8TDzGfYrE/kEz2wFssNd4Z6geJ...</td>\n      <td>KsCkA60Yi2a5TW7tUWIHfd59kp7kg/wuKD9WOmGc1fKcl/...</td>\n      <td>2019-02-12</td>\n      <td>2020-02-12</td>\n      <td>2019/11/14</td>\n      <td>5450.0</td>\n      <td>107.2770</td>\n      <td>305.9130</td>\n      <td>8</td>\n      <td>...</td>\n      <td>415.249500</td>\n      <td>-92.380740</td>\n      <td>365</td>\n      <td>5093</td>\n      <td>5458</td>\n      <td>5.448707</td>\n      <td>-92.239600</td>\n      <td>422.941700</td>\n      <td>8.603371</td>\n      <td>2593.8650</td>\n    </tr>\n    <tr>\n      <th>19980</th>\n      <td>214963</td>\n      <td>KZJjABvnOq1jcOa4R6aLk8Gmm2qefGiztTF2m/pK76lmuD...</td>\n      <td>KkEoK3586/14N1R2l3oZN0sMDh948ykF705ug0gvA01xEK...</td>\n      <td>2016-02-22</td>\n      <td>2018-05-16</td>\n      <td>2018/02/06</td>\n      <td>14380.0</td>\n      <td>2926.1630</td>\n      <td>4012.5170</td>\n      <td>27</td>\n      <td>...</td>\n      <td>7013.297000</td>\n      <td>-27.527790</td>\n      <td>814</td>\n      <td>4007</td>\n      <td>4821</td>\n      <td>4.684978</td>\n      <td>-26.252560</td>\n      <td>7291.493000</td>\n      <td>9.573594</td>\n      <td>1605.6050</td>\n    </tr>\n    <tr>\n      <th>19983</th>\n      <td>486671</td>\n      <td>KERV/9c19Rfjow6veMl9zDhFqwHQwaF7UhYqeSEC1wBWKh...</td>\n      <td>Khg72pa48AOvi3UzjRlhU1mmm2qefGiztTF2m/pK76lmuD...</td>\n      <td>2015-10-22</td>\n      <td>2018-05-09</td>\n      <td>2017/05/26</td>\n      <td>5250.0</td>\n      <td>2264.7130</td>\n      <td>1506.8870</td>\n      <td>30</td>\n      <td>...</td>\n      <td>3819.686000</td>\n      <td>-11.735300</td>\n      <td>930</td>\n      <td>3884</td>\n      <td>4814</td>\n      <td>4.589377</td>\n      <td>-10.228320</td>\n      <td>3988.053000</td>\n      <td>8.565983</td>\n      <td>1508.5460</td>\n    </tr>\n    <tr>\n      <th>19996</th>\n      <td>589880</td>\n      <td>KTMd3rGCeIwkIQQ53lIEqEYbNjYNUeeawiNvFJrlY2sxtA...</td>\n      <td>KwVbqe744Mqcm1VRZHWXOX4bNjYNUeeawiNvFJrlY2sxtA...</td>\n      <td>2017-05-30</td>\n      <td>2018-12-03</td>\n      <td>2019/04/08</td>\n      <td>2130.0</td>\n      <td>881.4871</td>\n      <td>611.2929</td>\n      <td>18</td>\n      <td>...</td>\n      <td>1499.835000</td>\n      <td>-20.700500</td>\n      <td>552</td>\n      <td>4470</td>\n      <td>5022</td>\n      <td>5.539887</td>\n      <td>-18.893870</td>\n      <td>1551.811000</td>\n      <td>7.663877</td>\n      <td>1998.0900</td>\n    </tr>\n  </tbody>\n</table>\n<p>3262 rows × 226 columns</p>\n</div>"
     },
     "execution_count": 45,
     "metadata": {},
     "output_type": "execute_result"
    }
   ],
   "source": [
    "data_zopa_balanced"
   ],
   "metadata": {
    "collapsed": false,
    "pycharm": {
     "name": "#%%\n"
    }
   }
  },
  {
   "cell_type": "markdown",
   "source": [
    "## Modelling"
   ],
   "metadata": {
    "collapsed": false,
    "pycharm": {
     "name": "#%% md\n"
    }
   }
  },
  {
   "cell_type": "code",
   "execution_count": 55,
   "outputs": [],
   "source": [
    "X_train = data_zopa_balanced.drop('default', axis=1)\n",
    "y_train = data_zopa_balanced.default"
   ],
   "metadata": {
    "collapsed": false,
    "pycharm": {
     "name": "#%%\n"
    }
   }
  },
  {
   "cell_type": "code",
   "execution_count": 56,
   "outputs": [
    {
     "data": {
      "text/plain": "       Unnamed: 0                                  Encrypted.Loan.ID  \\\n484        530774  KTjJvL+AgTnEzo3hU1K+dX7Qz19n7lfVpjMj6dsfjBlOKh...   \n7957        49811  KWC7gQf0iU8MPVn6gTcIsK3ptx0foLOYJfyrpB9PEuf4Gf...   \n9108       712487  KdPauy4Vb0HmA/RP03sldBKyy4I2D8EqXUvTWa8VoTJ5KU...   \n17431      216822  KgbruOpP1vPCvECz+9qEve1mp+ZnC9mmM68d803WEgsWuD...   \n8347       458498  K9J6FCZL87zjU4RObSsP56gvJGCqccaVp/YKbWtbAxYuKh...   \n...           ...                                                ...   \n3915       366932  KDtIR4M1hklHzd9RUD66pDRgqh99nplBj0IQM+lEkskhJj...   \n15115      116661  KKlxwny7bE3GryqtOx/N3Mhxdxlyx8vZ42PeQxVPZAq9/t...   \n8320       302832  KEmGwlvWsEkU2upSo2ql0zUejgnEheQCx+SZ32q++96VJj...   \n15151      567798  K8lKZmy6AiHOPmxUw3tbKfP10HNKDRKhFIWtdxkZ+S1fqQ...   \n5566       410532  KBlWl6PEdldhUN3Csj4tZvogZPPYNFaDp6qCuQpLLlBoBD...   \n\n                                   Encrypted.Borrower.ID  date.start  \\\n484    KCQg2fV9Fcg3kriIl/p1MKbQz19n7lfVpjMj6dsfjBlOKh...  2014-07-08   \n7957   KwDXmGiRaSbQ9cjc3fCTbl3ptx0foLOYJfyrpB9PEuf4Gf...  2013-08-14   \n9108   KBGvWHiu46KMjyn2I+fotgqyy4I2D8EqXUvTWa8VoTJ5KU...  2012-04-30   \n17431  Kip5sQapSCY2Iprw4qokgl7Qz19n7lfVpjMj6dsfjBlOKh...  2014-04-04   \n8347   KSfSe6gluiuBVP5Desz3zaQvJGCqccaVp/YKbWtbAxYuKh...  2016-09-15   \n...                                                  ...         ...   \n3915   KvcaSTxQhUpz4sxkUFJdsyxgqh99nplBj0IQM+lEkskhJj...  2018-03-14   \n15115  K7NLNrLXv9O1Ptg/v6uv6Gah3f8fpyeLrXQ0X/3kVASuDU...  2019-07-08   \n8320   K5lemThLMBiZ2eyqjNvs+ucMjcui+kmunswLgoJBQcXRtA...  2017-02-16   \n15151  KkKyIjPq8Hgcr7FliJriERnmLXRAT9Pk436sZYHlO7JFtA...  2018-05-30   \n5566   KHhP31MEJ8BL0IjXWSIwV3BFqwHQwaF7UhYqeSEC1wBWKh...  2019-04-17   \n\n        last.date     defdate   amount   pri.coll    int.coll  numpay  ...  \\\n484    2016-07-29         NaN   2700.0  2700.0000  394.388375      24  ...   \n7957   2016-09-08         NaN   4820.0  4820.0000  496.610000      36  ...   \n9108   2013-10-08         NaN   4190.0  4190.0000  293.850000      18  ...   \n17431  2015-07-21         NaN   7600.0  7600.0000  336.760000      15  ...   \n8347   2017-05-03         NaN   5390.0  5390.0000  525.750000       9  ...   \n...           ...         ...      ...        ...         ...     ...  ...   \n3915   2019-01-03  2019/03/13   6380.0  1362.3000  624.099800       9  ...   \n15115  2020-03-03  2020/03/05   8120.0  1525.0210  671.658800       8  ...   \n8320   2017-11-17  2018/03/26   2350.0   449.5427  363.207300       9  ...   \n15151  2020-01-17  2020/01/27   3990.0   583.6652  863.714800      17  ...   \n5566   2020-03-23  2019/11/18  16610.0     0.0000    3.000005       3  ...   \n\n                FV       MIRR    DD  time.start  time.end      RINV  \\\n484    3126.890035   7.384581   752        3413      4165  5.033478   \n7957   5386.325000   3.683308  1121        3085      4206  5.590457   \n9108   4540.580000   5.734277   526        2614      3140  6.583286   \n17431  7980.558000   3.842373   473        3318      3791  5.224407   \n8347   5928.085000  16.300620   230        4213      4443  5.022630   \n...            ...        ...   ...         ...       ...       ...   \n3915   1993.117000 -76.296460   295        4758      5053  5.722996   \n15115  2202.188000 -86.368760   239        5239      5478  5.530858   \n8320    814.779700 -75.611260   274        4367      4641  5.290514   \n15151  1457.750000 -45.968720   597        4835      5432  5.631288   \n5566      3.010106 -99.990120   341        5157      5498  5.505609   \n\n           MIRR2          FV2  amount_ln  time.start2  \n484     9.407905  3249.486889   7.901007    1164.8569  \n7957    6.051099  5773.113000   8.480529     951.7225  \n9108    8.045810  4684.317000   8.340456     683.2996  \n17431   5.903875  8186.469000   8.935904    1100.9120  \n8347   18.476590  5997.736000   8.592301    1774.9370  \n...          ...          ...        ...          ...  \n3915  -75.801630  2026.678000   8.760923    2263.8560  \n15115 -86.096100  2230.933000   9.002085    2744.7120  \n8320  -75.126730   826.901200   7.762171    1907.0690  \n15151 -44.787850  1510.221000   8.291547    2337.7220  \n5566  -99.989970     3.050779   9.717760    2659.4650  \n\n[2490 rows x 225 columns]",
      "text/html": "<div>\n<style scoped>\n    .dataframe tbody tr th:only-of-type {\n        vertical-align: middle;\n    }\n\n    .dataframe tbody tr th {\n        vertical-align: top;\n    }\n\n    .dataframe thead th {\n        text-align: right;\n    }\n</style>\n<table border=\"1\" class=\"dataframe\">\n  <thead>\n    <tr style=\"text-align: right;\">\n      <th></th>\n      <th>Unnamed: 0</th>\n      <th>Encrypted.Loan.ID</th>\n      <th>Encrypted.Borrower.ID</th>\n      <th>date.start</th>\n      <th>last.date</th>\n      <th>defdate</th>\n      <th>amount</th>\n      <th>pri.coll</th>\n      <th>int.coll</th>\n      <th>numpay</th>\n      <th>...</th>\n      <th>FV</th>\n      <th>MIRR</th>\n      <th>DD</th>\n      <th>time.start</th>\n      <th>time.end</th>\n      <th>RINV</th>\n      <th>MIRR2</th>\n      <th>FV2</th>\n      <th>amount_ln</th>\n      <th>time.start2</th>\n    </tr>\n  </thead>\n  <tbody>\n    <tr>\n      <th>484</th>\n      <td>530774</td>\n      <td>KTjJvL+AgTnEzo3hU1K+dX7Qz19n7lfVpjMj6dsfjBlOKh...</td>\n      <td>KCQg2fV9Fcg3kriIl/p1MKbQz19n7lfVpjMj6dsfjBlOKh...</td>\n      <td>2014-07-08</td>\n      <td>2016-07-29</td>\n      <td>NaN</td>\n      <td>2700.0</td>\n      <td>2700.0000</td>\n      <td>394.388375</td>\n      <td>24</td>\n      <td>...</td>\n      <td>3126.890035</td>\n      <td>7.384581</td>\n      <td>752</td>\n      <td>3413</td>\n      <td>4165</td>\n      <td>5.033478</td>\n      <td>9.407905</td>\n      <td>3249.486889</td>\n      <td>7.901007</td>\n      <td>1164.8569</td>\n    </tr>\n    <tr>\n      <th>7957</th>\n      <td>49811</td>\n      <td>KWC7gQf0iU8MPVn6gTcIsK3ptx0foLOYJfyrpB9PEuf4Gf...</td>\n      <td>KwDXmGiRaSbQ9cjc3fCTbl3ptx0foLOYJfyrpB9PEuf4Gf...</td>\n      <td>2013-08-14</td>\n      <td>2016-09-08</td>\n      <td>NaN</td>\n      <td>4820.0</td>\n      <td>4820.0000</td>\n      <td>496.610000</td>\n      <td>36</td>\n      <td>...</td>\n      <td>5386.325000</td>\n      <td>3.683308</td>\n      <td>1121</td>\n      <td>3085</td>\n      <td>4206</td>\n      <td>5.590457</td>\n      <td>6.051099</td>\n      <td>5773.113000</td>\n      <td>8.480529</td>\n      <td>951.7225</td>\n    </tr>\n    <tr>\n      <th>9108</th>\n      <td>712487</td>\n      <td>KdPauy4Vb0HmA/RP03sldBKyy4I2D8EqXUvTWa8VoTJ5KU...</td>\n      <td>KBGvWHiu46KMjyn2I+fotgqyy4I2D8EqXUvTWa8VoTJ5KU...</td>\n      <td>2012-04-30</td>\n      <td>2013-10-08</td>\n      <td>NaN</td>\n      <td>4190.0</td>\n      <td>4190.0000</td>\n      <td>293.850000</td>\n      <td>18</td>\n      <td>...</td>\n      <td>4540.580000</td>\n      <td>5.734277</td>\n      <td>526</td>\n      <td>2614</td>\n      <td>3140</td>\n      <td>6.583286</td>\n      <td>8.045810</td>\n      <td>4684.317000</td>\n      <td>8.340456</td>\n      <td>683.2996</td>\n    </tr>\n    <tr>\n      <th>17431</th>\n      <td>216822</td>\n      <td>KgbruOpP1vPCvECz+9qEve1mp+ZnC9mmM68d803WEgsWuD...</td>\n      <td>Kip5sQapSCY2Iprw4qokgl7Qz19n7lfVpjMj6dsfjBlOKh...</td>\n      <td>2014-04-04</td>\n      <td>2015-07-21</td>\n      <td>NaN</td>\n      <td>7600.0</td>\n      <td>7600.0000</td>\n      <td>336.760000</td>\n      <td>15</td>\n      <td>...</td>\n      <td>7980.558000</td>\n      <td>3.842373</td>\n      <td>473</td>\n      <td>3318</td>\n      <td>3791</td>\n      <td>5.224407</td>\n      <td>5.903875</td>\n      <td>8186.469000</td>\n      <td>8.935904</td>\n      <td>1100.9120</td>\n    </tr>\n    <tr>\n      <th>8347</th>\n      <td>458498</td>\n      <td>K9J6FCZL87zjU4RObSsP56gvJGCqccaVp/YKbWtbAxYuKh...</td>\n      <td>KSfSe6gluiuBVP5Desz3zaQvJGCqccaVp/YKbWtbAxYuKh...</td>\n      <td>2016-09-15</td>\n      <td>2017-05-03</td>\n      <td>NaN</td>\n      <td>5390.0</td>\n      <td>5390.0000</td>\n      <td>525.750000</td>\n      <td>9</td>\n      <td>...</td>\n      <td>5928.085000</td>\n      <td>16.300620</td>\n      <td>230</td>\n      <td>4213</td>\n      <td>4443</td>\n      <td>5.022630</td>\n      <td>18.476590</td>\n      <td>5997.736000</td>\n      <td>8.592301</td>\n      <td>1774.9370</td>\n    </tr>\n    <tr>\n      <th>...</th>\n      <td>...</td>\n      <td>...</td>\n      <td>...</td>\n      <td>...</td>\n      <td>...</td>\n      <td>...</td>\n      <td>...</td>\n      <td>...</td>\n      <td>...</td>\n      <td>...</td>\n      <td>...</td>\n      <td>...</td>\n      <td>...</td>\n      <td>...</td>\n      <td>...</td>\n      <td>...</td>\n      <td>...</td>\n      <td>...</td>\n      <td>...</td>\n      <td>...</td>\n      <td>...</td>\n    </tr>\n    <tr>\n      <th>3915</th>\n      <td>366932</td>\n      <td>KDtIR4M1hklHzd9RUD66pDRgqh99nplBj0IQM+lEkskhJj...</td>\n      <td>KvcaSTxQhUpz4sxkUFJdsyxgqh99nplBj0IQM+lEkskhJj...</td>\n      <td>2018-03-14</td>\n      <td>2019-01-03</td>\n      <td>2019/03/13</td>\n      <td>6380.0</td>\n      <td>1362.3000</td>\n      <td>624.099800</td>\n      <td>9</td>\n      <td>...</td>\n      <td>1993.117000</td>\n      <td>-76.296460</td>\n      <td>295</td>\n      <td>4758</td>\n      <td>5053</td>\n      <td>5.722996</td>\n      <td>-75.801630</td>\n      <td>2026.678000</td>\n      <td>8.760923</td>\n      <td>2263.8560</td>\n    </tr>\n    <tr>\n      <th>15115</th>\n      <td>116661</td>\n      <td>KKlxwny7bE3GryqtOx/N3Mhxdxlyx8vZ42PeQxVPZAq9/t...</td>\n      <td>K7NLNrLXv9O1Ptg/v6uv6Gah3f8fpyeLrXQ0X/3kVASuDU...</td>\n      <td>2019-07-08</td>\n      <td>2020-03-03</td>\n      <td>2020/03/05</td>\n      <td>8120.0</td>\n      <td>1525.0210</td>\n      <td>671.658800</td>\n      <td>8</td>\n      <td>...</td>\n      <td>2202.188000</td>\n      <td>-86.368760</td>\n      <td>239</td>\n      <td>5239</td>\n      <td>5478</td>\n      <td>5.530858</td>\n      <td>-86.096100</td>\n      <td>2230.933000</td>\n      <td>9.002085</td>\n      <td>2744.7120</td>\n    </tr>\n    <tr>\n      <th>8320</th>\n      <td>302832</td>\n      <td>KEmGwlvWsEkU2upSo2ql0zUejgnEheQCx+SZ32q++96VJj...</td>\n      <td>K5lemThLMBiZ2eyqjNvs+ucMjcui+kmunswLgoJBQcXRtA...</td>\n      <td>2017-02-16</td>\n      <td>2017-11-17</td>\n      <td>2018/03/26</td>\n      <td>2350.0</td>\n      <td>449.5427</td>\n      <td>363.207300</td>\n      <td>9</td>\n      <td>...</td>\n      <td>814.779700</td>\n      <td>-75.611260</td>\n      <td>274</td>\n      <td>4367</td>\n      <td>4641</td>\n      <td>5.290514</td>\n      <td>-75.126730</td>\n      <td>826.901200</td>\n      <td>7.762171</td>\n      <td>1907.0690</td>\n    </tr>\n    <tr>\n      <th>15151</th>\n      <td>567798</td>\n      <td>K8lKZmy6AiHOPmxUw3tbKfP10HNKDRKhFIWtdxkZ+S1fqQ...</td>\n      <td>KkKyIjPq8Hgcr7FliJriERnmLXRAT9Pk436sZYHlO7JFtA...</td>\n      <td>2018-05-30</td>\n      <td>2020-01-17</td>\n      <td>2020/01/27</td>\n      <td>3990.0</td>\n      <td>583.6652</td>\n      <td>863.714800</td>\n      <td>17</td>\n      <td>...</td>\n      <td>1457.750000</td>\n      <td>-45.968720</td>\n      <td>597</td>\n      <td>4835</td>\n      <td>5432</td>\n      <td>5.631288</td>\n      <td>-44.787850</td>\n      <td>1510.221000</td>\n      <td>8.291547</td>\n      <td>2337.7220</td>\n    </tr>\n    <tr>\n      <th>5566</th>\n      <td>410532</td>\n      <td>KBlWl6PEdldhUN3Csj4tZvogZPPYNFaDp6qCuQpLLlBoBD...</td>\n      <td>KHhP31MEJ8BL0IjXWSIwV3BFqwHQwaF7UhYqeSEC1wBWKh...</td>\n      <td>2019-04-17</td>\n      <td>2020-03-23</td>\n      <td>2019/11/18</td>\n      <td>16610.0</td>\n      <td>0.0000</td>\n      <td>3.000005</td>\n      <td>3</td>\n      <td>...</td>\n      <td>3.010106</td>\n      <td>-99.990120</td>\n      <td>341</td>\n      <td>5157</td>\n      <td>5498</td>\n      <td>5.505609</td>\n      <td>-99.989970</td>\n      <td>3.050779</td>\n      <td>9.717760</td>\n      <td>2659.4650</td>\n    </tr>\n  </tbody>\n</table>\n<p>2490 rows × 225 columns</p>\n</div>"
     },
     "execution_count": 56,
     "metadata": {},
     "output_type": "execute_result"
    }
   ],
   "source": [
    "X_train"
   ],
   "metadata": {
    "collapsed": false,
    "pycharm": {
     "name": "#%%\n"
    }
   }
  },
  {
   "cell_type": "code",
   "execution_count": null,
   "outputs": [],
   "source": [
    "feature_list = [np.l]"
   ],
   "metadata": {
    "collapsed": false,
    "pycharm": {
     "name": "#%%\n"
    }
   }
  },
  {
   "cell_type": "code",
   "execution_count": 91,
   "outputs": [],
   "source": [
    "f_train = pd.concat([np.log(X_train.amount), X_train.amount, X_train.term, X_train.amount/X_train.term, X_train.rate, X_train.RINV,\n",
    "X_train['time.start'], X_train['time.start2']], axis=1)"
   ],
   "metadata": {
    "collapsed": false,
    "pycharm": {
     "name": "#%%\n"
    }
   }
  },
  {
   "cell_type": "code",
   "execution_count": 87,
   "outputs": [
    {
     "data": {
      "text/plain": "484      0\n7957     0\n9108     0\n17431    0\n8347     0\n        ..\n3915     1\n15115    1\n8320     1\n15151    1\n5566     1\nName: default, Length: 2490, dtype: int64"
     },
     "execution_count": 87,
     "metadata": {},
     "output_type": "execute_result"
    }
   ],
   "source": [
    "y_train"
   ],
   "metadata": {
    "collapsed": false,
    "pycharm": {
     "name": "#%%\n"
    }
   }
  },
  {
   "cell_type": "code",
   "execution_count": 92,
   "outputs": [
    {
     "name": "stderr",
     "output_type": "stream",
     "text": [
      "C:\\Users\\A200083283\\Anaconda3\\lib\\site-packages\\sklearn\\utils\\validation.py:1858: FutureWarning: Feature names only support names that are all strings. Got feature names with dtypes: ['int', 'str']. An error will be raised in 1.2.\n",
      "  warnings.warn(\n"
     ]
    }
   ],
   "source": [
    "from sklearn.ensemble import RandomForestClassifier\n",
    "\n",
    "clf = RandomForestClassifier().fit(X = f_train, y= y_train)"
   ],
   "metadata": {
    "collapsed": false,
    "pycharm": {
     "name": "#%%\n"
    }
   }
  },
  {
   "cell_type": "code",
   "execution_count": 95,
   "outputs": [
    {
     "name": "stderr",
     "output_type": "stream",
     "text": [
      "C:\\Users\\A200083283\\Anaconda3\\lib\\site-packages\\sklearn\\utils\\validation.py:1858: FutureWarning: Feature names only support names that are all strings. Got feature names with dtypes: ['int', 'str']. An error will be raised in 1.2.\n",
      "  warnings.warn(\n"
     ]
    },
    {
     "data": {
      "text/plain": "0.9987951807228915"
     },
     "execution_count": 95,
     "metadata": {},
     "output_type": "execute_result"
    }
   ],
   "source": [
    "clf.score(X = f_train, y= y_train)"
   ],
   "metadata": {
    "collapsed": false,
    "pycharm": {
     "name": "#%%\n"
    }
   }
  },
  {
   "cell_type": "code",
   "execution_count": 96,
   "outputs": [],
   "source": [
    "f_test = pd.concat([np.log(data_test.amount), data_test.amount, data_test.term, data_test.amount/data_test.term,\n",
    "                    data_test.rate, data_test.RINV, data_test['time.start'], data_test['time.start2']], axis=1)"
   ],
   "metadata": {
    "collapsed": false,
    "pycharm": {
     "name": "#%%\n"
    }
   }
  },
  {
   "cell_type": "code",
   "execution_count": 100,
   "outputs": [
    {
     "name": "stderr",
     "output_type": "stream",
     "text": [
      "C:\\Users\\A200083283\\Anaconda3\\lib\\site-packages\\sklearn\\utils\\validation.py:1858: FutureWarning: Feature names only support names that are all strings. Got feature names with dtypes: ['int', 'str']. An error will be raised in 1.2.\n",
      "  warnings.warn(\n"
     ]
    }
   ],
   "source": [
    "pred_m1 = clf.predict(X=f_test)"
   ],
   "metadata": {
    "collapsed": false,
    "pycharm": {
     "name": "#%%\n"
    }
   }
  },
  {
   "cell_type": "code",
   "execution_count": 101,
   "outputs": [
    {
     "data": {
      "text/plain": "0.2724"
     },
     "execution_count": 101,
     "metadata": {},
     "output_type": "execute_result"
    }
   ],
   "source": [
    "from sklearn.metrics import mean_absolute_error as mae\n",
    "mae(pred_m1, data_test.default)"
   ],
   "metadata": {
    "collapsed": false,
    "pycharm": {
     "name": "#%%\n"
    }
   }
  },
  {
   "cell_type": "code",
   "execution_count": 111,
   "outputs": [
    {
     "data": {
      "text/plain": "<sklearn.metrics._plot.confusion_matrix.ConfusionMatrixDisplay at 0x2d34a23a1f0>"
     },
     "execution_count": 111,
     "metadata": {},
     "output_type": "execute_result"
    },
    {
     "data": {
      "text/plain": "<Figure size 432x288 with 2 Axes>",
      "image/png": "[encoded data removed]"
     },
     "metadata": {
      "needs_background": "light"
     },
     "output_type": "display_data"
    }
   ],
   "source": [
    "from sklearn.metrics import ConfusionMatrixDisplay, confusion_matrix\n",
    "conf_matrix = confusion_matrix(pred_m1, data_test.default)\n",
    "ConfusionMatrixDisplay(conf_matrix, display_labels=['True', 'False'], cma).plot()"
   ],
   "metadata": {
    "collapsed": false,
    "pycharm": {
     "name": "#%%\n"
    }
   }
  },
  {
   "cell_type": "code",
   "execution_count": 114,
   "outputs": [
    {
     "data": {
      "text/plain": "<AxesSubplot:>"
     },
     "execution_count": 114,
     "metadata": {},
     "output_type": "execute_result"
    },
    {
     "data": {
      "text/plain": "<Figure size 432x288 with 2 Axes>",
      "image/png": "[encoded data removed]"
     },
     "metadata": {
      "needs_background": "light"
     },
     "output_type": "display_data"
    }
   ],
   "source": [
    "import seaborn as sns\n",
    "sns.heatmap(conf_matrix, annot=True)"
   ],
   "metadata": {
    "collapsed": false,
    "pycharm": {
     "name": "#%%\n"
    }
   }
  },
  {
   "cell_type": "code",
   "execution_count": 115,
   "outputs": [],
   "source": [
    "from sklearn.metrics import roc_curve, plot_roc_curve\n",
    "\n",
    "fpr, tpr, _ = roc_curve(pred_m1, data_test.default)"
   ],
   "metadata": {
    "collapsed": false,
    "pycharm": {
     "name": "#%%\n"
    }
   }
  },
  {
   "cell_type": "code",
   "execution_count": 116,
   "outputs": [
    {
     "data": {
      "text/plain": "[<matplotlib.lines.Line2D at 0x2d3536a3040>]"
     },
     "execution_count": 116,
     "metadata": {},
     "output_type": "execute_result"
    },
    {
     "data": {
      "text/plain": "<Figure size 432x288 with 1 Axes>",
      "image/png": "[encoded data removed]"
     },
     "metadata": {
      "needs_background": "light"
     },
     "output_type": "display_data"
    }
   ],
   "source": [
    "import matplotlib.pyplot as plt\n",
    "plt.plot(fpr,tpr)"
   ],
   "metadata": {
    "collapsed": false,
    "pycharm": {
     "name": "#%%\n"
    }
   }
  },
  {
   "cell_type": "code",
   "execution_count": 118,
   "outputs": [
    {
     "name": "stderr",
     "output_type": "stream",
     "text": [
      "C:\\Users\\A200083283\\Anaconda3\\lib\\site-packages\\sklearn\\utils\\deprecation.py:87: FutureWarning: Function plot_roc_curve is deprecated; Function :func:`plot_roc_curve` is deprecated in 1.0 and will be removed in 1.2. Use one of the class methods: :meth:`sklearn.metrics.RocCurveDisplay.from_predictions` or :meth:`sklearn.metrics.RocCurveDisplay.from_estimator`.\n",
      "  warnings.warn(msg, category=FutureWarning)\n",
      "C:\\Users\\A200083283\\Anaconda3\\lib\\site-packages\\sklearn\\utils\\validation.py:1858: FutureWarning: Feature names only support names that are all strings. Got feature names with dtypes: ['int', 'str']. An error will be raised in 1.2.\n",
      "  warnings.warn(\n"
     ]
    },
    {
     "data": {
      "text/plain": "<sklearn.metrics._plot.roc_curve.RocCurveDisplay at 0x2d34e1d1b80>"
     },
     "execution_count": 118,
     "metadata": {},
     "output_type": "execute_result"
    },
    {
     "data": {
      "text/plain": "<Figure size 432x288 with 1 Axes>",
      "image/png": "[encoded data removed]"
     },
     "metadata": {
      "needs_background": "light"
     },
     "output_type": "display_data"
    }
   ],
   "source": [
    "plot_roc_curve(clf, f_test, data_test.default)"
   ],
   "metadata": {
    "collapsed": false,
    "pycharm": {
     "name": "#%%\n"
    }
   }
  }
 ],
 "metadata": {
  "kernelspec": {
   "display_name": "Python 3",
   "language": "python",
   "name": "python3"
  },
  "language_info": {
   "codemirror_mode": {
    "name": "ipython",
    "version": 2
   },
   "file_extension": ".py",
   "mimetype": "text/x-python",
   "name": "python",
   "nbconvert_exporter": "python",
   "pygments_lexer": "ipython2",
   "version": "2.7.6"
  }
 },
 "nbformat": 4,
 "nbformat_minor": 0
}

{
 "cells": [
  {
   "cell_type": "markdown",
   "source": [
    "# Exc 06: Classification"
   ],
   "metadata": {
    "collapsed": false
   },
   "execution_count": 1
  },
  {
   "cell_type": "code",
   "execution_count": 1,
   "outputs": [],
   "source": [
    "# imports\n",
    "import pandas as pd\n",
    "import numpy as np\n"
   ],
   "metadata": {
    "collapsed": false
   }
  },
  {
   "cell_type": "code",
   "execution_count": 2,
   "outputs": [],
   "source": [
    "data_zopa = pd.read_csv(\"../data/zsnew.csv\")"
   ],
   "metadata": {
    "collapsed": false
   }
  },
  {
   "cell_type": "code",
   "execution_count": 3,
   "outputs": [
    {
     "data": {
      "text/plain": "0        0\n1        0\n2        0\n3        0\n4        1\n        ..\n19995    0\n19996    1\n19997    0\n19998    0\n19999    0\nName: default, Length: 20000, dtype: int64"
     },
     "execution_count": 3,
     "metadata": {},
     "output_type": "execute_result"
    }
   ],
   "source": [
    "data_zopa.default"
   ],
   "metadata": {
    "collapsed": false
   }
  },
  {
   "cell_type": "code",
   "execution_count": 6,
   "outputs": [],
   "source": [
    "from sklearn.model_selection import train_test_split\n",
    "\n",
    "data_train, data_test = train_test_split(data_zopa)"
   ],
   "metadata": {
    "collapsed": false
   }
  },
  {
   "cell_type": "code",
   "execution_count": 7,
   "outputs": [
    {
     "data": {
      "text/plain": "count    15000.000000\nmean         0.082667\nstd          0.275387\nmin          0.000000\n25%          0.000000\n50%          0.000000\n75%          0.000000\nmax          1.000000\nName: default, dtype: float64"
     },
     "execution_count": 7,
     "metadata": {},
     "output_type": "execute_result"
    }
   ],
   "source": [
    "data_train.default.describe()"
   ],
   "metadata": {
    "collapsed": false
   }
  },
  {
   "cell_type": "code",
   "execution_count": 8,
   "outputs": [
    {
     "data": {
      "text/plain": "1240"
     },
     "execution_count": 8,
     "metadata": {},
     "output_type": "execute_result"
    }
   ],
   "source": [
    "def_len = int(data_train.default.mean()*len(data_train.default))\n",
    "def_len"
   ],
   "metadata": {
    "collapsed": false
   }
  },
  {
   "cell_type": "code",
   "execution_count": 9,
   "outputs": [],
   "source": [
    "from sklearn.utils import resample\n",
    "train_downsampled = resample(data_train.loc[data_train['default']==0], replace=True, n_samples=def_len, random_state=42)"
   ],
   "metadata": {
    "collapsed": false
   }
  },
  {
   "cell_type": "code",
   "execution_count": 12,
   "outputs": [
    {
     "data": {
      "text/plain": "array([0], dtype=int64)"
     },
     "execution_count": 12,
     "metadata": {},
     "output_type": "execute_result"
    }
   ],
   "source": [
    "train_downsampled.default.unique()"
   ],
   "metadata": {
    "collapsed": false
   }
  },
  {
   "cell_type": "code",
   "execution_count": 9,
   "outputs": [],
   "source": [
    "data_zopa_balanced = pd.concat([train_downsampled, data_train.loc[data_train['default']==1]])"
   ],
   "metadata": {
    "collapsed": false
   }
  },
  {
   "cell_type": "code",
   "execution_count": 10,
   "outputs": [
    {
     "data": {
      "text/plain": "0    1221\n1    1221\nName: default, dtype: int64"
     },
     "execution_count": 10,
     "metadata": {},
     "output_type": "execute_result"
    }
   ],
   "source": [
    "data_zopa_balanced.default.value_counts()"
   ],
   "metadata": {
    "collapsed": false
   }
  },
  {
   "cell_type": "code",
   "execution_count": 11,
   "outputs": [
    {
     "data": {
      "text/plain": "       Unnamed: 0                                  Encrypted.Loan.ID  \\\n18994      460478  K07NPAzxhvTU5cj/qkyHeXwvJGCqccaVp/YKbWtbAxYuKh...   \n18853      446769  KgoqtOa4xR1SP8HZDIQVJ0b9HkmvaZXDhmXoAPIGoeDmKh...   \n1587        18944  KCHGrEBN7Iw57PnUhBHFYCmysFDmQZ6Xke/RWG2hnCX6e8...   \n16167       46828  KCRxITtUWug7KR9dghF0GKnptx0foLOYJfyrpB9PEuf4Gf...   \n11170      498281  KkB5ybvnqh9dxRKc4W//DUhFqwHQwaF7UhYqeSEC1wBWKh...   \n...           ...                                                ...   \n3636       553476  Kx4Tg8VBN7g6Cd7e6OqeNjB4SgwGuyblPM6WtV33J1Y04x...   \n16033      306724  K33aBj4gUwGTldjuHnLmbEUejgnEheQCx+SZ32q++96VJj...   \n17752      611691  K8hfqIpVcoAAaYjZQdx2G1P10HNKDRKhFIWtdxkZ+S1dtA...   \n9277       551356  KGPTYWEaSXRndFmOMGaOia0ejgnEheQCx+SZ32q++96U4x...   \n18253      585331  Ky1sWQFN9kQ95rnLb7wYOv4bNjYNUeeawiNvFJrlY2sxtA...   \n\n                                   Encrypted.Borrower.ID  date.start  \\\n18994  KxNbXSdj/cyCdlhTF6ab4W7Qz19n7lfVpjMj6dsfjBlOKh...  2016-09-22   \n18853  KVqMV29p6ECv0j0/ZXXVzFb9HkmvaZXDhmXoAPIGoeDmKh...  2015-05-12   \n1587   KaweCcg6/7QxXKz5RtGY7iWysFDmQZ6Xke/RWG2hnCX6e8...  2012-08-28   \n16167  K2qN2FgVFKkTx2TFizKX7fg2EEWxsAbqVRSHeYKtDTWTxb...  2013-06-17   \n11170  KZLYWIYYLv9wv1+BFFgSd/Q2EEWxsAbqVRSHeYKtDTWTxb...  2016-01-27   \n...                                                  ...         ...   \n3636   KfTpoJHX1T3EFlZOMd0FGox4SgwGuyblPM6WtV33J1Y04x...  2018-03-14   \n16033  KEysLZG2waIpcA1GJxx9uLBFqwHQwaF7UhYqeSEC1wBWKh...  2017-03-01   \n17752  KR5HzeixzuHW7vuEfAgOr0/10HNKDRKhFIWtdxkZ+S1dtA...  2017-09-27   \n9277   Kc64erSnoQv61Gf1902hur0ejgnEheQCx+SZ32q++96U4x...  2017-03-20   \n18253  KrCqcAkhJZxKWh8eLKngS2RFqwHQwaF7UhYqeSEC1wBWKh...  2017-05-04   \n\n        last.date     defdate   amount    pri.coll   int.coll  numpay  ...  \\\n18994  2019-11-15         NaN   8670.0   8670.0000   759.9700      38  ...   \n18853  2019-03-19         NaN  13790.0  13790.0000  3162.2100      47  ...   \n1587   2013-09-30         NaN   6490.0   6490.0000   576.5000      13  ...   \n16167  2015-07-02         NaN   2050.0   2050.0000   127.3000      24  ...   \n11170  2018-08-16         NaN  10200.0  10200.0000  1116.6400      31  ...   \n...           ...         ...      ...         ...        ...     ...  ...   \n3636   2019-06-10  2019/01/28   7540.0    254.3393   957.2308      15  ...   \n16033  2017-12-18  2018/04/12   2110.0   1204.2660   169.2138       7  ...   \n17752  2018-02-28  2018/05/23   5490.0    529.4390   289.8710       5  ...   \n9277   2019-03-21  2019/07/22    560.0    508.6988   121.1512      21  ...   \n18253  2020-03-11  2019/01/16   3170.0   1051.3470   371.8433      32  ...   \n\n               FV       MIRR    DD  time.start  time.end      RINV      MIRR2  \\\n18994   9538.2420   3.078259  1149        4220      5369  5.035307   5.224375   \n18853  17273.8200   6.017427  1407        3721      5128  4.615227   7.892380   \n1587    7117.3920   8.831169   398        2734      3132  6.134027  11.146960   \n16167   2196.4170   3.437695   745        3027      3772  5.646825   5.769698   \n11170  11460.9600   4.670587   932        3981      4913  4.648120   6.490796   \n...           ...        ...   ...         ...       ...       ...        ...   \n3636    1218.1840 -76.978710   453        4758      5211  5.722996 -76.472660   \n16033   1376.8930 -41.349440   292        4380      4672  5.340826 -40.207380   \n17752    820.2243 -98.895600   154        4590      4744  5.697711 -98.873770   \n9277     634.2163   6.411295   731        4399      5130  5.358982   8.738703   \n18253   1436.2520 -24.218890  1042        4444      5486  5.454471 -22.466610   \n\n              FV2  amount_ln  time.start2  \n18994  10177.4800   9.067624    1780.8400  \n18853  18481.4900   9.531699    1384.5840  \n1587    7282.6920   8.778018     747.4756  \n16167   2298.6750   7.625595     916.2729  \n11170  11976.7600   9.230143    1584.8360  \n...           ...        ...          ...  \n3636    1251.5060   8.927977    2263.8560  \n16033   1398.3000   7.654443    1918.4400  \n17752    827.0261   8.610684    2106.8100  \n9277     662.3019   6.327937    1935.1200  \n18253   1533.1070   8.061487    1974.9140  \n\n[2442 rows x 226 columns]",
      "text/html": "<div>\n<style scoped>\n    .dataframe tbody tr th:only-of-type {\n        vertical-align: middle;\n    }\n\n    .dataframe tbody tr th {\n        vertical-align: top;\n    }\n\n    .dataframe thead th {\n        text-align: right;\n    }\n</style>\n<table border=\"1\" class=\"dataframe\">\n  <thead>\n    <tr style=\"text-align: right;\">\n      <th></th>\n      <th>Unnamed: 0</th>\n      <th>Encrypted.Loan.ID</th>\n      <th>Encrypted.Borrower.ID</th>\n      <th>date.start</th>\n      <th>last.date</th>\n      <th>defdate</th>\n      <th>amount</th>\n      <th>pri.coll</th>\n      <th>int.coll</th>\n      <th>numpay</th>\n      <th>...</th>\n      <th>FV</th>\n      <th>MIRR</th>\n      <th>DD</th>\n      <th>time.start</th>\n      <th>time.end</th>\n      <th>RINV</th>\n      <th>MIRR2</th>\n      <th>FV2</th>\n      <th>amount_ln</th>\n      <th>time.start2</th>\n    </tr>\n  </thead>\n  <tbody>\n    <tr>\n      <th>18994</th>\n      <td>460478</td>\n      <td>K07NPAzxhvTU5cj/qkyHeXwvJGCqccaVp/YKbWtbAxYuKh...</td>\n      <td>KxNbXSdj/cyCdlhTF6ab4W7Qz19n7lfVpjMj6dsfjBlOKh...</td>\n      <td>2016-09-22</td>\n      <td>2019-11-15</td>\n      <td>NaN</td>\n      <td>8670.0</td>\n      <td>8670.0000</td>\n      <td>759.9700</td>\n      <td>38</td>\n      <td>...</td>\n      <td>9538.2420</td>\n      <td>3.078259</td>\n      <td>1149</td>\n      <td>4220</td>\n      <td>5369</td>\n      <td>5.035307</td>\n      <td>5.224375</td>\n      <td>10177.4800</td>\n      <td>9.067624</td>\n      <td>1780.8400</td>\n    </tr>\n    <tr>\n      <th>18853</th>\n      <td>446769</td>\n      <td>KgoqtOa4xR1SP8HZDIQVJ0b9HkmvaZXDhmXoAPIGoeDmKh...</td>\n      <td>KVqMV29p6ECv0j0/ZXXVzFb9HkmvaZXDhmXoAPIGoeDmKh...</td>\n      <td>2015-05-12</td>\n      <td>2019-03-19</td>\n      <td>NaN</td>\n      <td>13790.0</td>\n      <td>13790.0000</td>\n      <td>3162.2100</td>\n      <td>47</td>\n      <td>...</td>\n      <td>17273.8200</td>\n      <td>6.017427</td>\n      <td>1407</td>\n      <td>3721</td>\n      <td>5128</td>\n      <td>4.615227</td>\n      <td>7.892380</td>\n      <td>18481.4900</td>\n      <td>9.531699</td>\n      <td>1384.5840</td>\n    </tr>\n    <tr>\n      <th>1587</th>\n      <td>18944</td>\n      <td>KCHGrEBN7Iw57PnUhBHFYCmysFDmQZ6Xke/RWG2hnCX6e8...</td>\n      <td>KaweCcg6/7QxXKz5RtGY7iWysFDmQZ6Xke/RWG2hnCX6e8...</td>\n      <td>2012-08-28</td>\n      <td>2013-09-30</td>\n      <td>NaN</td>\n      <td>6490.0</td>\n      <td>6490.0000</td>\n      <td>576.5000</td>\n      <td>13</td>\n      <td>...</td>\n      <td>7117.3920</td>\n      <td>8.831169</td>\n      <td>398</td>\n      <td>2734</td>\n      <td>3132</td>\n      <td>6.134027</td>\n      <td>11.146960</td>\n      <td>7282.6920</td>\n      <td>8.778018</td>\n      <td>747.4756</td>\n    </tr>\n    <tr>\n      <th>16167</th>\n      <td>46828</td>\n      <td>KCRxITtUWug7KR9dghF0GKnptx0foLOYJfyrpB9PEuf4Gf...</td>\n      <td>K2qN2FgVFKkTx2TFizKX7fg2EEWxsAbqVRSHeYKtDTWTxb...</td>\n      <td>2013-06-17</td>\n      <td>2015-07-02</td>\n      <td>NaN</td>\n      <td>2050.0</td>\n      <td>2050.0000</td>\n      <td>127.3000</td>\n      <td>24</td>\n      <td>...</td>\n      <td>2196.4170</td>\n      <td>3.437695</td>\n      <td>745</td>\n      <td>3027</td>\n      <td>3772</td>\n      <td>5.646825</td>\n      <td>5.769698</td>\n      <td>2298.6750</td>\n      <td>7.625595</td>\n      <td>916.2729</td>\n    </tr>\n    <tr>\n      <th>11170</th>\n      <td>498281</td>\n      <td>KkB5ybvnqh9dxRKc4W//DUhFqwHQwaF7UhYqeSEC1wBWKh...</td>\n      <td>KZLYWIYYLv9wv1+BFFgSd/Q2EEWxsAbqVRSHeYKtDTWTxb...</td>\n      <td>2016-01-27</td>\n      <td>2018-08-16</td>\n      <td>NaN</td>\n      <td>10200.0</td>\n      <td>10200.0000</td>\n      <td>1116.6400</td>\n      <td>31</td>\n      <td>...</td>\n      <td>11460.9600</td>\n      <td>4.670587</td>\n      <td>932</td>\n      <td>3981</td>\n      <td>4913</td>\n      <td>4.648120</td>\n      <td>6.490796</td>\n      <td>11976.7600</td>\n      <td>9.230143</td>\n      <td>1584.8360</td>\n    </tr>\n    <tr>\n      <th>...</th>\n      <td>...</td>\n      <td>...</td>\n      <td>...</td>\n      <td>...</td>\n      <td>...</td>\n      <td>...</td>\n      <td>...</td>\n      <td>...</td>\n      <td>...</td>\n      <td>...</td>\n      <td>...</td>\n      <td>...</td>\n      <td>...</td>\n      <td>...</td>\n      <td>...</td>\n      <td>...</td>\n      <td>...</td>\n      <td>...</td>\n      <td>...</td>\n      <td>...</td>\n      <td>...</td>\n    </tr>\n    <tr>\n      <th>3636</th>\n      <td>553476</td>\n      <td>Kx4Tg8VBN7g6Cd7e6OqeNjB4SgwGuyblPM6WtV33J1Y04x...</td>\n      <td>KfTpoJHX1T3EFlZOMd0FGox4SgwGuyblPM6WtV33J1Y04x...</td>\n      <td>2018-03-14</td>\n      <td>2019-06-10</td>\n      <td>2019/01/28</td>\n      <td>7540.0</td>\n      <td>254.3393</td>\n      <td>957.2308</td>\n      <td>15</td>\n      <td>...</td>\n      <td>1218.1840</td>\n      <td>-76.978710</td>\n      <td>453</td>\n      <td>4758</td>\n      <td>5211</td>\n      <td>5.722996</td>\n      <td>-76.472660</td>\n      <td>1251.5060</td>\n      <td>8.927977</td>\n      <td>2263.8560</td>\n    </tr>\n    <tr>\n      <th>16033</th>\n      <td>306724</td>\n      <td>K33aBj4gUwGTldjuHnLmbEUejgnEheQCx+SZ32q++96VJj...</td>\n      <td>KEysLZG2waIpcA1GJxx9uLBFqwHQwaF7UhYqeSEC1wBWKh...</td>\n      <td>2017-03-01</td>\n      <td>2017-12-18</td>\n      <td>2018/04/12</td>\n      <td>2110.0</td>\n      <td>1204.2660</td>\n      <td>169.2138</td>\n      <td>7</td>\n      <td>...</td>\n      <td>1376.8930</td>\n      <td>-41.349440</td>\n      <td>292</td>\n      <td>4380</td>\n      <td>4672</td>\n      <td>5.340826</td>\n      <td>-40.207380</td>\n      <td>1398.3000</td>\n      <td>7.654443</td>\n      <td>1918.4400</td>\n    </tr>\n    <tr>\n      <th>17752</th>\n      <td>611691</td>\n      <td>K8hfqIpVcoAAaYjZQdx2G1P10HNKDRKhFIWtdxkZ+S1dtA...</td>\n      <td>KR5HzeixzuHW7vuEfAgOr0/10HNKDRKhFIWtdxkZ+S1dtA...</td>\n      <td>2017-09-27</td>\n      <td>2018-02-28</td>\n      <td>2018/05/23</td>\n      <td>5490.0</td>\n      <td>529.4390</td>\n      <td>289.8710</td>\n      <td>5</td>\n      <td>...</td>\n      <td>820.2243</td>\n      <td>-98.895600</td>\n      <td>154</td>\n      <td>4590</td>\n      <td>4744</td>\n      <td>5.697711</td>\n      <td>-98.873770</td>\n      <td>827.0261</td>\n      <td>8.610684</td>\n      <td>2106.8100</td>\n    </tr>\n    <tr>\n      <th>9277</th>\n      <td>551356</td>\n      <td>KGPTYWEaSXRndFmOMGaOia0ejgnEheQCx+SZ32q++96U4x...</td>\n      <td>Kc64erSnoQv61Gf1902hur0ejgnEheQCx+SZ32q++96U4x...</td>\n      <td>2017-03-20</td>\n      <td>2019-03-21</td>\n      <td>2019/07/22</td>\n      <td>560.0</td>\n      <td>508.6988</td>\n      <td>121.1512</td>\n      <td>21</td>\n      <td>...</td>\n      <td>634.2163</td>\n      <td>6.411295</td>\n      <td>731</td>\n      <td>4399</td>\n      <td>5130</td>\n      <td>5.358982</td>\n      <td>8.738703</td>\n      <td>662.3019</td>\n      <td>6.327937</td>\n      <td>1935.1200</td>\n    </tr>\n    <tr>\n      <th>18253</th>\n      <td>585331</td>\n      <td>Ky1sWQFN9kQ95rnLb7wYOv4bNjYNUeeawiNvFJrlY2sxtA...</td>\n      <td>KrCqcAkhJZxKWh8eLKngS2RFqwHQwaF7UhYqeSEC1wBWKh...</td>\n      <td>2017-05-04</td>\n      <td>2020-03-11</td>\n      <td>2019/01/16</td>\n      <td>3170.0</td>\n      <td>1051.3470</td>\n      <td>371.8433</td>\n      <td>32</td>\n      <td>...</td>\n      <td>1436.2520</td>\n      <td>-24.218890</td>\n      <td>1042</td>\n      <td>4444</td>\n      <td>5486</td>\n      <td>5.454471</td>\n      <td>-22.466610</td>\n      <td>1533.1070</td>\n      <td>8.061487</td>\n      <td>1974.9140</td>\n    </tr>\n  </tbody>\n</table>\n<p>2442 rows × 226 columns</p>\n</div>"
     },
     "execution_count": 11,
     "metadata": {},
     "output_type": "execute_result"
    }
   ],
   "source": [
    "data_zopa_balanced"
   ],
   "metadata": {
    "collapsed": false
   }
  },
  {
   "cell_type": "markdown",
   "source": [
    "## Modelling"
   ],
   "metadata": {
    "collapsed": false
   }
  },
  {
   "cell_type": "code",
   "execution_count": 12,
   "outputs": [],
   "source": [
    "X_train = data_zopa_balanced.drop('default', axis=1)\n",
    "y_train = data_zopa_balanced.default"
   ],
   "metadata": {
    "collapsed": false
   }
  },
  {
   "cell_type": "code",
   "execution_count": 13,
   "outputs": [
    {
     "data": {
      "text/plain": "       Unnamed: 0                                  Encrypted.Loan.ID  \\\n18994      460478  K07NPAzxhvTU5cj/qkyHeXwvJGCqccaVp/YKbWtbAxYuKh...   \n18853      446769  KgoqtOa4xR1SP8HZDIQVJ0b9HkmvaZXDhmXoAPIGoeDmKh...   \n1587        18944  KCHGrEBN7Iw57PnUhBHFYCmysFDmQZ6Xke/RWG2hnCX6e8...   \n16167       46828  KCRxITtUWug7KR9dghF0GKnptx0foLOYJfyrpB9PEuf4Gf...   \n11170      498281  KkB5ybvnqh9dxRKc4W//DUhFqwHQwaF7UhYqeSEC1wBWKh...   \n...           ...                                                ...   \n3636       553476  Kx4Tg8VBN7g6Cd7e6OqeNjB4SgwGuyblPM6WtV33J1Y04x...   \n16033      306724  K33aBj4gUwGTldjuHnLmbEUejgnEheQCx+SZ32q++96VJj...   \n17752      611691  K8hfqIpVcoAAaYjZQdx2G1P10HNKDRKhFIWtdxkZ+S1dtA...   \n9277       551356  KGPTYWEaSXRndFmOMGaOia0ejgnEheQCx+SZ32q++96U4x...   \n18253      585331  Ky1sWQFN9kQ95rnLb7wYOv4bNjYNUeeawiNvFJrlY2sxtA...   \n\n                                   Encrypted.Borrower.ID  date.start  \\\n18994  KxNbXSdj/cyCdlhTF6ab4W7Qz19n7lfVpjMj6dsfjBlOKh...  2016-09-22   \n18853  KVqMV29p6ECv0j0/ZXXVzFb9HkmvaZXDhmXoAPIGoeDmKh...  2015-05-12   \n1587   KaweCcg6/7QxXKz5RtGY7iWysFDmQZ6Xke/RWG2hnCX6e8...  2012-08-28   \n16167  K2qN2FgVFKkTx2TFizKX7fg2EEWxsAbqVRSHeYKtDTWTxb...  2013-06-17   \n11170  KZLYWIYYLv9wv1+BFFgSd/Q2EEWxsAbqVRSHeYKtDTWTxb...  2016-01-27   \n...                                                  ...         ...   \n3636   KfTpoJHX1T3EFlZOMd0FGox4SgwGuyblPM6WtV33J1Y04x...  2018-03-14   \n16033  KEysLZG2waIpcA1GJxx9uLBFqwHQwaF7UhYqeSEC1wBWKh...  2017-03-01   \n17752  KR5HzeixzuHW7vuEfAgOr0/10HNKDRKhFIWtdxkZ+S1dtA...  2017-09-27   \n9277   Kc64erSnoQv61Gf1902hur0ejgnEheQCx+SZ32q++96U4x...  2017-03-20   \n18253  KrCqcAkhJZxKWh8eLKngS2RFqwHQwaF7UhYqeSEC1wBWKh...  2017-05-04   \n\n        last.date     defdate   amount    pri.coll   int.coll  numpay  ...  \\\n18994  2019-11-15         NaN   8670.0   8670.0000   759.9700      38  ...   \n18853  2019-03-19         NaN  13790.0  13790.0000  3162.2100      47  ...   \n1587   2013-09-30         NaN   6490.0   6490.0000   576.5000      13  ...   \n16167  2015-07-02         NaN   2050.0   2050.0000   127.3000      24  ...   \n11170  2018-08-16         NaN  10200.0  10200.0000  1116.6400      31  ...   \n...           ...         ...      ...         ...        ...     ...  ...   \n3636   2019-06-10  2019/01/28   7540.0    254.3393   957.2308      15  ...   \n16033  2017-12-18  2018/04/12   2110.0   1204.2660   169.2138       7  ...   \n17752  2018-02-28  2018/05/23   5490.0    529.4390   289.8710       5  ...   \n9277   2019-03-21  2019/07/22    560.0    508.6988   121.1512      21  ...   \n18253  2020-03-11  2019/01/16   3170.0   1051.3470   371.8433      32  ...   \n\n               FV       MIRR    DD  time.start  time.end      RINV      MIRR2  \\\n18994   9538.2420   3.078259  1149        4220      5369  5.035307   5.224375   \n18853  17273.8200   6.017427  1407        3721      5128  4.615227   7.892380   \n1587    7117.3920   8.831169   398        2734      3132  6.134027  11.146960   \n16167   2196.4170   3.437695   745        3027      3772  5.646825   5.769698   \n11170  11460.9600   4.670587   932        3981      4913  4.648120   6.490796   \n...           ...        ...   ...         ...       ...       ...        ...   \n3636    1218.1840 -76.978710   453        4758      5211  5.722996 -76.472660   \n16033   1376.8930 -41.349440   292        4380      4672  5.340826 -40.207380   \n17752    820.2243 -98.895600   154        4590      4744  5.697711 -98.873770   \n9277     634.2163   6.411295   731        4399      5130  5.358982   8.738703   \n18253   1436.2520 -24.218890  1042        4444      5486  5.454471 -22.466610   \n\n              FV2  amount_ln  time.start2  \n18994  10177.4800   9.067624    1780.8400  \n18853  18481.4900   9.531699    1384.5840  \n1587    7282.6920   8.778018     747.4756  \n16167   2298.6750   7.625595     916.2729  \n11170  11976.7600   9.230143    1584.8360  \n...           ...        ...          ...  \n3636    1251.5060   8.927977    2263.8560  \n16033   1398.3000   7.654443    1918.4400  \n17752    827.0261   8.610684    2106.8100  \n9277     662.3019   6.327937    1935.1200  \n18253   1533.1070   8.061487    1974.9140  \n\n[2442 rows x 225 columns]",
      "text/html": "<div>\n<style scoped>\n    .dataframe tbody tr th:only-of-type {\n        vertical-align: middle;\n    }\n\n    .dataframe tbody tr th {\n        vertical-align: top;\n    }\n\n    .dataframe thead th {\n        text-align: right;\n    }\n</style>\n<table border=\"1\" class=\"dataframe\">\n  <thead>\n    <tr style=\"text-align: right;\">\n      <th></th>\n      <th>Unnamed: 0</th>\n      <th>Encrypted.Loan.ID</th>\n      <th>Encrypted.Borrower.ID</th>\n      <th>date.start</th>\n      <th>last.date</th>\n      <th>defdate</th>\n      <th>amount</th>\n      <th>pri.coll</th>\n      <th>int.coll</th>\n      <th>numpay</th>\n      <th>...</th>\n      <th>FV</th>\n      <th>MIRR</th>\n      <th>DD</th>\n      <th>time.start</th>\n      <th>time.end</th>\n      <th>RINV</th>\n      <th>MIRR2</th>\n      <th>FV2</th>\n      <th>amount_ln</th>\n      <th>time.start2</th>\n    </tr>\n  </thead>\n  <tbody>\n    <tr>\n      <th>18994</th>\n      <td>460478</td>\n      <td>K07NPAzxhvTU5cj/qkyHeXwvJGCqccaVp/YKbWtbAxYuKh...</td>\n      <td>KxNbXSdj/cyCdlhTF6ab4W7Qz19n7lfVpjMj6dsfjBlOKh...</td>\n      <td>2016-09-22</td>\n      <td>2019-11-15</td>\n      <td>NaN</td>\n      <td>8670.0</td>\n      <td>8670.0000</td>\n      <td>759.9700</td>\n      <td>38</td>\n      <td>...</td>\n      <td>9538.2420</td>\n      <td>3.078259</td>\n      <td>1149</td>\n      <td>4220</td>\n      <td>5369</td>\n      <td>5.035307</td>\n      <td>5.224375</td>\n      <td>10177.4800</td>\n      <td>9.067624</td>\n      <td>1780.8400</td>\n    </tr>\n    <tr>\n      <th>18853</th>\n      <td>446769</td>\n      <td>KgoqtOa4xR1SP8HZDIQVJ0b9HkmvaZXDhmXoAPIGoeDmKh...</td>\n      <td>KVqMV29p6ECv0j0/ZXXVzFb9HkmvaZXDhmXoAPIGoeDmKh...</td>\n      <td>2015-05-12</td>\n      <td>2019-03-19</td>\n      <td>NaN</td>\n      <td>13790.0</td>\n      <td>13790.0000</td>\n      <td>3162.2100</td>\n      <td>47</td>\n      <td>...</td>\n      <td>17273.8200</td>\n      <td>6.017427</td>\n      <td>1407</td>\n      <td>3721</td>\n      <td>5128</td>\n      <td>4.615227</td>\n      <td>7.892380</td>\n      <td>18481.4900</td>\n      <td>9.531699</td>\n      <td>1384.5840</td>\n    </tr>\n    <tr>\n      <th>1587</th>\n      <td>18944</td>\n      <td>KCHGrEBN7Iw57PnUhBHFYCmysFDmQZ6Xke/RWG2hnCX6e8...</td>\n      <td>KaweCcg6/7QxXKz5RtGY7iWysFDmQZ6Xke/RWG2hnCX6e8...</td>\n      <td>2012-08-28</td>\n      <td>2013-09-30</td>\n      <td>NaN</td>\n      <td>6490.0</td>\n      <td>6490.0000</td>\n      <td>576.5000</td>\n      <td>13</td>\n      <td>...</td>\n      <td>7117.3920</td>\n      <td>8.831169</td>\n      <td>398</td>\n      <td>2734</td>\n      <td>3132</td>\n      <td>6.134027</td>\n      <td>11.146960</td>\n      <td>7282.6920</td>\n      <td>8.778018</td>\n      <td>747.4756</td>\n    </tr>\n    <tr>\n      <th>16167</th>\n      <td>46828</td>\n      <td>KCRxITtUWug7KR9dghF0GKnptx0foLOYJfyrpB9PEuf4Gf...</td>\n      <td>K2qN2FgVFKkTx2TFizKX7fg2EEWxsAbqVRSHeYKtDTWTxb...</td>\n      <td>2013-06-17</td>\n      <td>2015-07-02</td>\n      <td>NaN</td>\n      <td>2050.0</td>\n      <td>2050.0000</td>\n      <td>127.3000</td>\n      <td>24</td>\n      <td>...</td>\n      <td>2196.4170</td>\n      <td>3.437695</td>\n      <td>745</td>\n      <td>3027</td>\n      <td>3772</td>\n      <td>5.646825</td>\n      <td>5.769698</td>\n      <td>2298.6750</td>\n      <td>7.625595</td>\n      <td>916.2729</td>\n    </tr>\n    <tr>\n      <th>11170</th>\n      <td>498281</td>\n      <td>KkB5ybvnqh9dxRKc4W//DUhFqwHQwaF7UhYqeSEC1wBWKh...</td>\n      <td>KZLYWIYYLv9wv1+BFFgSd/Q2EEWxsAbqVRSHeYKtDTWTxb...</td>\n      <td>2016-01-27</td>\n      <td>2018-08-16</td>\n      <td>NaN</td>\n      <td>10200.0</td>\n      <td>10200.0000</td>\n      <td>1116.6400</td>\n      <td>31</td>\n      <td>...</td>\n      <td>11460.9600</td>\n      <td>4.670587</td>\n      <td>932</td>\n      <td>3981</td>\n      <td>4913</td>\n      <td>4.648120</td>\n      <td>6.490796</td>\n      <td>11976.7600</td>\n      <td>9.230143</td>\n      <td>1584.8360</td>\n    </tr>\n    <tr>\n      <th>...</th>\n      <td>...</td>\n      <td>...</td>\n      <td>...</td>\n      <td>...</td>\n      <td>...</td>\n      <td>...</td>\n      <td>...</td>\n      <td>...</td>\n      <td>...</td>\n      <td>...</td>\n      <td>...</td>\n      <td>...</td>\n      <td>...</td>\n      <td>...</td>\n      <td>...</td>\n      <td>...</td>\n      <td>...</td>\n      <td>...</td>\n      <td>...</td>\n      <td>...</td>\n      <td>...</td>\n    </tr>\n    <tr>\n      <th>3636</th>\n      <td>553476</td>\n      <td>Kx4Tg8VBN7g6Cd7e6OqeNjB4SgwGuyblPM6WtV33J1Y04x...</td>\n      <td>KfTpoJHX1T3EFlZOMd0FGox4SgwGuyblPM6WtV33J1Y04x...</td>\n      <td>2018-03-14</td>\n      <td>2019-06-10</td>\n      <td>2019/01/28</td>\n      <td>7540.0</td>\n      <td>254.3393</td>\n      <td>957.2308</td>\n      <td>15</td>\n      <td>...</td>\n      <td>1218.1840</td>\n      <td>-76.978710</td>\n      <td>453</td>\n      <td>4758</td>\n      <td>5211</td>\n      <td>5.722996</td>\n      <td>-76.472660</td>\n      <td>1251.5060</td>\n      <td>8.927977</td>\n      <td>2263.8560</td>\n    </tr>\n    <tr>\n      <th>16033</th>\n      <td>306724</td>\n      <td>K33aBj4gUwGTldjuHnLmbEUejgnEheQCx+SZ32q++96VJj...</td>\n      <td>KEysLZG2waIpcA1GJxx9uLBFqwHQwaF7UhYqeSEC1wBWKh...</td>\n      <td>2017-03-01</td>\n      <td>2017-12-18</td>\n      <td>2018/04/12</td>\n      <td>2110.0</td>\n      <td>1204.2660</td>\n      <td>169.2138</td>\n      <td>7</td>\n      <td>...</td>\n      <td>1376.8930</td>\n      <td>-41.349440</td>\n      <td>292</td>\n      <td>4380</td>\n      <td>4672</td>\n      <td>5.340826</td>\n      <td>-40.207380</td>\n      <td>1398.3000</td>\n      <td>7.654443</td>\n      <td>1918.4400</td>\n    </tr>\n    <tr>\n      <th>17752</th>\n      <td>611691</td>\n      <td>K8hfqIpVcoAAaYjZQdx2G1P10HNKDRKhFIWtdxkZ+S1dtA...</td>\n      <td>KR5HzeixzuHW7vuEfAgOr0/10HNKDRKhFIWtdxkZ+S1dtA...</td>\n      <td>2017-09-27</td>\n      <td>2018-02-28</td>\n      <td>2018/05/23</td>\n      <td>5490.0</td>\n      <td>529.4390</td>\n      <td>289.8710</td>\n      <td>5</td>\n      <td>...</td>\n      <td>820.2243</td>\n      <td>-98.895600</td>\n      <td>154</td>\n      <td>4590</td>\n      <td>4744</td>\n      <td>5.697711</td>\n      <td>-98.873770</td>\n      <td>827.0261</td>\n      <td>8.610684</td>\n      <td>2106.8100</td>\n    </tr>\n    <tr>\n      <th>9277</th>\n      <td>551356</td>\n      <td>KGPTYWEaSXRndFmOMGaOia0ejgnEheQCx+SZ32q++96U4x...</td>\n      <td>Kc64erSnoQv61Gf1902hur0ejgnEheQCx+SZ32q++96U4x...</td>\n      <td>2017-03-20</td>\n      <td>2019-03-21</td>\n      <td>2019/07/22</td>\n      <td>560.0</td>\n      <td>508.6988</td>\n      <td>121.1512</td>\n      <td>21</td>\n      <td>...</td>\n      <td>634.2163</td>\n      <td>6.411295</td>\n      <td>731</td>\n      <td>4399</td>\n      <td>5130</td>\n      <td>5.358982</td>\n      <td>8.738703</td>\n      <td>662.3019</td>\n      <td>6.327937</td>\n      <td>1935.1200</td>\n    </tr>\n    <tr>\n      <th>18253</th>\n      <td>585331</td>\n      <td>Ky1sWQFN9kQ95rnLb7wYOv4bNjYNUeeawiNvFJrlY2sxtA...</td>\n      <td>KrCqcAkhJZxKWh8eLKngS2RFqwHQwaF7UhYqeSEC1wBWKh...</td>\n      <td>2017-05-04</td>\n      <td>2020-03-11</td>\n      <td>2019/01/16</td>\n      <td>3170.0</td>\n      <td>1051.3470</td>\n      <td>371.8433</td>\n      <td>32</td>\n      <td>...</td>\n      <td>1436.2520</td>\n      <td>-24.218890</td>\n      <td>1042</td>\n      <td>4444</td>\n      <td>5486</td>\n      <td>5.454471</td>\n      <td>-22.466610</td>\n      <td>1533.1070</td>\n      <td>8.061487</td>\n      <td>1974.9140</td>\n    </tr>\n  </tbody>\n</table>\n<p>2442 rows × 225 columns</p>\n</div>"
     },
     "execution_count": 13,
     "metadata": {},
     "output_type": "execute_result"
    }
   ],
   "source": [
    "X_train"
   ],
   "metadata": {
    "collapsed": false
   }
  },
  {
   "cell_type": "code",
   "execution_count": 14,
   "outputs": [
    {
     "ename": "AttributeError",
     "evalue": "module 'numpy' has no attribute 'l'",
     "output_type": "error",
     "traceback": [
      "\u001B[1;31m---------------------------------------------------------------------------\u001B[0m",
      "\u001B[1;31mAttributeError\u001B[0m                            Traceback (most recent call last)",
      "Cell \u001B[1;32mIn [14], line 1\u001B[0m\n\u001B[1;32m----> 1\u001B[0m feature_list \u001B[38;5;241m=\u001B[39m [\u001B[43mnp\u001B[49m\u001B[38;5;241;43m.\u001B[39;49m\u001B[43ml\u001B[49m]\n",
      "File \u001B[1;32m~\\OneDrive - Deutsche Telekom AG\\non_DT\\uni\\WS_22\\AI\\venv\\lib\\site-packages\\numpy\\__init__.py:303\u001B[0m, in \u001B[0;36m__getattr__\u001B[1;34m(attr)\u001B[0m\n\u001B[0;32m    300\u001B[0m     \u001B[38;5;28;01mfrom\u001B[39;00m \u001B[38;5;21;01m.\u001B[39;00m\u001B[38;5;21;01mtesting\u001B[39;00m \u001B[38;5;28;01mimport\u001B[39;00m Tester\n\u001B[0;32m    301\u001B[0m     \u001B[38;5;28;01mreturn\u001B[39;00m Tester\n\u001B[1;32m--> 303\u001B[0m \u001B[38;5;28;01mraise\u001B[39;00m \u001B[38;5;167;01mAttributeError\u001B[39;00m(\u001B[38;5;124m\"\u001B[39m\u001B[38;5;124mmodule \u001B[39m\u001B[38;5;132;01m{!r}\u001B[39;00m\u001B[38;5;124m has no attribute \u001B[39m\u001B[38;5;124m\"\u001B[39m\n\u001B[0;32m    304\u001B[0m                      \u001B[38;5;124m\"\u001B[39m\u001B[38;5;132;01m{!r}\u001B[39;00m\u001B[38;5;124m\"\u001B[39m\u001B[38;5;241m.\u001B[39mformat(\u001B[38;5;18m__name__\u001B[39m, attr))\n",
      "\u001B[1;31mAttributeError\u001B[0m: module 'numpy' has no attribute 'l'"
     ]
    }
   ],
   "source": [
    "feature_list = [np.l]"
   ],
   "metadata": {
    "collapsed": false
   }
  },
  {
   "cell_type": "code",
   "execution_count": null,
   "outputs": [],
   "source": [
    "f_train = pd.concat([np.log(X_train.amount), X_train.amount, X_train.term, X_train.amount/X_train.term, X_train.rate, X_train.RINV,\n",
    "X_train['time.start'], X_train['time.start2']], axis=1)"
   ],
   "metadata": {
    "collapsed": false
   }
  },
  {
   "cell_type": "code",
   "execution_count": null,
   "outputs": [],
   "source": [
    "y_train"
   ],
   "metadata": {
    "collapsed": false
   }
  },
  {
   "cell_type": "code",
   "execution_count": null,
   "outputs": [],
   "source": [
    "from sklearn.ensemble import RandomForestClassifier\n",
    "\n",
    "clf = RandomForestClassifier().fit(X = f_train, y= y_train)"
   ],
   "metadata": {
    "collapsed": false
   }
  },
  {
   "cell_type": "code",
   "execution_count": null,
   "outputs": [],
   "source": [
    "clf.score(X = f_train, y= y_train)"
   ],
   "metadata": {
    "collapsed": false
   }
  },
  {
   "cell_type": "code",
   "execution_count": null,
   "outputs": [],
   "source": [
    "f_test = pd.concat([np.log(data_test.amount), data_test.amount, data_test.term, data_test.amount/data_test.term,\n",
    "                    data_test.rate, data_test.RINV, data_test['time.start'], data_test['time.start2']], axis=1)"
   ],
   "metadata": {
    "collapsed": false
   }
  },
  {
   "cell_type": "code",
   "execution_count": null,
   "outputs": [],
   "source": [
    "pred_m1 = clf.predict(X=f_test)"
   ],
   "metadata": {
    "collapsed": false
   }
  },
  {
   "cell_type": "code",
   "execution_count": null,
   "outputs": [],
   "source": [
    "from sklearn.metrics import mean_absolute_error as mae\n",
    "mae(pred_m1, data_test.default)"
   ],
   "metadata": {
    "collapsed": false
   }
  },
  {
   "cell_type": "code",
   "execution_count": null,
   "outputs": [],
   "source": [
    "from sklearn.metrics import ConfusionMatrixDisplay, confusion_matrix\n",
    "conf_matrix = confusion_matrix(pred_m1, data_test.default)\n",
    "ConfusionMatrixDisplay(conf_matrix, display_labels=['True', 'False'], cma).plot()"
   ],
   "metadata": {
    "collapsed": false
   }
  },
  {
   "cell_type": "code",
   "execution_count": null,
   "outputs": [],
   "source": [
    "import seaborn as sns\n",
    "sns.heatmap(conf_matrix, annot=True)"
   ],
   "metadata": {
    "collapsed": false
   }
  },
  {
   "cell_type": "code",
   "execution_count": null,
   "outputs": [],
   "source": [
    "from sklearn.metrics import roc_curve, plot_roc_curve\n",
    "\n",
    "fpr, tpr, _ = roc_curve(pred_m1, data_test.default)"
   ],
   "metadata": {
    "collapsed": false
   }
  },
  {
   "cell_type": "code",
   "execution_count": null,
   "outputs": [],
   "source": [
    "import matplotlib.pyplot as plt\n",
    "plt.plot(fpr,tpr)"
   ],
   "metadata": {
    "collapsed": false
   }
  },
  {
   "cell_type": "code",
   "execution_count": null,
   "outputs": [],
   "source": [
    "plot_roc_curve(clf, f_test, data_test.default)"
   ],
   "metadata": {
    "collapsed": false
   }
  }
 ],
 "metadata": {
  "kernelspec": {
   "display_name": "Python 3",
   "language": "python",
   "name": "python3"
  },
  "language_info": {
   "codemirror_mode": {
    "name": "ipython",
    "version": 2
   },
   "file_extension": ".py",
   "mimetype": "text/x-python",
   "name": "python",
   "nbconvert_exporter": "python",
   "pygments_lexer": "ipython2",
   "version": "2.7.6"
  }
 },
 "nbformat": 4,
 "nbformat_minor": 0
}

{
 "cells": [
  {
   "cell_type": "markdown",
   "source": [
    "# VII. Excercise:"
   ],
   "metadata": {
    "collapsed": false
   }
  },
  {
   "cell_type": "code",
   "execution_count": null,
   "outputs": [],
   "source": [
    "import pandas as pd\n",
    "import re\n",
    "import numpy as np"
   ],
   "metadata": {
    "collapsed": false
   }
  },
  {
   "cell_type": "code",
   "execution_count": null,
   "outputs": [],
   "source": [
    "data_full = pd.read_csv(\"../data/corpdef.csv\")"
   ],
   "metadata": {
    "collapsed": false
   }
  },
  {
   "cell_type": "code",
   "execution_count": null,
   "outputs": [],
   "source": [
    "data_full.columns = [re.sub(\"\\s\", \"_\", i) for i in data_full.columns]"
   ],
   "metadata": {
    "collapsed": false
   }
  },
  {
   "cell_type": "code",
   "execution_count": null,
   "outputs": [],
   "source": [
    "from sklearn.model_selection import train_test_split\n",
    "\n",
    "data_train, data_test = train_test_split(data_full)"
   ],
   "metadata": {
    "collapsed": false
   }
  },
  {
   "cell_type": "code",
   "execution_count": null,
   "outputs": [],
   "source": [
    "from util.downsampling_utils import *\n",
    "\n",
    "data_train_dspl = train_downsample('Bankrupt?', data_train)"
   ],
   "metadata": {
    "collapsed": false
   }
  },
  {
   "cell_type": "code",
   "execution_count": null,
   "outputs": [],
   "source": [
    "data_train_dspl['Bankrupt?'].value_counts()"
   ],
   "metadata": {
    "collapsed": false
   }
  },
  {
   "cell_type": "code",
   "execution_count": null,
   "outputs": [],
   "source": [
    "data_train.select_dtypes(exclude=\"int\").columns"
   ],
   "metadata": {
    "collapsed": false
   }
  },
  {
   "cell_type": "code",
   "execution_count": null,
   "outputs": [],
   "source": [
    "data_train.shape"
   ],
   "metadata": {
    "collapsed": false
   }
  },
  {
   "cell_type": "code",
   "execution_count": null,
   "outputs": [],
   "source": [
    "from sklearn.preprocessing import StandardScaler\n",
    "import numpy as np\n",
    "\n",
    "for col in data_train.columns:\n",
    "    if data_train[col].dtype == np.float32:\n",
    "        data_train[col] = StandardScaler().fit_transform(data_train[col])\n",
    "\n",
    "data_train"
   ],
   "metadata": {
    "collapsed": false
   }
  },
  {
   "cell_type": "code",
   "execution_count": null,
   "outputs": [],
   "source": [
    "data_train['_ROA(A)_before_interest_and_%_after_tax'].dtype == \"float\""
   ],
   "metadata": {
    "collapsed": false
   }
  },
  {
   "cell_type": "code",
   "execution_count": null,
   "outputs": [],
   "source": [],
   "metadata": {
    "collapsed": false
   }
  },
  {
   "cell_type": "code",
   "execution_count": null,
   "outputs": [],
   "source": [
    "from sklearn.preprocessing import StandardScaler\n",
    "\n",
    "pd.concat([pd.DataFrame(StandardScaler()\n",
    "             .fit_transform(data_train.select_dtypes(exclude=\"int\")),\n",
    "             columns=data_train.select_dtypes(exclude=\"int\").columns), data_train.select_dtypes(include=\"int\")], axis=1,\n",
    "          ignore_index=False)"
   ],
   "metadata": {
    "collapsed": false
   }
  },
  {
   "cell_type": "code",
   "execution_count": null,
   "outputs": [],
   "source": [
    "def preprocessing_pipeline(df: pd.DataFrame, downsample=False, target_var='Bankrupt?') -> pd.DataFrame:\n",
    "    \"\"\"\n",
    "    Standardized pipeline to easily prepare the full data set for further analysis.\n",
    "    At this point, performs OneHotEncoding of categorical variables and also a z-score standardization\n",
    "\n",
    "    :param df: Transforemed data frame\n",
    "    :param downsample: Whether the data set should be downsampled\n",
    "    :param target_var: Target variable to be predicted\n",
    "    :return: pd.DataFrame\n",
    "    \"\"\"\n",
    "    df_out = df.copy()\n",
    "\n",
    "    if downsample:\n",
    "        df_out = train_downsample(target_var, df_out)\n",
    "\n",
    "    df_out=pd.get_dummies(df_out)\n",
    "\n",
    "    for col in df_out.columns:\n",
    "        if df_out[col].dtype == \"float\" and col != target_var:\n",
    "            data_train[col] = StandardScaler().fit_transform(data_train[[col]])\n",
    "\n",
    "    return df_out"
   ],
   "metadata": {
    "collapsed": false
   }
  },
  {
   "cell_type": "code",
   "execution_count": null,
   "outputs": [],
   "source": [
    "%capture\n",
    "train_processed = preprocessing_pipeline(data_train, downsample=True)\n",
    "test_processed = preprocessing_pipeline(data_test)"
   ],
   "metadata": {
    "collapsed": false
   }
  },
  {
   "cell_type": "code",
   "execution_count": 176,
   "outputs": [
    {
     "data": {
      "text/plain": "      Bankrupt?  _ROA(C)_before_interest_and_depreciation_before_interest  \\\n284           1                                           0.028496          \n1171          1                                          -1.173073          \n1970          0                                          -0.064180          \n1024          0                                           0.934307          \n4534          0                                          -0.330927          \n...         ...                                                ...          \n469           0                                          -0.969185          \n5957          0                                           0.572466          \n526           1                                          -0.936950          \n54            1                                          -0.853138          \n6498          1                                          -3.041912          \n\n      _ROA(A)_before_interest_and_%_after_tax  \\\n284                                  0.114500   \n1171                                -1.032990   \n1970                                 0.032893   \n1024                                 0.878106   \n4534                                -0.236076   \n...                                       ...   \n469                                 -0.808988   \n5957                                 0.774848   \n526                                 -0.201101   \n54                                  -0.635782   \n6498                                -3.902547   \n\n      _ROA(B)_before_interest_and_depreciation_after_tax  \\\n284                                            0.142936    \n1171                                          -1.136453    \n1970                                          -0.125631    \n1024                                           0.999919    \n4534                                          -0.234275    \n...                                                 ...    \n469                                           -1.015641    \n5957                                           0.600109    \n526                                           -0.995651    \n54                                            -0.771410    \n6498                                          -3.371908    \n\n      _Operating_Gross_Margin  _Realized_Sales_Gross_Margin  \\\n284                 -0.492187                     -0.491603   \n1171                -1.122576                     -1.122725   \n1970                -0.139464                     -0.138470   \n1024                 0.611570                      0.619891   \n4534                 0.554471                      0.556272   \n...                       ...                           ...   \n469                 -1.078371                     -1.078468   \n5957                 0.243651                      0.238636   \n526                 -0.862408                     -0.862255   \n54                  -0.701242                     -0.700441   \n6498                 2.074496                      2.078064   \n\n      _Operating_Profit_Rate  _Pre-tax_net_Interest_Rate  \\\n284                 0.024717                    0.022291   \n1171               -0.000424                   -0.001326   \n1970                0.025110                    0.023784   \n1024                0.027411                    0.035195   \n4534                0.024794                    0.021311   \n...                      ...                         ...   \n469                 0.000884                   -0.017935   \n5957                0.026834                    0.028356   \n526                 0.013978                    0.019249   \n54                  0.016627                   -0.001858   \n6498               -0.009092                   -0.065905   \n\n      _After-tax_net_Interest_Rate  \\\n284                       0.026303   \n1171                      0.002303   \n1970                      0.023320   \n1024                      0.033405   \n4534                      0.026743   \n...                            ...   \n469                      -0.007317   \n5957                      0.027715   \n526                       0.020529   \n54                        0.002544   \n6498                     -0.055507   \n\n      _Non-industry_income_and_expenditure/revenue  ...  \\\n284                                      -0.015609  ...   \n1171                                     -0.001651  ...   \n1970                                     -0.013520  ...   \n1024                                      0.004008  ...   \n4534                                     -0.017793  ...   \n...                                            ...  ...   \n469                                      -0.038682  ...   \n5957                                     -0.008488  ...   \n526                                       0.004710  ...   \n54                                       -0.044796  ...   \n6498                                     -0.111698  ...   \n\n      _Net_Income_to_Total_Assets  _Total_assets_to_GNP_price  \\\n284                      0.277856                   -0.043137   \n1171                    -0.973810                   -0.043137   \n1970                     0.127116                   -0.043137   \n1024                     0.821616                   -0.043137   \n4534                    -0.188787                   -0.043137   \n...                           ...                         ...   \n469                     -0.540710                   -0.043137   \n5957                     0.702642                   -0.043137   \n526                     -0.210032                   -0.043137   \n54                      -0.748215                   -0.043137   \n6498                    -4.700479                   -0.043137   \n\n      _No-credit_Interval  _Gross_Profit_to_Sales  \\\n284              0.037808               -0.492390   \n1171             0.038993               -1.122626   \n1970            -0.007991               -0.139643   \n1024            -0.012724                0.611769   \n4534             0.676779                0.554526   \n...                   ...                     ...   \n469              0.203522               -1.078195   \n5957            -0.002860                0.243784   \n526             -0.109227               -0.862415   \n54              -0.510043               -0.701089   \n6498            -0.010636                2.074665   \n\n      _Net_Income_to_Stockholder's_Equity  _Liability_to_Equity  \\\n284                              0.251020              0.868916   \n1171                            -0.112808             -0.353913   \n1970                             0.109260              0.309297   \n1024                             0.209262             -0.074289   \n4534                            -0.008863             -0.246204   \n...                                   ...                   ...   \n469                             -0.062741             -0.279857   \n5957                             0.346497              0.482942   \n526                              0.018775              1.168426   \n54                              -0.226304              0.686835   \n6498                            -1.538560              0.372362   \n\n      _Degree_of_Financial_Leverage_(DFL)  \\\n284                             -0.021702   \n1171                            -0.048298   \n1970                            -0.039379   \n1024                            -0.045836   \n4534                             0.015627   \n...                                   ...   \n469                             -0.046782   \n5957                            -0.042301   \n526                              0.113893   \n54                              -0.088500   \n6498                            -0.047361   \n\n      _Interest_Coverage_Ratio_(Interest_expense_to_EBIT)  _Net_Income_Flag  \\\n284                                            0.098148                   1   \n1171                                          -0.021610                   1   \n1970                                           0.029168                   1   \n1024                                          -0.006094                   1   \n4534                                           0.178086                   1   \n...                                                 ...                 ...   \n469                                           -0.011907                   1   \n5957                                           0.014090                   1   \n526                                            0.258915                   1   \n54                                            -0.883082                   1   \n6498                                          -0.015552                   1   \n\n      _Equity_to_Liability  \n284              -0.650500  \n1171             14.983850  \n1970             -0.565828  \n1024             -0.317427  \n4534              0.328634  \n...                    ...  \n469               0.772159  \n5957             -0.604105  \n526              -0.670375  \n54               -0.632869  \n6498             -0.581823  \n\n[332 rows x 96 columns]",
      "text/html": "<div>\n<style scoped>\n    .dataframe tbody tr th:only-of-type {\n        vertical-align: middle;\n    }\n\n    .dataframe tbody tr th {\n        vertical-align: top;\n    }\n\n    .dataframe thead th {\n        text-align: right;\n    }\n</style>\n<table border=\"1\" class=\"dataframe\">\n  <thead>\n    <tr style=\"text-align: right;\">\n      <th></th>\n      <th>Bankrupt?</th>\n      <th>_ROA(C)_before_interest_and_depreciation_before_interest</th>\n      <th>_ROA(A)_before_interest_and_%_after_tax</th>\n      <th>_ROA(B)_before_interest_and_depreciation_after_tax</th>\n      <th>_Operating_Gross_Margin</th>\n      <th>_Realized_Sales_Gross_Margin</th>\n      <th>_Operating_Profit_Rate</th>\n      <th>_Pre-tax_net_Interest_Rate</th>\n      <th>_After-tax_net_Interest_Rate</th>\n      <th>_Non-industry_income_and_expenditure/revenue</th>\n      <th>...</th>\n      <th>_Net_Income_to_Total_Assets</th>\n      <th>_Total_assets_to_GNP_price</th>\n      <th>_No-credit_Interval</th>\n      <th>_Gross_Profit_to_Sales</th>\n      <th>_Net_Income_to_Stockholder's_Equity</th>\n      <th>_Liability_to_Equity</th>\n      <th>_Degree_of_Financial_Leverage_(DFL)</th>\n      <th>_Interest_Coverage_Ratio_(Interest_expense_to_EBIT)</th>\n      <th>_Net_Income_Flag</th>\n      <th>_Equity_to_Liability</th>\n    </tr>\n  </thead>\n  <tbody>\n    <tr>\n      <th>284</th>\n      <td>1</td>\n      <td>0.028496</td>\n      <td>0.114500</td>\n      <td>0.142936</td>\n      <td>-0.492187</td>\n      <td>-0.491603</td>\n      <td>0.024717</td>\n      <td>0.022291</td>\n      <td>0.026303</td>\n      <td>-0.015609</td>\n      <td>...</td>\n      <td>0.277856</td>\n      <td>-0.043137</td>\n      <td>0.037808</td>\n      <td>-0.492390</td>\n      <td>0.251020</td>\n      <td>0.868916</td>\n      <td>-0.021702</td>\n      <td>0.098148</td>\n      <td>1</td>\n      <td>-0.650500</td>\n    </tr>\n    <tr>\n      <th>1171</th>\n      <td>1</td>\n      <td>-1.173073</td>\n      <td>-1.032990</td>\n      <td>-1.136453</td>\n      <td>-1.122576</td>\n      <td>-1.122725</td>\n      <td>-0.000424</td>\n      <td>-0.001326</td>\n      <td>0.002303</td>\n      <td>-0.001651</td>\n      <td>...</td>\n      <td>-0.973810</td>\n      <td>-0.043137</td>\n      <td>0.038993</td>\n      <td>-1.122626</td>\n      <td>-0.112808</td>\n      <td>-0.353913</td>\n      <td>-0.048298</td>\n      <td>-0.021610</td>\n      <td>1</td>\n      <td>14.983850</td>\n    </tr>\n    <tr>\n      <th>1970</th>\n      <td>0</td>\n      <td>-0.064180</td>\n      <td>0.032893</td>\n      <td>-0.125631</td>\n      <td>-0.139464</td>\n      <td>-0.138470</td>\n      <td>0.025110</td>\n      <td>0.023784</td>\n      <td>0.023320</td>\n      <td>-0.013520</td>\n      <td>...</td>\n      <td>0.127116</td>\n      <td>-0.043137</td>\n      <td>-0.007991</td>\n      <td>-0.139643</td>\n      <td>0.109260</td>\n      <td>0.309297</td>\n      <td>-0.039379</td>\n      <td>0.029168</td>\n      <td>1</td>\n      <td>-0.565828</td>\n    </tr>\n    <tr>\n      <th>1024</th>\n      <td>0</td>\n      <td>0.934307</td>\n      <td>0.878106</td>\n      <td>0.999919</td>\n      <td>0.611570</td>\n      <td>0.619891</td>\n      <td>0.027411</td>\n      <td>0.035195</td>\n      <td>0.033405</td>\n      <td>0.004008</td>\n      <td>...</td>\n      <td>0.821616</td>\n      <td>-0.043137</td>\n      <td>-0.012724</td>\n      <td>0.611769</td>\n      <td>0.209262</td>\n      <td>-0.074289</td>\n      <td>-0.045836</td>\n      <td>-0.006094</td>\n      <td>1</td>\n      <td>-0.317427</td>\n    </tr>\n    <tr>\n      <th>4534</th>\n      <td>0</td>\n      <td>-0.330927</td>\n      <td>-0.236076</td>\n      <td>-0.234275</td>\n      <td>0.554471</td>\n      <td>0.556272</td>\n      <td>0.024794</td>\n      <td>0.021311</td>\n      <td>0.026743</td>\n      <td>-0.017793</td>\n      <td>...</td>\n      <td>-0.188787</td>\n      <td>-0.043137</td>\n      <td>0.676779</td>\n      <td>0.554526</td>\n      <td>-0.008863</td>\n      <td>-0.246204</td>\n      <td>0.015627</td>\n      <td>0.178086</td>\n      <td>1</td>\n      <td>0.328634</td>\n    </tr>\n    <tr>\n      <th>...</th>\n      <td>...</td>\n      <td>...</td>\n      <td>...</td>\n      <td>...</td>\n      <td>...</td>\n      <td>...</td>\n      <td>...</td>\n      <td>...</td>\n      <td>...</td>\n      <td>...</td>\n      <td>...</td>\n      <td>...</td>\n      <td>...</td>\n      <td>...</td>\n      <td>...</td>\n      <td>...</td>\n      <td>...</td>\n      <td>...</td>\n      <td>...</td>\n      <td>...</td>\n      <td>...</td>\n    </tr>\n    <tr>\n      <th>469</th>\n      <td>0</td>\n      <td>-0.969185</td>\n      <td>-0.808988</td>\n      <td>-1.015641</td>\n      <td>-1.078371</td>\n      <td>-1.078468</td>\n      <td>0.000884</td>\n      <td>-0.017935</td>\n      <td>-0.007317</td>\n      <td>-0.038682</td>\n      <td>...</td>\n      <td>-0.540710</td>\n      <td>-0.043137</td>\n      <td>0.203522</td>\n      <td>-1.078195</td>\n      <td>-0.062741</td>\n      <td>-0.279857</td>\n      <td>-0.046782</td>\n      <td>-0.011907</td>\n      <td>1</td>\n      <td>0.772159</td>\n    </tr>\n    <tr>\n      <th>5957</th>\n      <td>0</td>\n      <td>0.572466</td>\n      <td>0.774848</td>\n      <td>0.600109</td>\n      <td>0.243651</td>\n      <td>0.238636</td>\n      <td>0.026834</td>\n      <td>0.028356</td>\n      <td>0.027715</td>\n      <td>-0.008488</td>\n      <td>...</td>\n      <td>0.702642</td>\n      <td>-0.043137</td>\n      <td>-0.002860</td>\n      <td>0.243784</td>\n      <td>0.346497</td>\n      <td>0.482942</td>\n      <td>-0.042301</td>\n      <td>0.014090</td>\n      <td>1</td>\n      <td>-0.604105</td>\n    </tr>\n    <tr>\n      <th>526</th>\n      <td>1</td>\n      <td>-0.936950</td>\n      <td>-0.201101</td>\n      <td>-0.995651</td>\n      <td>-0.862408</td>\n      <td>-0.862255</td>\n      <td>0.013978</td>\n      <td>0.019249</td>\n      <td>0.020529</td>\n      <td>0.004710</td>\n      <td>...</td>\n      <td>-0.210032</td>\n      <td>-0.043137</td>\n      <td>-0.109227</td>\n      <td>-0.862415</td>\n      <td>0.018775</td>\n      <td>1.168426</td>\n      <td>0.113893</td>\n      <td>0.258915</td>\n      <td>1</td>\n      <td>-0.670375</td>\n    </tr>\n    <tr>\n      <th>54</th>\n      <td>1</td>\n      <td>-0.853138</td>\n      <td>-0.635782</td>\n      <td>-0.771410</td>\n      <td>-0.701242</td>\n      <td>-0.700441</td>\n      <td>0.016627</td>\n      <td>-0.001858</td>\n      <td>0.002544</td>\n      <td>-0.044796</td>\n      <td>...</td>\n      <td>-0.748215</td>\n      <td>-0.043137</td>\n      <td>-0.510043</td>\n      <td>-0.701089</td>\n      <td>-0.226304</td>\n      <td>0.686835</td>\n      <td>-0.088500</td>\n      <td>-0.883082</td>\n      <td>1</td>\n      <td>-0.632869</td>\n    </tr>\n    <tr>\n      <th>6498</th>\n      <td>1</td>\n      <td>-3.041912</td>\n      <td>-3.902547</td>\n      <td>-3.371908</td>\n      <td>2.074496</td>\n      <td>2.078064</td>\n      <td>-0.009092</td>\n      <td>-0.065905</td>\n      <td>-0.055507</td>\n      <td>-0.111698</td>\n      <td>...</td>\n      <td>-4.700479</td>\n      <td>-0.043137</td>\n      <td>-0.010636</td>\n      <td>2.074665</td>\n      <td>-1.538560</td>\n      <td>0.372362</td>\n      <td>-0.047361</td>\n      <td>-0.015552</td>\n      <td>1</td>\n      <td>-0.581823</td>\n    </tr>\n  </tbody>\n</table>\n<p>332 rows × 96 columns</p>\n</div>"
     },
     "execution_count": 176,
     "metadata": {},
     "output_type": "execute_result"
    }
   ],
   "source": [
    "train_processed"
   ],
   "metadata": {
    "collapsed": false
   }
  },
  {
   "cell_type": "markdown",
   "source": [],
   "metadata": {
    "collapsed": false
   }
  },
  {
   "cell_type": "markdown",
   "source": [
    "## 2 PCA"
   ],
   "metadata": {
    "collapsed": false
   }
  },
  {
   "cell_type": "code",
   "execution_count": 208,
   "outputs": [
    {
     "data": {
      "text/plain": "            0         1         2         3          4         5         6   \\\n284   0.529668 -0.386540 -0.539108 -0.244617  -1.337549  0.758057  0.072478   \n1171 -2.167336 -0.999987 -6.039245  6.753144  21.524098 -5.415278 -1.079205   \n1970 -0.660674 -0.541847 -1.800610  0.309543  -1.291428  0.339747 -0.269235   \n1024 -1.678101 -0.533353 -3.739113  1.023593  -1.755891  0.967321  0.050174   \n4534 -1.941846 -0.648120 -1.675414  0.056058  -0.555833  0.344045 -0.023510   \n...        ...       ...       ...       ...        ...       ...       ...   \n469  -1.868995 -0.641717 -0.410105 -0.039479   0.630467 -0.539823  0.202113   \n5957 -0.979625 -0.773923 -3.845860  0.541222  -1.989387  2.055843  0.099662   \n526   1.232107 -0.243215  1.136954 -0.600735  -0.846110  0.046688 -0.287484   \n54    0.786704 -0.046332  1.132659 -0.377877  -0.614132 -0.170993 -0.492510   \n6498  1.215379  0.333845  7.120229 -3.012746   2.419477 -1.639992 -0.621755   \n\n            7         8          9          10        11        12        13  \\\n284   1.217722 -0.313149   0.376126  -0.193321  3.220985  0.191031  1.441068   \n1171 -1.766172 -5.492150 -12.700125 -11.587749 -0.493441 -0.432047 -1.850149   \n1970  0.607292 -0.188641   1.715496  -1.157569  2.440721 -0.084395 -0.061560   \n1024  0.044600  0.107106   0.645624  -0.531740 -0.018106  0.130860  0.241150   \n4534 -0.059072 -0.709536  -0.763129   0.388680 -2.663073 -0.998704 -0.658772   \n...        ...       ...        ...        ...       ...       ...       ...   \n469  -0.379672 -0.640621  -0.771098   0.868996 -2.214588 -0.544008  0.101823   \n5957  1.470444 -0.967229   1.662985  -0.968328  2.080098 -0.391771  0.356067   \n526  -0.727056  1.020501  -0.766046   0.629075  2.467986  1.016489  0.843485   \n54   -2.648406  2.210673  -1.406669   1.019342  0.382250  1.215658  0.544347   \n6498  3.115525 -1.282491   0.733939   0.021540 -1.848929 -1.171003 -1.726270   \n\n            14        15  \n284  -0.426261  0.217857  \n1171  5.477532  0.205208  \n1970 -0.408844  0.393607  \n1024  0.564993  1.271374  \n4534 -0.050880 -0.857714  \n...        ...       ...  \n469  -2.506167 -2.129852  \n5957  0.019340  0.562672  \n526  -0.498681 -0.135076  \n54   -0.365432 -0.288531  \n6498  2.555054  3.431393  \n\n[332 rows x 16 columns]",
      "text/html": "<div>\n<style scoped>\n    .dataframe tbody tr th:only-of-type {\n        vertical-align: middle;\n    }\n\n    .dataframe tbody tr th {\n        vertical-align: top;\n    }\n\n    .dataframe thead th {\n        text-align: right;\n    }\n</style>\n<table border=\"1\" class=\"dataframe\">\n  <thead>\n    <tr style=\"text-align: right;\">\n      <th></th>\n      <th>0</th>\n      <th>1</th>\n      <th>2</th>\n      <th>3</th>\n      <th>4</th>\n      <th>5</th>\n      <th>6</th>\n      <th>7</th>\n      <th>8</th>\n      <th>9</th>\n      <th>10</th>\n      <th>11</th>\n      <th>12</th>\n      <th>13</th>\n      <th>14</th>\n      <th>15</th>\n    </tr>\n  </thead>\n  <tbody>\n    <tr>\n      <th>284</th>\n      <td>0.529668</td>\n      <td>-0.386540</td>\n      <td>-0.539108</td>\n      <td>-0.244617</td>\n      <td>-1.337549</td>\n      <td>0.758057</td>\n      <td>0.072478</td>\n      <td>1.217722</td>\n      <td>-0.313149</td>\n      <td>0.376126</td>\n      <td>-0.193321</td>\n      <td>3.220985</td>\n      <td>0.191031</td>\n      <td>1.441068</td>\n      <td>-0.426261</td>\n      <td>0.217857</td>\n    </tr>\n    <tr>\n      <th>1171</th>\n      <td>-2.167336</td>\n      <td>-0.999987</td>\n      <td>-6.039245</td>\n      <td>6.753144</td>\n      <td>21.524098</td>\n      <td>-5.415278</td>\n      <td>-1.079205</td>\n      <td>-1.766172</td>\n      <td>-5.492150</td>\n      <td>-12.700125</td>\n      <td>-11.587749</td>\n      <td>-0.493441</td>\n      <td>-0.432047</td>\n      <td>-1.850149</td>\n      <td>5.477532</td>\n      <td>0.205208</td>\n    </tr>\n    <tr>\n      <th>1970</th>\n      <td>-0.660674</td>\n      <td>-0.541847</td>\n      <td>-1.800610</td>\n      <td>0.309543</td>\n      <td>-1.291428</td>\n      <td>0.339747</td>\n      <td>-0.269235</td>\n      <td>0.607292</td>\n      <td>-0.188641</td>\n      <td>1.715496</td>\n      <td>-1.157569</td>\n      <td>2.440721</td>\n      <td>-0.084395</td>\n      <td>-0.061560</td>\n      <td>-0.408844</td>\n      <td>0.393607</td>\n    </tr>\n    <tr>\n      <th>1024</th>\n      <td>-1.678101</td>\n      <td>-0.533353</td>\n      <td>-3.739113</td>\n      <td>1.023593</td>\n      <td>-1.755891</td>\n      <td>0.967321</td>\n      <td>0.050174</td>\n      <td>0.044600</td>\n      <td>0.107106</td>\n      <td>0.645624</td>\n      <td>-0.531740</td>\n      <td>-0.018106</td>\n      <td>0.130860</td>\n      <td>0.241150</td>\n      <td>0.564993</td>\n      <td>1.271374</td>\n    </tr>\n    <tr>\n      <th>4534</th>\n      <td>-1.941846</td>\n      <td>-0.648120</td>\n      <td>-1.675414</td>\n      <td>0.056058</td>\n      <td>-0.555833</td>\n      <td>0.344045</td>\n      <td>-0.023510</td>\n      <td>-0.059072</td>\n      <td>-0.709536</td>\n      <td>-0.763129</td>\n      <td>0.388680</td>\n      <td>-2.663073</td>\n      <td>-0.998704</td>\n      <td>-0.658772</td>\n      <td>-0.050880</td>\n      <td>-0.857714</td>\n    </tr>\n    <tr>\n      <th>...</th>\n      <td>...</td>\n      <td>...</td>\n      <td>...</td>\n      <td>...</td>\n      <td>...</td>\n      <td>...</td>\n      <td>...</td>\n      <td>...</td>\n      <td>...</td>\n      <td>...</td>\n      <td>...</td>\n      <td>...</td>\n      <td>...</td>\n      <td>...</td>\n      <td>...</td>\n      <td>...</td>\n    </tr>\n    <tr>\n      <th>469</th>\n      <td>-1.868995</td>\n      <td>-0.641717</td>\n      <td>-0.410105</td>\n      <td>-0.039479</td>\n      <td>0.630467</td>\n      <td>-0.539823</td>\n      <td>0.202113</td>\n      <td>-0.379672</td>\n      <td>-0.640621</td>\n      <td>-0.771098</td>\n      <td>0.868996</td>\n      <td>-2.214588</td>\n      <td>-0.544008</td>\n      <td>0.101823</td>\n      <td>-2.506167</td>\n      <td>-2.129852</td>\n    </tr>\n    <tr>\n      <th>5957</th>\n      <td>-0.979625</td>\n      <td>-0.773923</td>\n      <td>-3.845860</td>\n      <td>0.541222</td>\n      <td>-1.989387</td>\n      <td>2.055843</td>\n      <td>0.099662</td>\n      <td>1.470444</td>\n      <td>-0.967229</td>\n      <td>1.662985</td>\n      <td>-0.968328</td>\n      <td>2.080098</td>\n      <td>-0.391771</td>\n      <td>0.356067</td>\n      <td>0.019340</td>\n      <td>0.562672</td>\n    </tr>\n    <tr>\n      <th>526</th>\n      <td>1.232107</td>\n      <td>-0.243215</td>\n      <td>1.136954</td>\n      <td>-0.600735</td>\n      <td>-0.846110</td>\n      <td>0.046688</td>\n      <td>-0.287484</td>\n      <td>-0.727056</td>\n      <td>1.020501</td>\n      <td>-0.766046</td>\n      <td>0.629075</td>\n      <td>2.467986</td>\n      <td>1.016489</td>\n      <td>0.843485</td>\n      <td>-0.498681</td>\n      <td>-0.135076</td>\n    </tr>\n    <tr>\n      <th>54</th>\n      <td>0.786704</td>\n      <td>-0.046332</td>\n      <td>1.132659</td>\n      <td>-0.377877</td>\n      <td>-0.614132</td>\n      <td>-0.170993</td>\n      <td>-0.492510</td>\n      <td>-2.648406</td>\n      <td>2.210673</td>\n      <td>-1.406669</td>\n      <td>1.019342</td>\n      <td>0.382250</td>\n      <td>1.215658</td>\n      <td>0.544347</td>\n      <td>-0.365432</td>\n      <td>-0.288531</td>\n    </tr>\n    <tr>\n      <th>6498</th>\n      <td>1.215379</td>\n      <td>0.333845</td>\n      <td>7.120229</td>\n      <td>-3.012746</td>\n      <td>2.419477</td>\n      <td>-1.639992</td>\n      <td>-0.621755</td>\n      <td>3.115525</td>\n      <td>-1.282491</td>\n      <td>0.733939</td>\n      <td>0.021540</td>\n      <td>-1.848929</td>\n      <td>-1.171003</td>\n      <td>-1.726270</td>\n      <td>2.555054</td>\n      <td>3.431393</td>\n    </tr>\n  </tbody>\n</table>\n<p>332 rows × 16 columns</p>\n</div>"
     },
     "execution_count": 208,
     "metadata": {},
     "output_type": "execute_result"
    }
   ],
   "source": [
    "from sklearn.decomposition import PCA\n",
    "\n",
    "pd.DataFrame(PCA(n_components=.90).fit_transform(train_processed.drop('Bankrupt?', axis=1)),\n",
    "             index=train_processed.index,\n",
    "             columns=[f\"pc_{i+1}\" for i in range()])\n"
   ],
   "metadata": {
    "collapsed": false
   }
  },
  {
   "cell_type": "code",
   "execution_count": 251,
   "outputs": [],
   "source": [
    "def get_pca(df, target, pca_var_threshold=.90, vars_untransformed=[]):\n",
    "\n",
    "    pca_t = PCA(n_components=pca_var_threshold).fit_transform(\n",
    "        df.drop([target]+vars_untransformed, axis=1))\n",
    "    pca_t = pd.DataFrame(pca_t, index=df.index, columns=[f\"pc_{i+1}\" for i in range(pca_t.shape[1])])\n",
    "\n",
    "    return pca_t"
   ],
   "metadata": {
    "collapsed": false
   }
  },
  {
   "cell_type": "code",
   "execution_count": 255,
   "outputs": [],
   "source": [
    "def add_pca(df, target, pca_var_threshold=.90, vars_untransformed=[]):\n",
    "\n",
    "    df_pca_added = df.copy()\n",
    "    df_pca_added = pd.concat([get_pca(df, target, pca_var_threshold, vars_untransformed),\n",
    "                              df_pca_added],\n",
    "                             axis=1)\n",
    "    return df_pca_added"
   ],
   "metadata": {
    "collapsed": false
   }
  },
  {
   "cell_type": "code",
   "execution_count": 256,
   "outputs": [],
   "source": [
    "def get_n_pc(df):\n",
    "    return df.filter(regex=\"pc.*\").shape[1]"
   ],
   "metadata": {
    "collapsed": false
   }
  },
  {
   "cell_type": "code",
   "execution_count": 257,
   "outputs": [],
   "source": [
    "train_processed_pca = add_pca(train_processed, \"Bankrupt?\")\n",
    "test_processed_pca = add_pca(test_processed, \"Bankrupt?\", pca_var_threshold=get_n_pc(train_processed_pca))"
   ],
   "metadata": {
    "collapsed": false
   }
  },
  {
   "cell_type": "markdown",
   "source": [
    "# 3 Modelling"
   ],
   "metadata": {
    "collapsed": false
   }
  },
  {
   "cell_type": "code",
   "execution_count": 263,
   "outputs": [],
   "source": [
    "from sklearn.model_selection import train_test_split\n",
    "features = [f\"pc_{pc+1}\" for pc in range(3)]\n"
   ],
   "metadata": {
    "collapsed": false
   }
  },
  {
   "cell_type": "code",
   "execution_count": 270,
   "outputs": [],
   "source": [
    "from sklearn.ensemble import RandomForestClassifier\n",
    "from sklearn.model_selection import GridSearchCV\n",
    "\n",
    "clf = RandomForestClassifier()\n",
    "\n",
    "param_grid = {\n",
    "    'n_estimators': [3, 10, 20],\n",
    "    'criterion': ['gini', 'entropy'],\n",
    "    'min_samples_split': [2, 5],\n",
    "    'min_samples_leaf': [1, 2],\n",
    "    'bootstrap': [True, False]\n",
    "}\n",
    "\n",
    "grid_search = GridSearchCV(clf, param_grid, cv=5, scoring='accuracy', return_train_score=True)\n",
    "grid_search_fit = grid_search.fit(train_processed_pca[features], train_processed_pca['Bankrupt?'])\n",
    "\n"
   ],
   "metadata": {
    "collapsed": false
   }
  },
  {
   "cell_type": "code",
   "execution_count": 271,
   "outputs": [
    {
     "data": {
      "text/plain": "{'bootstrap': True,\n 'criterion': 'entropy',\n 'min_samples_leaf': 1,\n 'min_samples_split': 2,\n 'n_estimators': 10}"
     },
     "execution_count": 271,
     "metadata": {},
     "output_type": "execute_result"
    }
   ],
   "source": [
    "grid_search.best_params_"
   ],
   "metadata": {
    "collapsed": false
   }
  },
  {
   "cell_type": "code",
   "execution_count": 272,
   "outputs": [
    {
     "data": {
      "text/plain": "RandomForestClassifier(criterion='entropy', n_estimators=10)"
     },
     "execution_count": 272,
     "metadata": {},
     "output_type": "execute_result"
    }
   ],
   "source": [
    "grid_search"
   ],
   "metadata": {
    "collapsed": false
   }
  },
  {
   "cell_type": "code",
   "execution_count": 268,
   "outputs": [],
   "source": [
    "cvres = grid_search.cv_results_"
   ],
   "metadata": {
    "collapsed": false
   }
  },
  {
   "cell_type": "code",
   "execution_count": 269,
   "outputs": [
    {
     "name": "stdout",
     "output_type": "stream",
     "text": [
      "0.4494330314421091 {'bootstrap': True, 'criterion': 'gini', 'min_samples_leaf': 1, 'min_samples_split': 2, 'n_estimators': 3}\n",
      "0.42857035170332713 {'bootstrap': True, 'criterion': 'gini', 'min_samples_leaf': 1, 'min_samples_split': 2, 'n_estimators': 10}\n",
      "0.4213866536745915 {'bootstrap': True, 'criterion': 'gini', 'min_samples_leaf': 1, 'min_samples_split': 2, 'n_estimators': 20}\n",
      "0.43219591182274186 {'bootstrap': True, 'criterion': 'gini', 'min_samples_leaf': 1, 'min_samples_split': 5, 'n_estimators': 3}\n",
      "0.41435132369550054 {'bootstrap': True, 'criterion': 'gini', 'min_samples_leaf': 1, 'min_samples_split': 5, 'n_estimators': 10}\n",
      "0.4069722513729989 {'bootstrap': True, 'criterion': 'gini', 'min_samples_leaf': 1, 'min_samples_split': 5, 'n_estimators': 20}\n",
      "0.4105131315897195 {'bootstrap': True, 'criterion': 'gini', 'min_samples_leaf': 2, 'min_samples_split': 2, 'n_estimators': 3}\n",
      "0.41413295671132483 {'bootstrap': True, 'criterion': 'gini', 'min_samples_leaf': 2, 'min_samples_split': 2, 'n_estimators': 10}\n",
      "0.4032320800200604 {'bootstrap': True, 'criterion': 'gini', 'min_samples_leaf': 2, 'min_samples_split': 2, 'n_estimators': 20}\n",
      "0.4357913101858148 {'bootstrap': True, 'criterion': 'gini', 'min_samples_leaf': 2, 'min_samples_split': 5, 'n_estimators': 3}\n",
      "0.39940027406545936 {'bootstrap': True, 'criterion': 'gini', 'min_samples_leaf': 2, 'min_samples_split': 5, 'n_estimators': 10}\n",
      "0.41429674273976147 {'bootstrap': True, 'criterion': 'gini', 'min_samples_leaf': 2, 'min_samples_split': 5, 'n_estimators': 20}\n",
      "0.41788379445922735 {'bootstrap': True, 'criterion': 'entropy', 'min_samples_leaf': 1, 'min_samples_split': 2, 'n_estimators': 3}\n",
      "0.4356875132782604 {'bootstrap': True, 'criterion': 'entropy', 'min_samples_leaf': 1, 'min_samples_split': 2, 'n_estimators': 10}\n",
      "0.4070833700785162 {'bootstrap': True, 'criterion': 'entropy', 'min_samples_leaf': 1, 'min_samples_split': 2, 'n_estimators': 20}\n",
      "0.42149397231982433 {'bootstrap': True, 'criterion': 'entropy', 'min_samples_leaf': 1, 'min_samples_split': 5, 'n_estimators': 3}\n",
      "0.4144058974624406 {'bootstrap': True, 'criterion': 'entropy', 'min_samples_leaf': 1, 'min_samples_split': 5, 'n_estimators': 10}\n",
      "0.3841029185162018 {'bootstrap': True, 'criterion': 'entropy', 'min_samples_leaf': 1, 'min_samples_split': 5, 'n_estimators': 20}\n",
      "0.42835923329066233 {'bootstrap': True, 'criterion': 'entropy', 'min_samples_leaf': 2, 'min_samples_split': 2, 'n_estimators': 3}\n",
      "0.40334422911971746 {'bootstrap': True, 'criterion': 'entropy', 'min_samples_leaf': 2, 'min_samples_split': 2, 'n_estimators': 10}\n",
      "0.39558851840423903 {'bootstrap': True, 'criterion': 'entropy', 'min_samples_leaf': 2, 'min_samples_split': 2, 'n_estimators': 20}\n",
      "0.44228140913515257 {'bootstrap': True, 'criterion': 'entropy', 'min_samples_leaf': 2, 'min_samples_split': 5, 'n_estimators': 3}\n",
      "0.40713891805859026 {'bootstrap': True, 'criterion': 'entropy', 'min_samples_leaf': 2, 'min_samples_split': 5, 'n_estimators': 10}\n",
      "0.41429674273976147 {'bootstrap': True, 'criterion': 'entropy', 'min_samples_leaf': 2, 'min_samples_split': 5, 'n_estimators': 20}\n",
      "0.4523420134705714 {'bootstrap': False, 'criterion': 'gini', 'min_samples_leaf': 1, 'min_samples_split': 2, 'n_estimators': 3}\n",
      "0.4249138577664134 {'bootstrap': False, 'criterion': 'gini', 'min_samples_leaf': 1, 'min_samples_split': 2, 'n_estimators': 10}\n",
      "0.4319865652801506 {'bootstrap': False, 'criterion': 'gini', 'min_samples_leaf': 1, 'min_samples_split': 2, 'n_estimators': 20}\n",
      "0.4524919693883226 {'bootstrap': False, 'criterion': 'gini', 'min_samples_leaf': 1, 'min_samples_split': 5, 'n_estimators': 3}\n",
      "0.4423836589132231 {'bootstrap': False, 'criterion': 'gini', 'min_samples_leaf': 1, 'min_samples_split': 5, 'n_estimators': 10}\n",
      "0.4069722513729989 {'bootstrap': False, 'criterion': 'gini', 'min_samples_leaf': 1, 'min_samples_split': 5, 'n_estimators': 20}\n",
      "0.4319865652801506 {'bootstrap': False, 'criterion': 'gini', 'min_samples_leaf': 2, 'min_samples_split': 2, 'n_estimators': 3}\n",
      "0.4214403164132585 {'bootstrap': False, 'criterion': 'gini', 'min_samples_leaf': 2, 'min_samples_split': 2, 'n_estimators': 10}\n",
      "0.4178296749492602 {'bootstrap': False, 'criterion': 'gini', 'min_samples_leaf': 2, 'min_samples_split': 2, 'n_estimators': 20}\n",
      "0.42820082617278077 {'bootstrap': False, 'criterion': 'gini', 'min_samples_leaf': 2, 'min_samples_split': 5, 'n_estimators': 3}\n",
      "0.4319865652801506 {'bootstrap': False, 'criterion': 'gini', 'min_samples_leaf': 2, 'min_samples_split': 5, 'n_estimators': 10}\n",
      "0.4214403164132586 {'bootstrap': False, 'criterion': 'gini', 'min_samples_leaf': 2, 'min_samples_split': 5, 'n_estimators': 20}\n",
      "0.4489799484612955 {'bootstrap': False, 'criterion': 'entropy', 'min_samples_leaf': 1, 'min_samples_split': 2, 'n_estimators': 3}\n",
      "0.4251266871600573 {'bootstrap': False, 'criterion': 'entropy', 'min_samples_leaf': 1, 'min_samples_split': 2, 'n_estimators': 10}\n",
      "0.4251798778624437 {'bootstrap': False, 'criterion': 'entropy', 'min_samples_leaf': 1, 'min_samples_split': 2, 'n_estimators': 20}\n",
      "0.42835923329066233 {'bootstrap': False, 'criterion': 'entropy', 'min_samples_leaf': 1, 'min_samples_split': 5, 'n_estimators': 3}\n",
      "0.4320912512298954 {'bootstrap': False, 'criterion': 'entropy', 'min_samples_leaf': 1, 'min_samples_split': 5, 'n_estimators': 10}\n",
      "0.39962669147257096 {'bootstrap': False, 'criterion': 'entropy', 'min_samples_leaf': 1, 'min_samples_split': 5, 'n_estimators': 20}\n",
      "0.42878136616796086 {'bootstrap': False, 'criterion': 'entropy', 'min_samples_leaf': 2, 'min_samples_split': 2, 'n_estimators': 3}\n",
      "0.41429674273976147 {'bootstrap': False, 'criterion': 'entropy', 'min_samples_leaf': 2, 'min_samples_split': 2, 'n_estimators': 10}\n",
      "0.4249670751074407 {'bootstrap': False, 'criterion': 'entropy', 'min_samples_leaf': 2, 'min_samples_split': 2, 'n_estimators': 20}\n",
      "0.4319865652801506 {'bootstrap': False, 'criterion': 'entropy', 'min_samples_leaf': 2, 'min_samples_split': 5, 'n_estimators': 3}\n",
      "0.44569400702374184 {'bootstrap': False, 'criterion': 'entropy', 'min_samples_leaf': 2, 'min_samples_split': 5, 'n_estimators': 10}\n",
      "0.4250734898017611 {'bootstrap': False, 'criterion': 'entropy', 'min_samples_leaf': 2, 'min_samples_split': 5, 'n_estimators': 20}\n"
     ]
    }
   ],
   "source": [
    "for mean_score, params in zip(cvres[\"mean_test_score\"], cvres[\"params\"]):\n",
    "    print(np.sqrt(-mean_score), params)"
   ],
   "metadata": {
    "collapsed": false
   }
  },
  {
   "cell_type": "code",
   "execution_count": 285,
   "outputs": [
    {
     "data": {
      "text/plain": "array([1, 0, 0, 0, 0, 0, 0, 1, 1, 1, 0, 0, 1, 1, 0, 1, 0, 0, 0, 0, 1, 0,\n       1, 0, 1, 0, 1, 1, 1, 0, 0, 0, 1, 1, 0, 1, 0, 1, 1, 0, 0, 1, 1, 0,\n       0, 1, 0, 0, 1, 0, 1, 0, 0, 1, 1, 1, 1, 0, 0, 1, 1, 1, 1, 0, 0, 0,\n       0, 0, 0, 1, 0, 1, 0, 0, 0, 0, 1, 1, 1, 1, 1, 1, 1, 0, 1, 1, 1, 0,\n       1, 1, 1, 0, 1, 0, 1, 1, 1, 0, 1, 0, 0, 0, 0, 1, 0, 0, 1, 1, 1, 0,\n       0, 0, 0, 1, 0, 0, 1, 1, 0, 0, 0, 1, 0, 1, 0, 0, 1, 0, 1, 0, 0, 1,\n       1, 1, 0, 0, 0, 1, 1, 0, 1, 1, 0, 0, 0, 1, 0, 1, 1, 1, 0, 1, 0, 1,\n       0, 1, 0, 1, 1, 1, 1, 0, 0, 0, 1, 0, 1, 0, 0, 0, 0, 0, 1, 0, 1, 0,\n       1, 1, 1, 0, 1, 0, 1, 1, 0, 0, 1, 0, 1, 0, 0, 0, 1, 1, 0, 1, 1, 0,\n       0, 0, 0, 0, 0, 1, 0, 1, 0, 1, 1, 0, 0, 0, 1, 1, 1, 0, 0, 1, 0, 0,\n       1, 1, 1, 1, 1, 1, 0, 0, 1, 1, 0, 0, 1, 0, 1, 1, 0, 1, 0, 1, 1, 0,\n       0, 0, 0, 1, 1, 0, 1, 1, 0, 1, 0, 0, 1, 1, 1, 1, 0, 1, 1, 0, 1, 1,\n       0, 0, 1, 1, 0, 0, 0, 1, 1, 1, 1, 1, 0, 0, 0, 1, 1, 0, 0, 0, 1, 0,\n       0, 1, 1, 1, 1, 0, 1, 0, 0, 0, 0, 0, 0, 0, 1, 1, 1, 0, 1, 0, 0, 1,\n       1, 0, 1, 1, 1, 0, 1, 0, 0, 1, 1, 1, 0, 0, 0, 0, 0, 1, 1, 0, 0, 1,\n       1, 1], dtype=int64)"
     },
     "execution_count": 285,
     "metadata": {},
     "output_type": "execute_result"
    }
   ],
   "source": [
    "grid_search.predict(train_processed_pca[features])"
   ],
   "metadata": {
    "collapsed": false
   }
  },
  {
   "cell_type": "code",
   "execution_count": 291,
   "outputs": [],
   "source": [
    "from sklearn.metrics import confusion_matrix, plot_confusion_matrix\n",
    "cm = confusion_matrix(grid_search.predict(train_processed_pca[features]), train_processed_pca['Bankrupt?'])"
   ],
   "metadata": {
    "collapsed": false
   }
  },
  {
   "cell_type": "code",
   "execution_count": 294,
   "outputs": [
    {
     "data": {
      "text/plain": "<AxesSubplot: >"
     },
     "execution_count": 294,
     "metadata": {},
     "output_type": "execute_result"
    },
    {
     "data": {
      "text/plain": "<Figure size 640x480 with 2 Axes>",
      "image/png": "[encoded data removed]"
     },
     "metadata": {},
     "output_type": "display_data"
    }
   ],
   "source": [
    "import seaborn as sns\n",
    "sns.heatmap(cm, annot=True)"
   ],
   "metadata": {
    "collapsed": false
   }
  },
  {
   "cell_type": "code",
   "execution_count": 296,
   "outputs": [],
   "source": [
    "pred = grid_search.predict(test_processed_pca[features])"
   ],
   "metadata": {
    "collapsed": false
   }
  },
  {
   "cell_type": "code",
   "execution_count": 297,
   "outputs": [
    {
     "data": {
      "text/plain": "array([0, 0, 0, ..., 0, 0, 1], dtype=int64)"
     },
     "execution_count": 297,
     "metadata": {},
     "output_type": "execute_result"
    }
   ],
   "source": [
    "cfn_matrix"
   ],
   "metadata": {
    "collapsed": false
   }
  }
 ],
 "metadata": {
  "kernelspec": {
   "display_name": "Python 3",
   "language": "python",
   "name": "python3"
  },
  "language_info": {
   "codemirror_mode": {
    "name": "ipython",
    "version": 2
   },
   "file_extension": ".py",
   "mimetype": "text/x-python",
   "name": "python",
   "nbconvert_exporter": "python",
   "pygments_lexer": "ipython2",
   "version": "2.7.6"
  }
 },
 "nbformat": 4,
 "nbformat_minor": 0
}

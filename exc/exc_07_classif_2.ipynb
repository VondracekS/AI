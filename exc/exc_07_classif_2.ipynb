{
 "cells": [
  {
   "cell_type": "markdown",
   "source": [
    "# Excercise 7: Classification vol. 2"
   ],
   "metadata": {
    "collapsed": false
   }
  },
  {
   "cell_type": "code",
   "execution_count": 16,
   "outputs": [],
   "source": [
    "import pandas as pd"
   ],
   "metadata": {
    "collapsed": false
   }
  },
  {
   "cell_type": "code",
   "execution_count": 17,
   "outputs": [],
   "source": [
    "titanic = pd.read_csv('../data/Titanic.csv')\n",
    "zsnew = pd.read_csv('../data/zsnew.csv')\n",
    "corpdef = pd.read_csv('../data/corpdef.csv')\n",
    "byty = pd.read_csv('../data/byty_clean.csv')"
   ],
   "metadata": {
    "collapsed": false
   }
  },
  {
   "cell_type": "markdown",
   "source": [
    "# 1 Initialization"
   ],
   "metadata": {
    "collapsed": false
   }
  },
  {
   "cell_type": "code",
   "execution_count": 29,
   "outputs": [
    {
     "data": {
      "text/plain": "       Unnamed: 0                                  Encrypted.Loan.ID  \\\n0          182822  KqwQ0pWgKxBqwkhidLu/W6ub++5q08BgTFG0qxEL3yeCuD...   \n1          520560  KVgBZkVDgXncC0TzOsL8zehFqwHQwaF7UhYqeSEC1wBWKh...   \n2          711024  KVnUHaYTAlNPXE7PXowwo0qyy4I2D8EqXUvTWa8VoTJ5KU...   \n3          342369  K0tCALeizrdM5DELWr2/icv10HNKDRKhFIWtdxkZ+S1dJj...   \n4          313128  KskRnKtyJLispZShXnNHHuwLirc4aXZ4+m+WzLU3qIrxJj...   \n...           ...                                                ...   \n19995      396173  KuAVvB7b0I+xgeAs43e+5CHmLXRAT9Pk436sZYHlO7JEBD...   \n19996      589880  KTMd3rGCeIwkIQQ53lIEqEYbNjYNUeeawiNvFJrlY2sxtA...   \n19997      436857  KAwPHNc95mYfGJcOOP06Z0mR2JtFQVCvNHNiiBhNP92aLY...   \n19998      199393  KCm2aLR9Gh7s8LTuqKZPIEWmm2qefGiztTF2m/pK76lmuD...   \n19999      498722  K9kBCyB58Op3diJU0LQ39cxFqwHQwaF7UhYqeSEC1wBWKh...   \n\n                                   Encrypted.Borrower.ID  date.start  \\\n0      KRTrDYBiCR6vdwEjYUwMGKub++5q08BgTFG0qxEL3yeCuD...  2016-05-24   \n1      Klu1nWdz7byr682qcSmVK/xFqwHQwaF7UhYqeSEC1wBWKh...  2016-07-27   \n2      KHPQiM25UyEtKYKFEcSuMvqyy4I2D8EqXUvTWa8VoTJ5KU...  2012-01-27   \n3      KBIKMhU+7b8Xq0heD1uDQ4v10HNKDRKhFIWtdxkZ+S1dJj...  2017-09-12   \n4      KFx+tZI8Af4hKVXI6fLzlwQLirc4aXZ4+m+WzLU3qIrxJj...  2017-03-30   \n...                                                  ...         ...   \n19995  Kye/F4VqV1W4VSNEfyu5nURFqwHQwaF7UhYqeSEC1wBWKh...  2018-11-23   \n19996  KwVbqe744Mqcm1VRZHWXOX4bNjYNUeeawiNvFJrlY2sxtA...  2017-05-30   \n19997  Kst1evpBrdfY25AfuCUXKNmR2JtFQVCvNHNiiBhNP92aLY...  2015-05-14   \n19998  Kh1ZYhsS2rgwgZfvu1fNUdBFqwHQwaF7UhYqeSEC1wBWKh...  2015-10-01   \n19999  KzeW20odxVsxf00Y3EW4NPxFqwHQwaF7UhYqeSEC1wBWKh...  2016-01-30   \n\n        last.date     defdate   amount      pri.coll     int.coll  numpay  \\\n0      2020-03-16         NaN  10100.0  10100.000000   632.739999      44   \n1      2018-04-09         NaN  29290.0  29290.000000  4710.730000      21   \n2      2015-02-03         NaN   4150.0   4150.000000   393.990000      36   \n3      2018-09-06         NaN   4040.0   4040.000000   266.680000      12   \n4      2020-03-26  2018/10/08   9370.0   1501.041489   637.618511      34   \n...           ...         ...      ...           ...          ...     ...   \n19995  2019-07-11         NaN   1060.0   1060.000000    62.950000       8   \n19996  2018-12-03  2019/04/08   2130.0    881.487100   611.292900      18   \n19997  2017-05-16         NaN   3120.0   3120.000000   786.780000      24   \n19998  2016-01-12         NaN   2210.0   2210.000000    45.450000       4   \n19999  2017-06-06         NaN   2730.0   2730.000000   689.044000      16   \n\n       ...            FV       MIRR    DD  time.start  time.end      RINV  \\\n0      ...  10934.142893   2.102584  1392        4099      5491  4.864142   \n1      ...  34228.889520   9.591243   621        4163      4784  4.960493   \n2      ...   4671.049803   3.991525  1103        2520      3623  6.961443   \n3      ...   4319.534055   7.038779   359        4575      4934  5.686065   \n4      ...   2161.285274 -38.754506  1092        4409      5501  5.400246   \n...    ...           ...        ...   ...         ...       ...       ...   \n19995  ...   1126.463000  10.131980   230        5012      5242  5.474902   \n19996  ...   1499.835000 -20.700500   552        4470      5022  5.539887   \n19997  ...   3944.357000  12.383470   733        3723      4456  4.615919   \n19998  ...   2257.902000   7.895079   103        3863      3966  4.596751   \n19999  ...   3441.296000  18.699980   493        3984      4477  4.663376   \n\n           MIRR2           FV2  amount_ln  time.start2  \n0       4.028958  11742.011825   9.220291    1680.1801  \n1      11.725670  35370.840627  10.285001    1733.0569  \n2       6.534337   5024.807561   8.330864     635.0400  \n3       9.468053   4415.937723   8.304000    2093.0625  \n4     -37.370202   2310.749772   9.145268    1943.9281  \n...          ...           ...        ...          ...  \n19995  12.181210   1139.626000   6.966024    2512.0140  \n19996 -18.893870   1551.811000   7.663877    1998.0900  \n19997  14.313310   4081.555000   8.045588    1386.0730  \n19998   9.309650   2266.216000   7.700748    1492.2770  \n19999  20.696360   3519.701000   7.912057    1587.2260  \n\n[20000 rows x 226 columns]",
      "text/html": "<div>\n<style scoped>\n    .dataframe tbody tr th:only-of-type {\n        vertical-align: middle;\n    }\n\n    .dataframe tbody tr th {\n        vertical-align: top;\n    }\n\n    .dataframe thead th {\n        text-align: right;\n    }\n</style>\n<table border=\"1\" class=\"dataframe\">\n  <thead>\n    <tr style=\"text-align: right;\">\n      <th></th>\n      <th>Unnamed: 0</th>\n      <th>Encrypted.Loan.ID</th>\n      <th>Encrypted.Borrower.ID</th>\n      <th>date.start</th>\n      <th>last.date</th>\n      <th>defdate</th>\n      <th>amount</th>\n      <th>pri.coll</th>\n      <th>int.coll</th>\n      <th>numpay</th>\n      <th>...</th>\n      <th>FV</th>\n      <th>MIRR</th>\n      <th>DD</th>\n      <th>time.start</th>\n      <th>time.end</th>\n      <th>RINV</th>\n      <th>MIRR2</th>\n      <th>FV2</th>\n      <th>amount_ln</th>\n      <th>time.start2</th>\n    </tr>\n  </thead>\n  <tbody>\n    <tr>\n      <th>0</th>\n      <td>182822</td>\n      <td>KqwQ0pWgKxBqwkhidLu/W6ub++5q08BgTFG0qxEL3yeCuD...</td>\n      <td>KRTrDYBiCR6vdwEjYUwMGKub++5q08BgTFG0qxEL3yeCuD...</td>\n      <td>2016-05-24</td>\n      <td>2020-03-16</td>\n      <td>NaN</td>\n      <td>10100.0</td>\n      <td>10100.000000</td>\n      <td>632.739999</td>\n      <td>44</td>\n      <td>...</td>\n      <td>10934.142893</td>\n      <td>2.102584</td>\n      <td>1392</td>\n      <td>4099</td>\n      <td>5491</td>\n      <td>4.864142</td>\n      <td>4.028958</td>\n      <td>11742.011825</td>\n      <td>9.220291</td>\n      <td>1680.1801</td>\n    </tr>\n    <tr>\n      <th>1</th>\n      <td>520560</td>\n      <td>KVgBZkVDgXncC0TzOsL8zehFqwHQwaF7UhYqeSEC1wBWKh...</td>\n      <td>Klu1nWdz7byr682qcSmVK/xFqwHQwaF7UhYqeSEC1wBWKh...</td>\n      <td>2016-07-27</td>\n      <td>2018-04-09</td>\n      <td>NaN</td>\n      <td>29290.0</td>\n      <td>29290.000000</td>\n      <td>4710.730000</td>\n      <td>21</td>\n      <td>...</td>\n      <td>34228.889520</td>\n      <td>9.591243</td>\n      <td>621</td>\n      <td>4163</td>\n      <td>4784</td>\n      <td>4.960493</td>\n      <td>11.725670</td>\n      <td>35370.840627</td>\n      <td>10.285001</td>\n      <td>1733.0569</td>\n    </tr>\n    <tr>\n      <th>2</th>\n      <td>711024</td>\n      <td>KVnUHaYTAlNPXE7PXowwo0qyy4I2D8EqXUvTWa8VoTJ5KU...</td>\n      <td>KHPQiM25UyEtKYKFEcSuMvqyy4I2D8EqXUvTWa8VoTJ5KU...</td>\n      <td>2012-01-27</td>\n      <td>2015-02-03</td>\n      <td>NaN</td>\n      <td>4150.0</td>\n      <td>4150.000000</td>\n      <td>393.990000</td>\n      <td>36</td>\n      <td>...</td>\n      <td>4671.049803</td>\n      <td>3.991525</td>\n      <td>1103</td>\n      <td>2520</td>\n      <td>3623</td>\n      <td>6.961443</td>\n      <td>6.534337</td>\n      <td>5024.807561</td>\n      <td>8.330864</td>\n      <td>635.0400</td>\n    </tr>\n    <tr>\n      <th>3</th>\n      <td>342369</td>\n      <td>K0tCALeizrdM5DELWr2/icv10HNKDRKhFIWtdxkZ+S1dJj...</td>\n      <td>KBIKMhU+7b8Xq0heD1uDQ4v10HNKDRKhFIWtdxkZ+S1dJj...</td>\n      <td>2017-09-12</td>\n      <td>2018-09-06</td>\n      <td>NaN</td>\n      <td>4040.0</td>\n      <td>4040.000000</td>\n      <td>266.680000</td>\n      <td>12</td>\n      <td>...</td>\n      <td>4319.534055</td>\n      <td>7.038779</td>\n      <td>359</td>\n      <td>4575</td>\n      <td>4934</td>\n      <td>5.686065</td>\n      <td>9.468053</td>\n      <td>4415.937723</td>\n      <td>8.304000</td>\n      <td>2093.0625</td>\n    </tr>\n    <tr>\n      <th>4</th>\n      <td>313128</td>\n      <td>KskRnKtyJLispZShXnNHHuwLirc4aXZ4+m+WzLU3qIrxJj...</td>\n      <td>KFx+tZI8Af4hKVXI6fLzlwQLirc4aXZ4+m+WzLU3qIrxJj...</td>\n      <td>2017-03-30</td>\n      <td>2020-03-26</td>\n      <td>2018/10/08</td>\n      <td>9370.0</td>\n      <td>1501.041489</td>\n      <td>637.618511</td>\n      <td>34</td>\n      <td>...</td>\n      <td>2161.285274</td>\n      <td>-38.754506</td>\n      <td>1092</td>\n      <td>4409</td>\n      <td>5501</td>\n      <td>5.400246</td>\n      <td>-37.370202</td>\n      <td>2310.749772</td>\n      <td>9.145268</td>\n      <td>1943.9281</td>\n    </tr>\n    <tr>\n      <th>...</th>\n      <td>...</td>\n      <td>...</td>\n      <td>...</td>\n      <td>...</td>\n      <td>...</td>\n      <td>...</td>\n      <td>...</td>\n      <td>...</td>\n      <td>...</td>\n      <td>...</td>\n      <td>...</td>\n      <td>...</td>\n      <td>...</td>\n      <td>...</td>\n      <td>...</td>\n      <td>...</td>\n      <td>...</td>\n      <td>...</td>\n      <td>...</td>\n      <td>...</td>\n      <td>...</td>\n    </tr>\n    <tr>\n      <th>19995</th>\n      <td>396173</td>\n      <td>KuAVvB7b0I+xgeAs43e+5CHmLXRAT9Pk436sZYHlO7JEBD...</td>\n      <td>Kye/F4VqV1W4VSNEfyu5nURFqwHQwaF7UhYqeSEC1wBWKh...</td>\n      <td>2018-11-23</td>\n      <td>2019-07-11</td>\n      <td>NaN</td>\n      <td>1060.0</td>\n      <td>1060.000000</td>\n      <td>62.950000</td>\n      <td>8</td>\n      <td>...</td>\n      <td>1126.463000</td>\n      <td>10.131980</td>\n      <td>230</td>\n      <td>5012</td>\n      <td>5242</td>\n      <td>5.474902</td>\n      <td>12.181210</td>\n      <td>1139.626000</td>\n      <td>6.966024</td>\n      <td>2512.0140</td>\n    </tr>\n    <tr>\n      <th>19996</th>\n      <td>589880</td>\n      <td>KTMd3rGCeIwkIQQ53lIEqEYbNjYNUeeawiNvFJrlY2sxtA...</td>\n      <td>KwVbqe744Mqcm1VRZHWXOX4bNjYNUeeawiNvFJrlY2sxtA...</td>\n      <td>2017-05-30</td>\n      <td>2018-12-03</td>\n      <td>2019/04/08</td>\n      <td>2130.0</td>\n      <td>881.487100</td>\n      <td>611.292900</td>\n      <td>18</td>\n      <td>...</td>\n      <td>1499.835000</td>\n      <td>-20.700500</td>\n      <td>552</td>\n      <td>4470</td>\n      <td>5022</td>\n      <td>5.539887</td>\n      <td>-18.893870</td>\n      <td>1551.811000</td>\n      <td>7.663877</td>\n      <td>1998.0900</td>\n    </tr>\n    <tr>\n      <th>19997</th>\n      <td>436857</td>\n      <td>KAwPHNc95mYfGJcOOP06Z0mR2JtFQVCvNHNiiBhNP92aLY...</td>\n      <td>Kst1evpBrdfY25AfuCUXKNmR2JtFQVCvNHNiiBhNP92aLY...</td>\n      <td>2015-05-14</td>\n      <td>2017-05-16</td>\n      <td>NaN</td>\n      <td>3120.0</td>\n      <td>3120.000000</td>\n      <td>786.780000</td>\n      <td>24</td>\n      <td>...</td>\n      <td>3944.357000</td>\n      <td>12.383470</td>\n      <td>733</td>\n      <td>3723</td>\n      <td>4456</td>\n      <td>4.615919</td>\n      <td>14.313310</td>\n      <td>4081.555000</td>\n      <td>8.045588</td>\n      <td>1386.0730</td>\n    </tr>\n    <tr>\n      <th>19998</th>\n      <td>199393</td>\n      <td>KCm2aLR9Gh7s8LTuqKZPIEWmm2qefGiztTF2m/pK76lmuD...</td>\n      <td>Kh1ZYhsS2rgwgZfvu1fNUdBFqwHQwaF7UhYqeSEC1wBWKh...</td>\n      <td>2015-10-01</td>\n      <td>2016-01-12</td>\n      <td>NaN</td>\n      <td>2210.0</td>\n      <td>2210.000000</td>\n      <td>45.450000</td>\n      <td>4</td>\n      <td>...</td>\n      <td>2257.902000</td>\n      <td>7.895079</td>\n      <td>103</td>\n      <td>3863</td>\n      <td>3966</td>\n      <td>4.596751</td>\n      <td>9.309650</td>\n      <td>2266.216000</td>\n      <td>7.700748</td>\n      <td>1492.2770</td>\n    </tr>\n    <tr>\n      <th>19999</th>\n      <td>498722</td>\n      <td>K9kBCyB58Op3diJU0LQ39cxFqwHQwaF7UhYqeSEC1wBWKh...</td>\n      <td>KzeW20odxVsxf00Y3EW4NPxFqwHQwaF7UhYqeSEC1wBWKh...</td>\n      <td>2016-01-30</td>\n      <td>2017-06-06</td>\n      <td>NaN</td>\n      <td>2730.0</td>\n      <td>2730.000000</td>\n      <td>689.044000</td>\n      <td>16</td>\n      <td>...</td>\n      <td>3441.296000</td>\n      <td>18.699980</td>\n      <td>493</td>\n      <td>3984</td>\n      <td>4477</td>\n      <td>4.663376</td>\n      <td>20.696360</td>\n      <td>3519.701000</td>\n      <td>7.912057</td>\n      <td>1587.2260</td>\n    </tr>\n  </tbody>\n</table>\n<p>20000 rows × 226 columns</p>\n</div>"
     },
     "execution_count": 29,
     "metadata": {},
     "output_type": "execute_result"
    }
   ],
   "source": [
    "zsnew"
   ],
   "metadata": {
    "collapsed": false
   }
  },
  {
   "cell_type": "code",
   "execution_count": 30,
   "outputs": [],
   "source": [
    "from sklearn.model_selection import train_test_split\n",
    "data_train, data_test = train_test_split(zsnew)"
   ],
   "metadata": {
    "collapsed": false
   }
  },
  {
   "cell_type": "code",
   "execution_count": 31,
   "outputs": [],
   "source": [
    "def_len = data_train.default.sum()\n",
    "undersample_rate = 1.5"
   ],
   "metadata": {
    "collapsed": false
   }
  },
  {
   "cell_type": "code",
   "execution_count": 32,
   "outputs": [],
   "source": [
    "from sklearn.utils import resample\n",
    "data_train_dw = resample(data_train.loc[data_train['default']==0], replace=True, n_samples=int(def_len/undersample_rate), random_state=42)"
   ],
   "metadata": {
    "collapsed": false
   }
  },
  {
   "cell_type": "code",
   "execution_count": 36,
   "outputs": [
    {
     "data": {
      "text/plain": "Unnamed: 0                 int64\nEncrypted.Loan.ID         object\nEncrypted.Borrower.ID     object\ndate.start                object\nlast.date                 object\n                          ...   \nRINV                     float64\nMIRR2                    float64\nFV2                      float64\namount_ln                float64\ntime.start2              float64\nLength: 226, dtype: object"
     },
     "execution_count": 36,
     "metadata": {},
     "output_type": "execute_result"
    }
   ],
   "source": [
    "data_train.dtypes"
   ],
   "metadata": {
    "collapsed": false
   }
  },
  {
   "cell_type": "code",
   "execution_count": null,
   "outputs": [],
   "source": [
    "data_train.apply(lambda x: x.isn)"
   ],
   "metadata": {
    "collapsed": false
   }
  },
  {
   "cell_type": "code",
   "execution_count": 28,
   "outputs": [
    {
     "data": {
      "text/plain": "       Unnamed: 0                                  Encrypted.Loan.ID  \\\n18600      492924  KZdmhbRN/qJCv0R63EZBLmBFqwHQwaF7UhYqeSEC1wBWKh...   \n18251      672387  KOMrkkhNWR4kKjUSjvwPidh7IeoN6DuhdpwAkGVe1XzJQr...   \n9143       642658  Ka4VjDvZ+EK4R4HJQOoH6rHmLXRAT9Pk436sZYHlO7JFtA...   \n18428      424359  KQU1lBAY3CGjli+Z/3wQIZ/g+iyxLfZ+0qzKtcAWle5EBD...   \n19665      253010  KRTVluWidNXdPBBtrK/ZxJvzgvSZjPljNZXdQxDc+E5d+2...   \n...           ...                                                ...   \n12101      231675  KIgCj09u70/N+q/ADUFs9eQxc8hD2AjLZAGIdQZMDTjmuD...   \n14987       89915  Kz35KpjtMKe25UfRDD96olhgqh99nplBj0IQM+lEkskgyQ...   \n14891      466701  KB/+Vq676UY0tGTaP7K93cAvJGCqccaVp/YKbWtbAxYuKh...   \n4532       180406  KfR0zmgtUnLmQdGqbfAYugub++5q08BgTFG0qxEL3yeCuD...   \n18928      178382  K+c5Ommpz1KMWjTVpZj7dBub++5q08BgTFG0qxEL3yeCuD...   \n\n                                   Encrypted.Borrower.ID  date.start  \\\n18600  KgpgJhyzxy0t4oJ38r2QxJgxc8hD2AjLZAGIdQZMDTjmuD...  2015-12-16   \n18251  KmlD/xFLhFXh9LN0z+sq5kUPXKrauJqNv/Si3FYLm+uUl/...  2019-04-09   \n9143   Kouth6/UYivLlZtZaKgIZgXmLXRAT9Pk436sZYHlO7JFtA...  2018-05-15   \n18428  KsQHXu1AjZgAYyJrHbxDdThTxNhgETcsgq+9AapnyF9Reo...  2019-09-05   \n19665  KhN7ef4xbGfOEbgkC9dmK6HmLXRAT9Pk436sZYHlO7JFJj...  2019-01-31   \n...                                                  ...         ...   \n12101  KvC6PqoyfQy+efCMjRYj65FfRzYgaxvUpNjiKObPo0+IGf...  2015-03-10   \n14987  K/aUhFM3VpTHiwnlVtC8shQLirc4aXZ4+m+WzLU3qIrxJj...  2018-04-25   \n14891  KL1WpfhytSZPgdQTzsKrG1wvJGCqccaVp/YKbWtbAxYuKh...  2016-11-01   \n4532   KodWNWvrSYum7F01OuJnGnGR2JtFQVCvNHNiiBhNP92aLY...  2016-05-05   \n18928  KJIHo2kWoxG+sMhxyVqo53eb++5q08BgTFG0qxEL3yeCuD...  2016-04-14   \n\n        last.date defdate   amount  pri.coll   int.coll  numpay  ...  \\\n18600  2018-04-24     NaN   3020.0    3020.0   328.5900      29  ...   \n18251  2020-03-20     NaN   5400.0    5400.0   776.6500      12  ...   \n9143   2020-01-17     NaN   4110.0    4110.0   497.0200      20  ...   \n18428  2020-01-09     NaN   1060.0    1060.0    50.9300       5  ...   \n19665  2019-09-23     NaN   1240.0    1240.0    38.4800       8  ...   \n...           ...     ...      ...       ...        ...     ...  ...   \n12101  2016-11-29     NaN   8080.0    8080.0   510.2300      22  ...   \n14987  2018-12-05     NaN  10160.0   10160.0  1217.0000       8  ...   \n14891  2019-09-17     NaN   5060.0    5060.0   236.9803      35  ...   \n4532   2016-06-15     NaN   1040.0    1040.0    25.8800       2  ...   \n18928  2017-08-22     NaN   1890.0    1890.0    88.4500      18  ...   \n\n              FV       MIRR    DD  time.start  time.end      RINV      MIRR2  \\\n18600   3388.766   5.011208   860        3939      4799  4.614516   6.802680   \n18251   6205.676  15.800870   346        5149      5495  5.487494  18.099030   \n9143    4641.180   7.518252   612        4820      5432  5.643698   9.896958   \n18428   1112.320  14.977590   126        5298      5424  5.605547  17.093350   \n19665   1282.691   5.397971   235        5081      5316  5.457542   7.335455   \n...          ...        ...   ...         ...       ...       ...        ...   \n12101   8659.261   4.092921   630        3658      4288  4.660701   5.904441   \n14987  11408.410  20.785000   224        4800      5024  5.674203  23.191830   \n14891   5356.782   2.001078  1050        4260      5310  5.116954   4.127681   \n4532    1066.178  24.770860    41        4080      4121  4.822957  25.936260   \n18928   1991.261   3.923446   495        4059      4554  4.770797   5.744476   \n\n             FV2  amount_ln  time.start2  \n18600   3526.559   8.013012     1551.572  \n18251   6322.361   8.594154     2651.220  \n9143    4814.631   8.321178     2323.240  \n18428   1119.344   6.966024     2806.880  \n19665   1297.822   7.122867     2581.656  \n...          ...        ...          ...  \n12101   8921.008   8.997147     1338.096  \n14987  11547.390   9.226214     2304.000  \n14891   5684.384   8.529122     1814.760  \n4532    1067.292   6.946976     1664.640  \n18928   2038.728   7.544332     1647.548  \n\n[807 rows x 226 columns]",
      "text/html": "<div>\n<style scoped>\n    .dataframe tbody tr th:only-of-type {\n        vertical-align: middle;\n    }\n\n    .dataframe tbody tr th {\n        vertical-align: top;\n    }\n\n    .dataframe thead th {\n        text-align: right;\n    }\n</style>\n<table border=\"1\" class=\"dataframe\">\n  <thead>\n    <tr style=\"text-align: right;\">\n      <th></th>\n      <th>Unnamed: 0</th>\n      <th>Encrypted.Loan.ID</th>\n      <th>Encrypted.Borrower.ID</th>\n      <th>date.start</th>\n      <th>last.date</th>\n      <th>defdate</th>\n      <th>amount</th>\n      <th>pri.coll</th>\n      <th>int.coll</th>\n      <th>numpay</th>\n      <th>...</th>\n      <th>FV</th>\n      <th>MIRR</th>\n      <th>DD</th>\n      <th>time.start</th>\n      <th>time.end</th>\n      <th>RINV</th>\n      <th>MIRR2</th>\n      <th>FV2</th>\n      <th>amount_ln</th>\n      <th>time.start2</th>\n    </tr>\n  </thead>\n  <tbody>\n    <tr>\n      <th>18600</th>\n      <td>492924</td>\n      <td>KZdmhbRN/qJCv0R63EZBLmBFqwHQwaF7UhYqeSEC1wBWKh...</td>\n      <td>KgpgJhyzxy0t4oJ38r2QxJgxc8hD2AjLZAGIdQZMDTjmuD...</td>\n      <td>2015-12-16</td>\n      <td>2018-04-24</td>\n      <td>NaN</td>\n      <td>3020.0</td>\n      <td>3020.0</td>\n      <td>328.5900</td>\n      <td>29</td>\n      <td>...</td>\n      <td>3388.766</td>\n      <td>5.011208</td>\n      <td>860</td>\n      <td>3939</td>\n      <td>4799</td>\n      <td>4.614516</td>\n      <td>6.802680</td>\n      <td>3526.559</td>\n      <td>8.013012</td>\n      <td>1551.572</td>\n    </tr>\n    <tr>\n      <th>18251</th>\n      <td>672387</td>\n      <td>KOMrkkhNWR4kKjUSjvwPidh7IeoN6DuhdpwAkGVe1XzJQr...</td>\n      <td>KmlD/xFLhFXh9LN0z+sq5kUPXKrauJqNv/Si3FYLm+uUl/...</td>\n      <td>2019-04-09</td>\n      <td>2020-03-20</td>\n      <td>NaN</td>\n      <td>5400.0</td>\n      <td>5400.0</td>\n      <td>776.6500</td>\n      <td>12</td>\n      <td>...</td>\n      <td>6205.676</td>\n      <td>15.800870</td>\n      <td>346</td>\n      <td>5149</td>\n      <td>5495</td>\n      <td>5.487494</td>\n      <td>18.099030</td>\n      <td>6322.361</td>\n      <td>8.594154</td>\n      <td>2651.220</td>\n    </tr>\n    <tr>\n      <th>9143</th>\n      <td>642658</td>\n      <td>Ka4VjDvZ+EK4R4HJQOoH6rHmLXRAT9Pk436sZYHlO7JFtA...</td>\n      <td>Kouth6/UYivLlZtZaKgIZgXmLXRAT9Pk436sZYHlO7JFtA...</td>\n      <td>2018-05-15</td>\n      <td>2020-01-17</td>\n      <td>NaN</td>\n      <td>4110.0</td>\n      <td>4110.0</td>\n      <td>497.0200</td>\n      <td>20</td>\n      <td>...</td>\n      <td>4641.180</td>\n      <td>7.518252</td>\n      <td>612</td>\n      <td>4820</td>\n      <td>5432</td>\n      <td>5.643698</td>\n      <td>9.896958</td>\n      <td>4814.631</td>\n      <td>8.321178</td>\n      <td>2323.240</td>\n    </tr>\n    <tr>\n      <th>18428</th>\n      <td>424359</td>\n      <td>KQU1lBAY3CGjli+Z/3wQIZ/g+iyxLfZ+0qzKtcAWle5EBD...</td>\n      <td>KsQHXu1AjZgAYyJrHbxDdThTxNhgETcsgq+9AapnyF9Reo...</td>\n      <td>2019-09-05</td>\n      <td>2020-01-09</td>\n      <td>NaN</td>\n      <td>1060.0</td>\n      <td>1060.0</td>\n      <td>50.9300</td>\n      <td>5</td>\n      <td>...</td>\n      <td>1112.320</td>\n      <td>14.977590</td>\n      <td>126</td>\n      <td>5298</td>\n      <td>5424</td>\n      <td>5.605547</td>\n      <td>17.093350</td>\n      <td>1119.344</td>\n      <td>6.966024</td>\n      <td>2806.880</td>\n    </tr>\n    <tr>\n      <th>19665</th>\n      <td>253010</td>\n      <td>KRTVluWidNXdPBBtrK/ZxJvzgvSZjPljNZXdQxDc+E5d+2...</td>\n      <td>KhN7ef4xbGfOEbgkC9dmK6HmLXRAT9Pk436sZYHlO7JFJj...</td>\n      <td>2019-01-31</td>\n      <td>2019-09-23</td>\n      <td>NaN</td>\n      <td>1240.0</td>\n      <td>1240.0</td>\n      <td>38.4800</td>\n      <td>8</td>\n      <td>...</td>\n      <td>1282.691</td>\n      <td>5.397971</td>\n      <td>235</td>\n      <td>5081</td>\n      <td>5316</td>\n      <td>5.457542</td>\n      <td>7.335455</td>\n      <td>1297.822</td>\n      <td>7.122867</td>\n      <td>2581.656</td>\n    </tr>\n    <tr>\n      <th>...</th>\n      <td>...</td>\n      <td>...</td>\n      <td>...</td>\n      <td>...</td>\n      <td>...</td>\n      <td>...</td>\n      <td>...</td>\n      <td>...</td>\n      <td>...</td>\n      <td>...</td>\n      <td>...</td>\n      <td>...</td>\n      <td>...</td>\n      <td>...</td>\n      <td>...</td>\n      <td>...</td>\n      <td>...</td>\n      <td>...</td>\n      <td>...</td>\n      <td>...</td>\n      <td>...</td>\n    </tr>\n    <tr>\n      <th>12101</th>\n      <td>231675</td>\n      <td>KIgCj09u70/N+q/ADUFs9eQxc8hD2AjLZAGIdQZMDTjmuD...</td>\n      <td>KvC6PqoyfQy+efCMjRYj65FfRzYgaxvUpNjiKObPo0+IGf...</td>\n      <td>2015-03-10</td>\n      <td>2016-11-29</td>\n      <td>NaN</td>\n      <td>8080.0</td>\n      <td>8080.0</td>\n      <td>510.2300</td>\n      <td>22</td>\n      <td>...</td>\n      <td>8659.261</td>\n      <td>4.092921</td>\n      <td>630</td>\n      <td>3658</td>\n      <td>4288</td>\n      <td>4.660701</td>\n      <td>5.904441</td>\n      <td>8921.008</td>\n      <td>8.997147</td>\n      <td>1338.096</td>\n    </tr>\n    <tr>\n      <th>14987</th>\n      <td>89915</td>\n      <td>Kz35KpjtMKe25UfRDD96olhgqh99nplBj0IQM+lEkskgyQ...</td>\n      <td>K/aUhFM3VpTHiwnlVtC8shQLirc4aXZ4+m+WzLU3qIrxJj...</td>\n      <td>2018-04-25</td>\n      <td>2018-12-05</td>\n      <td>NaN</td>\n      <td>10160.0</td>\n      <td>10160.0</td>\n      <td>1217.0000</td>\n      <td>8</td>\n      <td>...</td>\n      <td>11408.410</td>\n      <td>20.785000</td>\n      <td>224</td>\n      <td>4800</td>\n      <td>5024</td>\n      <td>5.674203</td>\n      <td>23.191830</td>\n      <td>11547.390</td>\n      <td>9.226214</td>\n      <td>2304.000</td>\n    </tr>\n    <tr>\n      <th>14891</th>\n      <td>466701</td>\n      <td>KB/+Vq676UY0tGTaP7K93cAvJGCqccaVp/YKbWtbAxYuKh...</td>\n      <td>KL1WpfhytSZPgdQTzsKrG1wvJGCqccaVp/YKbWtbAxYuKh...</td>\n      <td>2016-11-01</td>\n      <td>2019-09-17</td>\n      <td>NaN</td>\n      <td>5060.0</td>\n      <td>5060.0</td>\n      <td>236.9803</td>\n      <td>35</td>\n      <td>...</td>\n      <td>5356.782</td>\n      <td>2.001078</td>\n      <td>1050</td>\n      <td>4260</td>\n      <td>5310</td>\n      <td>5.116954</td>\n      <td>4.127681</td>\n      <td>5684.384</td>\n      <td>8.529122</td>\n      <td>1814.760</td>\n    </tr>\n    <tr>\n      <th>4532</th>\n      <td>180406</td>\n      <td>KfR0zmgtUnLmQdGqbfAYugub++5q08BgTFG0qxEL3yeCuD...</td>\n      <td>KodWNWvrSYum7F01OuJnGnGR2JtFQVCvNHNiiBhNP92aLY...</td>\n      <td>2016-05-05</td>\n      <td>2016-06-15</td>\n      <td>NaN</td>\n      <td>1040.0</td>\n      <td>1040.0</td>\n      <td>25.8800</td>\n      <td>2</td>\n      <td>...</td>\n      <td>1066.178</td>\n      <td>24.770860</td>\n      <td>41</td>\n      <td>4080</td>\n      <td>4121</td>\n      <td>4.822957</td>\n      <td>25.936260</td>\n      <td>1067.292</td>\n      <td>6.946976</td>\n      <td>1664.640</td>\n    </tr>\n    <tr>\n      <th>18928</th>\n      <td>178382</td>\n      <td>K+c5Ommpz1KMWjTVpZj7dBub++5q08BgTFG0qxEL3yeCuD...</td>\n      <td>KJIHo2kWoxG+sMhxyVqo53eb++5q08BgTFG0qxEL3yeCuD...</td>\n      <td>2016-04-14</td>\n      <td>2017-08-22</td>\n      <td>NaN</td>\n      <td>1890.0</td>\n      <td>1890.0</td>\n      <td>88.4500</td>\n      <td>18</td>\n      <td>...</td>\n      <td>1991.261</td>\n      <td>3.923446</td>\n      <td>495</td>\n      <td>4059</td>\n      <td>4554</td>\n      <td>4.770797</td>\n      <td>5.744476</td>\n      <td>2038.728</td>\n      <td>7.544332</td>\n      <td>1647.548</td>\n    </tr>\n  </tbody>\n</table>\n<p>807 rows × 226 columns</p>\n</div>"
     },
     "execution_count": 28,
     "metadata": {},
     "output_type": "execute_result"
    }
   ],
   "source": [
    "data_train_dw.dro()"
   ],
   "metadata": {
    "collapsed": false
   }
  },
  {
   "cell_type": "code",
   "execution_count": null,
   "outputs": [],
   "source": [
    "[11:18,20:45,47:84,86:100,102:142,144:175]"
   ],
   "metadata": {
    "collapsed": false
   }
  },
  {
   "cell_type": "code",
   "execution_count": 42,
   "outputs": [],
   "source": [
    "ix = [i for i in range(11, 19)] + \\\n",
    "[i for i in range(20, 46)] + \\\n",
    "[i for i in range(47, 85)] + \\\n",
    "[i for i in range(86, 101)] + \\\n",
    "[i for i in range(102, 143)] + \\\n",
    "[i for i in range(144, 176)]\n"
   ],
   "metadata": {
    "collapsed": false
   }
  },
  {
   "cell_type": "code",
   "execution_count": 48,
   "outputs": [],
   "source": [
    "feature_list = data_train_dw.iloc[:, ix].columns"
   ],
   "metadata": {
    "collapsed": false
   }
  },
  {
   "cell_type": "code",
   "execution_count": 49,
   "outputs": [],
   "source": [
    "X_train, y_train = data_train_dw[feature_list], data_train_dw['default']"
   ],
   "metadata": {
    "collapsed": false
   }
  },
  {
   "cell_type": "markdown",
   "source": [
    "## Modelling"
   ],
   "metadata": {
    "collapsed": false
   }
  },
  {
   "cell_type": "code",
   "execution_count": 63,
   "outputs": [],
   "source": [
    "from sklearn.ensemble import RandomForestClassifier\n",
    "from sklearn.linear_model import LogisticRegressionCV\n",
    "\n",
    "models = {\n",
    "    'enet_cv': LogisticRegressionCV(penalty=\"l2\", cv=10),\n",
    "    'rforr': RandomForestClassifier()\n",
    "}"
   ],
   "metadata": {
    "collapsed": false
   }
  },
  {
   "cell_type": "code",
   "execution_count": 64,
   "outputs": [
    {
     "ename": "ValueError",
     "evalue": "This solver needs samples of at least 2 classes in the data, but the data contains only one class: 0",
     "output_type": "error",
     "traceback": [
      "\u001B[1;31m---------------------------------------------------------------------------\u001B[0m",
      "\u001B[1;31mValueError\u001B[0m                                Traceback (most recent call last)",
      "Cell \u001B[1;32mIn [64], line 3\u001B[0m\n\u001B[0;32m      1\u001B[0m fit \u001B[38;5;241m=\u001B[39m {}\n\u001B[0;32m      2\u001B[0m \u001B[38;5;28;01mfor\u001B[39;00m alg, mod \u001B[38;5;129;01min\u001B[39;00m models\u001B[38;5;241m.\u001B[39mitems():\n\u001B[1;32m----> 3\u001B[0m     fit[alg] \u001B[38;5;241m=\u001B[39m \u001B[43mmod\u001B[49m\u001B[38;5;241;43m.\u001B[39;49m\u001B[43mfit\u001B[49m\u001B[43m(\u001B[49m\u001B[43mX_train\u001B[49m\u001B[43m,\u001B[49m\u001B[43m \u001B[49m\u001B[43my_train\u001B[49m\u001B[43m)\u001B[49m\n",
      "File \u001B[1;32m~\\OneDrive - Deutsche Telekom AG\\non_DT\\uni\\WS_22\\AI\\venv\\lib\\site-packages\\sklearn\\linear_model\\_logistic.py:1851\u001B[0m, in \u001B[0;36mLogisticRegressionCV.fit\u001B[1;34m(self, X, y, sample_weight)\u001B[0m\n\u001B[0;32m   1848\u001B[0m n_classes \u001B[38;5;241m=\u001B[39m \u001B[38;5;28mlen\u001B[39m(encoded_labels)\n\u001B[0;32m   1850\u001B[0m \u001B[38;5;28;01mif\u001B[39;00m n_classes \u001B[38;5;241m<\u001B[39m \u001B[38;5;241m2\u001B[39m:\n\u001B[1;32m-> 1851\u001B[0m     \u001B[38;5;28;01mraise\u001B[39;00m \u001B[38;5;167;01mValueError\u001B[39;00m(\u001B[38;5;124m\"\u001B[39m\u001B[38;5;124mThis solver needs samples of at least 2 classes\u001B[39m\u001B[38;5;124m\"\u001B[39m\n\u001B[0;32m   1852\u001B[0m                      \u001B[38;5;124m\"\u001B[39m\u001B[38;5;124m in the data, but the data contains only one\u001B[39m\u001B[38;5;124m\"\u001B[39m\n\u001B[0;32m   1853\u001B[0m                      \u001B[38;5;124m\"\u001B[39m\u001B[38;5;124m class: \u001B[39m\u001B[38;5;132;01m%r\u001B[39;00m\u001B[38;5;124m\"\u001B[39m \u001B[38;5;241m%\u001B[39m classes[\u001B[38;5;241m0\u001B[39m])\n\u001B[0;32m   1855\u001B[0m \u001B[38;5;28;01mif\u001B[39;00m n_classes \u001B[38;5;241m==\u001B[39m \u001B[38;5;241m2\u001B[39m:\n\u001B[0;32m   1856\u001B[0m     \u001B[38;5;66;03m# OvR in case of binary problems is as good as fitting\u001B[39;00m\n\u001B[0;32m   1857\u001B[0m     \u001B[38;5;66;03m# the higher label\u001B[39;00m\n\u001B[0;32m   1858\u001B[0m     n_classes \u001B[38;5;241m=\u001B[39m \u001B[38;5;241m1\u001B[39m\n",
      "\u001B[1;31mValueError\u001B[0m: This solver needs samples of at least 2 classes in the data, but the data contains only one class: 0"
     ]
    }
   ],
   "source": [
    "fit = {}\n",
    "for alg, mod in models.items():\n",
    "    fit[alg] = mod.fit(X_train, y_train)"
   ],
   "metadata": {
    "collapsed": false
   }
  },
  {
   "cell_type": "code",
   "execution_count": 52,
   "outputs": [],
   "source": [
    "pred = {}\n",
    "for alg, mod in fit.items():\n",
    "    pred[alg] = mod.predict(data_test[feature_list])"
   ],
   "metadata": {
    "collapsed": false
   }
  },
  {
   "cell_type": "code",
   "execution_count": 54,
   "outputs": [
    {
     "name": "stdout",
     "output_type": "stream",
     "text": [
      "0.0862\n",
      "0.0862\n"
     ]
    }
   ],
   "source": [
    "from sklearn.metrics import mean_absolute_error as mae\n",
    "for alg, mod in pred.items():\n",
    "    print(mae(mod, data_test['default']))"
   ],
   "metadata": {
    "collapsed": false
   }
  }
 ],
 "metadata": {
  "kernelspec": {
   "display_name": "Python 3",
   "language": "python",
   "name": "python3"
  },
  "language_info": {
   "codemirror_mode": {
    "name": "ipython",
    "version": 2
   },
   "file_extension": ".py",
   "mimetype": "text/x-python",
   "name": "python",
   "nbconvert_exporter": "python",
   "pygments_lexer": "ipython2",
   "version": "2.7.6"
  }
 },
 "nbformat": 4,
 "nbformat_minor": 0
}

{
  "nbformat": 4,
  "nbformat_minor": 0,
  "metadata": {
    "colab": {
      "provenance": [],
      "toc_visible": true,
      "authorship_tag": "ABX9TyM2HnWZqWTfxBr12JtSJVH6",
      "include_colab_link": true
    },
    "kernelspec": {
      "name": "python3",
      "display_name": "Python 3"
    },
    "language_info": {
      "name": "python"
    }
  },
  "cells": [
    {
      "cell_type": "markdown",
      "metadata": {
        "id": "view-in-github",
        "colab_type": "text"
      },
      "source": [
        "<a href=\"https://colab.research.google.com/github/VondracekS/AI/blob/master/SDA_intermediate_python_opakovani_vysledky.ipynb\" target=\"_parent\"><img src=\"https://colab.research.google.com/assets/colab-badge.svg\" alt=\"Open In Colab\"/></a>"
      ]
    },
    {
      "cell_type": "markdown",
      "source": [
        "# Python Intermediate Opakovani"
      ],
      "metadata": {
        "id": "QLS9KGFh6gI0"
      }
    },
    {
      "cell_type": "markdown",
      "source": [
        "## 1 Výjimky\n",
        "\n",
        "\n",
        "\n",
        "\n"
      ],
      "metadata": {
        "id": "mDWl0-j-6j-c"
      }
    },
    {
      "cell_type": "markdown",
      "source": [
        "## 1.1 Bezpečné načtení věku\n",
        "\n",
        "Zadání: Napiš program, který se uživatele zeptá na jeho věk. Použij blok try...except, abys ošetřil(a) situaci, kdy uživatel zadá místo čísla text (např. \"dvacet\"). Pokud zadá neplatnou hodnotu, program by neměl spadnout, ale vypsat srozumitelnou chybovou hlášku a zeptat se znovu, dokud nedostane platné číslo."
      ],
      "metadata": {
        "id": "EhrI0wPP3qjV"
      }
    },
    {
      "cell_type": "code",
      "source": [
        "# TODO:\n",
        "def safe_age_input():\n",
        "  \"\"\"\n",
        "  Get a valid age input from the user.\n",
        "\n",
        "  Returns:\n",
        "    The valid age as an integer.\n",
        "  \"\"\"\n",
        "  while True:\n",
        "    try:\n",
        "      age = int(input(\"Zadej věk: \"))\n",
        "      return age\n",
        "    except ValueError:\n",
        "      print(\"Neplatná hodnota. Zadaj věk jako číslo.\")\n"
      ],
      "metadata": {
        "id": "y8yAtq4N301G"
      },
      "execution_count": 16,
      "outputs": []
    },
    {
      "cell_type": "markdown",
      "source": [
        "## 1.2 Kalkulačka dělení\n",
        "\n",
        "Zadání: Vytvoř funkci, která přijme dvě čísla a vrátí výsledek jejich dělení. Implementuj ošetření dvou možných chyb:\n",
        "\n",
        "    Dělení nulou (ZeroDivisionError).\n",
        "\n",
        "    Zadání nečíselné hodnoty (např. textu) jako jednoho ze vstupů (ValueError).\n",
        "\n",
        "V obou případech by funkce měla vrátit None a vypsat, jaká chyba nastala."
      ],
      "metadata": {
        "id": "r9lJELEj3yt7"
      }
    },
    {
      "cell_type": "code",
      "source": [
        "# TODO:\n",
        "def safe_divide(a, b):\n",
        "  \"\"\"\n",
        "  Divides two numbers and handles ZeroDivisionError and ValueError.\n",
        "\n",
        "  Args:\n",
        "    a: The numerator.\n",
        "    b: The denominator.\n",
        "\n",
        "  Returns:\n",
        "    The result of the division if successful, None otherwise.\n",
        "  \"\"\"\n",
        "  try:\n",
        "    result = a / b\n",
        "    return result\n",
        "  except ZeroDivisionError:\n",
        "    print(\"Chyba: Nelze dělit nulou.\")\n",
        "    return None\n",
        "  except ValueError:\n",
        "    print(\"Chyba: Vstup musí být čísla.\")\n",
        "    return None\n",
        "\n",
        "# Example usage:\n",
        "# print(safe_divide(10, 2))\n",
        "# print(safe_divide(10, 0))\n",
        "# print(safe_divide(10, \"a\"))"
      ],
      "metadata": {
        "id": "0ihYDpTK4FMs"
      },
      "execution_count": 21,
      "outputs": []
    },
    {
      "cell_type": "markdown",
      "source": [
        "\n",
        "## 1.3 Čtení konfiguračního souboru\n",
        "\n",
        "Zadání: Napiš program, který se pokusí otevřít a přečíst soubor s názvem konfigurace.txt.\n",
        "\n",
        "    Pokud soubor existuje a podaří se ho přečíst, jeho obsah se vypíše na obrazovku. K tomu použij klauzuli else.\n",
        "\n",
        "    Pokud soubor neexistuje, program ošetří výjimku FileNotFoundError a vypíše uživateli zprávu: \"Chyba: Konfigurační soubor 'konfigurace.txt' nebyl nalezen.\""
      ],
      "metadata": {
        "id": "KS4pfgeP4JSr"
      }
    },
    {
      "cell_type": "code",
      "source": [
        "!touch konfigurace.txt\n",
        "!echo \"Toto je testovací konfigurační soubor.\" > konfigurace.txt"
      ],
      "metadata": {
        "id": "uFLKaGZ-_mUX"
      },
      "execution_count": 22,
      "outputs": []
    },
    {
      "cell_type": "code",
      "source": [
        "!cat konfigurace.txt"
      ],
      "metadata": {
        "colab": {
          "base_uri": "https://localhost:8080/"
        },
        "id": "BVZp2XiL_p93",
        "outputId": "11a92247-c6b0-4c32-9be7-851cc50980aa"
      },
      "execution_count": 23,
      "outputs": [
        {
          "output_type": "stream",
          "name": "stdout",
          "text": [
            "Toto je testovací konfigurační soubor.\n"
          ]
        }
      ]
    },
    {
      "cell_type": "code",
      "source": [
        "def read_config_file():\n",
        "  \"\"\"\n",
        "  Reads the contents of the 'konfigurace.txt' file.\n",
        "\n",
        "  Returns:\n",
        "    The contents of the file as a string, or None if an error occurred.\n",
        "  \"\"\"\n",
        "  try:\n",
        "    with open(\"konfigurace.txt\", \"r\") as file:\n",
        "      content = file.read()\n",
        "      return content\n",
        "  except FileNotFoundError:\n",
        "    print(\"Chyba: Konfigurační soubor 'konfigurace.txt' nebyl nalezen.\")"
      ],
      "metadata": {
        "id": "cYC_somX4RCN"
      },
      "execution_count": 24,
      "outputs": []
    },
    {
      "cell_type": "markdown",
      "source": [
        "## 1.4 Spolehlivý zápis do logu\n",
        "\n",
        "Zadání: Vytvoř skript, který otevře soubor log.txt v režimu pro přidávání ('a'), zapíše do něj aktuální čas a text \"Provedena operace\". Použij blok try...finally, abys zajistil(a), že soubor bude vždy uzavřen, i kdyby při zápisu došlo k jakékoliv neočekávané chybě. V bloku finally vypiš zprávu \"Zavírám soubor.\""
      ],
      "metadata": {
        "id": "vE6uLC9O4XuM"
      }
    },
    {
      "cell_type": "code",
      "source": [
        "!touch log.txt\n",
        "!echo \"Toto je logovaci soubor\" > log.txt"
      ],
      "metadata": {
        "id": "_lwVHR9x_2xX"
      },
      "execution_count": 25,
      "outputs": []
    },
    {
      "cell_type": "code",
      "source": [
        "def log_operation():\n",
        "  \"\"\"\n",
        "  Logs the current time and a message to the 'log.txt' file.\n",
        "  \"\"\"\n",
        "  try:\n",
        "    with open(\"log.txt\", \"a\") as file:\n",
        "      file.write(f\"[{time.strftime('%Y-%m-%d %H:%M:%S')}] Provedena operace\\n\")\n",
        "  except Exception as e:\n",
        "    print(f\"Chyba při zápisu do logu: {e}\")\n",
        "  finally:\n",
        "    print(\"Zavírám soubor.\")"
      ],
      "metadata": {
        "id": "g0eVnqHw4aFb"
      },
      "execution_count": 26,
      "outputs": []
    },
    {
      "cell_type": "markdown",
      "source": [
        "## 1.5 Validátor hesla\n",
        "\n",
        "Zadání: Napiš funkci zkontroluj_heslo(heslo). Tato funkce by měla vyvolat (raise) výjimku ValueError s konkrétním popisem, pokud heslo nesplňuje následující podmínky:\n",
        "\n",
        "    Je kratší než 8 znaků. (Chybová zpráva: \"Heslo musí mít alespoň 8 znaků.\")\n",
        "\n",
        "    Neobsahuje alespoň jednu číslici. (Chybová zpráva: \"Heslo musí obsahovat alespoň jednu číslici.\")\n",
        "\n",
        "Pokud je heslo v pořádku, funkce neudělá nic."
      ],
      "metadata": {
        "id": "xn-EHzBp8fWv"
      }
    },
    {
      "cell_type": "code",
      "source": [
        "def validate_password(password):\n",
        "  \"\"\"\n",
        "  Validates a password based on specific criteria.\n",
        "\n",
        "  Args:\n",
        "    password: The password to validate.\n",
        "\n",
        "  Raises:\n",
        "    ValueError: If the password does not meet the validation criteria.\n",
        "  \"\"\"\n",
        "  if len(password) < 8:\n",
        "    raise ValueError(\"Heslo musí mít alespoň 8 znaků.\")\n",
        "  if not any(char.isdigit() for char in password):\n",
        "    raise ValueError(\"Heslo musí obsahovat alespoň jednu číslici.\")"
      ],
      "metadata": {
        "id": "_pt_YRXb4fg-"
      },
      "execution_count": null,
      "outputs": []
    },
    {
      "cell_type": "markdown",
      "source": [
        "# 2 Generatory,iteratory a lambda funkce\n"
      ],
      "metadata": {
        "id": "7Z-sfiQk6kNB"
      }
    },
    {
      "cell_type": "markdown",
      "source": [
        "Tato sada úkolů je navržena k procvičení pokročilejších, ale velmi užitečných konceptů v Pythonu, které umožňují psát efektivnější a čitelnější kód.\n",
        "Část 1: List/Dict/Set Comprehensions\n",
        "\n",
        "\"Comprehensions\" jsou způsob, jak stručně vytvářet nové seznamy, slovníky nebo sady.\n",
        "\n",
        "    Mocniny sudých čísel: Ze zadaného seznamu čísel (např. range(1, 11)) vytvořte nový seznam, který bude obsahovat pouze druhé mocniny sudých čísel. Použijte list comprehension.\n",
        "\n",
        "    Slovník jmen a délek: Máte seznam jmen: ['Jan', 'Eva', 'Petr', 'Alena']. Vytvořte z něj slovník, kde klíčem bude jméno a hodnotou bude délka daného jména. Použijte dict comprehension.\n",
        "\n",
        "    Unikátní samohlásky: Ze zadané věty (např. \"Toto je příklad věty pro cvičení\") vytvořte množinu (set) všech unikátních samohlásek, které se v ní vyskytují. Použijte set comprehension.\n",
        "\n",
        "    Filtrování slovníku: Máte slovník s cenami produktů: {'jablko': 25, 'banán': 30, 'pomeranč': 45, 'mléko': 22}. Vytvořte nový slovník, který bude obsahovat pouze položky s cenou vyšší než 28.\n"
      ],
      "metadata": {
        "id": "MT0S9QnT9al2"
      }
    },
    {
      "cell_type": "code",
      "source": [
        "def even_number_squares(numbers):\n",
        "  return [x**2 for x in numbers if x % 2 == 0]"
      ],
      "metadata": {
        "id": "3-IgqlVw5S-v"
      },
      "execution_count": null,
      "outputs": []
    },
    {
      "cell_type": "code",
      "source": [
        "def name_length_dict(names):\n",
        "  return {name: len(name) for name in names}"
      ],
      "metadata": {
        "id": "pKm2JZzz5TWB"
      },
      "execution_count": 27,
      "outputs": []
    },
    {
      "cell_type": "code",
      "source": [
        "def unique_vowels(sentence):\n",
        "  return {char for char in sentence if char.lower() in 'aeiou'}"
      ],
      "metadata": {
        "id": "_B9OMWtX5UEl"
      },
      "execution_count": 28,
      "outputs": []
    },
    {
      "cell_type": "code",
      "source": [
        "def filtered_prices_dict(prices):\n",
        "  return {product: price for product, price in prices.items() if price > 28}"
      ],
      "metadata": {
        "id": "w6qmqP5M5U3s"
      },
      "execution_count": 29,
      "outputs": []
    },
    {
      "cell_type": "markdown",
      "source": [
        "Část 2: Generátory a Iterátory\n",
        "\n",
        "Generátory umožňují vytvářet iterátory \"za chodu\", což šetří paměť.\n",
        "\n",
        "    Generátor pro odpočítávání: Napište generátorovou funkci odpocet(n), která bude pomocí klíčového slova yield postupně vracet čísla od n do 1.\n",
        "\n",
        "    Nekonečný generátor sudých čísel: Vytvořte generátor, který bude donekonečna produkovat sekvenci sudých čísel (2, 4, 6, 8, ...). Zkuste z něj pomocí cyklu vypsat prvních 10 čísel.\n",
        "\n",
        "    Čtení velkého souboru: Představte si, že máte obrovský textový soubor. Napište generátorovou funkci, která bude číst soubor řádek po řádku, aniž by ho celý načetla do paměti.\n",
        "\n",
        "    Generátorový výraz: Vypočítejte součet druhých mocnin všech čísel od 1 do 1 000 000. Použijte k tomu generátorový výraz (syntaxe podobná list comprehension, ale s kulatými závorkami), abyste se vyhnuli vytvoření obrovského seznamu v paměti.\n",
        "\n",
        "    Vlastní iterátor: Vytvořte třídu MocninyDvojky, která bude fungovat jako iterátor. Bude přijímat jeden argument max_exponent a bude vracet mocniny čísla 2 (2^0, 2^1, 2^2, ...) až po zadaný maximální exponent."
      ],
      "metadata": {
        "id": "I5Sm8n4d4q9T"
      }
    },
    {
      "cell_type": "code",
      "source": [
        "def countdown(n):\n",
        "  for i in range(n, 0, -1):\n",
        "    yield i"
      ],
      "metadata": {
        "id": "Ds4pkvKl55RT"
      },
      "execution_count": 31,
      "outputs": []
    },
    {
      "cell_type": "code",
      "source": [
        "[i for i in countdown(10)]"
      ],
      "metadata": {
        "colab": {
          "base_uri": "https://localhost:8080/",
          "height": 144
        },
        "id": "SfLW3jBxBndt",
        "outputId": "a36aebd9-f9c8-4932-967c-220397225172"
      },
      "execution_count": 1,
      "outputs": [
        {
          "output_type": "error",
          "ename": "NameError",
          "evalue": "name 'countdown' is not defined",
          "traceback": [
            "\u001b[0;31m---------------------------------------------------------------------------\u001b[0m",
            "\u001b[0;31mNameError\u001b[0m                                 Traceback (most recent call last)",
            "\u001b[0;32m/tmp/ipython-input-1-4213857000.py\u001b[0m in \u001b[0;36m<cell line: 0>\u001b[0;34m()\u001b[0m\n\u001b[0;32m----> 1\u001b[0;31m \u001b[0;34m[\u001b[0m\u001b[0mi\u001b[0m \u001b[0;32mfor\u001b[0m \u001b[0mi\u001b[0m \u001b[0;32min\u001b[0m \u001b[0mcountdown\u001b[0m\u001b[0;34m(\u001b[0m\u001b[0;36m10\u001b[0m\u001b[0;34m)\u001b[0m\u001b[0;34m]\u001b[0m\u001b[0;34m\u001b[0m\u001b[0;34m\u001b[0m\u001b[0m\n\u001b[0m",
            "\u001b[0;31mNameError\u001b[0m: name 'countdown' is not defined"
          ]
        }
      ]
    },
    {
      "cell_type": "code",
      "source": [
        "def infinite_even_numbers():\n",
        "  i = 2\n",
        "  while True:\n",
        "    yield i\n",
        "    i += 2"
      ],
      "metadata": {
        "id": "EYmwHIUO56hD"
      },
      "execution_count": 43,
      "outputs": []
    },
    {
      "cell_type": "code",
      "source": [
        "def read_large_file(file_path):\n",
        "  with open(file_path, 'r') as file:\n",
        "    for line in file:\n",
        "      yield line"
      ],
      "metadata": {
        "id": "Hhz1qQn45-Rk"
      },
      "execution_count": 36,
      "outputs": []
    },
    {
      "cell_type": "code",
      "source": [
        "def second_power_sum_generator():\n",
        "  return sum(x**2 for x in range(1, 1000001))"
      ],
      "metadata": {
        "id": "BvKANNmT6CoC"
      },
      "execution_count": null,
      "outputs": []
    },
    {
      "cell_type": "code",
      "source": [
        "class PowerOfTwoIterator():\n",
        "  def __init__(self, max_exponent):\n",
        "    self.max_exponent = max_exponent\n",
        "    self.current_exponent = 0\n",
        "\n",
        "  def __iter__(self):\n",
        "    return self\n",
        "\n",
        "  def __next__(self):\n",
        "    if self.current_exponent <= self.max_exponent:\n",
        "      result = 2 ** self.current_exponent\n",
        "      self.current_exponent += 1\n",
        "      return result\n",
        "    else:\n",
        "      raise StopIteration"
      ],
      "metadata": {
        "id": "WHB8_oAM4oK-"
      },
      "execution_count": 2,
      "outputs": []
    },
    {
      "cell_type": "markdown",
      "source": [
        "Část 3: Lambda Funkce\n",
        "\n",
        "Lambda funkce jsou malé, anonymní funkce definované klíčovým slovem lambda.\n",
        "\n",
        "    Třídění podle příjmení: Máte seznam celých jmen: ['Jan Novák', 'Eva Dvořáková', 'Petr Černý']. Seřaďte tento seznam abecedně podle příjmení pomocí metody sort() a lambda funkce.\n",
        "\n",
        "    Filtrování čísel: Pomocí funkce filter() a lambda funkce vyberte ze seznamu čísel pouze ta, která jsou dělitelná třemi.\n",
        "\n",
        "    Transformace dat: Použijte funkci map() a lambda funkci k tomu, abyste převedli seznam stringů ['1', '2', '3'] na seznam odpovídajících celých čísel [1, 2, 3].\n",
        "\n",
        "    Podmínka v lambda funkci: Napište lambda funkci, která přijme jedno číslo a vrátí text \"kladné\", pokud je číslo větší než nula, a \"záporné nebo nula\" v opačném případě."
      ],
      "metadata": {
        "id": "2pRyxI2m4xdo"
      }
    },
    {
      "cell_type": "code",
      "source": [
        "def sort_by_last_name(names):\n",
        "  return sorted(names, key=lambda x: x.split()[-1])"
      ],
      "metadata": {
        "id": "kUkjhmba4nsE"
      },
      "execution_count": 3,
      "outputs": []
    },
    {
      "cell_type": "code",
      "source": [
        "sort_by_last_name([\"A B\", \"C D\", \"Z A\"])"
      ],
      "metadata": {
        "colab": {
          "base_uri": "https://localhost:8080/"
        },
        "id": "pgyfGbL5CewJ",
        "outputId": "bac62fa3-8190-4ada-b7ef-61bc2723fcbc"
      },
      "execution_count": 5,
      "outputs": [
        {
          "output_type": "execute_result",
          "data": {
            "text/plain": [
              "['Z A', 'A B', 'C D']"
            ]
          },
          "metadata": {},
          "execution_count": 5
        }
      ]
    },
    {
      "cell_type": "code",
      "source": [
        "def filter_divisible_by_three(numbers):\n",
        "  return list(filter(lambda x: x % 3 == 0, numbers))"
      ],
      "metadata": {
        "id": "F61rFb646z88"
      },
      "execution_count": 6,
      "outputs": []
    },
    {
      "cell_type": "code",
      "source": [
        "def transform_strings_to_integers(strings):\n",
        "  return list(map(lambda x: int(x), strings))"
      ],
      "metadata": {
        "id": "urMrvRSx63bl"
      },
      "execution_count": 7,
      "outputs": []
    },
    {
      "cell_type": "code",
      "source": [
        "def odd_or_even(numbers):\n",
        "  return list(map(lambda x: \"kladné\" if x > 0 else \"záporné nebo nula\", numbers))"
      ],
      "metadata": {
        "id": "VwA-etZq67vN"
      },
      "execution_count": 8,
      "outputs": []
    },
    {
      "cell_type": "markdown",
      "source": [
        "## 3 Dekorator a **kontext** manager"
      ],
      "metadata": {
        "id": "sVZB5jdX6kYT"
      }
    },
    {
      "cell_type": "code",
      "source": [],
      "metadata": {
        "id": "K6YvyLlY7Sti"
      },
      "execution_count": null,
      "outputs": []
    },
    {
      "cell_type": "markdown",
      "source": [
        "Část 4: Dekorátory a Context Managery\n",
        "\n",
        "Dekorátory a context managery jsou pokročilé nástroje pro správu zdrojů a přidávání funkcionality.\n",
        "\n",
        "    Jednoduchý logovací dekorátor: Napište dekorátor, který vypíše zprávu \"Volám funkci...\" před spuštěním dekorované funkce a \"Funkce dokončena.\" po jejím skončení.\n",
        "\n",
        "    Dekorátor pro měření času: Vytvořte dekorátor @casovac, který změří, jak dlouho trvalo vykonání funkce, a výsledek vypíše ve formátu \"Funkce 'jmeno_funkce' trvala X.XXX sekund.\"\n",
        "\n",
        "    Dekorátor s argumentem: Vytvořte dekorátor @opakuj(n), který způsobí, že se dekorovaná funkce zavolá n-krát za sebou.\n",
        "\n",
        "    Context manager pro práci se souborem: Vytvořte vlastní context manager pomocí třídy (s metodami __enter__ a __exit__), který bezpečně otevře soubor pro čtení a zajistí jeho uzavření i v případě chyby.\n",
        "\n",
        "    Context manager pomocí contextlib: Znovu implementujte předchozí úkol, ale tentokrát použijte dekorátor @contextmanager z knihovny contextlib, abyste vytvořili jednodušší, funkcionální variantu."
      ],
      "metadata": {
        "id": "V7SLpFKe7TUd"
      }
    },
    {
      "cell_type": "code",
      "source": [
        "def log_decorator(func):\n",
        "    def wrapper(*args, **kwargs):\n",
        "        print(\"Volám funkci...\")\n",
        "        result = func(*args, **kwargs)\n",
        "        print(\"Funkce dokončena.\")\n",
        "        return result\n",
        "    return wrapper"
      ],
      "metadata": {
        "id": "3pvqBNdu7T34"
      },
      "execution_count": 9,
      "outputs": []
    },
    {
      "cell_type": "code",
      "source": [
        "@log_decorator\n",
        "def my_function():\n",
        "    print(\"Inside the function\")\n",
        "\n",
        "my_function()"
      ],
      "metadata": {
        "colab": {
          "base_uri": "https://localhost:8080/"
        },
        "id": "8eQstSoyDAvV",
        "outputId": "2370a41b-23fd-497b-edbe-cff521fc6f9e"
      },
      "execution_count": 10,
      "outputs": [
        {
          "output_type": "stream",
          "name": "stdout",
          "text": [
            "Volám funkci...\n",
            "Inside the function\n",
            "Funkce dokončena.\n"
          ]
        }
      ]
    },
    {
      "cell_type": "code",
      "source": [
        "from time import time\n",
        "def casovac(func):\n",
        "    def wrapper(*args, **kwargs):\n",
        "        start_time = time()\n",
        "        result = func(*args, **kwargs)\n",
        "        end_time = time()\n",
        "        execution_time = end_time - start_time\n",
        "        print(f\"Funkce '{func.__name__}' trvala {execution_time:.3f} sekund.\") # Added print statement for time\n",
        "        return result  # Added return statement\n",
        "    return wrapper"
      ],
      "metadata": {
        "id": "kf1dSqLo8YmY"
      },
      "execution_count": 16,
      "outputs": []
    },
    {
      "cell_type": "code",
      "source": [
        "def opakuj(n):\n",
        "    def decorator(func):\n",
        "        def wrapper(*args, **kwargs):\n",
        "            for _ in range(n):\n",
        "                func(*args, **kwargs)\n",
        "        return wrapper\n",
        "    return decorator"
      ],
      "metadata": {
        "id": "8NO8FRzD7cj1"
      },
      "execution_count": 1,
      "outputs": []
    },
    {
      "cell_type": "code",
      "source": [
        "@opakuj(3)\n",
        "def my_function():\n",
        "    print(\"Inside the function\")\n",
        "\n",
        "my_function()"
      ],
      "metadata": {
        "colab": {
          "base_uri": "https://localhost:8080/"
        },
        "id": "wsHyExPHEBCJ",
        "outputId": "aa158818-6356-45cf-c364-2c1f63fb737a"
      },
      "execution_count": 5,
      "outputs": [
        {
          "output_type": "stream",
          "name": "stdout",
          "text": [
            "Inside the function\n",
            "Inside the function\n",
            "Inside the function\n"
          ]
        }
      ]
    },
    {
      "cell_type": "code",
      "source": [
        "class SouborManager:\n",
        "    def __init__(self, file_path, mode='r'):\n",
        "        self.file_path = file_path\n",
        "        self.mode = mode\n",
        "        self.file = None\n",
        "\n",
        "    def __enter__(self):\n",
        "        self.file = open(self.file_path, self.mode)\n",
        "        return self.file\n",
        "\n",
        "    def __exit__(self, exc_type, exc_val, exc_tb):\n",
        "        if self.file:\n",
        "            self.file.close()\n",
        "        # Returning False propagates the exception, Returning True suppresses it.\n",
        "        # In this case, we want to propagate the exception to demonstrate the finally block behavior\n",
        "        return False"
      ],
      "metadata": {
        "id": "nRaqL33_7crb"
      },
      "execution_count": 15,
      "outputs": []
    },
    {
      "cell_type": "code",
      "source": [
        "!touch soubor.txt\n",
        "!echo \"Toto je soubor\" > soubor.txt"
      ],
      "metadata": {
        "id": "ykcQF4slEaVa"
      },
      "execution_count": 16,
      "outputs": []
    },
    {
      "cell_type": "code",
      "source": [
        "with SouborManager('soubor.txt', 'r') as file:\n",
        "    content = file.read()\n",
        "    print(content)"
      ],
      "metadata": {
        "colab": {
          "base_uri": "https://localhost:8080/"
        },
        "id": "0NXo5ZBcEO7C",
        "outputId": "56377818-7929-493d-d7d2-aabf234b26ac"
      },
      "execution_count": 19,
      "outputs": [
        {
          "output_type": "stream",
          "name": "stdout",
          "text": [
            "Toto je soubor\n",
            "\n"
          ]
        }
      ]
    },
    {
      "cell_type": "code",
      "source": [
        "from contextlib import contextmanager\n",
        "\n",
        "@contextmanager\n",
        "def context_manager(file_path):\n",
        "    try:\n",
        "        file = open(file_path, 'r')\n",
        "        yield file\n",
        "    finally:\n",
        "        file.close()"
      ],
      "metadata": {
        "id": "nJWfPka_7czx"
      },
      "execution_count": 20,
      "outputs": []
    },
    {
      "cell_type": "code",
      "source": [
        "with context_manager('soubor.txt') as file:\n",
        "    content = file.read()\n",
        "    print(content)"
      ],
      "metadata": {
        "colab": {
          "base_uri": "https://localhost:8080/"
        },
        "id": "UQWH3lJCE7NX",
        "outputId": "911d38f2-4d76-410d-927b-1f034fda5abd"
      },
      "execution_count": 21,
      "outputs": [
        {
          "output_type": "stream",
          "name": "stdout",
          "text": [
            "Toto je soubor\n",
            "\n"
          ]
        }
      ]
    },
    {
      "cell_type": "markdown",
      "source": [
        "## 4 OOP - dědičnost, dataclasses, abstraktní, statické a class metody"
      ],
      "metadata": {
        "id": "vBSnEibE6khp"
      }
    },
    {
      "cell_type": "markdown",
      "source": [
        "Tato cvičení propojují klíčové OOP vzory do jednoho uceleného scénáře správy firemních vozidel.\n",
        "\n",
        "    Abstraktní základ Vozidlo: Vytvořte abstraktní třídu Vozidlo pomocí modulu abc.\n",
        "\n",
        "        Třída bude mít atributy: znacka, model, spz.\n",
        "\n",
        "        Bude obsahovat abstraktní metodu vypocitej_mesicni_naklady(), která zatím nebude mít žádnou implementaci.\n",
        "\n",
        "        Přidejte statickou metodu over_format_spz(spz), která ověří, zda má SPZ platný formát (např. 7 alfanumerických znaků). Pokud ne, vyvolá ValueError."
      ],
      "metadata": {
        "id": "ebrZMQjz897x"
      }
    },
    {
      "cell_type": "code",
      "source": [
        "from abc import ABC, abstractmethod\n",
        "\n",
        "class Vehicle(ABC):\n",
        "  manuacturer: str\n",
        "  model: str\n",
        "  spz: str\n",
        "\n",
        "  @abstractmethod\n",
        "  def calculate_monthly_expenses(self):\n",
        "    pass\n",
        "\n",
        "  @staticmethod\n",
        "  def check_spz_format(spz):\n",
        "    if len(spz) != 7 or not spz.isalnum():\n",
        "      raise ValueError(\"Neplatný formát SPZ\")"
      ],
      "metadata": {
        "id": "S5afCVr88-Gr"
      },
      "execution_count": 22,
      "outputs": []
    },
    {
      "cell_type": "markdown",
      "source": [
        "\n",
        "Datová třída Zamestnanec: Vytvořte jednoduchou třídu Zamestnanec pomocí dekorátoru @dataclass. Třída bude sloužit k uchování dat a bude mít atributy jmeno a pozice."
      ],
      "metadata": {
        "id": "TCvBzTjw8-Rk"
      }
    },
    {
      "cell_type": "code",
      "source": [
        "from dataclasses import dataclass\n",
        "\n",
        "@dataclass\n",
        "class Employee:\n",
        "  name: str\n",
        "  position: str"
      ],
      "metadata": {
        "id": "smPigE0o8-bx"
      },
      "execution_count": 23,
      "outputs": []
    },
    {
      "cell_type": "markdown",
      "source": [
        "\n",
        "    Dědičnost a implementace: Třída OsobniAuto\n",
        "\n",
        "        Vytvořte třídu OsobniAuto, která dědí z Vozidlo.\n",
        "\n",
        "        Implementujte metodu vypocitej_mesicni_naklady(). Výpočet může být jednoduchý, např. (spotreba_na_100km * cena_paliva * prumerny_najezd_km) / 100.\n",
        "\n",
        "        Třída bude mít navíc atribut prirazeny_zamestnanec, který bude instancí třídy Zamestnanec.\n",
        "\n",
        "\n",
        "    Class metoda pro vytváření instancí: Do třídy OsobniAuto přidejte class metodu vytvor_standardni_vuz(spz, zamestnanec). Tato metoda vytvoří a vrátí instanci OsobniAuto s přednastavenými hodnotami (např. značka \"Škoda\", model \"Octavia\")."
      ],
      "metadata": {
        "id": "NZ2YLrvu8-la"
      }
    },
    {
      "cell_type": "code",
      "source": [
        "class PassengerCar(Vehicle):\n",
        "  def __init__(self, manufacturer: str, model: str, spz: str, fuel_consumption: float, fuel_price: float, average_travel_distance: float, attributed_employee: Employee):\n",
        "    self.manufacturer = manufacturer\n",
        "    self.model = model\n",
        "    self.spz = spz\n",
        "    self.fuel_consumption = fuel_consumption\n",
        "    self.fuel_price = fuel_price\n",
        "    self.average_travel_distance = average_travel_distance\n",
        "    self.attributed_employee = attributed_employee\n",
        "\n",
        "  def calculate_monthly_expenses(self):\n",
        "    return (self.fuel_consumption * self.fuel_price * self.average_travel_distance) / 100\n",
        "\n",
        "  @classmethod\n",
        "  def create_standard_car(cls, spz, employee):\n",
        "    # Provide some default values for a standard car\n",
        "    return cls(\"Škoda\", \"Octavia\", spz, 7.0, 35.0, 500.0, employee)"
      ],
      "metadata": {
        "id": "Ao2_xeAC8-t8"
      },
      "execution_count": 36,
      "outputs": []
    },
    {
      "cell_type": "code",
      "source": [],
      "metadata": {
        "id": "GgHBAWvxGF7_"
      },
      "execution_count": null,
      "outputs": []
    },
    {
      "cell_type": "markdown",
      "source": [
        "Propojení všeho dohromady: Vytvořte skript, který:\n",
        "\n",
        "Vytvoří několik instancí třídy Zamestnanec.\n",
        "\n",
        "Vytvoří několik instancí OsobniAuto (některé přímo, některé pomocí class metody vytvor_standardni_vuz).\n",
        "\n",
        "Vloží všechna auta do jednoho seznamu.\n",
        "\n",
        "V cyklu projde seznam vozidel a pro každé vypíše jeho SPZ, přiřazeného zaměstnance a vypočítané měsíční náklady. Tím demonstrujete polymorfismus."
      ],
      "metadata": {
        "id": "BeQMb3M9-DOJ"
      }
    },
    {
      "cell_type": "code",
      "source": [
        "# connect everything:\n",
        "employee_a = Employee(\"Jan Novák\", \"CEO\")\n",
        "employee_b = Employee(\"Eva Dvořáková\", \"Manager\")\n",
        "employee_c = Employee(\"Petr Černý\", \"Developer\")\n",
        "\n",
        "# Create instances of PassengerCar\n",
        "car_a = PassengerCar.create_standard_car(\"1A12345\", employee_a) # Using the class method\n",
        "car_b = PassengerCar(\"Volkswagen\", \"Golf\", \"2B67890\", 6.5, 36.0, 600.0, employee_b) # Direct instantiation\n",
        "car_c = PassengerCar(\"Ford\", \"Focus\", \"3C11223\", 7.5, 34.0, 450.0, employee_c) # Direct instantiation\n",
        "\n",
        "# Create a list of vehicles\n",
        "vehicles = [car_a, car_b, car_c]\n",
        "\n",
        "# Iterate through the list and demonstrate polymorphism\n",
        "for vehicle in vehicles:\n",
        "    print(f\"Vozidlo: {vehicle.manufacturer} {vehicle.model}, SPZ: {vehicle.spz}\")\n",
        "    if vehicle.attributed_employee:\n",
        "        print(f\"  Přiřazený zaměstnanec: {vehicle.attributed_employee.name} ({vehicle.attributed_employee.position})\")\n",
        "    else:\n",
        "        print(\"  Vozidlo není přiřazeno zaměstnanci.\")\n",
        "    print(f\"  Měsíční náklady: {vehicle.calculate_monthly_expenses():.2f} Kč\")\n",
        "    print(\"-\" * 20)"
      ],
      "metadata": {
        "colab": {
          "base_uri": "https://localhost:8080/"
        },
        "id": "1y7d6ndnGJW1",
        "outputId": "781a6fc6-723e-4975-c2ab-3f54a01b6a6b"
      },
      "execution_count": 38,
      "outputs": [
        {
          "output_type": "stream",
          "name": "stdout",
          "text": [
            "Vozidlo: Škoda Octavia, SPZ: 1A12345\n",
            "  Přiřazený zaměstnanec: Jan Novák (CEO)\n",
            "  Měsíční náklady: 1225.00 Kč\n",
            "--------------------\n",
            "Vozidlo: Volkswagen Golf, SPZ: 2B67890\n",
            "  Přiřazený zaměstnanec: Eva Dvořáková (Manager)\n",
            "  Měsíční náklady: 1404.00 Kč\n",
            "--------------------\n",
            "Vozidlo: Ford Focus, SPZ: 3C11223\n",
            "  Přiřazený zaměstnanec: Petr Černý (Developer)\n",
            "  Měsíční náklady: 1147.50 Kč\n",
            "--------------------\n"
          ]
        }
      ]
    },
    {
      "cell_type": "markdown",
      "source": [
        "## 5 Práce se soubory = načítání, serializace\n",
        "\n"
      ],
      "metadata": {
        "id": "97R3nffg6kqK"
      }
    },
    {
      "cell_type": "markdown",
      "source": [
        "Tato cvičení jsou zaměřena na základní operace se soubory a ukládání/načítání datových struktur.\n",
        "\n",
        "  Zápis a čtení nákupního seznamu: Vytvořte seznam položek (stringů), které chcete nakoupit. Napište program, který tento seznam zapíše do souboru nakup.txt tak, že každá položka bude na novém řádku. Následně soubor opět otevřete, načtěte jeho obsah a vypište ho na obrazovku.\n",
        "\n",
        "  Logování událostí: Napište funkci zaloguj_udalost(text_udalosti). Pokaždé, když bude tato funkce zavolána, přidá na konec souboru log.txt nový řádek ve formátu [YYYY-MM-DD HH:MM:SS]: text_udalosti. Použijte režim pro přidávání ('a') a ujistěte se, že soubor je správně spravován pomocí příkazu with.\n",
        "\n",
        "  Uložení nastavení do JSON: Vytvořte slovník, který reprezentuje uživatelské nastavení, například: {'uzivatel': 'admin', 'tema': 'tmavé', 'jazyk': 'cz'}. Pomocí modulu json tento slovník uložte (serializujte) do souboru nastaveni.json. Zajistěte, aby byl výstupní soubor čitelný pro člověka (s odsazením).\n",
        "\n",
        "  Načtení nastavení z JSON: Napište program, který načte data ze souboru nastaveni.json vytvořeného v předchozím úkolu. Data deserializujte zpět do Python slovníku a vypište uživateli přivítání ve stylu: \"Vítejte zpět, admin! Vaše nastavené téma je tmavé.\"\n",
        "\n",
        "  Zpracování dat o skóre: Představte si, že máte soubor skore.txt, kde je na každém řádku jméno hráče a jeho skóre, oddělené čárkou (např. Petr,150). Napište program, který tento soubor přečte a najde hráče s nejvyšším skóre. Ošetřete možné chyby, jako je chybějící soubor nebo neplatný formát dat na řádku."
      ],
      "metadata": {
        "id": "9Lz2pY0__MxF"
      }
    },
    {
      "cell_type": "code",
      "source": [
        "def write_read_shopping_list(shopping_list):\n",
        "  with open(\"nakup.txt\", \"w\") as file:\n",
        "    for item in shopping_list:\n",
        "      file.write(item + \"\\n\")"
      ],
      "metadata": {
        "id": "xuAIDNJD_NjA"
      },
      "execution_count": 39,
      "outputs": []
    },
    {
      "cell_type": "code",
      "source": [
        "def log_event(event, file):\n",
        "  with open(file, \"a\") as file:\n",
        "    file.write(f\"[{time.strftime('%Y-%m-%d %H:%M:%S')}] {event}\\n\")"
      ],
      "metadata": {
        "id": "WimcRIj6-Qnl"
      },
      "execution_count": 40,
      "outputs": []
    },
    {
      "cell_type": "code",
      "source": [
        "def save_settings_to_json(input_dict):\n",
        "  with open(\"nastaveni.json\", \"w\") as file:\n",
        "    json.dump(input_dict, file, indent=4)"
      ],
      "metadata": {
        "id": "zWqpMeFr-XlC"
      },
      "execution_count": 41,
      "outputs": []
    },
    {
      "cell_type": "code",
      "source": [
        "def read_settings_from_json():\n",
        "  with open(\"nastaveni.json\", \"r\") as file:\n",
        "    print(f\"Vítejte zpět, {json.load(file)['uzivatel']}! Vaše nastavené téma je {json.load(file)['tema']}\")\n",
        "    return json.load(file)"
      ],
      "metadata": {
        "id": "wgaCfSN5-fCj"
      },
      "execution_count": 43,
      "outputs": []
    },
    {
      "cell_type": "code",
      "source": [
        "def process_score_data():\n",
        "  try:\n",
        "    with open(\"skore.txt\", \"r\") as file:\n",
        "      scores = {}\n",
        "      for line in file:\n",
        "        name, score = line.strip().split(\",\")\n",
        "        scores[name] = int(score)\n",
        "  except FileNotFoundError:\n",
        "    print(\"Soubor skore.txt nebyl nalezen.\")\n",
        "  except ValueError:\n",
        "    print(\"Chybný formát dat na řádku.\")"
      ],
      "metadata": {
        "id": "hZ-ZjlC3-ob6"
      },
      "execution_count": 44,
      "outputs": []
    }
  ]
}
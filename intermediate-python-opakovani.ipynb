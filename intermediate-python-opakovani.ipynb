{
  "nbformat": 4,
  "nbformat_minor": 0,
  "metadata": {
    "colab": {
      "provenance": [],
      "authorship_tag": "ABX9TyNrHTwnXDzSQslVDWgoMhBV",
      "include_colab_link": true
    },
    "kernelspec": {
      "name": "python3",
      "display_name": "Python 3"
    },
    "language_info": {
      "name": "python"
    }
  },
  "cells": [
    {
      "cell_type": "markdown",
      "metadata": {
        "id": "view-in-github",
        "colab_type": "text"
      },
      "source": [
        "<a href=\"https://colab.research.google.com/github/VondracekS/AI/blob/master/intermediate-python-opakovani.ipynb\" target=\"_parent\"><img src=\"https://colab.research.google.com/assets/colab-badge.svg\" alt=\"Open In Colab\"/></a>"
      ]
    },
    {
      "cell_type": "code",
      "execution_count": null,
      "metadata": {
        "id": "3FGnZxy76fW1"
      },
      "outputs": [],
      "source": []
    },
    {
      "cell_type": "markdown",
      "source": [
        "# Python Intermediate Opakovani"
      ],
      "metadata": {
        "id": "QLS9KGFh6gI0"
      }
    },
    {
      "cell_type": "code",
      "source": [],
      "metadata": {
        "id": "tmNou4pD6jAS"
      },
      "execution_count": null,
      "outputs": []
    },
    {
      "cell_type": "markdown",
      "source": [
        "## 1 Výjimky\n",
        "\n"
      ],
      "metadata": {
        "id": "mDWl0-j-6j-c"
      }
    },
    {
      "cell_type": "markdown",
      "source": [
        "## 2 Generatory,iteratory a lambda funkce"
      ],
      "metadata": {
        "id": "7Z-sfiQk6kNB"
      }
    },
    {
      "cell_type": "markdown",
      "source": [
        "## 3 Dekorator a **kontext** manager"
      ],
      "metadata": {
        "id": "sVZB5jdX6kYT"
      }
    },
    {
      "cell_type": "markdown",
      "source": [
        "## 4 OOP - dědičnost, dataclasses, abstraktní, statické a class metody"
      ],
      "metadata": {
        "id": "vBSnEibE6khp"
      }
    },
    {
      "cell_type": "markdown",
      "source": [
        "## 5 Práce se soubory = načítání, serializace"
      ],
      "metadata": {
        "id": "97R3nffg6kqK"
      }
    },
    {
      "cell_type": "code",
      "source": [],
      "metadata": {
        "id": "dy45JDyO70iS"
      },
      "execution_count": null,
      "outputs": []
    }
  ]
}